{
  "nbformat": 4,
  "nbformat_minor": 0,
  "metadata": {
    "kernelspec": {
      "display_name": "Python 3",
      "language": "python",
      "name": "python3"
    },
    "language_info": {
      "codemirror_mode": {
        "name": "ipython",
        "version": 3
      },
      "file_extension": ".py",
      "mimetype": "text/x-python",
      "name": "python",
      "nbconvert_exporter": "python",
      "pygments_lexer": "ipython3",
      "version": "3.6.12"
    },
    "colab": {
      "name": "Copy of transformer_tutorial.ipynb",
      "provenance": [],
      "include_colab_link": true
    },
    "accelerator": "GPU"
  },
  "cells": [
    {
      "cell_type": "markdown",
      "metadata": {
        "id": "view-in-github",
        "colab_type": "text"
      },
      "source": [
        "<a href=\"https://colab.research.google.com/github/mlej8/ECSE552/blob/main/Tutorials/transformers.ipynb\" target=\"_parent\"><img src=\"https://colab.research.google.com/assets/colab-badge.svg\" alt=\"Open In Colab\"/></a>"
      ]
    },
    {
      "cell_type": "code",
      "metadata": {
        "id": "qr767Q74gumf"
      },
      "source": [
        "%matplotlib inline"
      ],
      "execution_count": null,
      "outputs": []
    },
    {
      "cell_type": "markdown",
      "metadata": {
        "id": "7Hxv7F8Zgumo"
      },
      "source": [
        "\n",
        "Sequence-to-Sequence Modeling with nn.Transformer and TorchText\n",
        "===============================================================\n",
        "\n",
        "This is a tutorial on how to train a sequence-to-sequence model\n",
        "that uses the\n",
        "`nn.Transformer <https://pytorch.org/docs/master/nn.html?highlight=nn%20transformer#torch.nn.Transformer>`__ module.\n",
        "\n",
        "PyTorch 1.2 release includes a standard transformer module based on the\n",
        "paper `Attention is All You\n",
        "Need <https://arxiv.org/pdf/1706.03762.pdf>`__. The transformer model\n",
        "has been proved to be superior in quality for many sequence-to-sequence\n",
        "problems while being more parallelizable. The ``nn.Transformer`` module\n",
        "relies entirely on an attention mechanism (another module recently\n",
        "implemented as `nn.MultiheadAttention <https://pytorch.org/docs/master/nn.html?highlight=multiheadattention#torch.nn.MultiheadAttention>`__) to draw global dependencies\n",
        "between input and output. The ``nn.Transformer`` module is now highly\n",
        "modularized such that a single component (like `nn.TransformerEncoder <https://pytorch.org/docs/master/nn.html?highlight=nn%20transformerencoder#torch.nn.TransformerEncoder>`__\n",
        "in this tutorial) can be easily adapted/composed.\n",
        "\n",
        "![](https://github.com/pytorch/tutorials/blob/gh-pages/_downloads/_static/img/transformer_architecture.jpg?raw=1)\n",
        "\n",
        "\n",
        "\n"
      ]
    },
    {
      "cell_type": "markdown",
      "metadata": {
        "id": "8awSAfJvgump"
      },
      "source": [
        "Define the model\n",
        "----------------\n",
        "\n",
        "\n"
      ]
    },
    {
      "cell_type": "markdown",
      "metadata": {
        "id": "zWqOp_gBgumq"
      },
      "source": [
        "In this tutorial, we train ``nn.TransformerEncoder`` model on a\n",
        "language modeling task. The language modeling task is to assign a\n",
        "probability for the likelihood of a given word (or a sequence of words)\n",
        "to follow a sequence of words. A sequence of tokens are passed to the embedding\n",
        "layer first, followed by a positional encoding layer to account for the order\n",
        "of the word (see the next paragraph for more details). The\n",
        "``nn.TransformerEncoder`` consists of multiple layers of\n",
        "`nn.TransformerEncoderLayer <https://pytorch.org/docs/master/nn.html?highlight=transformerencoderlayer#torch.nn.TransformerEncoderLayer>`__. Along with the input sequence, a square\n",
        "attention mask is required because the self-attention layers in\n",
        "``nn.TransformerEncoder`` are only allowed to attend the earlier positions in\n",
        "the sequence. For the language modeling task, any tokens on the future\n",
        "positions should be masked. To have the actual words, the output\n",
        "of ``nn.TransformerEncoder`` model is sent to the final Linear\n",
        "layer, which is followed by a log-Softmax function.\n",
        "\n",
        "\n"
      ]
    },
    {
      "cell_type": "code",
      "metadata": {
        "id": "ux4M2gFpgumq"
      },
      "source": [
        "import math\n",
        "import torch\n",
        "import torch.nn as nn\n",
        "import torch.nn.functional as F\n",
        "\n",
        "class TransformerModel(nn.Module):\n",
        "\n",
        "    def __init__(self, ntoken, ninp, nhead, nhid, nlayers, dropout=0.5):\n",
        "        super(TransformerModel, self).__init__()\n",
        "        from torch.nn import TransformerEncoder, TransformerEncoderLayer\n",
        "        self.model_type = 'Transformer'\n",
        "        self.pos_encoder = PositionalEncoding(ninp, dropout)\n",
        "        encoder_layers = TransformerEncoderLayer(ninp, nhead, nhid, dropout)\n",
        "        self.transformer_encoder = TransformerEncoder(encoder_layers, nlayers)\n",
        "        self.encoder = nn.Embedding(ntoken, ninp)\n",
        "        self.ninp = ninp\n",
        "        self.decoder = nn.Linear(ninp, ntoken)\n",
        "\n",
        "        self.init_weights()\n",
        "\n",
        "    def generate_square_subsequent_mask(self, sz):\n",
        "        mask = (torch.triu(torch.ones(sz, sz)) == 1).transpose(0, 1)\n",
        "        mask = mask.float().masked_fill(mask == 0, float('-inf')).masked_fill(mask == 1, float(0.0))\n",
        "        return mask\n",
        "\n",
        "    def init_weights(self):\n",
        "        initrange = 0.1\n",
        "        self.encoder.weight.data.uniform_(-initrange, initrange)\n",
        "        self.decoder.bias.data.zero_()\n",
        "        self.decoder.weight.data.uniform_(-initrange, initrange)\n",
        "\n",
        "    def forward(self, src, src_mask):\n",
        "        src = self.encoder(src) * math.sqrt(self.ninp)\n",
        "        src = self.pos_encoder(src)\n",
        "        output = self.transformer_encoder(src, src_mask)\n",
        "        output = self.decoder(output)\n",
        "        return output"
      ],
      "execution_count": null,
      "outputs": []
    },
    {
      "cell_type": "markdown",
      "metadata": {
        "id": "Aqp3Io7Vgumr"
      },
      "source": [
        "``PositionalEncoding`` module injects some information about the\n",
        "relative or absolute position of the tokens in the sequence. The\n",
        "positional encodings have the same dimension as the embeddings so that\n",
        "the two can be summed. Here, we use ``sine`` and ``cosine`` functions of\n",
        "different frequencies.\n",
        "\n",
        "\n"
      ]
    },
    {
      "cell_type": "code",
      "metadata": {
        "id": "JEJHjUAUgums"
      },
      "source": [
        "class PositionalEncoding(nn.Module):\n",
        "\n",
        "    def __init__(self, d_model, dropout=0.1, max_len=5000):\n",
        "        super(PositionalEncoding, self).__init__()\n",
        "        self.dropout = nn.Dropout(p=dropout)\n",
        "\n",
        "        pe = torch.zeros(max_len, d_model)\n",
        "        position = torch.arange(0, max_len, dtype=torch.float).unsqueeze(1)\n",
        "        div_term = torch.exp(torch.arange(0, d_model, 2).float() * (-math.log(10000.0) / d_model))\n",
        "        pe[:, 0::2] = torch.sin(position * div_term)\n",
        "        pe[:, 1::2] = torch.cos(position * div_term)\n",
        "        pe = pe.unsqueeze(0).transpose(0, 1)\n",
        "        self.register_buffer('pe', pe)\n",
        "\n",
        "    def forward(self, x):\n",
        "        x = x + self.pe[:x.size(0), :]\n",
        "        return self.dropout(x)"
      ],
      "execution_count": null,
      "outputs": []
    },
    {
      "cell_type": "markdown",
      "metadata": {
        "id": "R4D-tM-Rgums"
      },
      "source": [
        "Load and batch data\n",
        "-------------------\n",
        "\n",
        "\n"
      ]
    },
    {
      "cell_type": "markdown",
      "metadata": {
        "id": "jKsUYkpTgums"
      },
      "source": [
        "This tutorial uses ``torchtext`` to generate Wikitext-2 dataset. The\n",
        "vocab object is built based on the train dataset and is used to numericalize\n",
        "tokens into tensors. Starting from sequential data, the ``batchify()``\n",
        "function arranges the dataset into columns, trimming off any tokens remaining\n",
        "after the data has been divided into batches of size ``batch_size``.\n",
        "For instance, with the alphabet as the sequence (total length of 26)\n",
        "and a batch size of 4, we would divide the alphabet into 4 sequences of\n",
        "length 6:\n",
        "\n",
        "\\begin{align}\\begin{bmatrix}\n",
        "  \\text{A} & \\text{B} & \\text{C} & \\ldots & \\text{X} & \\text{Y} & \\text{Z}\n",
        "  \\end{bmatrix}\n",
        "  \\Rightarrow\n",
        "  \\begin{bmatrix}\n",
        "  \\begin{bmatrix}\\text{A} \\\\ \\text{B} \\\\ \\text{C} \\\\ \\text{D} \\\\ \\text{E} \\\\ \\text{F}\\end{bmatrix} &\n",
        "  \\begin{bmatrix}\\text{G} \\\\ \\text{H} \\\\ \\text{I} \\\\ \\text{J} \\\\ \\text{K} \\\\ \\text{L}\\end{bmatrix} &\n",
        "  \\begin{bmatrix}\\text{M} \\\\ \\text{N} \\\\ \\text{O} \\\\ \\text{P} \\\\ \\text{Q} \\\\ \\text{R}\\end{bmatrix} &\n",
        "  \\begin{bmatrix}\\text{S} \\\\ \\text{T} \\\\ \\text{U} \\\\ \\text{V} \\\\ \\text{W} \\\\ \\text{X}\\end{bmatrix}\n",
        "  \\end{bmatrix}\\end{align}\n",
        "\n",
        "These columns are treated as independent by the model, which means that\n",
        "the dependence of ``G`` and ``F`` can not be learned, but allows more\n",
        "efficient batch processing.\n",
        "\n",
        "\n"
      ]
    },
    {
      "cell_type": "code",
      "metadata": {
        "id": "X5BoJwnLgumt",
        "colab": {
          "base_uri": "https://localhost:8080/"
        },
        "outputId": "00524fca-be10-4b46-c463-ccb0d517ee0d"
      },
      "source": [
        "import io\n",
        "import torch\n",
        "from torchtext.datasets import WikiText2\n",
        "from torchtext.data.utils import get_tokenizer\n",
        "from collections import Counter\n",
        "from torchtext.vocab import Vocab\n",
        "\n",
        "train_iter = WikiText2(split='train')\n",
        "tokenizer = get_tokenizer('basic_english')\n",
        "counter = Counter()\n",
        "for line in train_iter:\n",
        "    counter.update(tokenizer(line))\n",
        "vocab = Vocab(counter)\n",
        "\n",
        "def data_process(raw_text_iter):\n",
        "  data = [torch.tensor([vocab[token] for token in tokenizer(item)],\n",
        "                       dtype=torch.long) for item in raw_text_iter]\n",
        "  return torch.cat(tuple(filter(lambda t: t.numel() > 0, data)))\n",
        "\n",
        "train_iter, val_iter, test_iter = WikiText2()\n",
        "train_data = data_process(train_iter)\n",
        "val_data = data_process(val_iter)\n",
        "test_data = data_process(test_iter)\n",
        "\n",
        "device = torch.device(\"cuda\" if torch.cuda.is_available() else \"cpu\")\n",
        "\n",
        "def batchify(data, bsz):\n",
        "    # Divide the dataset into bsz parts.\n",
        "    nbatch = data.size(0) // bsz\n",
        "    # Trim off any extra elements that wouldn't cleanly fit (remainders).\n",
        "    data = data.narrow(0, 0, nbatch * bsz)\n",
        "    # Evenly divide the data across the bsz batches.\n",
        "    data = data.view(bsz, -1).t().contiguous()\n",
        "    return data.to(device)\n",
        "\n",
        "batch_size = 20\n",
        "eval_batch_size = 10\n",
        "train_data = batchify(train_data, batch_size)\n",
        "val_data = batchify(val_data, eval_batch_size)\n",
        "test_data = batchify(test_data, eval_batch_size)"
      ],
      "execution_count": null,
      "outputs": [
        {
          "output_type": "stream",
          "text": [
            "wikitext-2-v1.zip: 100%|██████████| 4.48M/4.48M [00:00<00:00, 8.68MB/s]\n"
          ],
          "name": "stderr"
        }
      ]
    },
    {
      "cell_type": "markdown",
      "metadata": {
        "id": "W9fSMmIdgumu"
      },
      "source": [
        "Functions to generate input and target sequence\n",
        "~~~~~~~~~~~~~~~~~~~~~~~~~~~~~~~~~~~~~~~~~~~~~~~~~\n",
        "\n",
        "\n"
      ]
    },
    {
      "cell_type": "markdown",
      "metadata": {
        "id": "SJaIztlpgumu"
      },
      "source": [
        "``get_batch()`` function generates the input and target sequence for\n",
        "the transformer model. It subdivides the source data into chunks of\n",
        "length ``bptt``. For the language modeling task, the model needs the\n",
        "following words as ``Target``. For example, with a ``bptt`` value of 2,\n",
        "we’d get the following two Variables for ``i`` = 0:\n",
        "\n",
        "![](https://github.com/pytorch/tutorials/blob/gh-pages/_downloads/_static/img/transformer_input_target.png?raw=1)\n",
        "\n",
        "\n",
        "It should be noted that the chunks are along dimension 0, consistent\n",
        "with the ``S`` dimension in the Transformer model. The batch dimension\n",
        "``N`` is along dimension 1.\n",
        "\n",
        "\n"
      ]
    },
    {
      "cell_type": "code",
      "metadata": {
        "id": "bKEOuv01gumv"
      },
      "source": [
        "bptt = 35\n",
        "def get_batch(source, i):\n",
        "    seq_len = min(bptt, len(source) - 1 - i)\n",
        "    data = source[i:i+seq_len]\n",
        "    target = source[i+1:i+1+seq_len].reshape(-1)\n",
        "    return data, target"
      ],
      "execution_count": null,
      "outputs": []
    },
    {
      "cell_type": "markdown",
      "metadata": {
        "id": "-p_6VdZngumv"
      },
      "source": [
        "Initiate an instance\n",
        "--------------------\n",
        "\n",
        "\n"
      ]
    },
    {
      "cell_type": "markdown",
      "metadata": {
        "id": "l8v6w7iCgumv"
      },
      "source": [
        "The model is set up with the hyperparameter below. The vocab size is\n",
        "equal to the length of the vocab object.\n",
        "\n",
        "\n"
      ]
    },
    {
      "cell_type": "code",
      "metadata": {
        "id": "0yPlEw9Wgumv"
      },
      "source": [
        "ntokens = len(vocab.stoi) # the size of vocabulary\n",
        "emsize = 200 # embedding dimension\n",
        "nhid = 200 # the dimension of the feedforward network model in nn.TransformerEncoder\n",
        "nlayers = 4 # the number of nn.TransformerEncoderLayer in nn.TransformerEncoder\n",
        "nhead = 4 # the number of heads in the multiheadattention models\n",
        "dropout = 0.2 # the dropout value\n",
        "model = TransformerModel(ntokens, emsize, nhead, nhid, nlayers, dropout).to(device)"
      ],
      "execution_count": null,
      "outputs": []
    },
    {
      "cell_type": "markdown",
      "metadata": {
        "id": "WCan2nPugumw"
      },
      "source": [
        "Run the model\n",
        "-------------\n",
        "\n",
        "\n"
      ]
    },
    {
      "cell_type": "markdown",
      "metadata": {
        "id": "_KcIDYDtgumw"
      },
      "source": [
        "`CrossEntropyLoss <https://pytorch.org/docs/master/nn.html?highlight=crossentropyloss#torch.nn.CrossEntropyLoss>`__\n",
        "is applied to track the loss and\n",
        "`SGD <https://pytorch.org/docs/master/optim.html?highlight=sgd#torch.optim.SGD>`__\n",
        "implements stochastic gradient descent method as the optimizer. The initial\n",
        "learning rate is set to 5.0. `StepLR <https://pytorch.org/docs/master/optim.html?highlight=steplr#torch.optim.lr_scheduler.StepLR>`__ is\n",
        "applied to adjust the learn rate through epochs. During the\n",
        "training, we use\n",
        "`nn.utils.clip_grad_norm\\_ <https://pytorch.org/docs/master/nn.html?highlight=nn%20utils%20clip_grad_norm#torch.nn.utils.clip_grad_norm_>`__\n",
        "function to scale all the gradient together to prevent exploding.\n",
        "\n",
        "\n"
      ]
    },
    {
      "cell_type": "code",
      "metadata": {
        "id": "FQ0rIFeogumw"
      },
      "source": [
        "epochs = 20 # The number of epochs\n",
        "criterion = nn.CrossEntropyLoss()\n",
        "lr = 1 # learning rate\n",
        "optimizer = torch.optim.SGD(model.parameters(), lr=lr)\n",
        "scheduler = torch.optim.lr_scheduler.OneCycleLR(optimizer, max_lr=1, steps_per_epoch=2928, epochs=epochs)\n",
        "\n",
        "import time\n",
        "def train():\n",
        "    model.train() # Turn on the train mode\n",
        "    total_loss = 0.\n",
        "    start_time = time.time()\n",
        "    src_mask = model.generate_square_subsequent_mask(bptt).to(device)\n",
        "    for batch, i in enumerate(range(0, train_data.size(0) - 1, bptt)):\n",
        "        data, targets = get_batch(train_data, i)\n",
        "        optimizer.zero_grad()\n",
        "        if data.size(0) != bptt:\n",
        "            src_mask = model.generate_square_subsequent_mask(data.size(0)).to(device)\n",
        "        output = model(data, src_mask)\n",
        "        loss = criterion(output.view(-1, ntokens), targets)\n",
        "        loss.backward()\n",
        "        torch.nn.utils.clip_grad_norm_(model.parameters(), 0.5)\n",
        "        optimizer.step()\n",
        "\n",
        "        total_loss += loss.item()\n",
        "        log_interval = 200\n",
        "        if batch % log_interval == 0 and batch > 0:\n",
        "            cur_loss = total_loss / log_interval\n",
        "            elapsed = time.time() - start_time\n",
        "            print('| epoch {:3d} | {:5d}/{:5d} batches | '\n",
        "                  'ms/batch {:5.2f} | '\n",
        "                  'loss {:5.2f} | ppl {:8.2f}'.format(\n",
        "                    epoch, batch, len(train_data) // bptt,\n",
        "                    elapsed * 1000 / log_interval,\n",
        "                    cur_loss, math.exp(cur_loss)))\n",
        "            total_loss = 0\n",
        "            start_time = time.time()\n",
        "\n",
        "def evaluate(eval_model, data_source):\n",
        "    eval_model.eval() # Turn on the evaluation mode\n",
        "    total_loss = 0.\n",
        "    src_mask = model.generate_square_subsequent_mask(bptt).to(device)\n",
        "    with torch.no_grad():\n",
        "        for i in range(0, data_source.size(0) - 1, bptt):\n",
        "            data, targets = get_batch(data_source, i)\n",
        "            if data.size(0) != bptt:\n",
        "                src_mask = model.generate_square_subsequent_mask(data.size(0)).to(device)\n",
        "            output = eval_model(data, src_mask)\n",
        "            output_flat = output.view(-1, ntokens)\n",
        "            total_loss += len(data) * criterion(output_flat, targets).item()\n",
        "    return total_loss / (len(data_source) - 1)"
      ],
      "execution_count": null,
      "outputs": []
    },
    {
      "cell_type": "markdown",
      "metadata": {
        "id": "ZhoN9XLQgumx"
      },
      "source": [
        "Loop over epochs. Save the model if the validation loss is the best\n",
        "we've seen so far. Adjust the learning rate after each epoch.\n",
        "\n"
      ]
    },
    {
      "cell_type": "code",
      "metadata": {
        "id": "0n4beD5Pgumx",
        "colab": {
          "base_uri": "https://localhost:8080/"
        },
        "outputId": "796669e1-2dc6-437e-d48b-2f9e8602af53"
      },
      "source": [
        "best_val_loss = float(\"inf\")\n",
        "best_model = None\n",
        "\n",
        "for epoch in range(1, epochs + 1):\n",
        "    epoch_start_time = time.time()\n",
        "    train()\n",
        "    val_loss = evaluate(model, val_data)\n",
        "    print('-' * 89)\n",
        "    print('| end of epoch {:3d} | time: {:5.2f}s | valid loss {:5.2f} | '\n",
        "          'valid ppl {:8.2f}'.format(epoch, (time.time() - epoch_start_time),\n",
        "                                     val_loss, math.exp(val_loss)))\n",
        "    print('-' * 89)\n",
        "\n",
        "    if val_loss < best_val_loss:\n",
        "        best_val_loss = val_loss\n",
        "        best_model = model\n",
        "\n",
        "    #scheduler.step()"
      ],
      "execution_count": null,
      "outputs": [
        {
          "output_type": "stream",
          "text": [
            "| epoch   1 |   200/ 2928 batches | ms/batch 20.79 | loss  7.66 | ppl  2115.57\n",
            "| epoch   1 |   400/ 2928 batches | ms/batch 20.29 | loss  6.82 | ppl   911.45\n",
            "| epoch   1 |   600/ 2928 batches | ms/batch 20.55 | loss  6.59 | ppl   729.27\n",
            "| epoch   1 |   800/ 2928 batches | ms/batch 20.61 | loss  6.51 | ppl   674.31\n",
            "| epoch   1 |  1000/ 2928 batches | ms/batch 20.73 | loss  6.40 | ppl   603.82\n",
            "| epoch   1 |  1200/ 2928 batches | ms/batch 20.84 | loss  6.38 | ppl   592.55\n",
            "| epoch   1 |  1400/ 2928 batches | ms/batch 20.94 | loss  6.31 | ppl   549.77\n",
            "| epoch   1 |  1600/ 2928 batches | ms/batch 21.02 | loss  6.30 | ppl   543.95\n",
            "| epoch   1 |  1800/ 2928 batches | ms/batch 20.99 | loss  6.22 | ppl   500.58\n",
            "| epoch   1 |  2000/ 2928 batches | ms/batch 21.11 | loss  6.20 | ppl   492.85\n",
            "| epoch   1 |  2200/ 2928 batches | ms/batch 21.17 | loss  6.09 | ppl   439.95\n",
            "| epoch   1 |  2400/ 2928 batches | ms/batch 21.04 | loss  6.13 | ppl   459.41\n",
            "| epoch   1 |  2600/ 2928 batches | ms/batch 20.83 | loss  6.10 | ppl   446.70\n",
            "| epoch   1 |  2800/ 2928 batches | ms/batch 20.68 | loss  6.05 | ppl   422.16\n",
            "-----------------------------------------------------------------------------------------\n",
            "| end of epoch   1 | time: 63.81s | valid loss  5.85 | valid ppl   346.55\n",
            "-----------------------------------------------------------------------------------------\n",
            "| epoch   2 |   200/ 2928 batches | ms/batch 20.86 | loss  6.04 | ppl   418.18\n",
            "| epoch   2 |   400/ 2928 batches | ms/batch 20.57 | loss  6.01 | ppl   406.88\n",
            "| epoch   2 |   600/ 2928 batches | ms/batch 20.58 | loss  5.89 | ppl   359.72\n",
            "| epoch   2 |   800/ 2928 batches | ms/batch 20.69 | loss  5.92 | ppl   373.21\n",
            "| epoch   2 |  1000/ 2928 batches | ms/batch 20.70 | loss  5.85 | ppl   346.65\n",
            "| epoch   2 |  1200/ 2928 batches | ms/batch 20.50 | loss  5.88 | ppl   358.09\n",
            "| epoch   2 |  1400/ 2928 batches | ms/batch 20.92 | loss  5.87 | ppl   354.49\n",
            "| epoch   2 |  1600/ 2928 batches | ms/batch 20.67 | loss  5.89 | ppl   361.22\n",
            "| epoch   2 |  1800/ 2928 batches | ms/batch 20.64 | loss  5.82 | ppl   335.76\n",
            "| epoch   2 |  2000/ 2928 batches | ms/batch 20.64 | loss  5.83 | ppl   340.94\n",
            "| epoch   2 |  2200/ 2928 batches | ms/batch 20.56 | loss  5.72 | ppl   305.91\n",
            "| epoch   2 |  2400/ 2928 batches | ms/batch 20.69 | loss  5.80 | ppl   329.37\n",
            "| epoch   2 |  2600/ 2928 batches | ms/batch 20.78 | loss  5.79 | ppl   326.52\n",
            "| epoch   2 |  2800/ 2928 batches | ms/batch 20.80 | loss  5.73 | ppl   307.70\n",
            "-----------------------------------------------------------------------------------------\n",
            "| end of epoch   2 | time: 63.47s | valid loss  5.62 | valid ppl   275.50\n",
            "-----------------------------------------------------------------------------------------\n",
            "| epoch   3 |   200/ 2928 batches | ms/batch 20.91 | loss  5.75 | ppl   315.57\n",
            "| epoch   3 |   400/ 2928 batches | ms/batch 20.98 | loss  5.76 | ppl   316.30\n",
            "| epoch   3 |   600/ 2928 batches | ms/batch 20.86 | loss  5.61 | ppl   274.09\n",
            "| epoch   3 |   800/ 2928 batches | ms/batch 20.97 | loss  5.67 | ppl   288.74\n",
            "| epoch   3 |  1000/ 2928 batches | ms/batch 20.89 | loss  5.60 | ppl   271.15\n",
            "| epoch   3 |  1200/ 2928 batches | ms/batch 21.09 | loss  5.64 | ppl   281.33\n",
            "| epoch   3 |  1400/ 2928 batches | ms/batch 21.14 | loss  5.65 | ppl   283.42\n",
            "| epoch   3 |  1600/ 2928 batches | ms/batch 21.04 | loss  5.67 | ppl   289.18\n",
            "| epoch   3 |  1800/ 2928 batches | ms/batch 21.13 | loss  5.60 | ppl   269.41\n",
            "| epoch   3 |  2000/ 2928 batches | ms/batch 20.99 | loss  5.62 | ppl   274.83\n",
            "| epoch   3 |  2200/ 2928 batches | ms/batch 21.16 | loss  5.50 | ppl   244.77\n",
            "| epoch   3 |  2400/ 2928 batches | ms/batch 21.00 | loss  5.59 | ppl   268.15\n",
            "| epoch   3 |  2600/ 2928 batches | ms/batch 21.01 | loss  5.59 | ppl   267.51\n",
            "| epoch   3 |  2800/ 2928 batches | ms/batch 21.15 | loss  5.52 | ppl   250.64\n",
            "-----------------------------------------------------------------------------------------\n",
            "| end of epoch   3 | time: 64.41s | valid loss  5.49 | valid ppl   241.77\n",
            "-----------------------------------------------------------------------------------------\n",
            "| epoch   4 |   200/ 2928 batches | ms/batch 21.11 | loss  5.56 | ppl   259.92\n",
            "| epoch   4 |   400/ 2928 batches | ms/batch 21.04 | loss  5.58 | ppl   266.05\n",
            "| epoch   4 |   600/ 2928 batches | ms/batch 21.40 | loss  5.42 | ppl   225.66\n",
            "| epoch   4 |   800/ 2928 batches | ms/batch 21.32 | loss  5.48 | ppl   240.24\n",
            "| epoch   4 |  1000/ 2928 batches | ms/batch 21.31 | loss  5.42 | ppl   225.91\n",
            "| epoch   4 |  1200/ 2928 batches | ms/batch 21.31 | loss  5.46 | ppl   235.91\n",
            "| epoch   4 |  1400/ 2928 batches | ms/batch 21.28 | loss  5.48 | ppl   239.83\n",
            "| epoch   4 |  1600/ 2928 batches | ms/batch 21.32 | loss  5.50 | ppl   244.94\n",
            "| epoch   4 |  1800/ 2928 batches | ms/batch 21.33 | loss  5.43 | ppl   229.02\n",
            "| epoch   4 |  2000/ 2928 batches | ms/batch 21.25 | loss  5.46 | ppl   234.22\n",
            "| epoch   4 |  2200/ 2928 batches | ms/batch 21.29 | loss  5.34 | ppl   207.90\n",
            "| epoch   4 |  2400/ 2928 batches | ms/batch 21.22 | loss  5.43 | ppl   228.71\n",
            "| epoch   4 |  2600/ 2928 batches | ms/batch 21.28 | loss  5.44 | ppl   229.40\n",
            "| epoch   4 |  2800/ 2928 batches | ms/batch 21.21 | loss  5.37 | ppl   214.30\n",
            "-----------------------------------------------------------------------------------------\n",
            "| end of epoch   4 | time: 65.10s | valid loss  5.41 | valid ppl   222.79\n",
            "-----------------------------------------------------------------------------------------\n",
            "| epoch   5 |   200/ 2928 batches | ms/batch 21.41 | loss  5.41 | ppl   223.01\n",
            "| epoch   5 |   400/ 2928 batches | ms/batch 21.27 | loss  5.44 | ppl   231.27\n",
            "| epoch   5 |   600/ 2928 batches | ms/batch 21.21 | loss  5.27 | ppl   193.95\n",
            "| epoch   5 |   800/ 2928 batches | ms/batch 21.22 | loss  5.34 | ppl   208.18\n",
            "| epoch   5 |  1000/ 2928 batches | ms/batch 21.24 | loss  5.28 | ppl   196.64\n",
            "| epoch   5 |  1200/ 2928 batches | ms/batch 21.26 | loss  5.33 | ppl   205.55\n",
            "| epoch   5 |  1400/ 2928 batches | ms/batch 21.22 | loss  5.35 | ppl   210.33\n",
            "| epoch   5 |  1600/ 2928 batches | ms/batch 21.31 | loss  5.37 | ppl   215.08\n",
            "| epoch   5 |  1800/ 2928 batches | ms/batch 21.24 | loss  5.31 | ppl   201.50\n",
            "| epoch   5 |  2000/ 2928 batches | ms/batch 21.25 | loss  5.32 | ppl   205.07\n",
            "| epoch   5 |  2200/ 2928 batches | ms/batch 21.18 | loss  5.20 | ppl   181.64\n",
            "| epoch   5 |  2400/ 2928 batches | ms/batch 20.97 | loss  5.31 | ppl   201.46\n",
            "| epoch   5 |  2600/ 2928 batches | ms/batch 21.01 | loss  5.31 | ppl   202.79\n",
            "| epoch   5 |  2800/ 2928 batches | ms/batch 21.07 | loss  5.24 | ppl   188.70\n",
            "-----------------------------------------------------------------------------------------\n",
            "| end of epoch   5 | time: 64.91s | valid loss  5.34 | valid ppl   208.95\n",
            "-----------------------------------------------------------------------------------------\n",
            "| epoch   6 |   200/ 2928 batches | ms/batch 21.26 | loss  5.28 | ppl   197.23\n",
            "| epoch   6 |   400/ 2928 batches | ms/batch 21.05 | loss  5.33 | ppl   205.69\n",
            "| epoch   6 |   600/ 2928 batches | ms/batch 20.90 | loss  5.15 | ppl   171.90\n",
            "| epoch   6 |   800/ 2928 batches | ms/batch 21.05 | loss  5.22 | ppl   184.27\n",
            "| epoch   6 |  1000/ 2928 batches | ms/batch 21.08 | loss  5.17 | ppl   175.12\n",
            "| epoch   6 |  1200/ 2928 batches | ms/batch 20.99 | loss  5.21 | ppl   183.10\n",
            "| epoch   6 |  1400/ 2928 batches | ms/batch 21.01 | loss  5.24 | ppl   188.62\n",
            "| epoch   6 |  1600/ 2928 batches | ms/batch 20.97 | loss  5.27 | ppl   193.52\n",
            "| epoch   6 |  1800/ 2928 batches | ms/batch 20.92 | loss  5.20 | ppl   181.35\n",
            "| epoch   6 |  2000/ 2928 batches | ms/batch 21.01 | loss  5.22 | ppl   184.57\n",
            "| epoch   6 |  2200/ 2928 batches | ms/batch 20.92 | loss  5.09 | ppl   161.72\n",
            "| epoch   6 |  2400/ 2928 batches | ms/batch 21.16 | loss  5.20 | ppl   180.76\n",
            "| epoch   6 |  2600/ 2928 batches | ms/batch 21.00 | loss  5.21 | ppl   183.12\n",
            "| epoch   6 |  2800/ 2928 batches | ms/batch 20.98 | loss  5.13 | ppl   169.52\n",
            "-----------------------------------------------------------------------------------------\n",
            "| end of epoch   6 | time: 64.39s | valid loss  5.30 | valid ppl   199.81\n",
            "-----------------------------------------------------------------------------------------\n",
            "| epoch   7 |   200/ 2928 batches | ms/batch 21.12 | loss  5.18 | ppl   178.14\n",
            "| epoch   7 |   400/ 2928 batches | ms/batch 21.06 | loss  5.23 | ppl   186.05\n",
            "| epoch   7 |   600/ 2928 batches | ms/batch 21.01 | loss  5.04 | ppl   154.93\n",
            "| epoch   7 |   800/ 2928 batches | ms/batch 21.08 | loss  5.12 | ppl   167.01\n",
            "| epoch   7 |  1000/ 2928 batches | ms/batch 21.06 | loss  5.07 | ppl   158.45\n",
            "| epoch   7 |  1200/ 2928 batches | ms/batch 21.11 | loss  5.11 | ppl   166.42\n",
            "| epoch   7 |  1400/ 2928 batches | ms/batch 21.28 | loss  5.14 | ppl   171.30\n",
            "| epoch   7 |  1600/ 2928 batches | ms/batch 21.30 | loss  5.17 | ppl   176.50\n",
            "| epoch   7 |  1800/ 2928 batches | ms/batch 21.34 | loss  5.11 | ppl   165.38\n",
            "| epoch   7 |  2000/ 2928 batches | ms/batch 21.29 | loss  5.12 | ppl   168.11\n",
            "| epoch   7 |  2200/ 2928 batches | ms/batch 21.39 | loss  4.99 | ppl   146.48\n",
            "| epoch   7 |  2400/ 2928 batches | ms/batch 21.23 | loss  5.10 | ppl   164.18\n",
            "| epoch   7 |  2600/ 2928 batches | ms/batch 21.30 | loss  5.12 | ppl   167.05\n",
            "| epoch   7 |  2800/ 2928 batches | ms/batch 21.32 | loss  5.04 | ppl   154.19\n",
            "-----------------------------------------------------------------------------------------\n",
            "| end of epoch   7 | time: 64.96s | valid loss  5.26 | valid ppl   193.22\n",
            "-----------------------------------------------------------------------------------------\n",
            "| epoch   8 |   200/ 2928 batches | ms/batch 21.49 | loss  5.10 | ppl   163.44\n",
            "| epoch   8 |   400/ 2928 batches | ms/batch 21.34 | loss  5.14 | ppl   170.26\n",
            "| epoch   8 |   600/ 2928 batches | ms/batch 21.38 | loss  4.96 | ppl   142.20\n",
            "| epoch   8 |   800/ 2928 batches | ms/batch 21.35 | loss  5.03 | ppl   153.40\n",
            "| epoch   8 |  1000/ 2928 batches | ms/batch 21.46 | loss  4.98 | ppl   144.97\n",
            "| epoch   8 |  1200/ 2928 batches | ms/batch 21.37 | loss  5.03 | ppl   152.89\n",
            "| epoch   8 |  1400/ 2928 batches | ms/batch 21.36 | loss  5.06 | ppl   157.53\n",
            "| epoch   8 |  1600/ 2928 batches | ms/batch 21.30 | loss  5.09 | ppl   163.09\n",
            "| epoch   8 |  1800/ 2928 batches | ms/batch 21.30 | loss  5.03 | ppl   153.03\n",
            "| epoch   8 |  2000/ 2928 batches | ms/batch 21.34 | loss  5.05 | ppl   155.48\n",
            "| epoch   8 |  2200/ 2928 batches | ms/batch 21.35 | loss  4.90 | ppl   134.77\n",
            "| epoch   8 |  2400/ 2928 batches | ms/batch 21.38 | loss  5.03 | ppl   152.34\n",
            "| epoch   8 |  2600/ 2928 batches | ms/batch 21.34 | loss  5.04 | ppl   154.18\n",
            "| epoch   8 |  2800/ 2928 batches | ms/batch 21.38 | loss  4.96 | ppl   142.83\n",
            "-----------------------------------------------------------------------------------------\n",
            "| end of epoch   8 | time: 65.41s | valid loss  5.24 | valid ppl   188.18\n",
            "-----------------------------------------------------------------------------------------\n",
            "| epoch   9 |   200/ 2928 batches | ms/batch 21.48 | loss  5.02 | ppl   151.42\n",
            "| epoch   9 |   400/ 2928 batches | ms/batch 21.30 | loss  5.06 | ppl   157.47\n",
            "| epoch   9 |   600/ 2928 batches | ms/batch 21.37 | loss  4.88 | ppl   131.45\n",
            "| epoch   9 |   800/ 2928 batches | ms/batch 21.30 | loss  4.95 | ppl   141.64\n",
            "| epoch   9 |  1000/ 2928 batches | ms/batch 21.29 | loss  4.90 | ppl   134.23\n",
            "| epoch   9 |  1200/ 2928 batches | ms/batch 21.31 | loss  4.96 | ppl   141.92\n",
            "| epoch   9 |  1400/ 2928 batches | ms/batch 21.37 | loss  4.99 | ppl   146.73\n",
            "| epoch   9 |  1600/ 2928 batches | ms/batch 21.20 | loss  5.02 | ppl   151.86\n",
            "| epoch   9 |  1800/ 2928 batches | ms/batch 21.37 | loss  4.96 | ppl   141.94\n",
            "| epoch   9 |  2000/ 2928 batches | ms/batch 21.33 | loss  4.97 | ppl   144.72\n",
            "| epoch   9 |  2200/ 2928 batches | ms/batch 21.29 | loss  4.83 | ppl   124.69\n",
            "| epoch   9 |  2400/ 2928 batches | ms/batch 21.32 | loss  4.95 | ppl   141.22\n",
            "| epoch   9 |  2600/ 2928 batches | ms/batch 21.35 | loss  4.97 | ppl   143.88\n",
            "| epoch   9 |  2800/ 2928 batches | ms/batch 21.41 | loss  4.89 | ppl   132.89\n",
            "-----------------------------------------------------------------------------------------\n",
            "| end of epoch   9 | time: 65.33s | valid loss  5.22 | valid ppl   185.21\n",
            "-----------------------------------------------------------------------------------------\n",
            "| epoch  10 |   200/ 2928 batches | ms/batch 21.47 | loss  4.95 | ppl   140.85\n",
            "| epoch  10 |   400/ 2928 batches | ms/batch 21.34 | loss  4.99 | ppl   147.14\n",
            "| epoch  10 |   600/ 2928 batches | ms/batch 21.32 | loss  4.81 | ppl   123.16\n",
            "| epoch  10 |   800/ 2928 batches | ms/batch 21.34 | loss  4.88 | ppl   132.05\n",
            "| epoch  10 |  1000/ 2928 batches | ms/batch 21.27 | loss  4.83 | ppl   125.42\n",
            "| epoch  10 |  1200/ 2928 batches | ms/batch 21.36 | loss  4.89 | ppl   132.70\n",
            "| epoch  10 |  1400/ 2928 batches | ms/batch 21.31 | loss  4.92 | ppl   137.17\n",
            "| epoch  10 |  1600/ 2928 batches | ms/batch 21.28 | loss  4.96 | ppl   142.07\n",
            "| epoch  10 |  1800/ 2928 batches | ms/batch 21.30 | loss  4.90 | ppl   133.88\n",
            "| epoch  10 |  2000/ 2928 batches | ms/batch 21.30 | loss  4.91 | ppl   135.35\n",
            "| epoch  10 |  2200/ 2928 batches | ms/batch 21.28 | loss  4.76 | ppl   116.33\n",
            "| epoch  10 |  2400/ 2928 batches | ms/batch 21.31 | loss  4.88 | ppl   132.22\n",
            "| epoch  10 |  2600/ 2928 batches | ms/batch 21.21 | loss  4.91 | ppl   135.25\n",
            "| epoch  10 |  2800/ 2928 batches | ms/batch 21.35 | loss  4.83 | ppl   124.61\n",
            "-----------------------------------------------------------------------------------------\n",
            "| end of epoch  10 | time: 65.27s | valid loss  5.20 | valid ppl   181.32\n",
            "-----------------------------------------------------------------------------------------\n",
            "| epoch  11 |   200/ 2928 batches | ms/batch 21.50 | loss  4.88 | ppl   132.05\n",
            "| epoch  11 |   400/ 2928 batches | ms/batch 21.30 | loss  4.92 | ppl   137.54\n",
            "| epoch  11 |   600/ 2928 batches | ms/batch 21.39 | loss  4.74 | ppl   114.85\n",
            "| epoch  11 |   800/ 2928 batches | ms/batch 21.26 | loss  4.82 | ppl   124.17\n",
            "| epoch  11 |  1000/ 2928 batches | ms/batch 21.32 | loss  4.77 | ppl   118.09\n",
            "| epoch  11 |  1200/ 2928 batches | ms/batch 21.28 | loss  4.83 | ppl   124.70\n",
            "| epoch  11 |  1400/ 2928 batches | ms/batch 21.30 | loss  4.86 | ppl   128.90\n",
            "| epoch  11 |  1600/ 2928 batches | ms/batch 21.25 | loss  4.89 | ppl   133.41\n",
            "| epoch  11 |  1800/ 2928 batches | ms/batch 21.32 | loss  4.84 | ppl   126.15\n",
            "| epoch  11 |  2000/ 2928 batches | ms/batch 21.39 | loss  4.85 | ppl   127.49\n",
            "| epoch  11 |  2200/ 2928 batches | ms/batch 21.28 | loss  4.70 | ppl   109.61\n",
            "| epoch  11 |  2400/ 2928 batches | ms/batch 21.35 | loss  4.82 | ppl   124.01\n",
            "| epoch  11 |  2600/ 2928 batches | ms/batch 21.36 | loss  4.84 | ppl   126.78\n",
            "| epoch  11 |  2800/ 2928 batches | ms/batch 21.41 | loss  4.76 | ppl   117.23\n",
            "-----------------------------------------------------------------------------------------\n",
            "| end of epoch  11 | time: 65.34s | valid loss  5.19 | valid ppl   180.06\n",
            "-----------------------------------------------------------------------------------------\n",
            "| epoch  12 |   200/ 2928 batches | ms/batch 21.44 | loss  4.83 | ppl   124.73\n",
            "| epoch  12 |   400/ 2928 batches | ms/batch 21.43 | loss  4.86 | ppl   129.66\n",
            "| epoch  12 |   600/ 2928 batches | ms/batch 21.33 | loss  4.68 | ppl   108.26\n",
            "| epoch  12 |   800/ 2928 batches | ms/batch 21.37 | loss  4.77 | ppl   117.47\n",
            "| epoch  12 |  1000/ 2928 batches | ms/batch 21.26 | loss  4.72 | ppl   111.66\n",
            "| epoch  12 |  1200/ 2928 batches | ms/batch 21.13 | loss  4.77 | ppl   118.11\n",
            "| epoch  12 |  1400/ 2928 batches | ms/batch 21.31 | loss  4.80 | ppl   121.61\n",
            "| epoch  12 |  1600/ 2928 batches | ms/batch 21.28 | loss  4.84 | ppl   126.52\n",
            "| epoch  12 |  1800/ 2928 batches | ms/batch 21.30 | loss  4.78 | ppl   119.40\n",
            "| epoch  12 |  2000/ 2928 batches | ms/batch 21.32 | loss  4.79 | ppl   120.76\n",
            "| epoch  12 |  2200/ 2928 batches | ms/batch 21.41 | loss  4.63 | ppl   102.81\n",
            "| epoch  12 |  2400/ 2928 batches | ms/batch 21.27 | loss  4.77 | ppl   117.58\n",
            "| epoch  12 |  2600/ 2928 batches | ms/batch 21.25 | loss  4.79 | ppl   120.47\n",
            "| epoch  12 |  2800/ 2928 batches | ms/batch 21.28 | loss  4.71 | ppl   111.14\n",
            "-----------------------------------------------------------------------------------------\n",
            "| end of epoch  12 | time: 65.26s | valid loss  5.18 | valid ppl   177.58\n",
            "-----------------------------------------------------------------------------------------\n",
            "| epoch  13 |   200/ 2928 batches | ms/batch 21.43 | loss  4.77 | ppl   118.08\n",
            "| epoch  13 |   400/ 2928 batches | ms/batch 21.29 | loss  4.81 | ppl   122.78\n",
            "| epoch  13 |   600/ 2928 batches | ms/batch 21.32 | loss  4.63 | ppl   102.52\n",
            "| epoch  13 |   800/ 2928 batches | ms/batch 21.29 | loss  4.71 | ppl   110.90\n",
            "| epoch  13 |  1000/ 2928 batches | ms/batch 21.26 | loss  4.66 | ppl   105.58\n",
            "| epoch  13 |  1200/ 2928 batches | ms/batch 21.36 | loss  4.72 | ppl   111.84\n",
            "| epoch  13 |  1400/ 2928 batches | ms/batch 21.22 | loss  4.75 | ppl   115.42\n",
            "| epoch  13 |  1600/ 2928 batches | ms/batch 21.34 | loss  4.79 | ppl   120.40\n",
            "| epoch  13 |  1800/ 2928 batches | ms/batch 21.26 | loss  4.74 | ppl   113.90\n",
            "| epoch  13 |  2000/ 2928 batches | ms/batch 21.29 | loss  4.74 | ppl   114.52\n",
            "| epoch  13 |  2200/ 2928 batches | ms/batch 21.26 | loss  4.59 | ppl    98.24\n",
            "| epoch  13 |  2400/ 2928 batches | ms/batch 21.26 | loss  4.72 | ppl   111.94\n",
            "| epoch  13 |  2600/ 2928 batches | ms/batch 21.26 | loss  4.74 | ppl   114.19\n",
            "| epoch  13 |  2800/ 2928 batches | ms/batch 21.34 | loss  4.66 | ppl   105.61\n",
            "-----------------------------------------------------------------------------------------\n",
            "| end of epoch  13 | time: 65.22s | valid loss  5.17 | valid ppl   175.98\n",
            "-----------------------------------------------------------------------------------------\n",
            "| epoch  14 |   200/ 2928 batches | ms/batch 21.33 | loss  4.72 | ppl   112.53\n",
            "| epoch  14 |   400/ 2928 batches | ms/batch 21.38 | loss  4.76 | ppl   116.34\n",
            "| epoch  14 |   600/ 2928 batches | ms/batch 21.29 | loss  4.58 | ppl    97.84\n",
            "| epoch  14 |   800/ 2928 batches | ms/batch 21.17 | loss  4.66 | ppl   105.47\n",
            "| epoch  14 |  1000/ 2928 batches | ms/batch 21.30 | loss  4.61 | ppl   100.56\n",
            "| epoch  14 |  1200/ 2928 batches | ms/batch 21.18 | loss  4.67 | ppl   106.68\n",
            "| epoch  14 |  1400/ 2928 batches | ms/batch 21.26 | loss  4.70 | ppl   109.72\n",
            "| epoch  14 |  1600/ 2928 batches | ms/batch 21.24 | loss  4.74 | ppl   114.55\n",
            "| epoch  14 |  1800/ 2928 batches | ms/batch 21.29 | loss  4.69 | ppl   108.48\n",
            "| epoch  14 |  2000/ 2928 batches | ms/batch 21.27 | loss  4.69 | ppl   108.86\n",
            "| epoch  14 |  2200/ 2928 batches | ms/batch 21.26 | loss  4.54 | ppl    93.55\n",
            "| epoch  14 |  2400/ 2928 batches | ms/batch 21.29 | loss  4.67 | ppl   106.56\n",
            "| epoch  14 |  2600/ 2928 batches | ms/batch 21.09 | loss  4.69 | ppl   109.22\n",
            "| epoch  14 |  2800/ 2928 batches | ms/batch 20.88 | loss  4.61 | ppl   100.64\n",
            "-----------------------------------------------------------------------------------------\n",
            "| end of epoch  14 | time: 64.90s | valid loss  5.17 | valid ppl   175.86\n",
            "-----------------------------------------------------------------------------------------\n",
            "| epoch  15 |   200/ 2928 batches | ms/batch 20.79 | loss  4.67 | ppl   107.17\n",
            "| epoch  15 |   400/ 2928 batches | ms/batch 20.76 | loss  4.71 | ppl   110.57\n",
            "| epoch  15 |   600/ 2928 batches | ms/batch 20.59 | loss  4.53 | ppl    92.69\n",
            "| epoch  15 |   800/ 2928 batches | ms/batch 20.87 | loss  4.61 | ppl   100.92\n",
            "| epoch  15 |  1000/ 2928 batches | ms/batch 20.67 | loss  4.57 | ppl    96.33\n",
            "| epoch  15 |  1200/ 2928 batches | ms/batch 20.77 | loss  4.63 | ppl   102.29\n",
            "| epoch  15 |  1400/ 2928 batches | ms/batch 20.76 | loss  4.65 | ppl   104.92\n",
            "| epoch  15 |  1600/ 2928 batches | ms/batch 20.78 | loss  4.69 | ppl   109.11\n",
            "| epoch  15 |  1800/ 2928 batches | ms/batch 20.74 | loss  4.65 | ppl   104.08\n",
            "| epoch  15 |  2000/ 2928 batches | ms/batch 20.79 | loss  4.65 | ppl   104.66\n",
            "| epoch  15 |  2200/ 2928 batches | ms/batch 20.74 | loss  4.49 | ppl    89.51\n",
            "| epoch  15 |  2400/ 2928 batches | ms/batch 20.49 | loss  4.62 | ppl   101.96\n",
            "| epoch  15 |  2600/ 2928 batches | ms/batch 20.59 | loss  4.65 | ppl   104.55\n",
            "| epoch  15 |  2800/ 2928 batches | ms/batch 20.80 | loss  4.57 | ppl    96.45\n",
            "-----------------------------------------------------------------------------------------\n",
            "| end of epoch  15 | time: 63.49s | valid loss  5.17 | valid ppl   175.48\n",
            "-----------------------------------------------------------------------------------------\n",
            "| epoch  16 |   200/ 2928 batches | ms/batch 20.83 | loss  4.63 | ppl   102.74\n",
            "| epoch  16 |   400/ 2928 batches | ms/batch 20.62 | loss  4.66 | ppl   106.14\n",
            "| epoch  16 |   600/ 2928 batches | ms/batch 20.69 | loss  4.49 | ppl    89.34\n",
            "| epoch  16 |   800/ 2928 batches | ms/batch 20.80 | loss  4.57 | ppl    96.53\n",
            "| epoch  16 |  1000/ 2928 batches | ms/batch 20.70 | loss  4.52 | ppl    92.02\n",
            "| epoch  16 |  1200/ 2928 batches | ms/batch 20.69 | loss  4.58 | ppl    97.82\n",
            "| epoch  16 |  1400/ 2928 batches | ms/batch 20.78 | loss  4.61 | ppl   100.77\n",
            "| epoch  16 |  1600/ 2928 batches | ms/batch 20.67 | loss  4.65 | ppl   104.80\n",
            "| epoch  16 |  1800/ 2928 batches | ms/batch 20.72 | loss  4.61 | ppl   100.04\n",
            "| epoch  16 |  2000/ 2928 batches | ms/batch 20.79 | loss  4.60 | ppl    99.85\n",
            "| epoch  16 |  2200/ 2928 batches | ms/batch 20.77 | loss  4.45 | ppl    85.69\n",
            "| epoch  16 |  2400/ 2928 batches | ms/batch 20.78 | loss  4.58 | ppl    97.94\n",
            "| epoch  16 |  2600/ 2928 batches | ms/batch 20.68 | loss  4.61 | ppl   100.53\n",
            "| epoch  16 |  2800/ 2928 batches | ms/batch 20.37 | loss  4.52 | ppl    92.26\n",
            "-----------------------------------------------------------------------------------------\n",
            "| end of epoch  16 | time: 63.45s | valid loss  5.16 | valid ppl   174.39\n",
            "-----------------------------------------------------------------------------------------\n",
            "| epoch  17 |   200/ 2928 batches | ms/batch 20.62 | loss  4.59 | ppl    98.62\n",
            "| epoch  17 |   400/ 2928 batches | ms/batch 20.63 | loss  4.62 | ppl   101.80\n",
            "| epoch  17 |   600/ 2928 batches | ms/batch 20.58 | loss  4.45 | ppl    85.74\n",
            "| epoch  17 |   800/ 2928 batches | ms/batch 20.79 | loss  4.53 | ppl    92.37\n",
            "| epoch  17 |  1000/ 2928 batches | ms/batch 20.72 | loss  4.48 | ppl    88.34\n",
            "| epoch  17 |  1200/ 2928 batches | ms/batch 20.63 | loss  4.54 | ppl    94.06\n",
            "| epoch  17 |  1400/ 2928 batches | ms/batch 20.69 | loss  4.57 | ppl    96.34\n",
            "| epoch  17 |  1600/ 2928 batches | ms/batch 20.71 | loss  4.61 | ppl   100.55\n",
            "| epoch  17 |  1800/ 2928 batches | ms/batch 20.67 | loss  4.57 | ppl    96.24\n",
            "| epoch  17 |  2000/ 2928 batches | ms/batch 20.88 | loss  4.56 | ppl    95.98\n",
            "| epoch  17 |  2200/ 2928 batches | ms/batch 20.85 | loss  4.41 | ppl    82.11\n",
            "| epoch  17 |  2400/ 2928 batches | ms/batch 20.86 | loss  4.54 | ppl    93.90\n",
            "| epoch  17 |  2600/ 2928 batches | ms/batch 20.87 | loss  4.57 | ppl    96.25\n",
            "| epoch  17 |  2800/ 2928 batches | ms/batch 20.63 | loss  4.49 | ppl    89.23\n",
            "-----------------------------------------------------------------------------------------\n",
            "| end of epoch  17 | time: 63.50s | valid loss  5.16 | valid ppl   173.99\n",
            "-----------------------------------------------------------------------------------------\n",
            "| epoch  18 |   200/ 2928 batches | ms/batch 20.80 | loss  4.55 | ppl    94.97\n",
            "| epoch  18 |   400/ 2928 batches | ms/batch 20.66 | loss  4.58 | ppl    97.56\n",
            "| epoch  18 |   600/ 2928 batches | ms/batch 20.60 | loss  4.41 | ppl    82.28\n",
            "| epoch  18 |   800/ 2928 batches | ms/batch 20.71 | loss  4.49 | ppl    88.77\n",
            "| epoch  18 |  1000/ 2928 batches | ms/batch 20.77 | loss  4.45 | ppl    85.21\n",
            "| epoch  18 |  1200/ 2928 batches | ms/batch 20.75 | loss  4.51 | ppl    90.63\n",
            "| epoch  18 |  1400/ 2928 batches | ms/batch 20.79 | loss  4.53 | ppl    92.96\n",
            "| epoch  18 |  1600/ 2928 batches | ms/batch 20.67 | loss  4.58 | ppl    97.19\n",
            "| epoch  18 |  1800/ 2928 batches | ms/batch 20.88 | loss  4.53 | ppl    92.67\n",
            "| epoch  18 |  2000/ 2928 batches | ms/batch 20.70 | loss  4.53 | ppl    92.44\n",
            "| epoch  18 |  2200/ 2928 batches | ms/batch 20.66 | loss  4.37 | ppl    78.83\n",
            "| epoch  18 |  2400/ 2928 batches | ms/batch 20.89 | loss  4.50 | ppl    90.44\n",
            "| epoch  18 |  2600/ 2928 batches | ms/batch 20.58 | loss  4.53 | ppl    93.03\n",
            "| epoch  18 |  2800/ 2928 batches | ms/batch 20.79 | loss  4.45 | ppl    85.54\n",
            "-----------------------------------------------------------------------------------------\n",
            "| end of epoch  18 | time: 63.56s | valid loss  5.16 | valid ppl   173.80\n",
            "-----------------------------------------------------------------------------------------\n",
            "| epoch  19 |   200/ 2928 batches | ms/batch 20.82 | loss  4.52 | ppl    91.52\n",
            "| epoch  19 |   400/ 2928 batches | ms/batch 20.78 | loss  4.54 | ppl    94.08\n",
            "| epoch  19 |   600/ 2928 batches | ms/batch 20.71 | loss  4.37 | ppl    79.11\n",
            "| epoch  19 |   800/ 2928 batches | ms/batch 20.83 | loss  4.45 | ppl    85.82\n",
            "| epoch  19 |  1000/ 2928 batches | ms/batch 20.82 | loss  4.41 | ppl    82.17\n",
            "| epoch  19 |  1200/ 2928 batches | ms/batch 20.85 | loss  4.47 | ppl    87.19\n",
            "| epoch  19 |  1400/ 2928 batches | ms/batch 20.86 | loss  4.49 | ppl    89.06\n",
            "| epoch  19 |  1600/ 2928 batches | ms/batch 20.69 | loss  4.54 | ppl    93.43\n",
            "| epoch  19 |  1800/ 2928 batches | ms/batch 20.67 | loss  4.50 | ppl    89.58\n",
            "| epoch  19 |  2000/ 2928 batches | ms/batch 20.78 | loss  4.49 | ppl    89.22\n",
            "| epoch  19 |  2200/ 2928 batches | ms/batch 20.65 | loss  4.33 | ppl    76.11\n",
            "| epoch  19 |  2400/ 2928 batches | ms/batch 20.70 | loss  4.47 | ppl    87.22\n",
            "| epoch  19 |  2600/ 2928 batches | ms/batch 20.68 | loss  4.49 | ppl    89.33\n",
            "| epoch  19 |  2800/ 2928 batches | ms/batch 20.66 | loss  4.42 | ppl    82.87\n",
            "-----------------------------------------------------------------------------------------\n",
            "| end of epoch  19 | time: 63.57s | valid loss  5.16 | valid ppl   174.90\n",
            "-----------------------------------------------------------------------------------------\n",
            "| epoch  20 |   200/ 2928 batches | ms/batch 20.68 | loss  4.48 | ppl    87.94\n",
            "| epoch  20 |   400/ 2928 batches | ms/batch 20.68 | loss  4.50 | ppl    90.38\n",
            "| epoch  20 |   600/ 2928 batches | ms/batch 20.59 | loss  4.34 | ppl    76.77\n",
            "| epoch  20 |   800/ 2928 batches | ms/batch 20.72 | loss  4.41 | ppl    82.46\n",
            "| epoch  20 |  1000/ 2928 batches | ms/batch 20.76 | loss  4.38 | ppl    79.45\n",
            "| epoch  20 |  1200/ 2928 batches | ms/batch 20.78 | loss  4.44 | ppl    84.67\n",
            "| epoch  20 |  1400/ 2928 batches | ms/batch 20.70 | loss  4.46 | ppl    86.14\n",
            "| epoch  20 |  1600/ 2928 batches | ms/batch 20.76 | loss  4.50 | ppl    90.43\n",
            "| epoch  20 |  1800/ 2928 batches | ms/batch 20.67 | loss  4.46 | ppl    86.64\n",
            "| epoch  20 |  2000/ 2928 batches | ms/batch 20.66 | loss  4.46 | ppl    86.40\n",
            "| epoch  20 |  2200/ 2928 batches | ms/batch 20.66 | loss  4.30 | ppl    73.41\n",
            "| epoch  20 |  2400/ 2928 batches | ms/batch 20.78 | loss  4.44 | ppl    84.48\n",
            "| epoch  20 |  2600/ 2928 batches | ms/batch 20.78 | loss  4.46 | ppl    86.36\n",
            "| epoch  20 |  2800/ 2928 batches | ms/batch 20.58 | loss  4.38 | ppl    80.06\n",
            "-----------------------------------------------------------------------------------------\n",
            "| end of epoch  20 | time: 63.46s | valid loss  5.17 | valid ppl   175.42\n",
            "-----------------------------------------------------------------------------------------\n"
          ],
          "name": "stdout"
        }
      ]
    },
    {
      "cell_type": "markdown",
      "metadata": {
        "id": "xhxnwQ6qgumx"
      },
      "source": [
        "Evaluate the model with the test dataset\n",
        "-------------------------------------\n",
        "\n",
        "Apply the best model to check the result with the test dataset.\n",
        "\n"
      ]
    },
    {
      "cell_type": "code",
      "metadata": {
        "id": "sl9X73aJgumy",
        "colab": {
          "base_uri": "https://localhost:8080/"
        },
        "outputId": "22de7138-a5fc-4647-c57d-a8c8b5d02639"
      },
      "source": [
        "test_loss = evaluate(best_model, test_data)\n",
        "print('=' * 89)\n",
        "print('| End of training | test loss {:5.2f} | test ppl {:8.2f}'.format(\n",
        "    test_loss, math.exp(test_loss)))\n",
        "print('=' * 89)"
      ],
      "execution_count": null,
      "outputs": [
        {
          "output_type": "stream",
          "text": [
            "=========================================================================================\n",
            "| End of training | test loss  5.09 | test ppl   161.65\n",
            "=========================================================================================\n"
          ],
          "name": "stdout"
        }
      ]
    },
    {
      "cell_type": "code",
      "metadata": {
        "id": "zqvdwlZXol3Q"
      },
      "source": [
        "from IPython.display import HTML, display\n",
        "from tabulate import tabulate\n"
      ],
      "execution_count": null,
      "outputs": []
    },
    {
      "cell_type": "code",
      "metadata": {
        "id": "ncxTJpAlioxT"
      },
      "source": [
        "data, targets = get_batch(test_data, 0)"
      ],
      "execution_count": null,
      "outputs": []
    },
    {
      "cell_type": "code",
      "metadata": {
        "id": "WYD-o2eaitN_",
        "colab": {
          "base_uri": "https://localhost:8080/"
        },
        "outputId": "d200ee9f-7638-4078-b960-543f1d88da28"
      },
      "source": [
        "data.shape, targets.shape"
      ],
      "execution_count": null,
      "outputs": [
        {
          "output_type": "execute_result",
          "data": {
            "text/plain": [
              "(torch.Size([35, 10]), torch.Size([350]))"
            ]
          },
          "metadata": {
            "tags": []
          },
          "execution_count": 47
        }
      ]
    },
    {
      "cell_type": "code",
      "metadata": {
        "id": "EiaKklr3koqZ",
        "colab": {
          "base_uri": "https://localhost:8080/"
        },
        "outputId": "5a5a0769-4afd-46f7-830f-f5c9c59866bd"
      },
      "source": [
        "src_mask = model.generate_square_subsequent_mask(data.size(0)).to(device)\n",
        "best_model(data, src_mask).shape"
      ],
      "execution_count": null,
      "outputs": [
        {
          "output_type": "execute_result",
          "data": {
            "text/plain": [
              "torch.Size([35, 10, 28783])"
            ]
          },
          "metadata": {
            "tags": []
          },
          "execution_count": 48
        }
      ]
    },
    {
      "cell_type": "code",
      "metadata": {
        "id": "vNdioIpwngxh"
      },
      "source": [
        "pred_out = best_model(data, src_mask)"
      ],
      "execution_count": null,
      "outputs": []
    },
    {
      "cell_type": "code",
      "metadata": {
        "id": "8H5T4LUWmyne"
      },
      "source": [
        "rows = []\n",
        "\n",
        "for sample_num in range(9):\n",
        "  tgt = ' '.join([vocab.itos[idx] for idx in data[:,sample_num]])\n",
        "  pred = ' '.join([vocab.itos[idx] for idx in torch.argmax(pred_out, dim=2)[:,sample_num]])\n",
        "  rows.append([pred, tgt])"
      ],
      "execution_count": null,
      "outputs": []
    },
    {
      "cell_type": "code",
      "metadata": {
        "id": "_S_IKUywnxLZ",
        "colab": {
          "base_uri": "https://localhost:8080/",
          "height": 376
        },
        "outputId": "0376bde8-17c7-498e-e8a8-79565ac945ee"
      },
      "source": [
        "headers = [\"PREDICTED\", \"TARGET\"]\n",
        "display(HTML(tabulate(rows, headers, tablefmt=\"html\")))"
      ],
      "execution_count": null,
      "outputs": [
        {
          "output_type": "display_data",
          "data": {
            "text/html": [
              "<table>\n",
              "<thead>\n",
              "<tr><th>PREDICTED                                                                                                                                                  </th><th>TARGET                                                                                                                                                                                                    </th></tr>\n",
              "</thead>\n",
              "<tbody>\n",
              "<tr><td>= lester , = lester , a &lt;unk&gt; writer in a , the in , = was a film appearance born actress in the film series , film , the . he was a by                    </td><td>= robert &lt;unk&gt; = robert &lt;unk&gt; is an english film , television and theatre actor . he had a guest @-@ starring role on the television series the bill in 2000 . this was followed                          </td></tr>\n",
              "<tr><td>, , was the @-@ in be a the was known 766th battery line . the division . . the of the . the korean troops were the second , over the village to ,         </td><td>next day it joined f company to build up what became the main defensive position of the &lt;unk&gt; regiment in front of &lt;unk&gt; . north korean troops during the night passed around the right flank             </td></tr>\n",
              "<tr><td>or or or ) , &lt;unk&gt; &lt;unk&gt; &lt;unk&gt; ) . the kakapo are also in &lt;unk&gt; , the , the by the the and the the seen by the . &lt;unk&gt; . the eggs landscape                </td><td>either blunt ( &lt;unk&gt; ) or elongated ( &lt;unk&gt; ) . the skulls are rounded or triangular in shape when viewed from above , and are usually covered in pits and ridges . the rugged                            </td></tr>\n",
              "<tr><td>, &lt;unk&gt; the and , , = , been a as a most powerful in of the , , the 1980s of the &lt;unk&gt; @-@ islamic , in of result language , is the a                      </td><td>imagery and clear , sharp language . &lt;unk&gt; has been described as the most influential movement in english poetry since the activity of the pre @-@ &lt;unk&gt; . as a poetic style it gave &lt;unk&gt;                </td></tr>\n",
              "<tr><td>the &#x27; 92 . the state the . the . &lt;unk&gt; . . &lt;unk&gt; ( &lt;unk&gt; ( &lt;unk&gt; . . the , the state the , , &lt;unk&gt; state the , the , , be                                  </td><td>and n @-@ &lt;unk&gt; are oxidation of &lt;unk&gt; with &lt;unk&gt; ( a ) and &lt;unk&gt; of &lt;unk&gt; ( b ) . additionally , oxidation of &lt;unk&gt; &lt;unk&gt; and oxidation of &lt;unk&gt; with &lt;unk&gt; &lt;unk&gt; may                                    </td></tr>\n",
              "<tr><td>father , a is a , . he was not want like . he &lt;unk&gt; of the , the episode interest children two &lt;unk&gt; @-@ of five stars , and that the character crystal the</td><td>her death as it was plainly silly that she did not look injured . nick &lt;unk&gt; of &lt;unk&gt; gave the special four and a half out of five stars , writing that the power of                                      </td></tr>\n",
              "<tr><td>= = = = = = october 1 , 2006 , the announced a on a first of of the fia bruins in he of &#x27; he father york was the member @-@ year contract                  </td><td>= boston celtics = = = on july 3 , 2013 , stevens was signed as the head coach by the boston celtics . reports state that his new contract is a six @-@ year                                              </td></tr>\n",
              "<tr><td>the &#x27; the to the to be from the and , the , , &lt;unk&gt; , , the that the problems and the to the &lt;unk&gt; him &lt;unk&gt; woman , he the performances , the             </td><td>. seneca asked &lt;unk&gt; for permission to retire from public affairs . &lt;unk&gt; divorced and banished octavia on grounds of infertility , leaving him free to marry the pregnant &lt;unk&gt; . after public protests ,</td></tr>\n",
              "<tr><td>a in in are were also in the nhl of the , the , the the , the irish carpenter , party was on with the party , , and the he were up to                      </td><td>was proscribed . these clubs were involved in the formation of &lt;unk&gt; in 1967 . in derry , the james &lt;unk&gt; republican club worked closely with labour party radicals , with whom they set up               </td></tr>\n",
              "</tbody>\n",
              "</table>"
            ],
            "text/plain": [
              "<IPython.core.display.HTML object>"
            ]
          },
          "metadata": {
            "tags": []
          }
        }
      ]
    },
    {
      "cell_type": "code",
      "metadata": {
        "id": "XldPg1P0pFPr"
      },
      "source": [
        ""
      ],
      "execution_count": null,
      "outputs": []
    }
  ]
}