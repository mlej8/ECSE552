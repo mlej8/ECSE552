{
  "nbformat": 4,
  "nbformat_minor": 0,
  "metadata": {
    "colab": {
      "name": "Tutorial 1 - 19 Jan.ipynb",
      "provenance": [],
      "collapsed_sections": [],
      "toc_visible": true
    },
    "kernelspec": {
      "name": "python3",
      "display_name": "Python 3"
    }
  },
  "cells": [
    {
      "cell_type": "code",
      "metadata": {
        "id": "RKyouUGDPffB"
      },
      "source": [
        "import torch\n",
        "import matplotlib.pyplot as plt\n",
        "\n",
        "\n",
        "# Here are some plot styles, which primarily make this plot larger for display\n",
        "# purposes.\n",
        "parameters = {'axes.labelsize': 18,\n",
        "              'legend.fontsize': 18,\n",
        "              'xtick.labelsize':16,\n",
        "              'ytick.labelsize':16,\n",
        "          'axes.titlesize': 20}\n",
        "plt.rcParams.update(parameters)"
      ],
      "execution_count": 1,
      "outputs": []
    },
    {
      "cell_type": "markdown",
      "metadata": {
        "id": "wBKmHlyVcm-f"
      },
      "source": [
        "# Multi-Layer Perceptron Tutorial\n",
        "\n",
        "## About this tutorial\n",
        "This tutorial focuses on the practical theory and implementation of perceptrons with a focus on introducing [PyTorch](https://pytorch.org/) python library and its autodifferentiation features. \n",
        "\n",
        "This tutorial will guide you through the creation of a Perceptron classifier to identify penguins based on their measurements.\n",
        "\n",
        "This tutorial presumes you are minimally familiar with the python programming language, and benefits from a basic familiarity of the [NumPy](https://numpy.org/) and [matplotlib](https://matplotlib.org/) libraries. We'll also use the [pandas library](https://pandas.pydata.org/) for some few things. Don't worry, we'll go over how to use each briefly.\n",
        "\n",
        "\n",
        "## Other resources\n",
        "\n",
        "* Learnxinyminutes.com has [a good refresher for python](https://learnxinyminutes.com/docs/python/).\n",
        "* A quick [cheat sheet for pandas](https://duckduckgo.com/?q=pandas+cheat+sheet&ia=cheatsheet&iax=cheatsheet) (we'll not be using this very much)\n",
        "* A similar [cheat sheet for numpy](https://duckduckgo.com/?q=numpy+cheat+sheet&ia=cheatsheet&iax=1)\n",
        "* [Documentation for PyTorch](https://pytorch.org/docs/stable/index.html)\n",
        "\n",
        "\n",
        "## About this notebook\n",
        "\n",
        "This notebook was written in Google's Colab platform (which you are likely on now). The Colab platform provides you with free CPU and GPU resources, and comes with all the python modules we'll need for this tutorial.\n",
        "\n",
        "If you require to run this notebook on your own computer, you'll need to download this notebook and the libraries we use here.\n",
        "\n",
        "You'll need:\n",
        "1. A Python Environment (consider installing [Anaconda](https://www.anaconda.com/products/individual#Downloads))\n",
        "2. And the following libraries, which can be install with `pip`\n",
        "\n",
        "- `torch`\n",
        "- `numpy`\n",
        "- `matplotlib`\n",
        "- `pandas`\n",
        "- `jupyter`\n",
        "- `jupyterlab` (optional)"
      ]
    },
    {
      "cell_type": "markdown",
      "metadata": {
        "id": "9Yj60PxDUvsq"
      },
      "source": [
        "# The Perceptron"
      ]
    },
    {
      "cell_type": "markdown",
      "metadata": {
        "id": "mMeSfmKeVH1v"
      },
      "source": [
        "## Background\n",
        "\n",
        "In the late 1950s, Cornell psychologist [Frank Rosenblatt](https://en.wikipedia.org/wiki/Frank_Rosenblatt) undertook the task of creating **an electronic device with the ability to learn**, and what's more, to do so using [neurobiological](https://www.sciencedaily.com/terms/neurobiology.htm) principles.\n",
        "\n",
        "Rosenblatt named his device **the perceptron**, and was able to complete tasks such as determining whether an object was a triangle or not, simply from having seen (labelled) images that *did* or *did not* contain triangles.\n",
        "\n",
        "While it required very specialised and expensive hardware at the time to create, we can recreate it on our computers quite easily today, which we'll see shortly.\n",
        "\n",
        "![Mark I Perceptron](https://upload.wikimedia.org/wikipedia/en/5/52/Mark_I_perceptron.jpeg)\n",
        "\n",
        "_([Cornell Aeronautical Laboratory](https://en.wikipedia.org/wiki/File:Mark_I_perceptron.jpeg))_\n",
        "\n",
        "\n"
      ]
    },
    {
      "cell_type": "markdown",
      "metadata": {
        "id": "1IC884NwFUZJ"
      },
      "source": [
        "## The Perceptron Classifier Function\n",
        "\n",
        "A perceptron is an algorithm for learning **linear, binary classifier**. That is to say, given some input $X$, a perceptron learns a linear function $f$ which is able to predict a label $y \\in Y$ where $Y = [-1,1]$ by performing the operation $f(x)=y$. \n"
      ]
    },
    {
      "cell_type": "markdown",
      "metadata": {
        "id": "fSQKcpZAFcYn"
      },
      "source": [
        "### The Neuron Analogy\n",
        "\n",
        "While neuron biology is a bit tangential to this course, Rosenblatt conceived of perceptrons as electronic simulations of neurons, the [integration of neurobiology and deep learning](https://www.frontiersin.org/articles/10.3389/fncom.2016.00094/full) is an active field of research, and it is often a helpful analogy for understanding why perceptrons are formulated the way they are.\n",
        "\n",
        "While it takes complex computer models to create realistic models of how neurons work, simplistic models of neurons, such as the perceptron, have been shown to be sufficient to model many neuronal behaviours.\n",
        "\n",
        "The perceptron models the behaviour of neurons which receive electrical stimuli from its dendrites and then releases an output from the axon terminal. The axon terminals then release neurotransmitters and/or electrical signals to one or more dendrites. The neuron only releases these signals when the electrical stimulus at the dendrite meet some threshold (known as the \"action potential\").\n",
        "\n",
        "In this way, neurons integrate and selectively propogate signals to perform cognitive functions.\n",
        "\n",
        "![Diagram of Neuron Anatomy](https://upload.wikimedia.org/wikipedia/commons/4/44/Neuron3.png)\n",
        "\n",
        "_([Prof. Loc Vu-Quoc](https://commons.wikimedia.org/wiki/File:Neuron3.png), [CC BY-SA 3.0](https://creativecommons.org/licenses/by-sa/3.0/deed.en))_"
      ]
    },
    {
      "cell_type": "markdown",
      "metadata": {
        "id": "HxgIq1acU9So"
      },
      "source": [
        "### Defining the Perceptron\n",
        "\n",
        "The function $f$ is a peice-wise function defined as follows:\n",
        "\n",
        "$$\n",
        "f(X)=  \\begin{cases} \n",
        "      1 & W\\cdot X + b > 0\\\\\n",
        "      -1 & W\\cdot X + b < 0\n",
        "   \\end{cases}\n",
        "$$\n",
        "\n",
        "where $W$ is a weight parameter and $b$ is a bias parameter, both of which are learned by the perceptron algorithm.\n",
        "\n",
        "You can also restate this as\n",
        "\n",
        "$$\n",
        "f(X) = \\textrm{Sign}\\left(b + \\sum_{i=0}^n w_i x_i\\right)\n",
        "$$\n",
        "\n",
        "Where $\\textrm{Sign}(x)$ is the [sign function](https://en.wikipedia.org/wiki/Sign_function), which returns $-1$ if $x < 0$ and returns $1$ otherwise.\n",
        "\n",
        "We can even forego the bias term $b$ if we ensure that $W$ always has an extra element whose value is always equal $1$.\n",
        "\n",
        "$$\n",
        "f(X) = \\textrm{Sign}\\left(\\sum_{i=0}^n w_i x_i\\right)\n",
        "$$\n",
        "\n",
        "PyTorch has an implementation of the sign function named [`torch.sign`](https://pytorch.org/docs/stable/generated/torch.sign.html)."
      ]
    },
    {
      "cell_type": "markdown",
      "metadata": {
        "id": "09EMUPov1XQa"
      },
      "source": [
        "Plotted, the Sign function looks like this:"
      ]
    },
    {
      "cell_type": "code",
      "metadata": {
        "id": "r5W3oaZIzK6D",
        "colab": {
          "base_uri": "https://localhost:8080/",
          "height": 531
        },
        "outputId": "c77592da-be08-42ed-a534-9bd9a2a4557f"
      },
      "source": [
        "import matplotlib.pyplot as plt\n",
        "\n",
        "# creates 1000 numbers between -1 and 1, evenly spaced\n",
        "x = torch.linspace(-1,1,1000)\n",
        "\n",
        "# make a plot of size (10,8)\n",
        "fig, ax = plt.subplots(figsize=(10,8))\n",
        "\n",
        "# set the title of the plot\n",
        "plt.title('The Sign Function')\n",
        "\n",
        "# plot x by torch.sign(x)\n",
        "# make the line 4 px wide and purple\n",
        "plt.plot(x, torch.sign(x), linewidth=4, color='purple')\n",
        "\n",
        "# label the axes\n",
        "plt.xlabel('x')\n",
        "plt.ylabel('y')\n",
        "None"
      ],
      "execution_count": 2,
      "outputs": [
        {
          "output_type": "display_data",
          "data": {
            "image/png": "[encoded data removed]",
            "text/plain": [
              "<Figure size 720x576 with 1 Axes>"
            ]
          },
          "metadata": {
            "tags": [],
            "needs_background": "light"
          }
        }
      ]
    },
    {
      "cell_type": "markdown",
      "metadata": {
        "id": "CV0DUn5Rft2F"
      },
      "source": [
        "# Preparing Data\n",
        "\n",
        "## Gentoo and Adelie Penguins\n",
        "\n",
        "To demonstrate how perceptrons work (as well as when they do not), we'll need to use an example dataset. The [Palmer Penguin](https://allisonhorst.github.io/palmerpenguins/articles/palmerpenguins.html) dataset characterises different features of penguins on the Palmer islands in Antartica.\n",
        "\n",
        "In our first example, we'll be trying to classify penguin species by the length of their flippers and their body mass.\n",
        "\n",
        "In the cell below, we will download the dataset and display it in a table."
      ]
    },
    {
      "cell_type": "code",
      "metadata": {
        "id": "WlS6ya7vWqn7",
        "colab": {
          "base_uri": "https://localhost:8080/",
          "height": 402
        },
        "outputId": "6e24b07a-409b-45f0-9f82-d47d5e9ee5b3"
      },
      "source": [
        "import pandas as pd\n",
        "\n",
        "penguins_data = pd.read_csv(\"https://raw.githubusercontent.com/JohnMount/Penguins/main/penguins.csv\")\n",
        "penguins_data = penguins_data.dropna() # remove empty rows that have cells that are empty\n",
        "penguins_data[['species', 'flipper_length_mm', 'body_mass_g']]"
      ],
      "execution_count": 3,
      "outputs": [
        {
          "output_type": "execute_result",
          "data": {
            "text/html": [
              "<div>\n",
              "<style scoped>\n",
              "    .dataframe tbody tr th:only-of-type {\n",
              "        vertical-align: middle;\n",
              "    }\n",
              "\n",
              "    .dataframe tbody tr th {\n",
              "        vertical-align: top;\n",
              "    }\n",
              "\n",
              "    .dataframe thead th {\n",
              "        text-align: right;\n",
              "    }\n",
              "</style>\n",
              "<table border=\"1\" class=\"dataframe\">\n",
              "  <thead>\n",
              "    <tr style=\"text-align: right;\">\n",
              "      <th></th>\n",
              "      <th>species</th>\n",
              "      <th>flipper_length_mm</th>\n",
              "      <th>body_mass_g</th>\n",
              "    </tr>\n",
              "  </thead>\n",
              "  <tbody>\n",
              "    <tr>\n",
              "      <th>0</th>\n",
              "      <td>Adelie</td>\n",
              "      <td>181.0</td>\n",
              "      <td>3750.0</td>\n",
              "    </tr>\n",
              "    <tr>\n",
              "      <th>1</th>\n",
              "      <td>Adelie</td>\n",
              "      <td>186.0</td>\n",
              "      <td>3800.0</td>\n",
              "    </tr>\n",
              "    <tr>\n",
              "      <th>2</th>\n",
              "      <td>Adelie</td>\n",
              "      <td>195.0</td>\n",
              "      <td>3250.0</td>\n",
              "    </tr>\n",
              "    <tr>\n",
              "      <th>4</th>\n",
              "      <td>Adelie</td>\n",
              "      <td>193.0</td>\n",
              "      <td>3450.0</td>\n",
              "    </tr>\n",
              "    <tr>\n",
              "      <th>5</th>\n",
              "      <td>Adelie</td>\n",
              "      <td>190.0</td>\n",
              "      <td>3650.0</td>\n",
              "    </tr>\n",
              "    <tr>\n",
              "      <th>...</th>\n",
              "      <td>...</td>\n",
              "      <td>...</td>\n",
              "      <td>...</td>\n",
              "    </tr>\n",
              "    <tr>\n",
              "      <th>339</th>\n",
              "      <td>Chinstrap</td>\n",
              "      <td>207.0</td>\n",
              "      <td>4000.0</td>\n",
              "    </tr>\n",
              "    <tr>\n",
              "      <th>340</th>\n",
              "      <td>Chinstrap</td>\n",
              "      <td>202.0</td>\n",
              "      <td>3400.0</td>\n",
              "    </tr>\n",
              "    <tr>\n",
              "      <th>341</th>\n",
              "      <td>Chinstrap</td>\n",
              "      <td>193.0</td>\n",
              "      <td>3775.0</td>\n",
              "    </tr>\n",
              "    <tr>\n",
              "      <th>342</th>\n",
              "      <td>Chinstrap</td>\n",
              "      <td>210.0</td>\n",
              "      <td>4100.0</td>\n",
              "    </tr>\n",
              "    <tr>\n",
              "      <th>343</th>\n",
              "      <td>Chinstrap</td>\n",
              "      <td>198.0</td>\n",
              "      <td>3775.0</td>\n",
              "    </tr>\n",
              "  </tbody>\n",
              "</table>\n",
              "<p>333 rows × 3 columns</p>\n",
              "</div>"
            ],
            "text/plain": [
              "       species  flipper_length_mm  body_mass_g\n",
              "0       Adelie              181.0       3750.0\n",
              "1       Adelie              186.0       3800.0\n",
              "2       Adelie              195.0       3250.0\n",
              "4       Adelie              193.0       3450.0\n",
              "5       Adelie              190.0       3650.0\n",
              "..         ...                ...          ...\n",
              "339  Chinstrap              207.0       4000.0\n",
              "340  Chinstrap              202.0       3400.0\n",
              "341  Chinstrap              193.0       3775.0\n",
              "342  Chinstrap              210.0       4100.0\n",
              "343  Chinstrap              198.0       3775.0\n",
              "\n",
              "[333 rows x 3 columns]"
            ]
          },
          "metadata": {
            "tags": []
          },
          "execution_count": 3
        }
      ]
    },
    {
      "cell_type": "markdown",
      "metadata": {
        "id": "16nqVieBBQwH"
      },
      "source": [
        "In the scatter plot below, we see that [Gentoo](https://en.wikipedia.org/wiki/Gentoo_penguin) and [Adelie](https://en.wikipedia.org/wiki/Ad%C3%A9lie_penguin) penguins have quite different flipper lengths and body masses from one another, with Adelie penguins being quite small and Gentoo being quite large.\n",
        "\n",
        "Visually inspecting your datasets before training models is an important practice and often gives you important insights as to the nature of your data."
      ]
    },
    {
      "cell_type": "code",
      "metadata": {
        "id": "jDVj1akAY4CS",
        "colab": {
          "base_uri": "https://localhost:8080/",
          "height": 553
        },
        "outputId": "74ff28fd-bf95-4b31-b31d-2166ab63383b"
      },
      "source": [
        "# We will load the different penguins into seperate series so we might colour \n",
        "# them differently\n",
        "gentoo = penguins_data[penguins_data['species'] == \"Gentoo\"]\n",
        "adelie = penguins_data[penguins_data['species'] == \"Adelie\"]\n",
        "\n",
        "fig, ax = plt.subplots(figsize=(10,8))\n",
        "\n",
        "# We will plot Flipper Length versus Body Mass, and plotting Gentoo in purple\n",
        "# and Adelie in orange\n",
        "plt.scatter(gentoo['flipper_length_mm'], gentoo['body_mass_g'], c='purple', label='Gentoo')\n",
        "plt.scatter(adelie['flipper_length_mm'], adelie['body_mass_g'], c='orange', label='Adelie', marker='s')\n",
        "\n",
        "# Always label your plot and axes, if not for an audience, for your future self.\n",
        "plt.title('Gentoo and Adelie are Distinct with\\nrespect to Measures of Size')\n",
        "plt.xlabel('Flipper Length (mm)')\n",
        "plt.ylabel('Body Mass (g)')\n",
        "plt.legend()\n",
        "None"
      ],
      "execution_count": 4,
      "outputs": [
        {
          "output_type": "display_data",
          "data": {
            "image/png": "[encoded data removed]",
            "text/plain": [
              "<Figure size 720x576 with 1 Axes>"
            ]
          },
          "metadata": {
            "tags": [],
            "needs_background": "light"
          }
        }
      ]
    },
    {
      "cell_type": "markdown",
      "metadata": {
        "id": "IW0ZDm0SG4tX"
      },
      "source": [
        "We must first prepare the data by selecting the data we are interested in. Columns we must select are:\n",
        "\n",
        "* The `species` column is what we wish to predict \n",
        "* The `flipper_length_mm` and `body_mass_g` columns are the features we wish to us to predict species.\n",
        "\n",
        "We will encode `Adelie` as the number 1, and `Gentoo` as the number 0.\n",
        "\n",
        "We can then design the model such that it will output a value between 0 and 1, indicating `Gentoo` or `Adelie`."
      ]
    },
    {
      "cell_type": "code",
      "metadata": {
        "id": "TkYYkcZ1efa7",
        "colab": {
          "base_uri": "https://localhost:8080/",
          "height": 195
        },
        "outputId": "c41440f0-0f40-4705-a0e1-78ce661ae54b"
      },
      "source": [
        "data = penguins_data.replace('Adelie', 1).replace('Gentoo', -1)\n",
        "\n",
        "# the dataset has an extra species, \"Chinstrap\", that we won't concern ourselves\n",
        "# with this time\n",
        "data = data[data['species'] != 'Chinstrap'][['species', 'flipper_length_mm', 'body_mass_g' ]]\n",
        "\n",
        "# Casting all values as a float will help us later\n",
        "data = data.astype(float)\n",
        "data.head()"
      ],
      "execution_count": 5,
      "outputs": [
        {
          "output_type": "execute_result",
          "data": {
            "text/html": [
              "<div>\n",
              "<style scoped>\n",
              "    .dataframe tbody tr th:only-of-type {\n",
              "        vertical-align: middle;\n",
              "    }\n",
              "\n",
              "    .dataframe tbody tr th {\n",
              "        vertical-align: top;\n",
              "    }\n",
              "\n",
              "    .dataframe thead th {\n",
              "        text-align: right;\n",
              "    }\n",
              "</style>\n",
              "<table border=\"1\" class=\"dataframe\">\n",
              "  <thead>\n",
              "    <tr style=\"text-align: right;\">\n",
              "      <th></th>\n",
              "      <th>species</th>\n",
              "      <th>flipper_length_mm</th>\n",
              "      <th>body_mass_g</th>\n",
              "    </tr>\n",
              "  </thead>\n",
              "  <tbody>\n",
              "    <tr>\n",
              "      <th>0</th>\n",
              "      <td>1.0</td>\n",
              "      <td>181.0</td>\n",
              "      <td>3750.0</td>\n",
              "    </tr>\n",
              "    <tr>\n",
              "      <th>1</th>\n",
              "      <td>1.0</td>\n",
              "      <td>186.0</td>\n",
              "      <td>3800.0</td>\n",
              "    </tr>\n",
              "    <tr>\n",
              "      <th>2</th>\n",
              "      <td>1.0</td>\n",
              "      <td>195.0</td>\n",
              "      <td>3250.0</td>\n",
              "    </tr>\n",
              "    <tr>\n",
              "      <th>4</th>\n",
              "      <td>1.0</td>\n",
              "      <td>193.0</td>\n",
              "      <td>3450.0</td>\n",
              "    </tr>\n",
              "    <tr>\n",
              "      <th>5</th>\n",
              "      <td>1.0</td>\n",
              "      <td>190.0</td>\n",
              "      <td>3650.0</td>\n",
              "    </tr>\n",
              "  </tbody>\n",
              "</table>\n",
              "</div>"
            ],
            "text/plain": [
              "   species  flipper_length_mm  body_mass_g\n",
              "0      1.0              181.0       3750.0\n",
              "1      1.0              186.0       3800.0\n",
              "2      1.0              195.0       3250.0\n",
              "4      1.0              193.0       3450.0\n",
              "5      1.0              190.0       3650.0"
            ]
          },
          "metadata": {
            "tags": []
          },
          "execution_count": 5
        }
      ]
    },
    {
      "cell_type": "markdown",
      "metadata": {
        "id": "xwWsKuaJPaQl"
      },
      "source": [
        "We can need to define a vector of labels $y$, and a matrix of inputs $X$. \n",
        "\n",
        "$y$ should be the length of the number of samples ($n$), and $X$ should be of dimensions ($n$, $m$) where $m$ is the number of features (here, $m=2$).\n",
        "\n",
        "A general rule is that to build a useful model, $n >> m$, or you risk overfitting.\n",
        "\n",
        "We'll be using [PyTorch](https://pytorch.org/) [Tensors](https://pytorch.org/docs/stable/generated/torch.tensor.html#torch.tensor) in this code example. If you've NumPy before, PyTorch Tensors are very similar, but they have a couple of extremely powerful properties that we'll use later on here. Until then, however, you can just think of them as [NumPy](https://numpy.org/) [Arrays](https://numpy.org/doc/stable/reference/generated/numpy.array.html#numpy.array).\n",
        "\n",
        "First, let's create the label vector `y`"
      ]
    },
    {
      "cell_type": "code",
      "metadata": {
        "id": "ajapKBBsF8ej",
        "colab": {
          "base_uri": "https://localhost:8080/"
        },
        "outputId": "95c6bde2-1979-485e-aaf5-4a01237f2c7c"
      },
      "source": [
        "import torch\n",
        "y = torch.tensor(data.values[:,0])\n",
        "y"
      ],
      "execution_count": 6,
      "outputs": [
        {
          "output_type": "execute_result",
          "data": {
            "text/plain": [
              "tensor([ 1.,  1.,  1.,  1.,  1.,  1.,  1.,  1.,  1.,  1.,  1.,  1.,  1.,  1.,\n",
              "         1.,  1.,  1.,  1.,  1.,  1.,  1.,  1.,  1.,  1.,  1.,  1.,  1.,  1.,\n",
              "         1.,  1.,  1.,  1.,  1.,  1.,  1.,  1.,  1.,  1.,  1.,  1.,  1.,  1.,\n",
              "         1.,  1.,  1.,  1.,  1.,  1.,  1.,  1.,  1.,  1.,  1.,  1.,  1.,  1.,\n",
              "         1.,  1.,  1.,  1.,  1.,  1.,  1.,  1.,  1.,  1.,  1.,  1.,  1.,  1.,\n",
              "         1.,  1.,  1.,  1.,  1.,  1.,  1.,  1.,  1.,  1.,  1.,  1.,  1.,  1.,\n",
              "         1.,  1.,  1.,  1.,  1.,  1.,  1.,  1.,  1.,  1.,  1.,  1.,  1.,  1.,\n",
              "         1.,  1.,  1.,  1.,  1.,  1.,  1.,  1.,  1.,  1.,  1.,  1.,  1.,  1.,\n",
              "         1.,  1.,  1.,  1.,  1.,  1.,  1.,  1.,  1.,  1.,  1.,  1.,  1.,  1.,\n",
              "         1.,  1.,  1.,  1.,  1.,  1.,  1.,  1.,  1.,  1.,  1.,  1.,  1.,  1.,\n",
              "         1.,  1.,  1.,  1.,  1.,  1., -1., -1., -1., -1., -1., -1., -1., -1.,\n",
              "        -1., -1., -1., -1., -1., -1., -1., -1., -1., -1., -1., -1., -1., -1.,\n",
              "        -1., -1., -1., -1., -1., -1., -1., -1., -1., -1., -1., -1., -1., -1.,\n",
              "        -1., -1., -1., -1., -1., -1., -1., -1., -1., -1., -1., -1., -1., -1.,\n",
              "        -1., -1., -1., -1., -1., -1., -1., -1., -1., -1., -1., -1., -1., -1.,\n",
              "        -1., -1., -1., -1., -1., -1., -1., -1., -1., -1., -1., -1., -1., -1.,\n",
              "        -1., -1., -1., -1., -1., -1., -1., -1., -1., -1., -1., -1., -1., -1.,\n",
              "        -1., -1., -1., -1., -1., -1., -1., -1., -1., -1., -1., -1., -1., -1.,\n",
              "        -1., -1., -1., -1., -1., -1., -1., -1., -1., -1., -1., -1., -1.],\n",
              "       dtype=torch.float64)"
            ]
          },
          "metadata": {
            "tags": []
          },
          "execution_count": 6
        }
      ]
    },
    {
      "cell_type": "markdown",
      "metadata": {
        "id": "FVapLAeWUdBz"
      },
      "source": [
        "Second, we'll create the input matrix `x`"
      ]
    },
    {
      "cell_type": "code",
      "metadata": {
        "id": "_NxXfy7FMHDA",
        "colab": {
          "base_uri": "https://localhost:8080/"
        },
        "outputId": "0cb7e8ec-9733-4cf8-e403-236c8476e1c1"
      },
      "source": [
        "x = torch.tensor(data.values[:,1:])\n",
        "x[:3]"
      ],
      "execution_count": 16,
      "outputs": [
        {
          "output_type": "execute_result",
          "data": {
            "text/plain": [
              "tensor([[ 181., 3750.],\n",
              "        [ 186., 3800.],\n",
              "        [ 195., 3250.]], dtype=torch.float64)"
            ]
          },
          "metadata": {
            "tags": []
          },
          "execution_count": 16
        }
      ]
    },
    {
      "cell_type": "markdown",
      "metadata": {
        "id": "oAjFG70ZWkhY"
      },
      "source": [
        "## Normalising the Data"
      ]
    },
    {
      "cell_type": "markdown",
      "metadata": {
        "id": "NV5awJ-3WZQx"
      },
      "source": [
        "Finally, we must normalise the data. There are [numerous ways](https://en.wikipedia.org/wiki/Normalization_(statistics)) to normalise data, each with their own benefits.\n",
        "\n",
        "For our purposes, we will center the data such that all of our training and testing points are withing the interval of $[-1,1]$. To do this, we will apply Min-Max Feature Scaling by apply the following transformation to the dataset:\n",
        "\n",
        "$$\n",
        "x = a + \\dfrac{\\left(x - x_{\\textrm{min}}\\right)\\left(b - a\\right)}{x_{\\textrm{max}} - x_{\\textrm{min}}}\n",
        "$$\n",
        "\n",
        "Where $a$ is our desired lower bound, $b$ is our desired upper bound, $x_{\\textrm{min}}$ is the smallest number in the dataset, and $x_{\\textrm{max}}$ is the largest number in the dataset. Here, we set $a = -1$ and $b = 1$.\n",
        "\n",
        "We could have also used a $z$-score, but I personally like the fact that scaling our in this way data does not require that we assume our dataset belongs to a normal distribution."
      ]
    },
    {
      "cell_type": "code",
      "metadata": {
        "id": "19oGDK8Xs-aj"
      },
      "source": [
        "def normalise(X: torch.TensorType, a: int = -1, b: int = 1, x_min = None, x_max = None):\n",
        "  '''\n",
        "  Applies Min-Max Feature Scaling.\n",
        "\n",
        "  :param X: The array that is to be normalised\n",
        "  :param a: The lower-bound of the scaled data\n",
        "  :param b: The upper-bound of the scaled data\n",
        "  '''\n",
        "\n",
        "  if x_min is None:\n",
        "    x_min = torch.min(X, axis=0).values\n",
        "\n",
        "  if x_max is None:\n",
        "    x_max = torch.max(X, axis=0).values\n",
        "\n",
        "  denominator = x_max - x_min\n",
        "  numerator = (X - x_min)*(b-a)\n",
        "\n",
        "  return a + numerator/denominator"
      ],
      "execution_count": 8,
      "outputs": []
    },
    {
      "cell_type": "markdown",
      "metadata": {
        "id": "9V8LAkTUwf1d"
      },
      "source": [
        "We can now verify that the minimum and maximum values of the dataset are indeed $-1$ and $1$, and also inspect the mean and standard deviation of the dataset."
      ]
    },
    {
      "cell_type": "code",
      "metadata": {
        "id": "pVuaZFo_uLSn",
        "colab": {
          "base_uri": "https://localhost:8080/"
        },
        "outputId": "17eaabde-2c50-4403-eb72-563c67c337c8"
      },
      "source": [
        "from tabulate import tabulate\n",
        "\n",
        "x_normalised = normalise(x)\n",
        "\n",
        "print(tabulate([\n",
        "    ['mean', torch.mean(x_normalised)],\n",
        "    ['std', torch.std(x_normalised)],\n",
        "    ['min', torch.min(x_normalised)],\n",
        "    ['max', torch.max(x_normalised)]\n",
        "]))"
      ],
      "execution_count": 9,
      "outputs": [
        {
          "output_type": "stream",
          "text": [
            "----  ----------\n",
            "mean  -0.0580619\n",
            "std    0.504794\n",
            "min   -1\n",
            "max    1\n",
            "----  ----------\n"
          ],
          "name": "stdout"
        }
      ]
    },
    {
      "cell_type": "markdown",
      "metadata": {
        "id": "s6jeHeshx9JF"
      },
      "source": [
        "## Adding Bias Term\n",
        "\n",
        "As pointed out earlier, we can simplify training the model by adding a column of ones to the dataset. This will represent the bias terms."
      ]
    },
    {
      "cell_type": "code",
      "metadata": {
        "id": "_f8NMBCRx_1E"
      },
      "source": [
        "ones = torch.ones((x_normalised.shape[0], x_normalised.shape[1]+1))\n",
        "ones[:, :2] = x_normalised\n",
        "\n",
        "x_normalised = ones"
      ],
      "execution_count": 10,
      "outputs": []
    },
    {
      "cell_type": "markdown",
      "metadata": {
        "id": "EDZ_z5CAmxg2"
      },
      "source": [
        "## Splitting the Dataset\n",
        "\n",
        "We will split our dataset in three parts:\n",
        "\n",
        "* Training Dataset ($80\\%$ of the total dataset)\n",
        "* Test Dataset ($10\\%$ of the total dataset)\n",
        "* Validation Dataset ($10\\%$ of the total dataset)\n",
        "\n",
        "We will use the training dataset to train the dataset, the testing dataset to chose hyper-parameters, and the validation dataset will be used to determine the final accuracy.\n",
        "\n",
        "To do this, we'll shuffle the dataset and prepare the splits."
      ]
    },
    {
      "cell_type": "code",
      "metadata": {
        "id": "6Vg6sblhJbMC",
        "colab": {
          "base_uri": "https://localhost:8080/"
        },
        "outputId": "460fe1e0-503e-46dd-b55d-27d5f614d65a"
      },
      "source": [
        "idx = torch.randperm(len(x_normalised))\n",
        "x_normalised = x_normalised[idx]\n",
        "y = y[idx]\n",
        "\n",
        "# We can inspect the labels. \n",
        "# We expect some of these to be 0s and 1s\n",
        "y[:10]"
      ],
      "execution_count": 11,
      "outputs": [
        {
          "output_type": "execute_result",
          "data": {
            "text/plain": [
              "tensor([-1.,  1., -1., -1.,  1., -1.,  1.,  1.,  1., -1.], dtype=torch.float64)"
            ]
          },
          "metadata": {
            "tags": []
          },
          "execution_count": 11
        }
      ]
    },
    {
      "cell_type": "code",
      "metadata": {
        "id": "JCuwW8Fsuo2p",
        "colab": {
          "base_uri": "https://localhost:8080/"
        },
        "outputId": "1ede4857-b028-453f-8652-f139ee68c123"
      },
      "source": [
        "num_train = int(len(x) * 0.8)\n",
        "num_test = int(len(x) * 0.1)\n",
        "\n",
        "x_train = x_normalised[0:num_train]\n",
        "x_test = x_normalised[num_train:num_train+num_test]\n",
        "x_valid = x_normalised[num_train+num_test:]\n",
        "\n",
        "y_train = y[0:num_train]\n",
        "y_test = y[num_train:num_train+num_test]\n",
        "y_valid = y[num_train+num_test:]\n",
        "\n",
        "print(tabulate([\n",
        "  [\"x_train\", x_train.shape],\n",
        "  [\"x_test\", x_test.shape],\n",
        "  [\"x_valid\", x_valid.shape],\n",
        "  [\"y_train\", y_train.shape],\n",
        "  [\"y_test\", y_test.shape],\n",
        "  [\"y_valid\", y_valid.shape],\n",
        "]))"
      ],
      "execution_count": 12,
      "outputs": [
        {
          "output_type": "stream",
          "text": [
            "-------  --------------------\n",
            "x_train  torch.Size([212, 3])\n",
            "x_test   torch.Size([26, 3])\n",
            "x_valid  torch.Size([27, 3])\n",
            "y_train  torch.Size([212])\n",
            "y_test   torch.Size([26])\n",
            "y_valid  torch.Size([27])\n",
            "-------  --------------------\n"
          ],
          "name": "stdout"
        }
      ]
    },
    {
      "cell_type": "markdown",
      "metadata": {
        "id": "lP_lSto6840s"
      },
      "source": [
        "# Perceptron Learning"
      ]
    },
    {
      "cell_type": "markdown",
      "metadata": {
        "id": "Dv0ZD2v1whjR"
      },
      "source": [
        "## Initialising Perceptron Weights\n",
        "\n",
        "The weights of the perceptron need some base value. We can use zeroes, or ones, or random values. There are even specific distributions that have been found to be particularly well suited for drawing random weights from (*e.g.*: [Xavier](http://proceedings.mlr.press/v9/glorot10a/glorot10a.pdf) and [Kaiming](https://arxiv.org/abs/1502.01852) initialisation). Both of those distributions are included in PyTorch and we'll be using them at a later point.\n",
        "\n",
        "We'll just use random number between -1 and 1 for now."
      ]
    },
    {
      "cell_type": "code",
      "metadata": {
        "id": "aCo0IClesgVH",
        "colab": {
          "base_uri": "https://localhost:8080/"
        },
        "outputId": "0a76be8a-f05b-4d98-a3e6-328fbe120436"
      },
      "source": [
        "W = torch.rand((1, x_train.shape[1]), requires_grad=True) # requires_grad tells PyTorch that at some point, we are going to use PyTorch to compute the gradient of this tensor. \n",
        "\n",
        "# torch.rand returns a value between 0 and 1, so we're going to scale them to\n",
        "# between -1 and 1.\n",
        "W = 1 - (W*2)\n",
        "W"
      ],
      "execution_count": 13,
      "outputs": [
        {
          "output_type": "execute_result",
          "data": {
            "text/plain": [
              "tensor([[-0.3653,  0.9421,  0.8912]], grad_fn=<RsubBackward1>)"
            ]
          },
          "metadata": {
            "tags": []
          },
          "execution_count": 13
        }
      ]
    },
    {
      "cell_type": "markdown",
      "metadata": {
        "id": "9fWA_nYh9K_Q"
      },
      "source": [
        "## The Forward Pass\n",
        "\n",
        "We can define the forward pass quite succinctly as displayed below. If we recall from above, the forward pass formula is: \n",
        "\n",
        "$$\n",
        "f(X)=  \\begin{cases} \n",
        "      1 & W\\cdot X + b > 0\\\\\n",
        "      -1 & W\\cdot X + b < 0\n",
        "   \\end{cases}\n",
        "$$\n",
        "\n",
        "which we can restate as\n",
        "\n",
        "$$\n",
        "f(X) = H\\left(\\sum_{i=0}^n w_i x_i\\right)\n",
        "$$"
      ]
    },
    {
      "cell_type": "code",
      "metadata": {
        "id": "OHje3qg2FeSj",
        "colab": {
          "base_uri": "https://localhost:8080/"
        },
        "outputId": "23c1ff4d-6613-41b7-8a82-2d46c2409454"
      },
      "source": [
        "# The forward-pass of the perceptron function is defined as follows\n",
        "f = lambda x: torch.sign(torch.sum(x*W, axis=1))\n",
        "\n",
        "# You can run the forward-pass on our sample as\n",
        "f(x_train)"
      ],
      "execution_count": 15,
      "outputs": [
        {
          "output_type": "execute_result",
          "data": {
            "text/plain": [
              "tensor([1., 1., 1., 1., 1., 1., 1., 1., 1., 1., 1., 1., 1., 1., 1., 1., 1., 1.,\n",
              "        1., 1., 1., 1., 1., 1., 1., 1., 1., 1., 1., 1., 1., 1., 1., 1., 1., 1.,\n",
              "        1., 1., 1., 1., 1., 1., 1., 1., 1., 1., 1., 1., 1., 1., 1., 1., 1., 1.,\n",
              "        1., 1., 1., 1., 1., 1., 1., 1., 1., 1., 1., 1., 1., 1., 1., 1., 1., 1.,\n",
              "        1., 1., 1., 1., 1., 1., 1., 1., 1., 1., 1., 1., 1., 1., 1., 1., 1., 1.,\n",
              "        1., 1., 1., 1., 1., 1., 1., 1., 1., 1., 1., 1., 1., 1., 1., 1., 1., 1.,\n",
              "        1., 1., 1., 1., 1., 1., 1., 1., 1., 1., 1., 1., 1., 1., 1., 1., 1., 1.,\n",
              "        1., 1., 1., 1., 1., 1., 1., 1., 1., 1., 1., 1., 1., 1., 1., 1., 1., 1.,\n",
              "        1., 1., 1., 1., 1., 1., 1., 1., 1., 1., 1., 1., 1., 1., 1., 1., 1., 1.,\n",
              "        1., 1., 1., 1., 1., 1., 1., 1., 1., 1., 1., 1., 1., 1., 1., 1., 1., 1.,\n",
              "        1., 1., 1., 1., 1., 1., 1., 1., 1., 1., 1., 1., 1., 1., 1., 1., 1., 1.,\n",
              "        1., 1., 1., 1., 1., 1., 1., 1., 1., 1., 1., 1., 1., 1.],\n",
              "       grad_fn=<SignBackward>)"
            ]
          },
          "metadata": {
            "tags": []
          },
          "execution_count": 15
        }
      ]
    },
    {
      "cell_type": "markdown",
      "metadata": {
        "id": "2NhAvHCfBnpb"
      },
      "source": [
        "To illustrate how choice of initial values matters, we can see how this first forward pass has various accuracies."
      ]
    },
    {
      "cell_type": "code",
      "metadata": {
        "id": "NJj6CIMK9XH3",
        "colab": {
          "base_uri": "https://localhost:8080/"
        },
        "outputId": "e6095d59-870d-4500-a98a-4624bcf46531"
      },
      "source": [
        "def forward(input):\n",
        "  W = torch.rand((1, x_train.shape[1]), requires_grad=True)\n",
        "  W = 1 - (W*2) # rescale to -1 to 1 from 0 to 1\n",
        "\n",
        "  f = lambda x: torch.sign(torch.sum(x*W, axis=1))\n",
        "\n",
        "  return f(input)\n",
        "\n",
        "for i in range(10):\n",
        "  acc = torch.sum(forward(x_train) == y_train)/float(len(y_train))\n",
        "  print(f\"Accuracy of Trial {i}: {acc}\")"
      ],
      "execution_count": null,
      "outputs": [
        {
          "output_type": "stream",
          "text": [
            "Accuracy of Trial 0: 0.5471698045730591\n",
            "Accuracy of Trial 1: 0.5660377144813538\n",
            "Accuracy of Trial 2: 0.13679245114326477\n",
            "Accuracy of Trial 3: 0.4528301954269409\n",
            "Accuracy of Trial 4: 0.07075471431016922\n",
            "Accuracy of Trial 5: 0.4528301954269409\n",
            "Accuracy of Trial 6: 0.07075471431016922\n",
            "Accuracy of Trial 7: 0.4528301954269409\n",
            "Accuracy of Trial 8: 0.4669811427593231\n",
            "Accuracy of Trial 9: 0.5943396091461182\n"
          ],
          "name": "stdout"
        }
      ]
    },
    {
      "cell_type": "markdown",
      "metadata": {
        "id": "Vic58fuZF6C3"
      },
      "source": [
        "## Perceptron Loss Function\n",
        "\n",
        "The original loss function for Rosenblatt's Perceptron was a [Hinge loss](https://en.wikipedia.org/wiki/Hinge_loss) with a threshold of 0. We can state it as follows:\n",
        "\n",
        "$$\n",
        "\\textrm{loss} = -\\sum_{i \\in M} \\hat{y}_iwx_i\n",
        "$$\n",
        "\n",
        "\n",
        "Where $y_i$ is the true label for the $i^{\\textrm{th}}$ sample, $\\hat{y}_i$ is the predicted label, and $M$ is the set of indices of incorrectly classified samples. That is to say, we sum the loss of all the incorrectly labelled samples."
      ]
    },
    {
      "cell_type": "code",
      "metadata": {
        "id": "zkAW7FuAiomb"
      },
      "source": [
        "def perceptron_loss(y_observed, y_expected):\n",
        "  return torch.clamp(-1 * y_expected * y_observed, min=0)"
      ],
      "execution_count": null,
      "outputs": []
    },
    {
      "cell_type": "markdown",
      "metadata": {
        "id": "cOtm2oJ2i781"
      },
      "source": [
        "We can plot out all the possible loss values for samples, based on their true value:"
      ]
    },
    {
      "cell_type": "code",
      "metadata": {
        "id": "x2Em9_fdbZen",
        "colab": {
          "base_uri": "https://localhost:8080/",
          "height": 531
        },
        "outputId": "82407e67-88b9-46eb-90cc-2bd9b89bb4e7"
      },
      "source": [
        "plt.subplots(figsize=(10,8))\n",
        "plt.plot(torch.linspace(-1,1,100), perceptron_loss(torch.linspace(-1,1,100), 1), lw='4', c=\"orange\", label=\"True Label is 1 (Adelie)\")\n",
        "plt.plot(torch.linspace(-1,1,100), perceptron_loss(torch.linspace(-1,1,100), -1), lw='4', c=\"purple\", label=\"True Label is -1 (Gentoo)\")\n",
        "plt.xlabel('Observed Y')\n",
        "plt.ylabel('Loss')\n",
        "plt.legend()\n",
        "plt.title('Sample Losses for the range of Observed Y from -1 to 1')\n",
        "None"
      ],
      "execution_count": null,
      "outputs": [
        {
          "output_type": "display_data",
          "data": {
            "image/png": "[encoded data removed]",
            "text/plain": [
              "<Figure size 720x576 with 1 Axes>"
            ]
          },
          "metadata": {
            "tags": [],
            "needs_background": "light"
          }
        }
      ]
    },
    {
      "cell_type": "code",
      "metadata": {
        "id": "ZVOw5-p-IWvl"
      },
      "source": [
        "class Perceptron:\n",
        "  def __init__(self, num_features):\n",
        "    \"\"\"\n",
        "    Perceptron is a PyTorch implementation of a\n",
        "    perceptron.\n",
        "\n",
        "    :param num_features: The number of features the perceptron operates on.\n",
        "    \"\"\"\n",
        "    self.num_features = num_features\n",
        "\n",
        "    # Weights are here initialised randomly\n",
        "    self.W = torch.rand((1, self.num_features), requires_grad=True)\n",
        "    self.W = 1 - (self.W*2)\n",
        "\n",
        "\n",
        "  def sign(self, x):\n",
        "    \"\"\"\n",
        "    Sign function.\n",
        "    The sign function is applied to each of the elements of the 1D input.\n",
        "    :params x: A 1D numpy array\n",
        "    :returns: x with the sign function applied\n",
        "    \"\"\"\n",
        "    x2 = x.clone()\n",
        "    x2[x2 > 0] = 1\n",
        "    x2[x2 <= 0] = 0\n",
        "    return x2\n",
        "\n",
        "  def forward(self, x):\n",
        "    return self.sign(torch.sum(self.W*x, axis=1))"
      ],
      "execution_count": null,
      "outputs": []
    },
    {
      "cell_type": "markdown",
      "metadata": {
        "id": "TassXcl7huik"
      },
      "source": [
        "## Optimising Weights: Gradient Descent\n",
        "\n",
        "[Gradient Descent](https://en.wikipedia.org/wiki/Gradient_descent) is an algorithm for finding the lowest value of a function (that function needs to be [differentiable](https://en.wikipedia.org/wiki/Differentiable_function)). \n",
        "\n",
        "Intuitively, we can think of this as an algorithm to find the lowest \"valley\" in the \"mountain ranges\" of a function when you can only see a few feet ahead of you.\n",
        "\n",
        "![Gradient Descent Example](https://2.bp.blogspot.com/-w3EFnDuIyf4/V1KrbOK944I/AAAAAAAAFOk/BHszQSE-w5Q0i0aQEtIsuoaIclkaDuBowCLcB/s320/rosenbrock-nag%2Bcopy.png)\n",
        "\n",
        "(source: [DataScience Deep Dive](https://dsdeepdive.blogspot.com/2016/03/optimizations-of-gradient-descent.html))\n",
        "\n",
        "\n",
        "### Updating the Weights\n",
        "\n",
        "The update rule for Gradient Descent has us applying the following update rule:\n",
        "\n",
        "$$\n",
        "W = W - \\alpha\\nabla L(W)\n",
        "$$\n",
        "\n",
        "Where $W$ are the weights of the model, $\\nabla L(W)$ is the [gradient](https://en.wikipedia.org/wiki/Gradient) of the loss function, and $\\alpha$ is a so-called \"learning rate\".\n",
        "\n",
        "If you're not familiar with what a gradient is, I like Khan Academy's description: [\"The gradient captures all the partial derivative information of a scalar-valued multivariable function\"](https://www.khanacademy.org/math/multivariable-calculus/multivariable-derivatives/gradient-and-directional-derivatives/v/gradient).\n",
        "\n",
        "\n",
        "### Side-note: PyTorch's Autograd\n",
        "PyTorch helps us by offering us a very powerful tool: [Automatic Differentiation](https://en.wikipedia.org/wiki/Automatic_differentiation). PyTorch's automatic differentiation allows us to calculate the derivatives of python functions quickly and automatically. This is a huge part of why we're using `torch.tensor` instead of `numpy.array` in this code.\n",
        "\n",
        "For a very useful overview of how PyTorch's autodifferentiation works, specifically, the [PyTorch Documentation](https://pytorch.org/tutorials/beginner/blitz/autograd_tutorial.html) is your best friend.\n",
        "\n",
        "Here's an example:\n",
        "\n",
        "Let's begin with a python function $f(x) = x^3$\n",
        "\n"
      ]
    },
    {
      "cell_type": "code",
      "metadata": {
        "id": "sa0mxCo22zmP",
        "colab": {
          "base_uri": "https://localhost:8080/",
          "height": 34
        },
        "outputId": "f966d69c-9154-40ac-e7fd-a3027a3189f7"
      },
      "source": [
        "def f(x):\n",
        "  return torch.pow(x, torch.tensor(3))\n",
        "\n",
        "# Let's calculate f(4) = 4^3 = 64\n",
        "f(4)"
      ],
      "execution_count": null,
      "outputs": [
        {
          "output_type": "execute_result",
          "data": {
            "text/plain": [
              "tensor(64)"
            ]
          },
          "metadata": {
            "tags": []
          },
          "execution_count": 294
        }
      ]
    },
    {
      "cell_type": "markdown",
      "metadata": {
        "id": "zCQ59zdf3SGa"
      },
      "source": [
        "We know that the derivative $\\dfrac{\\partial f}{\\partial x} \\textrm{where } x = 4$ is $3\\times4^2 = 48$.\n",
        "\n",
        "To get this result, we can run the following code:"
      ]
    },
    {
      "cell_type": "code",
      "metadata": {
        "id": "aaADqceo3tXn",
        "colab": {
          "base_uri": "https://localhost:8080/",
          "height": 34
        },
        "outputId": "4e78f279-8d65-4bf2-9cfb-24dd3980fb60"
      },
      "source": [
        "# setting the \"requires_grad\" tells PyTorch to keep track of x's gradients\n",
        "x = torch.tensor(4., requires_grad=True)\n",
        "\n",
        "# this calculates all the gradients in the call \"f(x)\".\n",
        "# This is sort of like declaring the \"df\" part of the partial derivative \"df/dx\"\n",
        "f(x).backward()\n",
        "\n",
        "# To access the value of the gradient of a variable, use the \"grad\" property\n",
        "# This is sort of like declaring the \"dx\" part of the partial derivative \"df/dx\"\n",
        "x.grad"
      ],
      "execution_count": null,
      "outputs": [
        {
          "output_type": "execute_result",
          "data": {
            "text/plain": [
              "tensor(48.)"
            ]
          },
          "metadata": {
            "tags": []
          },
          "execution_count": 308
        }
      ]
    },
    {
      "cell_type": "markdown",
      "metadata": {
        "id": "o0RTfwjb64ep"
      },
      "source": [
        "Of course, while this is not particularly useful for tiny functions, we can make arbitrary complex functions and get derivatives for them this way (provided the functions are differentiable)."
      ]
    },
    {
      "cell_type": "code",
      "metadata": {
        "id": "X5SkyGyZ08r7"
      },
      "source": [
        "Wsgd = torch.ones(1,3, requires_grad=True)\n",
        "\n",
        "training_losses = []\n",
        "test_losses = []\n",
        "weights = []\n",
        "\n",
        "for _ in range(15):\n",
        "\n",
        "  incorrect_idx = (torch.sign(torch.sum(Wsgd*x_train)) != y_train)\n",
        "\n",
        "  loss = -1 * (Wsgd * x_train[incorrect_idx] * y_train[incorrect_idx].reshape(-1,1)).mean()\n",
        "  loss = torch.clamp(loss, min=0)\n",
        "\n",
        "  training_losses.append(loss)\n",
        "\n",
        "  loss.backward()\n",
        "\n",
        "  with torch.no_grad():\n",
        "    Wsgd -= Wsgd.grad\n",
        "    Wsgd.grad.zero_()\n",
        "    weights.append(Wsgd.detach().clone())\n",
        "\n",
        "    test_incorrect_idx = (torch.sign(torch.sum(Wsgd*x_test)) != y_test)\n",
        "\n",
        "    test_loss = -1 * (Wsgd * x_test[test_incorrect_idx] * y_test[test_incorrect_idx].reshape(-1,1)).mean()\n",
        "    test_loss = torch.clamp(test_loss, min=0)\n",
        "    test_losses.append(test_loss)\n"
      ],
      "execution_count": null,
      "outputs": []
    },
    {
      "cell_type": "code",
      "metadata": {
        "id": "yhX-gkmVUJzZ",
        "colab": {
          "base_uri": "https://localhost:8080/",
          "height": 548
        },
        "outputId": "c90d5a4a-58ee-4c5c-e850-53ed8b4b48af"
      },
      "source": [
        "plt.figure(figsize=(10,8))\n",
        "plt.plot(training_losses, lw=4, color='purple', label='Training Loss')\n",
        "plt.plot(test_losses, lw=4, color='orange', label='Test Loss')\n",
        "\n",
        "plt.xlabel('Iteration')\n",
        "plt.ylabel('Loss')\n",
        "plt.title('Loss over Iterations')\n",
        "plt.legend()"
      ],
      "execution_count": null,
      "outputs": [
        {
          "output_type": "execute_result",
          "data": {
            "text/plain": [
              "<matplotlib.legend.Legend at 0x7fde55ebc208>"
            ]
          },
          "metadata": {
            "tags": []
          },
          "execution_count": 284
        },
        {
          "output_type": "display_data",
          "data": {
            "image/png": "[encoded data removed]",
            "text/plain": [
              "<Figure size 720x576 with 1 Axes>"
            ]
          },
          "metadata": {
            "tags": [],
            "needs_background": "light"
          }
        }
      ]
    },
    {
      "cell_type": "code",
      "metadata": {
        "id": "SaxQvi24XXQi",
        "colab": {
          "base_uri": "https://localhost:8080/",
          "height": 34
        },
        "outputId": "85ea9682-137e-4930-c885-d716bd0677bc"
      },
      "source": [
        "Wsgd"
      ],
      "execution_count": null,
      "outputs": [
        {
          "output_type": "execute_result",
          "data": {
            "text/plain": [
              "tensor([[-4.6046e-01, -1.0655e-01, -1.2219e-06]], requires_grad=True)"
            ]
          },
          "metadata": {
            "tags": []
          },
          "execution_count": 239
        }
      ]
    },
    {
      "cell_type": "code",
      "metadata": {
        "id": "5htZeghGXZ4B",
        "colab": {
          "base_uri": "https://localhost:8080/",
          "height": 34
        },
        "outputId": "93375bbd-308e-444e-dd40-066aa40ffac4"
      },
      "source": [
        "torch.sum(torch.sign(torch.sum(Wsgd*x_train, axis=1)) == y_train)/float(len(y_train))"
      ],
      "execution_count": null,
      "outputs": [
        {
          "output_type": "execute_result",
          "data": {
            "text/plain": [
              "tensor(0.9906)"
            ]
          },
          "metadata": {
            "tags": []
          },
          "execution_count": 240
        }
      ]
    },
    {
      "cell_type": "code",
      "metadata": {
        "id": "xZ9w2BM1al0A",
        "colab": {
          "base_uri": "https://localhost:8080/",
          "height": 272
        },
        "outputId": "bfda92dd-2e6c-4f59-85f8-f944fa0892cd"
      },
      "source": [
        "weights"
      ],
      "execution_count": null,
      "outputs": [
        {
          "output_type": "execute_result",
          "data": {
            "text/plain": [
              "[tensor([[0.8225, 0.8996, 0.6667]]),\n",
              " tensor([[0.6449, 0.7992, 0.3333]]),\n",
              " tensor([[ 4.6739e-01,  6.9887e-01, -7.7486e-07]]),\n",
              " tensor([[0.3356, 0.5308, 0.3333]]),\n",
              " tensor([[ 1.5810e-01,  4.3040e-01, -9.2387e-07]]),\n",
              " tensor([[0.0264, 0.2623, 0.3333]]),\n",
              " tensor([[-1.5118e-01,  1.6192e-01, -1.0729e-06]]),\n",
              " tensor([[-0.2829, -0.0062,  0.3333]]),\n",
              " tensor([[-4.6046e-01, -1.0655e-01, -1.2219e-06]]),\n",
              " tensor([[-4.6046e-01, -1.0655e-01, -1.2219e-06]]),\n",
              " tensor([[-4.6046e-01, -1.0655e-01, -1.2219e-06]]),\n",
              " tensor([[-4.6046e-01, -1.0655e-01, -1.2219e-06]]),\n",
              " tensor([[-4.6046e-01, -1.0655e-01, -1.2219e-06]]),\n",
              " tensor([[-4.6046e-01, -1.0655e-01, -1.2219e-06]]),\n",
              " tensor([[-4.6046e-01, -1.0655e-01, -1.2219e-06]])]"
            ]
          },
          "metadata": {
            "tags": []
          },
          "execution_count": 241
        }
      ]
    },
    {
      "cell_type": "code",
      "metadata": {
        "id": "9u1_938yzn0U",
        "colab": {
          "base_uri": "https://localhost:8080/",
          "height": 531
        },
        "outputId": "5f60b2b4-fc85-43c2-8f2b-f7ffe9cd1893"
      },
      "source": [
        "import numpy as np\n",
        "\n",
        "iteration = 10\n",
        "\n",
        "# We will load the different penguins into seperate series so we might colour \n",
        "# them differently\n",
        "gentoo = penguins_data[penguins_data['species'] == \"Gentoo\"]\n",
        "adelie = penguins_data[penguins_data['species'] == \"Adelie\"]\n",
        "\n",
        "fig, ax = plt.subplots(1,1, figsize=(10,8))\n",
        "\n",
        "x = torch.linspace(-1,1,1000)\n",
        "y = torch.linspace(-1,1,1000)\n",
        "\n",
        "X, Y = torch.meshgrid(x, y)\n",
        "\n",
        "def boundary(X, Y):\n",
        "  return np.sign((weights[iteration][0][0].detach() * X) + (weights[iteration][0][1].detach() * Y) + weights[iteration][0][2].detach())\n",
        "\n",
        "cs = ax.contourf(X, Y, boundary(X, Y), cmap='binary', levels=2)\n",
        "#cs.set\n",
        "\n",
        "# We will plot Flipper Length versus Body Mass, and plotting Gentoo in purple\n",
        "# and Adelie in orange\n",
        "gentoo_flipper = normalise(torch.tensor(gentoo['flipper_length_mm'].values),\n",
        "                           x_min=data.flipper_length_mm.min(),\n",
        "                           x_max=data.flipper_length_mm.max())\n",
        "\n",
        "gentoo_mass = normalise(torch.tensor(gentoo['body_mass_g'].values),\n",
        "                        x_min=data.body_mass_g.min(),\n",
        "                           x_max=data.body_mass_g.max())\n",
        "\n",
        "adelie_flipper = normalise(torch.tensor(adelie['flipper_length_mm'].values),\n",
        "                           x_min=data.flipper_length_mm.min(),\n",
        "                           x_max=data.flipper_length_mm.max())\n",
        "\n",
        "adelie_mass = normalise(torch.tensor(adelie['body_mass_g'].values),\n",
        "                        x_min=data.body_mass_g.min(),\n",
        "                        x_max=data.body_mass_g.max())\n",
        "\n",
        "ax.scatter(gentoo_flipper, gentoo_mass, c='purple', label='Gentoo')\n",
        "ax.scatter(adelie_flipper, adelie_mass, c='orange', label='Adelie', marker='s')\n",
        "\n",
        "\n",
        "ax.set_title(f'Decision Boundary for Iteration {iteration}')\n",
        "ax.set_xlabel('Flipper Length (mm)')\n",
        "ax.set_ylabel('Body Mass (g)')\n",
        "ax.legend()\n",
        "plt.colorbar(cs, ticks=[-1,1], label=\"Predicted Label\")\n",
        "None"
      ],
      "execution_count": null,
      "outputs": [
        {
          "output_type": "display_data",
          "data": {
            "image/png": "[encoded data removed]",
            "text/plain": [
              "<Figure size 720x576 with 2 Axes>"
            ]
          },
          "metadata": {
            "tags": [],
            "needs_background": "light"
          }
        }
      ]
    },
    {
      "cell_type": "code",
      "metadata": {
        "id": "CtGaqUJa7Wm-"
      },
      "source": [
        ""
      ],
      "execution_count": null,
      "outputs": []
    }
  ]
}