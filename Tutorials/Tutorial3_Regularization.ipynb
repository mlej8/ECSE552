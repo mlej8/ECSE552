{
  "nbformat": 4,
  "nbformat_minor": 0,
  "metadata": {
    "kernelspec": {
      "display_name": "Python 3",
      "language": "python",
      "name": "python3"
    },
    "language_info": {
      "codemirror_mode": {
        "name": "ipython",
        "version": 3
      },
      "file_extension": ".py",
      "mimetype": "text/x-python",
      "name": "python",
      "nbconvert_exporter": "python",
      "pygments_lexer": "ipython3",
      "version": "3.7.6"
    },
    "colab": {
      "name": "T3-Regularization.ipynb",
      "provenance": [],
      "include_colab_link": true
    },
    "accelerator": "GPU",
    "widgets": {
      "application/vnd.jupyter.widget-state+json": {
        "e36505fcc287423ebdc46e3c54c94b46": {
          "model_module": "@jupyter-widgets/controls",
          "model_name": "HBoxModel",
          "state": {
            "_view_name": "HBoxView",
            "_dom_classes": [],
            "_model_name": "HBoxModel",
            "_view_module": "@jupyter-widgets/controls",
            "_model_module_version": "1.5.0",
            "_view_count": null,
            "_view_module_version": "1.5.0",
            "box_style": "",
            "layout": "IPY_MODEL_4a15a2a9127d4decafff87dea6c0e0fa",
            "_model_module": "@jupyter-widgets/controls",
            "children": [
              "IPY_MODEL_c3b8b07a4fe843fb8f216f5c41fb123c",
              "IPY_MODEL_06d16fa12ed447d88cf1006bfecacf00"
            ]
          }
        },
        "4a15a2a9127d4decafff87dea6c0e0fa": {
          "model_module": "@jupyter-widgets/base",
          "model_name": "LayoutModel",
          "state": {
            "_view_name": "LayoutView",
            "grid_template_rows": null,
            "right": null,
            "justify_content": null,
            "_view_module": "@jupyter-widgets/base",
            "overflow": null,
            "_model_module_version": "1.2.0",
            "_view_count": null,
            "flex_flow": null,
            "width": null,
            "min_width": null,
            "border": null,
            "align_items": null,
            "bottom": null,
            "_model_module": "@jupyter-widgets/base",
            "top": null,
            "grid_column": null,
            "overflow_y": null,
            "overflow_x": null,
            "grid_auto_flow": null,
            "grid_area": null,
            "grid_template_columns": null,
            "flex": null,
            "_model_name": "LayoutModel",
            "justify_items": null,
            "grid_row": null,
            "max_height": null,
            "align_content": null,
            "visibility": null,
            "align_self": null,
            "height": null,
            "min_height": null,
            "padding": null,
            "grid_auto_rows": null,
            "grid_gap": null,
            "max_width": null,
            "order": null,
            "_view_module_version": "1.2.0",
            "grid_template_areas": null,
            "object_position": null,
            "object_fit": null,
            "grid_auto_columns": null,
            "margin": null,
            "display": null,
            "left": null
          }
        },
        "c3b8b07a4fe843fb8f216f5c41fb123c": {
          "model_module": "@jupyter-widgets/controls",
          "model_name": "FloatProgressModel",
          "state": {
            "_view_name": "ProgressView",
            "style": "IPY_MODEL_a4fc50de3d4c4018b5ee15f1a8cea9c4",
            "_dom_classes": [],
            "description": "",
            "_model_name": "FloatProgressModel",
            "bar_style": "success",
            "max": 1,
            "_view_module": "@jupyter-widgets/controls",
            "_model_module_version": "1.5.0",
            "value": 1,
            "_view_count": null,
            "_view_module_version": "1.5.0",
            "orientation": "horizontal",
            "min": 0,
            "description_tooltip": null,
            "_model_module": "@jupyter-widgets/controls",
            "layout": "IPY_MODEL_ee2ce90c9eac4c1ead98c2c1cb7d17c3"
          }
        },
        "06d16fa12ed447d88cf1006bfecacf00": {
          "model_module": "@jupyter-widgets/controls",
          "model_name": "HTMLModel",
          "state": {
            "_view_name": "HTMLView",
            "style": "IPY_MODEL_1aacf92984f24cbaa3948f2b45c4d5a1",
            "_dom_classes": [],
            "description": "",
            "_model_name": "HTMLModel",
            "placeholder": "​",
            "_view_module": "@jupyter-widgets/controls",
            "_model_module_version": "1.5.0",
            "value": " 6586368/? [00:04&lt;00:00, 1581706.66it/s]",
            "_view_count": null,
            "_view_module_version": "1.5.0",
            "description_tooltip": null,
            "_model_module": "@jupyter-widgets/controls",
            "layout": "IPY_MODEL_98a8dd2273dc41e9a4ce737d70654860"
          }
        },
        "a4fc50de3d4c4018b5ee15f1a8cea9c4": {
          "model_module": "@jupyter-widgets/controls",
          "model_name": "ProgressStyleModel",
          "state": {
            "_view_name": "StyleView",
            "_model_name": "ProgressStyleModel",
            "description_width": "initial",
            "_view_module": "@jupyter-widgets/base",
            "_model_module_version": "1.5.0",
            "_view_count": null,
            "_view_module_version": "1.2.0",
            "bar_color": null,
            "_model_module": "@jupyter-widgets/controls"
          }
        },
        "ee2ce90c9eac4c1ead98c2c1cb7d17c3": {
          "model_module": "@jupyter-widgets/base",
          "model_name": "LayoutModel",
          "state": {
            "_view_name": "LayoutView",
            "grid_template_rows": null,
            "right": null,
            "justify_content": null,
            "_view_module": "@jupyter-widgets/base",
            "overflow": null,
            "_model_module_version": "1.2.0",
            "_view_count": null,
            "flex_flow": null,
            "width": null,
            "min_width": null,
            "border": null,
            "align_items": null,
            "bottom": null,
            "_model_module": "@jupyter-widgets/base",
            "top": null,
            "grid_column": null,
            "overflow_y": null,
            "overflow_x": null,
            "grid_auto_flow": null,
            "grid_area": null,
            "grid_template_columns": null,
            "flex": null,
            "_model_name": "LayoutModel",
            "justify_items": null,
            "grid_row": null,
            "max_height": null,
            "align_content": null,
            "visibility": null,
            "align_self": null,
            "height": null,
            "min_height": null,
            "padding": null,
            "grid_auto_rows": null,
            "grid_gap": null,
            "max_width": null,
            "order": null,
            "_view_module_version": "1.2.0",
            "grid_template_areas": null,
            "object_position": null,
            "object_fit": null,
            "grid_auto_columns": null,
            "margin": null,
            "display": null,
            "left": null
          }
        },
        "1aacf92984f24cbaa3948f2b45c4d5a1": {
          "model_module": "@jupyter-widgets/controls",
          "model_name": "DescriptionStyleModel",
          "state": {
            "_view_name": "StyleView",
            "_model_name": "DescriptionStyleModel",
            "description_width": "",
            "_view_module": "@jupyter-widgets/base",
            "_model_module_version": "1.5.0",
            "_view_count": null,
            "_view_module_version": "1.2.0",
            "_model_module": "@jupyter-widgets/controls"
          }
        },
        "98a8dd2273dc41e9a4ce737d70654860": {
          "model_module": "@jupyter-widgets/base",
          "model_name": "LayoutModel",
          "state": {
            "_view_name": "LayoutView",
            "grid_template_rows": null,
            "right": null,
            "justify_content": null,
            "_view_module": "@jupyter-widgets/base",
            "overflow": null,
            "_model_module_version": "1.2.0",
            "_view_count": null,
            "flex_flow": null,
            "width": null,
            "min_width": null,
            "border": null,
            "align_items": null,
            "bottom": null,
            "_model_module": "@jupyter-widgets/base",
            "top": null,
            "grid_column": null,
            "overflow_y": null,
            "overflow_x": null,
            "grid_auto_flow": null,
            "grid_area": null,
            "grid_template_columns": null,
            "flex": null,
            "_model_name": "LayoutModel",
            "justify_items": null,
            "grid_row": null,
            "max_height": null,
            "align_content": null,
            "visibility": null,
            "align_self": null,
            "height": null,
            "min_height": null,
            "padding": null,
            "grid_auto_rows": null,
            "grid_gap": null,
            "max_width": null,
            "order": null,
            "_view_module_version": "1.2.0",
            "grid_template_areas": null,
            "object_position": null,
            "object_fit": null,
            "grid_auto_columns": null,
            "margin": null,
            "display": null,
            "left": null
          }
        },
        "4ed38a5ac90842d4985e2eae0bd7aea4": {
          "model_module": "@jupyter-widgets/controls",
          "model_name": "HBoxModel",
          "state": {
            "_view_name": "HBoxView",
            "_dom_classes": [],
            "_model_name": "HBoxModel",
            "_view_module": "@jupyter-widgets/controls",
            "_model_module_version": "1.5.0",
            "_view_count": null,
            "_view_module_version": "1.5.0",
            "box_style": "",
            "layout": "IPY_MODEL_2553a8aab6ed47f8ab1fde80f415f08e",
            "_model_module": "@jupyter-widgets/controls",
            "children": [
              "IPY_MODEL_ad5b015d1d7645d6a396af2bab6bf330",
              "IPY_MODEL_5cb7d6adfa9a4448ae4441c37cad2fc3"
            ]
          }
        },
        "2553a8aab6ed47f8ab1fde80f415f08e": {
          "model_module": "@jupyter-widgets/base",
          "model_name": "LayoutModel",
          "state": {
            "_view_name": "LayoutView",
            "grid_template_rows": null,
            "right": null,
            "justify_content": null,
            "_view_module": "@jupyter-widgets/base",
            "overflow": null,
            "_model_module_version": "1.2.0",
            "_view_count": null,
            "flex_flow": null,
            "width": null,
            "min_width": null,
            "border": null,
            "align_items": null,
            "bottom": null,
            "_model_module": "@jupyter-widgets/base",
            "top": null,
            "grid_column": null,
            "overflow_y": null,
            "overflow_x": null,
            "grid_auto_flow": null,
            "grid_area": null,
            "grid_template_columns": null,
            "flex": null,
            "_model_name": "LayoutModel",
            "justify_items": null,
            "grid_row": null,
            "max_height": null,
            "align_content": null,
            "visibility": null,
            "align_self": null,
            "height": null,
            "min_height": null,
            "padding": null,
            "grid_auto_rows": null,
            "grid_gap": null,
            "max_width": null,
            "order": null,
            "_view_module_version": "1.2.0",
            "grid_template_areas": null,
            "object_position": null,
            "object_fit": null,
            "grid_auto_columns": null,
            "margin": null,
            "display": null,
            "left": null
          }
        },
        "ad5b015d1d7645d6a396af2bab6bf330": {
          "model_module": "@jupyter-widgets/controls",
          "model_name": "FloatProgressModel",
          "state": {
            "_view_name": "ProgressView",
            "style": "IPY_MODEL_ae071f7bc61c4a6c80bd5b7d89ad92fe",
            "_dom_classes": [],
            "description": "",
            "_model_name": "FloatProgressModel",
            "bar_style": "success",
            "max": 1,
            "_view_module": "@jupyter-widgets/controls",
            "_model_module_version": "1.5.0",
            "value": 1,
            "_view_count": null,
            "_view_module_version": "1.5.0",
            "orientation": "horizontal",
            "min": 0,
            "description_tooltip": null,
            "_model_module": "@jupyter-widgets/controls",
            "layout": "IPY_MODEL_69444d98256a42b2b85e34931bd5a18c"
          }
        },
        "5cb7d6adfa9a4448ae4441c37cad2fc3": {
          "model_module": "@jupyter-widgets/controls",
          "model_name": "HTMLModel",
          "state": {
            "_view_name": "HTMLView",
            "style": "IPY_MODEL_ff3040f48c154cf694598a3ad04baa66",
            "_dom_classes": [],
            "description": "",
            "_model_name": "HTMLModel",
            "placeholder": "​",
            "_view_module": "@jupyter-widgets/controls",
            "_model_module_version": "1.5.0",
            "value": " 1835008/? [00:02&lt;00:00, 753551.06it/s]",
            "_view_count": null,
            "_view_module_version": "1.5.0",
            "description_tooltip": null,
            "_model_module": "@jupyter-widgets/controls",
            "layout": "IPY_MODEL_3295a20bb9f343d8a703d3e9eaba1f36"
          }
        },
        "ae071f7bc61c4a6c80bd5b7d89ad92fe": {
          "model_module": "@jupyter-widgets/controls",
          "model_name": "ProgressStyleModel",
          "state": {
            "_view_name": "StyleView",
            "_model_name": "ProgressStyleModel",
            "description_width": "initial",
            "_view_module": "@jupyter-widgets/base",
            "_model_module_version": "1.5.0",
            "_view_count": null,
            "_view_module_version": "1.2.0",
            "bar_color": null,
            "_model_module": "@jupyter-widgets/controls"
          }
        },
        "69444d98256a42b2b85e34931bd5a18c": {
          "model_module": "@jupyter-widgets/base",
          "model_name": "LayoutModel",
          "state": {
            "_view_name": "LayoutView",
            "grid_template_rows": null,
            "right": null,
            "justify_content": null,
            "_view_module": "@jupyter-widgets/base",
            "overflow": null,
            "_model_module_version": "1.2.0",
            "_view_count": null,
            "flex_flow": null,
            "width": null,
            "min_width": null,
            "border": null,
            "align_items": null,
            "bottom": null,
            "_model_module": "@jupyter-widgets/base",
            "top": null,
            "grid_column": null,
            "overflow_y": null,
            "overflow_x": null,
            "grid_auto_flow": null,
            "grid_area": null,
            "grid_template_columns": null,
            "flex": null,
            "_model_name": "LayoutModel",
            "justify_items": null,
            "grid_row": null,
            "max_height": null,
            "align_content": null,
            "visibility": null,
            "align_self": null,
            "height": null,
            "min_height": null,
            "padding": null,
            "grid_auto_rows": null,
            "grid_gap": null,
            "max_width": null,
            "order": null,
            "_view_module_version": "1.2.0",
            "grid_template_areas": null,
            "object_position": null,
            "object_fit": null,
            "grid_auto_columns": null,
            "margin": null,
            "display": null,
            "left": null
          }
        },
        "ff3040f48c154cf694598a3ad04baa66": {
          "model_module": "@jupyter-widgets/controls",
          "model_name": "DescriptionStyleModel",
          "state": {
            "_view_name": "StyleView",
            "_model_name": "DescriptionStyleModel",
            "description_width": "",
            "_view_module": "@jupyter-widgets/base",
            "_model_module_version": "1.5.0",
            "_view_count": null,
            "_view_module_version": "1.2.0",
            "_model_module": "@jupyter-widgets/controls"
          }
        },
        "3295a20bb9f343d8a703d3e9eaba1f36": {
          "model_module": "@jupyter-widgets/base",
          "model_name": "LayoutModel",
          "state": {
            "_view_name": "LayoutView",
            "grid_template_rows": null,
            "right": null,
            "justify_content": null,
            "_view_module": "@jupyter-widgets/base",
            "overflow": null,
            "_model_module_version": "1.2.0",
            "_view_count": null,
            "flex_flow": null,
            "width": null,
            "min_width": null,
            "border": null,
            "align_items": null,
            "bottom": null,
            "_model_module": "@jupyter-widgets/base",
            "top": null,
            "grid_column": null,
            "overflow_y": null,
            "overflow_x": null,
            "grid_auto_flow": null,
            "grid_area": null,
            "grid_template_columns": null,
            "flex": null,
            "_model_name": "LayoutModel",
            "justify_items": null,
            "grid_row": null,
            "max_height": null,
            "align_content": null,
            "visibility": null,
            "align_self": null,
            "height": null,
            "min_height": null,
            "padding": null,
            "grid_auto_rows": null,
            "grid_gap": null,
            "max_width": null,
            "order": null,
            "_view_module_version": "1.2.0",
            "grid_template_areas": null,
            "object_position": null,
            "object_fit": null,
            "grid_auto_columns": null,
            "margin": null,
            "display": null,
            "left": null
          }
        },
        "149c5c0c73b142119da7bad28831f0ad": {
          "model_module": "@jupyter-widgets/controls",
          "model_name": "HBoxModel",
          "state": {
            "_view_name": "HBoxView",
            "_dom_classes": [],
            "_model_name": "HBoxModel",
            "_view_module": "@jupyter-widgets/controls",
            "_model_module_version": "1.5.0",
            "_view_count": null,
            "_view_module_version": "1.5.0",
            "box_style": "",
            "layout": "IPY_MODEL_feef3e05eb4946aca9479ac3473c9158",
            "_model_module": "@jupyter-widgets/controls",
            "children": [
              "IPY_MODEL_5c559ee8e0944831a23b18a24984244c",
              "IPY_MODEL_cfbd3d7fe1554eada65a17f8b481c0cd"
            ]
          }
        },
        "feef3e05eb4946aca9479ac3473c9158": {
          "model_module": "@jupyter-widgets/base",
          "model_name": "LayoutModel",
          "state": {
            "_view_name": "LayoutView",
            "grid_template_rows": null,
            "right": null,
            "justify_content": null,
            "_view_module": "@jupyter-widgets/base",
            "overflow": null,
            "_model_module_version": "1.2.0",
            "_view_count": null,
            "flex_flow": null,
            "width": null,
            "min_width": null,
            "border": null,
            "align_items": null,
            "bottom": null,
            "_model_module": "@jupyter-widgets/base",
            "top": null,
            "grid_column": null,
            "overflow_y": null,
            "overflow_x": null,
            "grid_auto_flow": null,
            "grid_area": null,
            "grid_template_columns": null,
            "flex": null,
            "_model_name": "LayoutModel",
            "justify_items": null,
            "grid_row": null,
            "max_height": null,
            "align_content": null,
            "visibility": null,
            "align_self": null,
            "height": null,
            "min_height": null,
            "padding": null,
            "grid_auto_rows": null,
            "grid_gap": null,
            "max_width": null,
            "order": null,
            "_view_module_version": "1.2.0",
            "grid_template_areas": null,
            "object_position": null,
            "object_fit": null,
            "grid_auto_columns": null,
            "margin": null,
            "display": null,
            "left": null
          }
        },
        "5c559ee8e0944831a23b18a24984244c": {
          "model_module": "@jupyter-widgets/controls",
          "model_name": "FloatProgressModel",
          "state": {
            "_view_name": "ProgressView",
            "style": "IPY_MODEL_a617325c7d79436d87cc387461e9adad",
            "_dom_classes": [],
            "description": "",
            "_model_name": "FloatProgressModel",
            "bar_style": "success",
            "max": 1,
            "_view_module": "@jupyter-widgets/controls",
            "_model_module_version": "1.5.0",
            "value": 1,
            "_view_count": null,
            "_view_module_version": "1.5.0",
            "orientation": "horizontal",
            "min": 0,
            "description_tooltip": null,
            "_model_module": "@jupyter-widgets/controls",
            "layout": "IPY_MODEL_3ff22ece1ab649009ac914df78d09021"
          }
        },
        "cfbd3d7fe1554eada65a17f8b481c0cd": {
          "model_module": "@jupyter-widgets/controls",
          "model_name": "HTMLModel",
          "state": {
            "_view_name": "HTMLView",
            "style": "IPY_MODEL_3753919a8a3648ed8438433af09e713d",
            "_dom_classes": [],
            "description": "",
            "_model_name": "HTMLModel",
            "placeholder": "​",
            "_view_module": "@jupyter-widgets/controls",
            "_model_module_version": "1.5.0",
            "value": " 9920512/? [00:00&lt;00:00, 13737179.90it/s]",
            "_view_count": null,
            "_view_module_version": "1.5.0",
            "description_tooltip": null,
            "_model_module": "@jupyter-widgets/controls",
            "layout": "IPY_MODEL_9dff981cb0de42fbb4c1b4ff3a14f475"
          }
        },
        "a617325c7d79436d87cc387461e9adad": {
          "model_module": "@jupyter-widgets/controls",
          "model_name": "ProgressStyleModel",
          "state": {
            "_view_name": "StyleView",
            "_model_name": "ProgressStyleModel",
            "description_width": "initial",
            "_view_module": "@jupyter-widgets/base",
            "_model_module_version": "1.5.0",
            "_view_count": null,
            "_view_module_version": "1.2.0",
            "bar_color": null,
            "_model_module": "@jupyter-widgets/controls"
          }
        },
        "3ff22ece1ab649009ac914df78d09021": {
          "model_module": "@jupyter-widgets/base",
          "model_name": "LayoutModel",
          "state": {
            "_view_name": "LayoutView",
            "grid_template_rows": null,
            "right": null,
            "justify_content": null,
            "_view_module": "@jupyter-widgets/base",
            "overflow": null,
            "_model_module_version": "1.2.0",
            "_view_count": null,
            "flex_flow": null,
            "width": null,
            "min_width": null,
            "border": null,
            "align_items": null,
            "bottom": null,
            "_model_module": "@jupyter-widgets/base",
            "top": null,
            "grid_column": null,
            "overflow_y": null,
            "overflow_x": null,
            "grid_auto_flow": null,
            "grid_area": null,
            "grid_template_columns": null,
            "flex": null,
            "_model_name": "LayoutModel",
            "justify_items": null,
            "grid_row": null,
            "max_height": null,
            "align_content": null,
            "visibility": null,
            "align_self": null,
            "height": null,
            "min_height": null,
            "padding": null,
            "grid_auto_rows": null,
            "grid_gap": null,
            "max_width": null,
            "order": null,
            "_view_module_version": "1.2.0",
            "grid_template_areas": null,
            "object_position": null,
            "object_fit": null,
            "grid_auto_columns": null,
            "margin": null,
            "display": null,
            "left": null
          }
        },
        "3753919a8a3648ed8438433af09e713d": {
          "model_module": "@jupyter-widgets/controls",
          "model_name": "DescriptionStyleModel",
          "state": {
            "_view_name": "StyleView",
            "_model_name": "DescriptionStyleModel",
            "description_width": "",
            "_view_module": "@jupyter-widgets/base",
            "_model_module_version": "1.5.0",
            "_view_count": null,
            "_view_module_version": "1.2.0",
            "_model_module": "@jupyter-widgets/controls"
          }
        },
        "9dff981cb0de42fbb4c1b4ff3a14f475": {
          "model_module": "@jupyter-widgets/base",
          "model_name": "LayoutModel",
          "state": {
            "_view_name": "LayoutView",
            "grid_template_rows": null,
            "right": null,
            "justify_content": null,
            "_view_module": "@jupyter-widgets/base",
            "overflow": null,
            "_model_module_version": "1.2.0",
            "_view_count": null,
            "flex_flow": null,
            "width": null,
            "min_width": null,
            "border": null,
            "align_items": null,
            "bottom": null,
            "_model_module": "@jupyter-widgets/base",
            "top": null,
            "grid_column": null,
            "overflow_y": null,
            "overflow_x": null,
            "grid_auto_flow": null,
            "grid_area": null,
            "grid_template_columns": null,
            "flex": null,
            "_model_name": "LayoutModel",
            "justify_items": null,
            "grid_row": null,
            "max_height": null,
            "align_content": null,
            "visibility": null,
            "align_self": null,
            "height": null,
            "min_height": null,
            "padding": null,
            "grid_auto_rows": null,
            "grid_gap": null,
            "max_width": null,
            "order": null,
            "_view_module_version": "1.2.0",
            "grid_template_areas": null,
            "object_position": null,
            "object_fit": null,
            "grid_auto_columns": null,
            "margin": null,
            "display": null,
            "left": null
          }
        },
        "1ad6bf81b39e4f72ba22f3fee403b1cd": {
          "model_module": "@jupyter-widgets/controls",
          "model_name": "HBoxModel",
          "state": {
            "_view_name": "HBoxView",
            "_dom_classes": [],
            "_model_name": "HBoxModel",
            "_view_module": "@jupyter-widgets/controls",
            "_model_module_version": "1.5.0",
            "_view_count": null,
            "_view_module_version": "1.5.0",
            "box_style": "",
            "layout": "IPY_MODEL_5b61bedb21f34bbc88c75ed431dbee1b",
            "_model_module": "@jupyter-widgets/controls",
            "children": [
              "IPY_MODEL_59574496fd7740829a714a75e4e1a9b2",
              "IPY_MODEL_0348ce59f6814365b86101d3c652a550"
            ]
          }
        },
        "5b61bedb21f34bbc88c75ed431dbee1b": {
          "model_module": "@jupyter-widgets/base",
          "model_name": "LayoutModel",
          "state": {
            "_view_name": "LayoutView",
            "grid_template_rows": null,
            "right": null,
            "justify_content": null,
            "_view_module": "@jupyter-widgets/base",
            "overflow": null,
            "_model_module_version": "1.2.0",
            "_view_count": null,
            "flex_flow": null,
            "width": null,
            "min_width": null,
            "border": null,
            "align_items": null,
            "bottom": null,
            "_model_module": "@jupyter-widgets/base",
            "top": null,
            "grid_column": null,
            "overflow_y": null,
            "overflow_x": null,
            "grid_auto_flow": null,
            "grid_area": null,
            "grid_template_columns": null,
            "flex": null,
            "_model_name": "LayoutModel",
            "justify_items": null,
            "grid_row": null,
            "max_height": null,
            "align_content": null,
            "visibility": null,
            "align_self": null,
            "height": null,
            "min_height": null,
            "padding": null,
            "grid_auto_rows": null,
            "grid_gap": null,
            "max_width": null,
            "order": null,
            "_view_module_version": "1.2.0",
            "grid_template_areas": null,
            "object_position": null,
            "object_fit": null,
            "grid_auto_columns": null,
            "margin": null,
            "display": null,
            "left": null
          }
        },
        "59574496fd7740829a714a75e4e1a9b2": {
          "model_module": "@jupyter-widgets/controls",
          "model_name": "FloatProgressModel",
          "state": {
            "_view_name": "ProgressView",
            "style": "IPY_MODEL_944fd77f2bb84137a21a905eefad889e",
            "_dom_classes": [],
            "description": "",
            "_model_name": "FloatProgressModel",
            "bar_style": "success",
            "max": 1,
            "_view_module": "@jupyter-widgets/controls",
            "_model_module_version": "1.5.0",
            "value": 1,
            "_view_count": null,
            "_view_module_version": "1.5.0",
            "orientation": "horizontal",
            "min": 0,
            "description_tooltip": null,
            "_model_module": "@jupyter-widgets/controls",
            "layout": "IPY_MODEL_ba03a5eb21e14dc6990490615a4ae23e"
          }
        },
        "0348ce59f6814365b86101d3c652a550": {
          "model_module": "@jupyter-widgets/controls",
          "model_name": "HTMLModel",
          "state": {
            "_view_name": "HTMLView",
            "style": "IPY_MODEL_988eb9346caa49b08240de51d1c42f80",
            "_dom_classes": [],
            "description": "",
            "_model_name": "HTMLModel",
            "placeholder": "​",
            "_view_module": "@jupyter-widgets/controls",
            "_model_module_version": "1.5.0",
            "value": " 32768/? [00:00&lt;00:00, 241769.08it/s]",
            "_view_count": null,
            "_view_module_version": "1.5.0",
            "description_tooltip": null,
            "_model_module": "@jupyter-widgets/controls",
            "layout": "IPY_MODEL_b165f61f853a45afa0eb160153377515"
          }
        },
        "944fd77f2bb84137a21a905eefad889e": {
          "model_module": "@jupyter-widgets/controls",
          "model_name": "ProgressStyleModel",
          "state": {
            "_view_name": "StyleView",
            "_model_name": "ProgressStyleModel",
            "description_width": "initial",
            "_view_module": "@jupyter-widgets/base",
            "_model_module_version": "1.5.0",
            "_view_count": null,
            "_view_module_version": "1.2.0",
            "bar_color": null,
            "_model_module": "@jupyter-widgets/controls"
          }
        },
        "ba03a5eb21e14dc6990490615a4ae23e": {
          "model_module": "@jupyter-widgets/base",
          "model_name": "LayoutModel",
          "state": {
            "_view_name": "LayoutView",
            "grid_template_rows": null,
            "right": null,
            "justify_content": null,
            "_view_module": "@jupyter-widgets/base",
            "overflow": null,
            "_model_module_version": "1.2.0",
            "_view_count": null,
            "flex_flow": null,
            "width": null,
            "min_width": null,
            "border": null,
            "align_items": null,
            "bottom": null,
            "_model_module": "@jupyter-widgets/base",
            "top": null,
            "grid_column": null,
            "overflow_y": null,
            "overflow_x": null,
            "grid_auto_flow": null,
            "grid_area": null,
            "grid_template_columns": null,
            "flex": null,
            "_model_name": "LayoutModel",
            "justify_items": null,
            "grid_row": null,
            "max_height": null,
            "align_content": null,
            "visibility": null,
            "align_self": null,
            "height": null,
            "min_height": null,
            "padding": null,
            "grid_auto_rows": null,
            "grid_gap": null,
            "max_width": null,
            "order": null,
            "_view_module_version": "1.2.0",
            "grid_template_areas": null,
            "object_position": null,
            "object_fit": null,
            "grid_auto_columns": null,
            "margin": null,
            "display": null,
            "left": null
          }
        },
        "988eb9346caa49b08240de51d1c42f80": {
          "model_module": "@jupyter-widgets/controls",
          "model_name": "DescriptionStyleModel",
          "state": {
            "_view_name": "StyleView",
            "_model_name": "DescriptionStyleModel",
            "description_width": "",
            "_view_module": "@jupyter-widgets/base",
            "_model_module_version": "1.5.0",
            "_view_count": null,
            "_view_module_version": "1.2.0",
            "_model_module": "@jupyter-widgets/controls"
          }
        },
        "b165f61f853a45afa0eb160153377515": {
          "model_module": "@jupyter-widgets/base",
          "model_name": "LayoutModel",
          "state": {
            "_view_name": "LayoutView",
            "grid_template_rows": null,
            "right": null,
            "justify_content": null,
            "_view_module": "@jupyter-widgets/base",
            "overflow": null,
            "_model_module_version": "1.2.0",
            "_view_count": null,
            "flex_flow": null,
            "width": null,
            "min_width": null,
            "border": null,
            "align_items": null,
            "bottom": null,
            "_model_module": "@jupyter-widgets/base",
            "top": null,
            "grid_column": null,
            "overflow_y": null,
            "overflow_x": null,
            "grid_auto_flow": null,
            "grid_area": null,
            "grid_template_columns": null,
            "flex": null,
            "_model_name": "LayoutModel",
            "justify_items": null,
            "grid_row": null,
            "max_height": null,
            "align_content": null,
            "visibility": null,
            "align_self": null,
            "height": null,
            "min_height": null,
            "padding": null,
            "grid_auto_rows": null,
            "grid_gap": null,
            "max_width": null,
            "order": null,
            "_view_module_version": "1.2.0",
            "grid_template_areas": null,
            "object_position": null,
            "object_fit": null,
            "grid_auto_columns": null,
            "margin": null,
            "display": null,
            "left": null
          }
        },
        "298182faaeec41a29898196e471acf55": {
          "model_module": "@jupyter-widgets/controls",
          "model_name": "HBoxModel",
          "state": {
            "_view_name": "HBoxView",
            "_dom_classes": [],
            "_model_name": "HBoxModel",
            "_view_module": "@jupyter-widgets/controls",
            "_model_module_version": "1.5.0",
            "_view_count": null,
            "_view_module_version": "1.5.0",
            "box_style": "",
            "layout": "IPY_MODEL_bb815c10a00248d48125e6dcb67485e2",
            "_model_module": "@jupyter-widgets/controls",
            "children": [
              "IPY_MODEL_6cc2abbb861c4c479a26968eff902460",
              "IPY_MODEL_556f10f6100447aabb2ef5df6277b12e"
            ]
          }
        },
        "bb815c10a00248d48125e6dcb67485e2": {
          "model_module": "@jupyter-widgets/base",
          "model_name": "LayoutModel",
          "state": {
            "_view_name": "LayoutView",
            "grid_template_rows": null,
            "right": null,
            "justify_content": null,
            "_view_module": "@jupyter-widgets/base",
            "overflow": null,
            "_model_module_version": "1.2.0",
            "_view_count": null,
            "flex_flow": null,
            "width": null,
            "min_width": null,
            "border": null,
            "align_items": null,
            "bottom": null,
            "_model_module": "@jupyter-widgets/base",
            "top": null,
            "grid_column": null,
            "overflow_y": null,
            "overflow_x": null,
            "grid_auto_flow": null,
            "grid_area": null,
            "grid_template_columns": null,
            "flex": null,
            "_model_name": "LayoutModel",
            "justify_items": null,
            "grid_row": null,
            "max_height": null,
            "align_content": null,
            "visibility": null,
            "align_self": null,
            "height": null,
            "min_height": null,
            "padding": null,
            "grid_auto_rows": null,
            "grid_gap": null,
            "max_width": null,
            "order": null,
            "_view_module_version": "1.2.0",
            "grid_template_areas": null,
            "object_position": null,
            "object_fit": null,
            "grid_auto_columns": null,
            "margin": null,
            "display": null,
            "left": null
          }
        },
        "6cc2abbb861c4c479a26968eff902460": {
          "model_module": "@jupyter-widgets/controls",
          "model_name": "FloatProgressModel",
          "state": {
            "_view_name": "ProgressView",
            "style": "IPY_MODEL_2cce6801fef84606bb0b411b89ef527d",
            "_dom_classes": [],
            "description": "  0%",
            "_model_name": "FloatProgressModel",
            "bar_style": "info",
            "max": 1,
            "_view_module": "@jupyter-widgets/controls",
            "_model_module_version": "1.5.0",
            "value": 0,
            "_view_count": null,
            "_view_module_version": "1.5.0",
            "orientation": "horizontal",
            "min": 0,
            "description_tooltip": null,
            "_model_module": "@jupyter-widgets/controls",
            "layout": "IPY_MODEL_e18c42b5aa9e4518b4edc92845ef4db9"
          }
        },
        "556f10f6100447aabb2ef5df6277b12e": {
          "model_module": "@jupyter-widgets/controls",
          "model_name": "HTMLModel",
          "state": {
            "_view_name": "HTMLView",
            "style": "IPY_MODEL_5c5803f2bd0c4b349af2387ef4893189",
            "_dom_classes": [],
            "description": "",
            "_model_name": "HTMLModel",
            "placeholder": "​",
            "_view_module": "@jupyter-widgets/controls",
            "_model_module_version": "1.5.0",
            "value": " 0/1648877 [00:00&lt;?, ?it/s]",
            "_view_count": null,
            "_view_module_version": "1.5.0",
            "description_tooltip": null,
            "_model_module": "@jupyter-widgets/controls",
            "layout": "IPY_MODEL_215e4a05c16943cc94da0aca2d85259f"
          }
        },
        "2cce6801fef84606bb0b411b89ef527d": {
          "model_module": "@jupyter-widgets/controls",
          "model_name": "ProgressStyleModel",
          "state": {
            "_view_name": "StyleView",
            "_model_name": "ProgressStyleModel",
            "description_width": "initial",
            "_view_module": "@jupyter-widgets/base",
            "_model_module_version": "1.5.0",
            "_view_count": null,
            "_view_module_version": "1.2.0",
            "bar_color": null,
            "_model_module": "@jupyter-widgets/controls"
          }
        },
        "e18c42b5aa9e4518b4edc92845ef4db9": {
          "model_module": "@jupyter-widgets/base",
          "model_name": "LayoutModel",
          "state": {
            "_view_name": "LayoutView",
            "grid_template_rows": null,
            "right": null,
            "justify_content": null,
            "_view_module": "@jupyter-widgets/base",
            "overflow": null,
            "_model_module_version": "1.2.0",
            "_view_count": null,
            "flex_flow": null,
            "width": null,
            "min_width": null,
            "border": null,
            "align_items": null,
            "bottom": null,
            "_model_module": "@jupyter-widgets/base",
            "top": null,
            "grid_column": null,
            "overflow_y": null,
            "overflow_x": null,
            "grid_auto_flow": null,
            "grid_area": null,
            "grid_template_columns": null,
            "flex": null,
            "_model_name": "LayoutModel",
            "justify_items": null,
            "grid_row": null,
            "max_height": null,
            "align_content": null,
            "visibility": null,
            "align_self": null,
            "height": null,
            "min_height": null,
            "padding": null,
            "grid_auto_rows": null,
            "grid_gap": null,
            "max_width": null,
            "order": null,
            "_view_module_version": "1.2.0",
            "grid_template_areas": null,
            "object_position": null,
            "object_fit": null,
            "grid_auto_columns": null,
            "margin": null,
            "display": null,
            "left": null
          }
        },
        "5c5803f2bd0c4b349af2387ef4893189": {
          "model_module": "@jupyter-widgets/controls",
          "model_name": "DescriptionStyleModel",
          "state": {
            "_view_name": "StyleView",
            "_model_name": "DescriptionStyleModel",
            "description_width": "",
            "_view_module": "@jupyter-widgets/base",
            "_model_module_version": "1.5.0",
            "_view_count": null,
            "_view_module_version": "1.2.0",
            "_model_module": "@jupyter-widgets/controls"
          }
        },
        "215e4a05c16943cc94da0aca2d85259f": {
          "model_module": "@jupyter-widgets/base",
          "model_name": "LayoutModel",
          "state": {
            "_view_name": "LayoutView",
            "grid_template_rows": null,
            "right": null,
            "justify_content": null,
            "_view_module": "@jupyter-widgets/base",
            "overflow": null,
            "_model_module_version": "1.2.0",
            "_view_count": null,
            "flex_flow": null,
            "width": null,
            "min_width": null,
            "border": null,
            "align_items": null,
            "bottom": null,
            "_model_module": "@jupyter-widgets/base",
            "top": null,
            "grid_column": null,
            "overflow_y": null,
            "overflow_x": null,
            "grid_auto_flow": null,
            "grid_area": null,
            "grid_template_columns": null,
            "flex": null,
            "_model_name": "LayoutModel",
            "justify_items": null,
            "grid_row": null,
            "max_height": null,
            "align_content": null,
            "visibility": null,
            "align_self": null,
            "height": null,
            "min_height": null,
            "padding": null,
            "grid_auto_rows": null,
            "grid_gap": null,
            "max_width": null,
            "order": null,
            "_view_module_version": "1.2.0",
            "grid_template_areas": null,
            "object_position": null,
            "object_fit": null,
            "grid_auto_columns": null,
            "margin": null,
            "display": null,
            "left": null
          }
        },
        "cd81e06eba8248b2a77e49f318a98b53": {
          "model_module": "@jupyter-widgets/controls",
          "model_name": "HBoxModel",
          "state": {
            "_view_name": "HBoxView",
            "_dom_classes": [],
            "_model_name": "HBoxModel",
            "_view_module": "@jupyter-widgets/controls",
            "_model_module_version": "1.5.0",
            "_view_count": null,
            "_view_module_version": "1.5.0",
            "box_style": "",
            "layout": "IPY_MODEL_b9e93016fb954c93b8bfea0f4d84710c",
            "_model_module": "@jupyter-widgets/controls",
            "children": [
              "IPY_MODEL_d971573e534e43e0b5e12704eb62d658",
              "IPY_MODEL_5b86e0d03ad64a95ba4a08c5ce44646a"
            ]
          }
        },
        "b9e93016fb954c93b8bfea0f4d84710c": {
          "model_module": "@jupyter-widgets/base",
          "model_name": "LayoutModel",
          "state": {
            "_view_name": "LayoutView",
            "grid_template_rows": null,
            "right": null,
            "justify_content": null,
            "_view_module": "@jupyter-widgets/base",
            "overflow": null,
            "_model_module_version": "1.2.0",
            "_view_count": null,
            "flex_flow": null,
            "width": null,
            "min_width": null,
            "border": null,
            "align_items": null,
            "bottom": null,
            "_model_module": "@jupyter-widgets/base",
            "top": null,
            "grid_column": null,
            "overflow_y": null,
            "overflow_x": null,
            "grid_auto_flow": null,
            "grid_area": null,
            "grid_template_columns": null,
            "flex": null,
            "_model_name": "LayoutModel",
            "justify_items": null,
            "grid_row": null,
            "max_height": null,
            "align_content": null,
            "visibility": null,
            "align_self": null,
            "height": null,
            "min_height": null,
            "padding": null,
            "grid_auto_rows": null,
            "grid_gap": null,
            "max_width": null,
            "order": null,
            "_view_module_version": "1.2.0",
            "grid_template_areas": null,
            "object_position": null,
            "object_fit": null,
            "grid_auto_columns": null,
            "margin": null,
            "display": null,
            "left": null
          }
        },
        "d971573e534e43e0b5e12704eb62d658": {
          "model_module": "@jupyter-widgets/controls",
          "model_name": "FloatProgressModel",
          "state": {
            "_view_name": "ProgressView",
            "style": "IPY_MODEL_05cea843bc604b3f9ff6888d75c14ef0",
            "_dom_classes": [],
            "description": "",
            "_model_name": "FloatProgressModel",
            "bar_style": "success",
            "max": 1,
            "_view_module": "@jupyter-widgets/controls",
            "_model_module_version": "1.5.0",
            "value": 1,
            "_view_count": null,
            "_view_module_version": "1.5.0",
            "orientation": "horizontal",
            "min": 0,
            "description_tooltip": null,
            "_model_module": "@jupyter-widgets/controls",
            "layout": "IPY_MODEL_60ead9bb3cab43c19d87745b53cd3325"
          }
        },
        "5b86e0d03ad64a95ba4a08c5ce44646a": {
          "model_module": "@jupyter-widgets/controls",
          "model_name": "HTMLModel",
          "state": {
            "_view_name": "HTMLView",
            "style": "IPY_MODEL_5aec6df3d4044c7b8b61fc0dfaa38ba2",
            "_dom_classes": [],
            "description": "",
            "_model_name": "HTMLModel",
            "placeholder": "​",
            "_view_module": "@jupyter-widgets/controls",
            "_model_module_version": "1.5.0",
            "value": " 8192/? [00:03&lt;00:00, 2348.15it/s]",
            "_view_count": null,
            "_view_module_version": "1.5.0",
            "description_tooltip": null,
            "_model_module": "@jupyter-widgets/controls",
            "layout": "IPY_MODEL_8011a4058dce415d82871c9b5f093294"
          }
        },
        "05cea843bc604b3f9ff6888d75c14ef0": {
          "model_module": "@jupyter-widgets/controls",
          "model_name": "ProgressStyleModel",
          "state": {
            "_view_name": "StyleView",
            "_model_name": "ProgressStyleModel",
            "description_width": "initial",
            "_view_module": "@jupyter-widgets/base",
            "_model_module_version": "1.5.0",
            "_view_count": null,
            "_view_module_version": "1.2.0",
            "bar_color": null,
            "_model_module": "@jupyter-widgets/controls"
          }
        },
        "60ead9bb3cab43c19d87745b53cd3325": {
          "model_module": "@jupyter-widgets/base",
          "model_name": "LayoutModel",
          "state": {
            "_view_name": "LayoutView",
            "grid_template_rows": null,
            "right": null,
            "justify_content": null,
            "_view_module": "@jupyter-widgets/base",
            "overflow": null,
            "_model_module_version": "1.2.0",
            "_view_count": null,
            "flex_flow": null,
            "width": null,
            "min_width": null,
            "border": null,
            "align_items": null,
            "bottom": null,
            "_model_module": "@jupyter-widgets/base",
            "top": null,
            "grid_column": null,
            "overflow_y": null,
            "overflow_x": null,
            "grid_auto_flow": null,
            "grid_area": null,
            "grid_template_columns": null,
            "flex": null,
            "_model_name": "LayoutModel",
            "justify_items": null,
            "grid_row": null,
            "max_height": null,
            "align_content": null,
            "visibility": null,
            "align_self": null,
            "height": null,
            "min_height": null,
            "padding": null,
            "grid_auto_rows": null,
            "grid_gap": null,
            "max_width": null,
            "order": null,
            "_view_module_version": "1.2.0",
            "grid_template_areas": null,
            "object_position": null,
            "object_fit": null,
            "grid_auto_columns": null,
            "margin": null,
            "display": null,
            "left": null
          }
        },
        "5aec6df3d4044c7b8b61fc0dfaa38ba2": {
          "model_module": "@jupyter-widgets/controls",
          "model_name": "DescriptionStyleModel",
          "state": {
            "_view_name": "StyleView",
            "_model_name": "DescriptionStyleModel",
            "description_width": "",
            "_view_module": "@jupyter-widgets/base",
            "_model_module_version": "1.5.0",
            "_view_count": null,
            "_view_module_version": "1.2.0",
            "_model_module": "@jupyter-widgets/controls"
          }
        },
        "8011a4058dce415d82871c9b5f093294": {
          "model_module": "@jupyter-widgets/base",
          "model_name": "LayoutModel",
          "state": {
            "_view_name": "LayoutView",
            "grid_template_rows": null,
            "right": null,
            "justify_content": null,
            "_view_module": "@jupyter-widgets/base",
            "overflow": null,
            "_model_module_version": "1.2.0",
            "_view_count": null,
            "flex_flow": null,
            "width": null,
            "min_width": null,
            "border": null,
            "align_items": null,
            "bottom": null,
            "_model_module": "@jupyter-widgets/base",
            "top": null,
            "grid_column": null,
            "overflow_y": null,
            "overflow_x": null,
            "grid_auto_flow": null,
            "grid_area": null,
            "grid_template_columns": null,
            "flex": null,
            "_model_name": "LayoutModel",
            "justify_items": null,
            "grid_row": null,
            "max_height": null,
            "align_content": null,
            "visibility": null,
            "align_self": null,
            "height": null,
            "min_height": null,
            "padding": null,
            "grid_auto_rows": null,
            "grid_gap": null,
            "max_width": null,
            "order": null,
            "_view_module_version": "1.2.0",
            "grid_template_areas": null,
            "object_position": null,
            "object_fit": null,
            "grid_auto_columns": null,
            "margin": null,
            "display": null,
            "left": null
          }
        }
      }
    }
  },
  "cells": [
    {
      "cell_type": "markdown",
      "metadata": {
        "id": "view-in-github",
        "colab_type": "text"
      },
      "source": [
        "<a href=\"https://colab.research.google.com/github/mlej8/ECSE552/blob/main/Tutorials/Tutorial3_Regularization.ipynb\" target=\"_parent\"><img src=\"https://colab.research.google.com/assets/colab-badge.svg\" alt=\"Open In Colab\"/></a>"
      ]
    },
    {
      "cell_type": "markdown",
      "metadata": {
        "id": "qSPIs55WisRs"
      },
      "source": [
        "# Pattern Matching with Parameter Sharing and regularizations"
      ]
    },
    {
      "cell_type": "markdown",
      "metadata": {
        "id": "UPLxDlYDisRx"
      },
      "source": [
        "Goals:\n",
        "* Create a model that will look at two images and evaluate whether they are the same.\n",
        "* implement a Siamese neural network\n",
        "* implement different regularizations in the siamese network\n"
      ]
    },
    {
      "cell_type": "markdown",
      "metadata": {
        "id": "WNEPR7YFisRy"
      },
      "source": [
        "In particular we will try to identify which images match in the USPS and MNIST Dataset.\n",
        "Given sample $a$ from MNIST and sample $b$ from USPS, are they the same number?"
      ]
    },
    {
      "cell_type": "code",
      "metadata": {
        "id": "lAKgPXgLisRy"
      },
      "source": [
        "from torchvision import datasets\n",
        "import torchvision.transforms as transforms\n",
        "import torch\n",
        "import numpy as np"
      ],
      "execution_count": null,
      "outputs": []
    },
    {
      "cell_type": "markdown",
      "metadata": {
        "id": "DaQ6JLMRisRz"
      },
      "source": [
        "## Load the USPS Dataset"
      ]
    },
    {
      "cell_type": "code",
      "metadata": {
        "colab": {
          "base_uri": "https://localhost:8080/",
          "height": 148,
          "referenced_widgets": [
            "e36505fcc287423ebdc46e3c54c94b46",
            "4a15a2a9127d4decafff87dea6c0e0fa",
            "c3b8b07a4fe843fb8f216f5c41fb123c",
            "06d16fa12ed447d88cf1006bfecacf00",
            "a4fc50de3d4c4018b5ee15f1a8cea9c4",
            "ee2ce90c9eac4c1ead98c2c1cb7d17c3",
            "1aacf92984f24cbaa3948f2b45c4d5a1",
            "98a8dd2273dc41e9a4ce737d70654860",
            "4ed38a5ac90842d4985e2eae0bd7aea4",
            "2553a8aab6ed47f8ab1fde80f415f08e",
            "ad5b015d1d7645d6a396af2bab6bf330",
            "5cb7d6adfa9a4448ae4441c37cad2fc3",
            "ae071f7bc61c4a6c80bd5b7d89ad92fe",
            "69444d98256a42b2b85e34931bd5a18c",
            "ff3040f48c154cf694598a3ad04baa66",
            "3295a20bb9f343d8a703d3e9eaba1f36"
          ]
        },
        "id": "dtUY-tGcisRz",
        "outputId": "d086e3e0-1a99-4c39-919c-8eb2b97dbf6d"
      },
      "source": [
        "transform = transforms.Compose(\n",
        "    [transforms.ToTensor()])\n",
        "usps_trainset = datasets.USPS(root='./data', train=True, download=True, transform=transform)\n",
        "usps_testset = datasets.USPS(root='./data', train=False, download=True, transform=transform)"
      ],
      "execution_count": null,
      "outputs": [
        {
          "output_type": "stream",
          "text": [
            "Downloading https://www.csie.ntu.edu.tw/~cjlin/libsvmtools/datasets/multiclass/usps.bz2 to ./data/usps.bz2\n"
          ],
          "name": "stdout"
        },
        {
          "output_type": "display_data",
          "data": {
            "application/vnd.jupyter.widget-view+json": {
              "model_id": "e36505fcc287423ebdc46e3c54c94b46",
              "version_minor": 0,
              "version_major": 2
            },
            "text/plain": [
              "HBox(children=(FloatProgress(value=1.0, bar_style='info', max=1.0), HTML(value='')))"
            ]
          },
          "metadata": {
            "tags": []
          }
        },
        {
          "output_type": "stream",
          "text": [
            "\n",
            "Downloading https://www.csie.ntu.edu.tw/~cjlin/libsvmtools/datasets/multiclass/usps.t.bz2 to ./data/usps.t.bz2\n"
          ],
          "name": "stdout"
        },
        {
          "output_type": "display_data",
          "data": {
            "application/vnd.jupyter.widget-view+json": {
              "model_id": "4ed38a5ac90842d4985e2eae0bd7aea4",
              "version_minor": 0,
              "version_major": 2
            },
            "text/plain": [
              "HBox(children=(FloatProgress(value=1.0, bar_style='info', max=1.0), HTML(value='')))"
            ]
          },
          "metadata": {
            "tags": []
          }
        },
        {
          "output_type": "stream",
          "text": [
            "\n"
          ],
          "name": "stdout"
        }
      ]
    },
    {
      "cell_type": "code",
      "metadata": {
        "colab": {
          "base_uri": "https://localhost:8080/"
        },
        "id": "gNa_jSunisRz",
        "outputId": "7d38a593-5325-4e7d-f01a-7d83430630f5"
      },
      "source": [
        "usps_trainset[0][0].shape"
      ],
      "execution_count": null,
      "outputs": [
        {
          "output_type": "execute_result",
          "data": {
            "text/plain": [
              "torch.Size([1, 16, 16])"
            ]
          },
          "metadata": {
            "tags": []
          },
          "execution_count": 3
        }
      ]
    },
    {
      "cell_type": "code",
      "metadata": {
        "colab": {
          "base_uri": "https://localhost:8080/",
          "height": 284
        },
        "id": "Uz2OOlKhisR0",
        "outputId": "072cf8d5-4ed7-443c-de93-34adc0cb5573"
      },
      "source": [
        "import matplotlib.pyplot as plt\n",
        "fig = plt.figure()\n",
        "for i in range(6):\n",
        "  plt.subplot(2,3,i+1)\n",
        "  plt.tight_layout()\n",
        "  plt.imshow(usps_trainset[i][0].reshape(16,16), cmap='gray', interpolation='none')\n",
        "  plt.title(\"y = {}\".format(usps_trainset[i][1]))\n",
        "  plt.xticks([])\n",
        "  plt.yticks([])"
      ],
      "execution_count": null,
      "outputs": [
        {
          "output_type": "display_data",
          "data": {
            "image/png": "[encoded data removed]",
            "text/plain": [
              "<Figure size 432x288 with 6 Axes>"
            ]
          },
          "metadata": {
            "tags": []
          }
        }
      ]
    },
    {
      "cell_type": "markdown",
      "metadata": {
        "id": "trLRLkioisR0"
      },
      "source": [
        "## Load the MNIST Dataset"
      ]
    },
    {
      "cell_type": "code",
      "metadata": {
        "colab": {
          "base_uri": "https://localhost:8080/",
          "height": 400,
          "referenced_widgets": [
            "149c5c0c73b142119da7bad28831f0ad",
            "feef3e05eb4946aca9479ac3473c9158",
            "5c559ee8e0944831a23b18a24984244c",
            "cfbd3d7fe1554eada65a17f8b481c0cd",
            "a617325c7d79436d87cc387461e9adad",
            "3ff22ece1ab649009ac914df78d09021",
            "3753919a8a3648ed8438433af09e713d",
            "9dff981cb0de42fbb4c1b4ff3a14f475",
            "1ad6bf81b39e4f72ba22f3fee403b1cd",
            "5b61bedb21f34bbc88c75ed431dbee1b",
            "59574496fd7740829a714a75e4e1a9b2",
            "0348ce59f6814365b86101d3c652a550",
            "944fd77f2bb84137a21a905eefad889e",
            "ba03a5eb21e14dc6990490615a4ae23e",
            "988eb9346caa49b08240de51d1c42f80",
            "b165f61f853a45afa0eb160153377515",
            "298182faaeec41a29898196e471acf55",
            "bb815c10a00248d48125e6dcb67485e2",
            "6cc2abbb861c4c479a26968eff902460",
            "556f10f6100447aabb2ef5df6277b12e",
            "2cce6801fef84606bb0b411b89ef527d",
            "e18c42b5aa9e4518b4edc92845ef4db9",
            "5c5803f2bd0c4b349af2387ef4893189",
            "215e4a05c16943cc94da0aca2d85259f",
            "cd81e06eba8248b2a77e49f318a98b53",
            "b9e93016fb954c93b8bfea0f4d84710c",
            "d971573e534e43e0b5e12704eb62d658",
            "5b86e0d03ad64a95ba4a08c5ce44646a",
            "05cea843bc604b3f9ff6888d75c14ef0",
            "60ead9bb3cab43c19d87745b53cd3325",
            "5aec6df3d4044c7b8b61fc0dfaa38ba2",
            "8011a4058dce415d82871c9b5f093294"
          ]
        },
        "id": "uKwIy7KQisR1",
        "outputId": "2299021e-b9fa-4014-9258-e7c8711fadef"
      },
      "source": [
        "mnist_trainset = datasets.MNIST(root='./data', train=True, download=True, transform=transform)\n",
        "mnist_testset = datasets.MNIST(root='./data', train=False, download=True, transform=transform)"
      ],
      "execution_count": null,
      "outputs": [
        {
          "output_type": "stream",
          "text": [
            "Downloading http://yann.lecun.com/exdb/mnist/train-images-idx3-ubyte.gz to ./data/MNIST/raw/train-images-idx3-ubyte.gz\n"
          ],
          "name": "stdout"
        },
        {
          "output_type": "display_data",
          "data": {
            "application/vnd.jupyter.widget-view+json": {
              "model_id": "149c5c0c73b142119da7bad28831f0ad",
              "version_minor": 0,
              "version_major": 2
            },
            "text/plain": [
              "HBox(children=(FloatProgress(value=1.0, bar_style='info', max=1.0), HTML(value='')))"
            ]
          },
          "metadata": {
            "tags": []
          }
        },
        {
          "output_type": "stream",
          "text": [
            "Extracting ./data/MNIST/raw/train-images-idx3-ubyte.gz to ./data/MNIST/raw\n",
            "Downloading http://yann.lecun.com/exdb/mnist/train-labels-idx1-ubyte.gz to ./data/MNIST/raw/train-labels-idx1-ubyte.gz\n"
          ],
          "name": "stdout"
        },
        {
          "output_type": "display_data",
          "data": {
            "application/vnd.jupyter.widget-view+json": {
              "model_id": "1ad6bf81b39e4f72ba22f3fee403b1cd",
              "version_minor": 0,
              "version_major": 2
            },
            "text/plain": [
              "HBox(children=(FloatProgress(value=1.0, bar_style='info', max=1.0), HTML(value='')))"
            ]
          },
          "metadata": {
            "tags": []
          }
        },
        {
          "output_type": "stream",
          "text": [
            "Extracting ./data/MNIST/raw/train-labels-idx1-ubyte.gz to ./data/MNIST/raw\n",
            "Downloading http://yann.lecun.com/exdb/mnist/t10k-images-idx3-ubyte.gz to ./data/MNIST/raw/t10k-images-idx3-ubyte.gz\n",
            "\n",
            "\n"
          ],
          "name": "stdout"
        },
        {
          "output_type": "display_data",
          "data": {
            "application/vnd.jupyter.widget-view+json": {
              "model_id": "298182faaeec41a29898196e471acf55",
              "version_minor": 0,
              "version_major": 2
            },
            "text/plain": [
              "HBox(children=(FloatProgress(value=1.0, bar_style='info', max=1.0), HTML(value='')))"
            ]
          },
          "metadata": {
            "tags": []
          }
        },
        {
          "output_type": "stream",
          "text": [
            "Extracting ./data/MNIST/raw/t10k-images-idx3-ubyte.gz to ./data/MNIST/raw\n",
            "Downloading http://yann.lecun.com/exdb/mnist/t10k-labels-idx1-ubyte.gz to ./data/MNIST/raw/t10k-labels-idx1-ubyte.gz\n"
          ],
          "name": "stdout"
        },
        {
          "output_type": "display_data",
          "data": {
            "application/vnd.jupyter.widget-view+json": {
              "model_id": "cd81e06eba8248b2a77e49f318a98b53",
              "version_minor": 0,
              "version_major": 2
            },
            "text/plain": [
              "HBox(children=(FloatProgress(value=1.0, bar_style='info', max=1.0), HTML(value='')))"
            ]
          },
          "metadata": {
            "tags": []
          }
        },
        {
          "output_type": "stream",
          "text": [
            "Extracting ./data/MNIST/raw/t10k-labels-idx1-ubyte.gz to ./data/MNIST/raw\n",
            "Processing...\n",
            "Done!\n"
          ],
          "name": "stdout"
        },
        {
          "output_type": "stream",
          "text": [
            "/usr/local/lib/python3.6/dist-packages/torchvision/datasets/mnist.py:480: UserWarning: The given NumPy array is not writeable, and PyTorch does not support non-writeable tensors. This means you can write to the underlying (supposedly non-writeable) NumPy array using the tensor. You may want to copy the array to protect its data or make it writeable before converting it to a tensor. This type of warning will be suppressed for the rest of this program. (Triggered internally at  /pytorch/torch/csrc/utils/tensor_numpy.cpp:141.)\n",
            "  return torch.from_numpy(parsed.astype(m[2], copy=False)).view(*s)\n"
          ],
          "name": "stderr"
        }
      ]
    },
    {
      "cell_type": "code",
      "metadata": {
        "colab": {
          "base_uri": "https://localhost:8080/"
        },
        "id": "oKifgwBiisR1",
        "outputId": "0ef8268d-b5eb-411a-9ea3-7b7cfb4e05f9"
      },
      "source": [
        "mnist_trainset[0][0].shape"
      ],
      "execution_count": null,
      "outputs": [
        {
          "output_type": "execute_result",
          "data": {
            "text/plain": [
              "torch.Size([1, 28, 28])"
            ]
          },
          "metadata": {
            "tags": []
          },
          "execution_count": 6
        }
      ]
    },
    {
      "cell_type": "code",
      "metadata": {
        "colab": {
          "base_uri": "https://localhost:8080/",
          "height": 301
        },
        "id": "eP839o7misR1",
        "outputId": "30281d0e-95b5-4a07-9ece-0b5d7b6694c4"
      },
      "source": [
        "fig = plt.figure()\n",
        "for i in range(6):\n",
        "  plt.subplot(2,3,i+1)\n",
        "  plt.tight_layout()\n",
        "  plt.imshow(mnist_trainset[i][0].reshape(28,28), cmap='gray', interpolation='none')\n",
        "  plt.title(\"y = {}\".format(mnist_trainset[i][1]))\n",
        "  plt.xticks([])\n",
        "  plt.yticks([])"
      ],
      "execution_count": null,
      "outputs": [
        {
          "output_type": "stream",
          "text": [
            "\n"
          ],
          "name": "stdout"
        },
        {
          "output_type": "display_data",
          "data": {
            "image/png": "[encoded data removed]",
            "text/plain": [
              "<Figure size 432x288 with 6 Axes>"
            ]
          },
          "metadata": {
            "tags": []
          }
        }
      ]
    },
    {
      "cell_type": "markdown",
      "metadata": {
        "id": "AgTZodW2isR1"
      },
      "source": [
        "## Create the Dataloaders"
      ]
    },
    {
      "cell_type": "code",
      "metadata": {
        "id": "7i7AVIxAisR2"
      },
      "source": [
        "train_mnist = torch.utils.data.DataLoader(mnist_trainset, batch_size=128, shuffle=True, drop_last=True)\n",
        "train_usps = torch.utils.data.DataLoader(usps_trainset, batch_size=128, shuffle=True, drop_last=True)"
      ],
      "execution_count": null,
      "outputs": []
    },
    {
      "cell_type": "markdown",
      "metadata": {
        "id": "tOnMiZK9isR2"
      },
      "source": [
        "To get a picture of what is happening, we are going to create a dummy validation set."
      ]
    },
    {
      "cell_type": "code",
      "metadata": {
        "colab": {
          "base_uri": "https://localhost:8080/",
          "height": 152
        },
        "id": "rYWOnfMDisR2",
        "outputId": "5eac82e2-3e42-4062-a121-879ba66039f7"
      },
      "source": [
        "def get_dummy_val(dataset, size):\n",
        "    dummy_val = torch.Tensor(10, size, size)\n",
        "    idx = np.ones(10, dtype=int)*-1\n",
        "    count = 0\n",
        "    for i, x in enumerate(dataset):\n",
        "        if idx[x[1]] != -1:\n",
        "            continue\n",
        "        else:\n",
        "            idx[x[1]] = i\n",
        "            dummy_val[x[1]] = x[0]\n",
        "            count += 1\n",
        "        if count == 10:\n",
        "            break\n",
        "    return dummy_val\n",
        "\n",
        "mnist_val = get_dummy_val(mnist_testset, 28)\n",
        "usps_val = get_dummy_val(usps_testset, 16)\n",
        "\n",
        "fig, axes = plt.subplots(2, 10, figsize=(9,2))\n",
        "for i in range(10):\n",
        "    ax = axes[0][i%10]\n",
        "    ax.imshow(mnist_val[i].reshape(28,28), cmap='gray', interpolation='none')\n",
        "    ax.set_title(\"y = {}\".format(i))\n",
        "    ax.set_xticks([])\n",
        "    ax.set_yticks([])\n",
        "    \n",
        "    ax = axes[1][i%10]\n",
        "    ax.imshow(usps_val[i].reshape(16,16), cmap='gray', interpolation='none')\n",
        "    ax.set_xticks([])\n",
        "    ax.set_yticks([])"
      ],
      "execution_count": null,
      "outputs": [
        {
          "output_type": "display_data",
          "data": {
            "image/png": "[encoded data removed]",
            "text/plain": [
              "<Figure size 648x144 with 20 Axes>"
            ]
          },
          "metadata": {
            "tags": []
          }
        }
      ]
    },
    {
      "cell_type": "code",
      "metadata": {
        "id": "8HAwAZiOisR2"
      },
      "source": [
        "mnist_val = mnist_val.view(10,-1).unsqueeze(1) #(10, 1, 28*28)\n",
        "usps_val = usps_val.view(10,-1).unsqueeze(0) #(1, 10, 16*16)\n",
        "\n",
        "mnist_val = mnist_val.repeat(1,10,1) #(10,10,28*28)\n",
        "usps_val = usps_val.repeat(10,1,1)   #(10,10,16*16)\n",
        "\n",
        "val = torch.cat([mnist_val, usps_val],-1).reshape(100,-1)\n",
        "mnist_val = val[:,:28*28]\n",
        "usps_val = val[:,28*28:]"
      ],
      "execution_count": null,
      "outputs": []
    },
    {
      "cell_type": "code",
      "metadata": {
        "colab": {
          "base_uri": "https://localhost:8080/"
        },
        "id": "9tfBPVZuisR3",
        "outputId": "8de7e267-2bd1-4a65-e4a6-f8aa3b1f3af2"
      },
      "source": [
        "print(val.shape)"
      ],
      "execution_count": null,
      "outputs": [
        {
          "output_type": "stream",
          "text": [
            "torch.Size([100, 1040])\n"
          ],
          "name": "stdout"
        }
      ]
    },
    {
      "cell_type": "code",
      "metadata": {
        "colab": {
          "base_uri": "https://localhost:8080/",
          "height": 136
        },
        "id": "kg5mjffXisR3",
        "outputId": "3dd0f7b9-46fc-4782-f33f-a2c574e95252"
      },
      "source": [
        "fig, axes = plt.subplots(2, 20, figsize=(18, 2))\n",
        "for i in range(20):\n",
        "    ax = axes[0][i]\n",
        "    ax.imshow(mnist_val[i].reshape(28,28), cmap='gray', interpolation='none')\n",
        "    ax.set_xticks([])\n",
        "    ax.set_yticks([])\n",
        "    \n",
        "    ax = axes[1][i]\n",
        "    ax.imshow(usps_val[i].reshape(16,16), cmap='gray', interpolation='none')\n",
        "    ax.set_xticks([])\n",
        "    ax.set_yticks([])\n",
        "# plt.tight_layout()"
      ],
      "execution_count": null,
      "outputs": [
        {
          "output_type": "display_data",
          "data": {
            "image/png": "[encoded data removed]",
            "text/plain": [
              "<Figure size 1296x144 with 40 Axes>"
            ]
          },
          "metadata": {
            "tags": []
          }
        }
      ]
    },
    {
      "cell_type": "code",
      "metadata": {
        "id": "HaB4E4e7isR3"
      },
      "source": [
        "val_label = torch.eye(10).reshape(-1)\n",
        "np_val_label = np.eye(10, dtype=int).reshape(-1) # just so we do not keep on changing the datatype of this"
      ],
      "execution_count": null,
      "outputs": []
    },
    {
      "cell_type": "markdown",
      "metadata": {
        "id": "Y9KqvrB2isR3"
      },
      "source": [
        "## Training Loop\n",
        "\n",
        "Let's create the training loop beforehand because we will experiment with different regularizations. Since the dataset is imbalaced (about 1/10 of the samples match in each batch if we sample independently from both datasets), we are going to use the AUC as the validation metric."
      ]
    },
    {
      "cell_type": "code",
      "metadata": {
        "id": "wa8OXfk0isR4"
      },
      "source": [
        "import sklearn.metrics as metrics\n",
        "\n",
        "def train(model, data1, data2, val_data, num_epoch, loss_func, optimizer, device):\n",
        "    for i in range(num_epoch):\n",
        "        model.train()\n",
        "        data = zip(data1, data2)\n",
        "        for (x1, y1), (x2, y2) in data:        \n",
        "            # move the data to gpu\n",
        "            x1, x2 = x1.to(device), x2.to(device) \n",
        "            y = ((y1 == y2)*1.0).view(-1,1).to(device) # 1 if they match, 0 otherwise\n",
        "    \n",
        "            # reset the gradients\n",
        "            optimizer.zero_grad() \n",
        "            # x1.shape = (batch, 1, 28,28)\n",
        "            y_hat = model(x1.view(-1, 28*28), x2.view(-1, 16*16))\n",
        "            batch_loss = loss_func(y_hat, y, model)\n",
        "            batch_loss.backward() # autodiff\n",
        "            optimizer.step() # weight update\n",
        "        \n",
        "        model.eval()\n",
        "        with torch.no_grad():\n",
        "            pred = model(val_data[0].to(device), val_data[1].to(device))\n",
        "            val_loss = loss_func(pred, val_label.to(device), model)\n",
        "            pred = pred[0].detach().cpu().numpy() \n",
        "\n",
        "            fpr, tpr, thresholds = metrics.roc_curve(np_val_label,pred.reshape(-1))\n",
        "            auc = metrics.auc(fpr, tpr)\n",
        "            \n",
        "        print(i, batch_loss.item(), val_loss.item(), auc)\n",
        "    return model"
      ],
      "execution_count": null,
      "outputs": []
    },
    {
      "cell_type": "markdown",
      "metadata": {
        "id": "QKNIA2zcisR4"
      },
      "source": [
        "# Create our matching neural networks\n",
        "\n",
        "One way of pattern matching is to simply create 2 parallel neural networks and then concatene the representation learned at some point. You can then formulate this as a binary classification problem like the example below:"
      ]
    },
    {
      "cell_type": "markdown",
      "metadata": {
        "id": "qSqWGrqCfxJj"
      },
      "source": [
        "![Screenshot from 2021-02-03 15-04-09.png](data:image/png;base64,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)"
      ]
    },
    {
      "cell_type": "code",
      "metadata": {
        "id": "jHZyVfSMisR4"
      },
      "source": [
        "import torch.nn as nn\n",
        "import torch.nn.functional as F\n",
        "\n",
        "class MatchingNetworkV1(nn.Module):\n",
        "    def __init__(self, mnist_in, usps_in):\n",
        "        super(MatchingNetworkV1, self).__init__()\n",
        "        self.layer1_mnist = nn.Linear(mnist_in, 64)\n",
        "        self.layer1_usps = nn.Linear(usps_in, 64)\n",
        "        \n",
        "        self.layer2_mnist = nn.Linear(64, 32)\n",
        "        self.layer2_usps = nn.Linear(64, 32)\n",
        "        \n",
        "        self.layer3_mnist = nn.Linear(32, 16)\n",
        "        self.layer3_usps = nn.Linear(32, 16)\n",
        "        \n",
        "        self.out = nn.Linear(32,1)\n",
        "    \n",
        "    def forward(self, x1, x2):\n",
        "        x1 = F.relu(self.layer1_mnist(x1))\n",
        "        x1 = F.relu(self.layer2_mnist(x1))\n",
        "        x1 = F.relu(self.layer3_mnis(x1))\n",
        "        \n",
        "        x2 = F.relu(self.layer1_usps(x2))\n",
        "        x2 = F.relu(self.layer2_usps(x2))\n",
        "        x2 = F.relu(self.layer3_usps(x2))\n",
        "        return self.out(torch.cat([x1,x2], -1))"
      ],
      "execution_count": null,
      "outputs": []
    },
    {
      "cell_type": "markdown",
      "metadata": {
        "id": "ntJ1dWNOisR5"
      },
      "source": [
        "The one above is a viable option but it is prone to overfitting due to overparametrization. Furthermore, it does not take advantage of the fact that higher-level representations of the features may have similar patterns and thus we can share the parameters like the example below."
      ]
    },
    {
      "cell_type": "markdown",
      "metadata": {
        "id": "hUrBM9bVgyX2"
      },
      "source": [
        "![Screenshot from 2021-02-03 15-08-48.png](data:image/png;base64,iVBORw0KGgoAAAANSUhEUgAAAk0AAAEbCAYAAADHxbAvAAAABHNCSVQICAgIfAhkiAAAABl0RVh0U29mdHdhcmUAZ25vbWUtc2NyZWVuc2hvdO8Dvz4AACAASURBVHic7N17cBTnnTf671y75yJpRvcLFwnbYJFgLJANIgEbsbwxEL8nMbXZExOnNoud3Q3enIohPpVAXF4bJ7Ux2FUbs/bJWnGKGFKJA9nEx8KveSP7YAd8l712kCG2xUUSEhLSzGguPTM9M+cP8TTdoxGMQdJo0PdTNQWaS/czDQlfP8+vf48plUqlQEREREQXZc71AIiIiIjyAUMTERERURYYmoiIiIiywNBERERElAWGJiIiIqIsMDQRERERZYGhiYiIiCgLDE1EREREWWBoIiIiIsoCQxMRERFRFhiaiIiIiLLA0ERERESUBYYmIiIioiwwNBERERFlgaGJiIiIKAsMTURERERZYGgiIiIiygJDExEREVEWrLkeAFGu/PnPf0ZbW1vOzr9q1SosW7YsZ+cfy8svv4zXXnstZ+dfs2YNGhsbc3Z+AHjxxRfx1ltv5ez8X/nKV7BgwYKcnZ+IMmNoomnrnXfeQXfnUdQUJif93N0BM95+u2hKhqa33noLPT09KC8vn/Rz9/T04N133815aHrzzTfR29uLsrKyST93V1cX3n//fYYmoimIoYmmtc+VJ7CpKTrp5911REIKqUk/bzZSqRQWLFiAr3/965N+7ieffHLSz5lJKpXC4sWLcccdd0z6uR9//HGkUlPz7wbRdMeaJiIiIqIsMDQRERERZYGhiYiIiCgLDE1EREREWWBoIiIiIsoCQxMRERFRFhiaiIiIiLLA0ERERESUBYYmIiIioiwwNBERERFlgaGJiIiIKAvjvvfcRx99NN6HnJbMZjNcLhdKSkogy3Kuh0NERDTtjXtoqq+vH+9DTksejwdf+tKX8IMf/AALFy7M9XCIiIimPS7PEREREWWBoYmIiIgoCwxNRERERFlgaCIiIiLKAkMTERERURYYmoiIiIiyMO4tByaT6GVUUVEBSZJgMplgMplgsVggSRIkSYLVaoXJZEJBQQEKCgpgs9m0z6uqCr/fD5/Ph1gshmQyiUgkguHhYQwNDWF4eBiJRCKH35CIiIimirwNTVarVQtMCxYsgNvthsVigdlshs1mg9vthtvtht1uh8ViQUVFBcrKyuBwOLRjxGIxdHd3o7u7G+FwGPF4HD6fD93d3fjkk08QjUYRjUaRSqWQSqVy+G2JiIgo1/I2NBUVFaGmpgZz587F0qVLUVRUpM0q2Ww2FBQUaKHJarVmDE3RaBQ9PT3o6upCOBxGLBbDwMAA/vrXvyIWi2FwcFALTKqqctaJiIhoGsvb0FRXV4dly5Zh6dKlWLhwIQoKCmCxWGAymQAAFotFC1Emkwl2u92wNAcANpsNlZWV8Hq9SCaTUFUVPp8PxcXFCAQC6O7uhtVqhaqqCIfDiEQinHEiIiKapvI2NMmyDI/Hg7KyMpSUlGjLc4IIS4LZbDb8LN4jwpSYTUqlUigsLITT6dRmqVKpFMxm1swTERFNZ3kTmmw2mxZigJHluaKiIrjdbkiSpNUuAdCW1JLJpPazKPQGoAUgUTRuNpu1UGW32yHLMmRZhsPhgNPp1GqbTCYTZ5qIiIimqbwJTUVFRSgvL0dxcTEA4LrrrkN1dbWhlkkvHo9rQSmZTCIUCkFRFACA3W7XApPL5YLT6dRCk9VqhdPphNfr1e7KCwaDiMfjGB4envTvTURERFND3oSmWbNmYcmSJZg/fz4A4Nprr8W1116L6upqLQQJ+tYBsVgMqqqip6cH/f39MJlMcLvdsFqtkCQJ1dXVqK6uhs1mg9lshtPpRFlZGebMmYPBwUEMDw+jv78fiUQCAwMDLAYnIiKapqZ8aLLZbHC5XJg1axbmz5+PRYsWAQBKSkrg8XgAAIFAAIlEAvF4HAMDA/joo49w9uxZLTQlk0kMDg7C7/cDABwOBywWCwoKCrBw4UIsWrQIXq8XZrMZsixr4amoqAgWiwWKomh9oIiIiGh6mtKhSbQPKCoqQlVVFerq6nDdddcBgFbAnUgkMDw8jHg8jmAwiGPHjuHFF1/E6dOnMTw8DFVVtZknsTwnZpU8Hg/MZjMqKyuRSqVgtVpRVFSkHd/hcCCVSsHhcMBmszE0ERERTWNTPjSJ2R+Xy4XCwkJtdgm4UOAdjUYRi8UQDoe1PksnTpxAMBhEIpFAKpVCPB5HPB4HAK01QUlJCfr7+xEMBqEoitYwExgpFrdarbBarVqxOBEREU1fUzo0CentA4RkMolEIoFYLKaFJzGzJO5y03fz1m+zIkKR+L14zWQyaZ8Xx9cfj4iIiKanKR+aLBYLZFk2tBQARrp5Dw8P49SpUzhy5Aj8fj9CoRBOnz6Nvr4+BINBrZ4plUohkUjAYrGgpKQEVVVVWp+nOXPmoLy8HF6vVzuX2Hvu1KlTGB4exsDAAPx+v9aygIiIiKafKR+agJEZpWAwiL6+Ppw8eRIAEAqFcO7cORw7dgyvvPIKzp07B0VRtLvdFEUx3OmWTCYhSRLKy8uxYMECFBUVobCwENdccw1KS0vh8Xi0Giq/349AIIC+vj74fD4tkDE0ERERTV9TOjSJmqWhoSEcO3YMFosFp06dAgCEw2EMDQ3hxIkTaG9vRyAQQDweh6qqiMViGZfTxB50n//851FRUQGn04na2lp4PB44nU4A0BpYipmsQCCgzVoRERHR9DXlQ5OiKOjt7UUsFsPJkydRUFAAAIjFYtrM0rlz5xCPx7X6pbHqjywWC4qKijBr1izMmDEDkiShtLQUkiQZCr15lxwRERGlm9KhCYB251soFILJZEI0GgUw0vE7Go1CURTE4/GsirVFEbgkSXA4HFrbAt4ZR0RERJcy5UOTIJbdRMARLQT0M0xjMZlMkCQJhYWFKCwshMPhgCRJsNls2hYs4q65RCIBRVEQiUS0h7grj3fQERERTV95FZoikQhUVQVwod1ANmHGbDajtLQUc+bMwezZs1FSUoLCwkJtKxURxMQedYODg+jv78fAwAAGBwcRjUYRiUQYmoiIiKaxvApNiURCW54DcMn6JdHEUpIkzJ49GzfccAPmzZuHsrIy7W450cZA9Hs6d+4curq60NXVhb6+PgwNDSGZTGpLgERERDQ95U1oAi4ekvTMZrO2FCfLMhwOB2688UYsXboU9fX1KCoqgt1uBwAtiIlZpo8//hjvv/8+Ojs7EQgEtBkmzjIRERFNb3kVmrJlNpvhcrlQXl4Ot9sNp9OJOXPm4LrrrkN1dbW2Ya8oMo/FYkgkEgiFQuju7sann36K3t5eQ68nhiYiIqLp7aoMTcDIprxizzqn06ntW+d0OrVlOzGDlEwmtSW4UCikzTCJfeuIiIiIrsrQJGqV7HY7JEmCJEmGu+QE0TwzFAohHo8jGAwiHA5rbQwYmIiIiEi4akOTw+FAcXExSktL4XA4UFBQALvdbghOiUQCQ0ND6OrqQiQS0TqM9/b2IhgMsvCbiIiINFdVaDKbzZBlGRUVFbjmmmswd+5clJWVwW63o7y8HHa7HbFYzFD4/emnn+Lo0aPw+/0IBoP461//irNnzyISiTA0ERERkeaqCk1ib7klS5agoaEB8+bNQ3FxMSwWCyorK2Gz2bSNeMXecu+//z7eeecdrR/T6dOnEQwGDZv9EhEREV1Voclms6GsrAwNDQ1YvHgxamtrUVhYCJPJBFmWkUqlEAgE0N3djWAwCL/fj+PHj+Mvf/kLBgYGkEgkEA6HuTkvERERjXJVhSaTyQS73Y6ioiIUFRWhoKAAbrcbwMjSndh2JRKJIBwOIxwOIxgMYnh4GMPDw1oLAhaAExERUbq8D036rt42mw12ux2yLMNutxs24hWBKBgMor+/H36/XwtLotu3eDA0ERERUbq8D00WiwUOhwNmsxlutxsejwfl5eUoKiqCJElaoFJVFaFQCF1dXXj//fe1Yu+uri4Eg0FtSY7F3/nr4YcfhizLWLlyJRobG3M9nCnjwQcfRGVlJRobG6ftdfnpT3+KwsLCaX0NiOjK5XVoslgscLlcmDlzJmRZRmFhIerq6lBRUaG1GLBYLEgmkwiHwxgYGMCJEydw9OhR9PT0IB6PY3h4GOFwmIXfV4n33nsP7e3tkCQJS5YswW233Yba2tpcDyunotEoXn31VRw6dAgOhwO33norli9fPq2uy9DQEN5//30cOnQIXq8XS5cunXbXgIiuXF6HJpvNhoqKCtx6660oLi5GQUEBZs2ahbKyMsiyrHX+TiaTOHfuHD799FN0dnait7cXAwMDUFUV8XicgekqIpZWo9EoDh8+rP0j2dzcjBUrVqCsrCzHI8wNcV0ikQgOHjyIAwcOoLi4GF/+8pexePHiaXFdxDUYGhrCSy+9hAMHDqCmpgarVq2aNteAiK5MXocmi8UCr9eLG264ATU1NXC5XPB6vSgqKoLNZtOaWCaTSa3VwNmzZxEIBLTmlflQv/TRRx9x2TALkUjE8LOqqgBG/pH8wx/+gH379qGmpga33347Fi9enIshGiiKgjNnzkz4ecR1SP95cHAQe/fuxe7duzFv3jysXLlySlyXcDg87tcl/RqI/1Dq7u7Gs88+i927d6OhoQFLliyZEtdgcHAQR48endRzWiwWzJs3b1LPSZRv8jo0iSJwWZbhcDjgcDi0AvD0LVOSySRUVYWqqnlX8P3oo4+OCgQ0mtU69l9n8Y9md3c3nnrqKQDANddcg/JJGVlm7733Pt57b/OEn8dut4/5mrgux44dw7FjxwCMXJeCgoIJH1cmyWQSb775Jt58881xPa4kSRc9JwC0t7ejvb1d20UgV1RVxRtvvIE33nhj0s993333seaL6CLyNjTZbDa4XC4UFhbC5XJpG/NKkgSTyYRYLIZEIoFEIgFFUTAwMIC+vj74fD7E4/FcD/8z+f73v8+Zpiw8++yzOHHiRMbXrFYrVFVFTU0NvvzlL6OxsREtLS1Az7HJHaTOwoULcdddd034eR5//HF0d3dnfE1cl7lz52oF9E888cSEj2ksZrMZN998M772ta+N63Evdg3MZjOSySRuvPFGLFmyBI2NjdixY8e4nv+zsFqtWLJkCVavXj2p592+fTt71BFdQt6GJrfbjYqKCsycORMVFRVaHZPYXy4cDsPv9yMajSIcDuPYsWP48MMPcerUKSiKkjezTABw/fXX53oIeSF9dkAEAo/Hg1WrVk25miaHQ0Z1dfWEnyd9Bk5cl+LiYqxbtw6NjY1T6ro4nc5xvy7p18BisSCRSKCmpgbNzc1T7hoUFxdj/vz5k3pOu92eV/+/SJQLeRuaXC4XysrKUFVVhdLSUhQXF2tLc6lUCuFwGIODgwgGgwiFQujs7MTx48fR09PD/5q6iplMJqRSKd49l0ZcF1mWceutt2LFihXT7rqIa+DxeLB06dJpeQ2I6MrkbWgymUwwm82jHqKOKZVKaY9kMqkt1eVTLRN9dgsXLtRmDmiEJElYvnz5tO5RxGtAROMhb0KTCEkiFBUWFqKsrAxlZWXakpx4JJNJxONxbZuUUCgERVG0zt8MTVenH/3oR7kewpT04IMP5noIOcdrQETjIW9Ck9VqhSRJWm1CTU0N5s6di2uvvRZOpxNWq1ULVKJp5dmzZzE4OIhIJKLVN7EnExEREV2OvAlNTqcTxcXFKCwsBADMmzcPN9xwA+bNmweXy6WFqVgsBr/fj66uLhw/fhx9fX2IRqM4c+YMwuEwZ5mIiIjosuRNaCorK8P111+PWbNmARipXamrq0NpaanWyFJVVQQCAXzyySd45513cOTIEXR1dSGRSGBoaAjhcDjH34KIiIjyVd6EJlmW4fV6UVlZCQAoKSlBYWGh1pcJGCn+jsfjCAQCGBgYwJkzZ9DT04NUKoVoNDqqKzARERFRtvImNFmtVsiyDJfLBWDkbhiLxQKz2ay9J5VKQVVVhMNhRCIRxGIxxONxpFIpJBIJLs0RERHRZcub0CRJEoqKirQGdAUFBaO2h0gmkwiHwzh79ix8Ph+i0ah2txwDExEREV2JvAlN5eXlWLBgAW655RYAI4XhTqfT8J5YLIauri688soreP/999Hf3w9FUQCAoYmIiIiuSN6EJkmSUFhYiJKSEgAj2yBYLBbDe1KpFGKxGAKBABRFgclkgs1m+0znuVgDTH0TzYs973K5UFRUpN3ply792ENDQxgcHEQgEOAec0RERFNU3oQmk8kEi8WitRYQjSzHep/NZtO2VcmWKCTP1ARTNNe02WyGnlAAtHGJgFZZWYna2lrMmDFjzPPof/3kk09w/PhxBINBLiUSERFNUXkTmrJlNpu1APNZQ1MymdS2XEmf8REhTRxbf1yr1Qq73a7VWBUXF2PGjBljbrSbHsgikQh6enpgNpvZfJOIiGiKyj5REBEREU1jV9VMk91ux4wZM7B69WrccMMNUBTlM83cqKqKwcFBrRGmaFcgluUcDgfKy8tRUFCgLRMCF+qrxHOlpaWorq7WekqlS1+Ci8ViCIVCCIfD6OrqQjQavcwrQERERBMlb0JTIpFAPB7X7oYTtUX6ZTK73Y6amhqsWrUKkUjkMzezjMVi6OnpQW9vL/x+P2KxGJLJJCwWCyRJgtvtxuzZs1FSUmJodyCW7sRYJEmC0+mELMtQVVULSalUSlsC1BsaGsLZs2fR09OD/v5+xOPxy71MRERENEHyJjSJu+IGBwcBjNyh5na7DTM+VqsVXq8XXq/3ss/R29uLvr4+BAIBxGIxpFIpLTQ5nU7MnDkTxcXFWmhKL+oWRENNcZxEIoFEIqH9Xv/+VCoFm80GSZI+Uw0WERERTZ68CU3Dw8Po7u7G8ePHAQBVVVWorq6GLMvjdg6r1YqKigp4vd5RwUa0FJAkyRDUxOyR+L2QSCSgKApOnjwJv9+PaDQKRVHQ19eHSCRiWDbs7e3FyZMn0dvbqwU1IiIimlryJjQlEglEo1FEIhEA0NoCjCfR18lms2UMLpnaHFxqpikajSIcDkNRFEQiEfh8PoTDYUNo8vv9Wg3VWD2iiIiIKLfyJjRFo1EEAgH09/cDGOkIXlBQkHXzSrPZrBVriz5L6QFIPJdMJqGqqjbbpK9H0ksmk9r+dmL5Tf9aOBxGX18ffD4fFEVBNBqFz+cbVW81PDyMcDis1VARERHR1JM3oWloaAiffvqpFjaCwSAURYHf78/Y5FLPZDLBbrfD4XCgsLAQhYWFFw1bqqoiEAggEAhoPZvi8bhW1A1cmEny+Xzw+/3aBsFCMplENBrFmTNnEAqFtHCl3xNPCAQC8Pl8CIVC3FiYiIhoisqb0HTq1Cn09vZqYedzn/scPve5z2HWrFkwm80XDU5msxkejwdlZWWora2FJEkXDU2KoqCnpwednZ1QFAWxWAzhcBihUEgLOyIUffzxxzhx4gQGBgYQCAQMxxEzVvqap0yhSAQzMbtFREREU0/ehCYxUyPC0SeffIJQKITjx4+PuaWKYDKZ4HA44Ha7UVJSguLiYkiSNOb7FUXB4OAgzp07py29xWIxQ5F2KpWCqqro7+/HuXPnEAqFtHYIeplqncbCGSYiIqKpK29CE2BsCjk0NIRIJDKqX9JY9PvRiVv7x3q/KOCORqOG3kr6JTUxFlGrpJ9RIiIioqtPXoUmPUVRMs7sEBEREU0EdlIkIiIiygJDExEREVEWGJqIiIiIssDQRERERJQFhiYiIiKiLDA0EREREWWBoYmIiIgoCwxNRERERFnI2+aWRESU3xRFwRNPPIFIJJLroUyaL3zhC2hubs71MOgyMTQREVFOnDt3Du+++y5qa2svuon61eLs2bN44403GJryGEMTERHlhNhL9O///u9RVlaW49FMvN/85jcYHBzM9TDoCrCmiYiIiCgL4z7TZDabYTabYTKZYDKZxvvw00IymYTFYuH1IyIimkLGPTS53W7Isgy73Q6zmRNZlyMajWrXkMGJiIhoahj30HTo0CFttokuTzKZhMlkgtvtRkVFRa6HQ0RERJiA0LRw4cLxPiQRERFRznE6iIiIiCgLDE1EREREWWBoIiIiIsoCQxMRERFRFhiaiIiIiLLA0ERERESUBYYmIiIioiwwNBER0bjo7+/HoUOHEAqFcj0Uogkx7s0tiYhoeurv78dTTz0FSZKwZMkSNDY2orGxMdfDIho3DE1ERDSuotEoXnvtNRw6dAherxdLly7F8uXLUVtbm+uhEV0RhiYiIhp3yWQSADA0NISXXnoJBw4cQE1NDVatWoXFixejrKwsxyMk+uwYmmha+8tZCx55WZ7083YHzJhfbZr082bDZDLhgw8+QF9f36Sfu6enB6WlpZN+3nQmkwnvvPMOTp06Nenn7u7uxty5cyf9vCaTCf/1X/+Ftra2yz5GOBzO+HwikQAw8t327NmD3bt3o6GhAdddd91ln4soFxiaaNpavHgx/H5/Ts5dU4IpW+tx0003IRqNXtZnw+EwTp48ifr6+sv6/KxZs7Bo0aLL+ux4uvnmm/HWW29d1mev9BrU1tbmZOPzW265BadPn56086VSKaRSqUk7H9F4MKX4t5aIxsnRo0exfft27N27N9dDyZnpfA3Ed09nsViQSCRQU1OD5uZmNDY2oqysDF1dXbj//vvx4IMPTovlut/85jcYHBzED3/4w1wPhS4TZ5qIiGjciaDk8XiwdOlSrFixgoXglPcYmoiIaFyx5QBdrRiaiIhoXJSVleEf//Ef0djYCJfLlevhEI07dgQnonEze/ZsbNu2LdfDyKnpfA3Kyspwyy23TF5gUo7hd9v+Dk311agur0bd+qdxcnLOTNMUQxMRjRuXy4X58+fnehg5xWsweY49+V189z8O4pi/CHNvXY0V13lyPST6zBR0HtyFLV9bhfl1XjgcDji8VZjftA53P7wX7QO5Hp8Rl+eIiCgP9eHV1z6AAuCG7/0Gr3z/hlwPiD6zXrTetxYbftYOnwrAKsNT6oGs+NDxeis6Xm9Fy8/3YMfv92Fz4+T308uEM01ERJR/VB/8PgWAjLn1k98MlK5c55MbRwKTXI87H/sTPh2KYOjMGZwZGsKZI09jU6MH6GrFlm9twxEl16MdwdBEROPmxIkTGfv0TCe8BpMlCqgAIAHWqTELQZ+BegS7/r0VPtWD5h+/gD3fa0adW7woo3LpRjzx+x1Y6wHw0R7seTWHY9VhaCKicRMOh3H06NFcDyOneA0m3vP/XI3i8lvxyAcA4Mfv7ixGcXExqlftxLFcDy6PvP322zh06BBCodDkn/zjw2j3eeCZsRYb76rL/J4ZzWj+vAyoPnSe6J3c8Y2BNU1ERJRX5v7NJmwqP4s3f/srvNUnY95XNuJvZgJyzU1gKXj2Tp48iX379ml9tVasWDF5NzFcvxl/OrP54u9RFSjKyBKs7Jkaf7IMTURElFfmrd+Kh/+P/8bOV36Ft/okLPjaw3j4tlyPKn9Fo1EcPnwYhw4dQnFxMVauXIkVK1bkfGsb5e0W7PkQgLsZa5umxhIsQxMREVGOdHR0wGKxwGw2w2KxGH5/seckSbric+uXkVVVBQAMDg7iD3/4A/bt24eGhgZtBmqyKR+2YMNdO9GheND00HZsmDHpQ8iIoYmIxk1ZWRnWr1+f62HkFK8BZSscDuPhhx8el2PZ7fasA5f4fXd3d8ZjiQDV3t6O9vZ2PPPMM1iyZAluu+22Sdg/UEH7f27Ehvv2okOpRPNDe7DvRw2YGvNMDE1ENI4YGHgNKHtOpxNbt25FMplEKpXSHvqfx/r9eLzP5/MhHA6POT6x6bLJZJqkK9KL1u+e79s0Yy22/6IFW1dXTtK5s8PQRERElCOf+9zncnbuv/zlL+jv7zc8J4JSLjZd7v3VJmx4sh2+2jux5+U9uLN2Uk77mTA0ERERTXMiLN14441obGzELbfcMskj6MS+Z0b6Nt3xwM4pGZgAhiYiGkcnTpzAs88+O203rAV4DSj/3Hjjjdqs0qRttpxB3ZrN2PrFKjSvmVpLcnoMTUQ0btjYkdeA8seaNWvwT//0TzlvLTCiDmu/vx1rcz2MS2BoIiIimoYmq1YpK2on2n59BL0A6lbeiaYp0mIgHbdRISIiotxSjmDXdzZgwzc3oeWDXA9mbAxNREQ0TfTh6fXVuPUn/53rgVCe4vIcEY0b9ijiNZg01huw+f8bxCV2L0tTgdsf/ANuLpo7QYOiy+a+E/uG78z1KC6JM01ENG4YGKb3NThx4gRefPFFhEKhXA9lTBULbsINs6ZKf2nKNwxNREQ0LsLhMHbv3o177rkHjz76KA4dOjT5g1CO4Xfb/g5NC+pQXV2NusYv4ds/OwQ/gPTluWOP3orqO3fh+ce/ja+sakD9dQ34ysMHcbL9afxf67+Ephvr0fCl+/G7U5P/NWhqYmgiIqJx98EHH+Cpp57Ct771LTz11FOT1oah77cP4Pv/uxI/fKEDPT2f4vWn/if8P/+/seP1DG+2SsCRZ/HqnIfxX39qx+s/X42TT34bX/lZFN/Z879w5O3/wt2WZ/HIf+Qg/NGUxJommrb+/Oc/o62tLWfnX7VqFZYtW5az84/l5ZdfxmuvvXZZn43H4/D7/SgtLb3s869Zsybnt0K/+OKLeOutty7rs+NxDb7yla9gwYIFl/35qUBs+hqNRnH48GEcOnQIXq8XS5cuxW233TZhvYEUvw9Ry2wUuUaW4CoaN+E3H2wa+wMVf4O/XVcBACi66WbcYH0WWLcR82QAmIebF1XgkeOn4AdQNCEjpnzC0ETT1jvvvIOjn/iRcjVM+rlNoXYUFb09JUPTm2++iVAohM9//vOTfu63334b7777bs5D0xtvvIFYLIb6+vpJP/frr7+O9957b9JD0y9/+UucPn36io4x1uavIkANDQ3h4MGDOHDgAGpqarB48eIrOl8ms+/cik3/+x/xfzYexILlK7Dii3+D29ffjhtKxvhAcSXKxb+EsgQJRfAUX6h5kiQZSChQwNBEYoFTYgAAIABJREFUDE003dmqkfR8edJPa4mfRSo16afN2qxZs7Bu3bpJP++pU1OneGTOnDk5uQbHjx+f9HMCwCuvvIKFCxdi1qxZl32M/v5+nDx58qLvSZ3/i3/NNdfA6/Ve9rnGVLICW//Qjrs/eBUHXzmEQ/vux22PP4uH9v8Gd09+BqarDEMTEREBAG6++WZ84QtfuOzPHz16NGPxt9VqhaqqmDt3LlauXKntcdbV1XUlw81M8cOvFqFiwWp8Y8FqfOOfv4Gd61bi2f/3v3F3fcX4n4+mFYYmIiIadyIoFRcXY926dWhsbJyEPc78eP57S/FAaDN+/ug3cFOFDOXTD3DsnITZ1QxMdOUYmoiIaFzJsoxbb70VK1asQG1t7SSeuQi3P/j/4PiDj+DbX3wAfSFAql6AFX/3c/z07yoA9E3iWOhqxNBERETjoqysDPfdd19uC/krVmDzkyvG6BRegbv39eDu8z/N+97/Qs/3dC9bb8fPT91u+MQNPzqCnokZKeUhhiYiIhoXZWVlk7AER5Q7bG5JRERElAWGJiIiIqIsMDQRERERZYGhiYiIiCgLDE1EREREWWBoIiIiIsrCuLcceOmll2AymbSfTSYTzGaz4Tmz2ay9JqQushFXMpk0/JzpveK59Ncu9fNUZbVaUVpairq6OhQUFOR6OERERNPeuIemNWvWwGw2a0HJZDLB4XDAZrNpYUn8Xh+agJFAkx5qkskkVFXVXkulUtrPeolEAslk0hCwxPsTiYThePkQpDweD770pS/hBz/4ARYuXJjr4RAREU174x6aLBYLJEmCzWaDxWKB1WpFZWUlCgsLYbfbYTab4Xa7IUkSLBaL9rlEIqEFH0EEpFAopL0Wj8cRDoeRSCQMYScajSIWi0FVVcPn4/E4YrGYFpZUVUU8Hjd81mQyjZrNIiIiItIb99BkNpthsVhgs9lgtVpht9vh8XhQWlqqhanS0lK4XC5YrRdOL0KNPsyI0BMKhaCqKpLJJGKxGILBoCE0pVIpRCIRhMNhxONxwzEVRUEwGNQ+rygKIpGIYfZJhCn9c+J5IiIiImCCtlERy3LiIcKTLMuw2+0oLi5GUVER7Ha79hmz2Qyr1aot4QmJRAKKomhLb6qqIhwOG5bZUqkUgsEgQqEQotGo4bPDw8MYHBzUZqGGh4fh8/kM4SqRSCAajSIajWZc3mN4IiIionEPTaKGSCyTmc1mxONxxONxLRTZbDY4nU7Isqx9TpIkuFwuOByOix5fX+Okf254eBjDw8OG0BSPxzE4OIienh4oioJYLIaBgQFYLBYoiqK9T1VVbfZKhCZx/Ez1U0REdOVEXesvf/lL2Gy2HI9m4p09exazZs3K9TDoCnDDXiIiyomSkhKsX78+18OYVDNnzsz1EOgKjHtoEstooj7IZDIhFAohEAggFovBbrfj3LlzSKVSkCRJ+5wsy1AUxTDTJNoViBmq9LvtDF/EaoUsy4bi8ng8DlVVEY1GoSiKtiQXj8cNM03xeBwmk2lUXVMymdSez6btARERZU+W5WkXmii/TUhoEktaZrMZiUQCPp8PiUQCdrsdNpsNNpsNfr/fUNPkdDpRVFQEl8ulPSfqoUTRuMVigcVigSzLo0KU3W6HxWIxhJlEIgFZliHLsnYXncvlgs1mg6Io2nuj0SjsdrtWeA6MhKJkMolQKARFUUYVjmdqXUBERERXrwmpaYrH40gkEjCZTIjH4xgaGkIkEoHVaoXVakUqlYLb7TasYbtcLni9XhQWFmrPmUwmSJKE4uJi2O12WK1W7Q48UWQuiNf1M03JZBIFBQXweDzanXcigOlnmiKRCMxms9a2QHwPMfOkqqrhXGLWKf1uOyIiIrp6cRsVIiIioiwwNBERERFlgaGJiIiIKAsTUtNkMpkMjSf1d9MBI4XXVqvVsOWJ2WyGJEmG5paiJko0xxQ1TSaTSatrEu+z2WxaMbieOLdoUim2eRFjE7/Ksgyn02n4vKqqiEQiiEajhpomcTwWgxMREU0fE9KnSdyqL34fDocRi8VgMplgsVgQj8e1fegESZLgdDoNbQhEuwG3260VedvtdhQUFMBisWifN5lMcLvd2p52+s87nU4UFBTAZrMhlUrB4XCgurra0EJAtDpwOBxaITgAxGIxrYu5vmlmLBZDOBxGJBIxdA1ngCIiIrp6TVhzS/0sjv5uOrE5rsViMcze2Gw2BIPBUV1hrVYrHA6HFpJsNpsWovQzTR6PBx6Px9DnyWKxaNu1iHPbbDbIsmy4+070cIrFYoaWA9FoFIFAAOFw2DADZTabtf5PIixx1omIiOjqNikdwUWoEEFF9HHShyYRONKbSIqwJUKWqqpavyb9TJMkSaOaW1osFq0xpTi+6P2k7/MkekiJcKUfs74/lP64+tDFsERERHT1YyE4ERERURYYmoiIiIiyMGnLc+JXk8mk3X2WTZdti8WCRCIBs9msFYaLn/U1TYlEAvF43FDTZLVatTvfxNKdy+VCQUGBoSZKVVXY7XZ4PB7t/KlUCoqiYGhoCNFoFJFIRDtuKBSCqqraVizi3ERERHT1mpTQBBiDU/q2JMCF9gL6O+rE8yIwid+nb6NiMpng8/ngdDoN+9lZrVYUFRUhEAhAlmXYbDaUlZWhurpaKwYXn3c4HIZ970QheDQahdlsNoSmQCCAZDKJSCSCZDKJeDyuhSciIiK6Ok1aaNJLL/bWSw9T+ufFQxRl698biUQQCoUMd99ZLBZtjzlZlrV967xer+HuPYvFAqfTCZfLpR1bzDR5vV5EIhHDDBYA+Hw+2O127bukB0EWhxMREV1dchKaLiY9bGQKIukNNNObaaYfT98WQNxJp+8lpf98+rnF7JZ+HPoAR0RERNPDlAtN6dIDEmBsnimoqopYLGZYIlNVFVarFX6/H4qiQJIkuFwuDA4OGrp8i27jommmOK/oCZXe/ymZTGJoaAgOh0NriRCPx0cFKza8JCIiunpM+dAEGGePMgUREVBUVTXURJnNZsTjcW0rFkmSkEqlYLVa4XK5tJDjdDohyzIqKiq0mqhUKgWz2YySkhLY7XbDli+SJCEYDGJoaAiJRALBYFDbciV93KLonYiIiPJbXoSmdJmW4JLJZMZlNPFei8WCWCwGl8uFQCCgzRABIzNH+m1e9OdwOBza3XlCOByGy+WCLMvanXP6ZpuZxkhERET5jX2aiIiIiLLA0ERERESUhbxcnhtLpiUxfQ1U+p10+r3j9A+9THfKiWXA9AcRERFdva760JRMJg0bBMdiMSiKYgg6NpsN8XjcsLEvMBKY7HY7zGazobeUy+WC2+2G2+1GIpFAIpGAJEmGTX3FeJLJJJteEhERXQWuqtAEjA5OolBb3MUWiUQQDAYNheCiSDw9NAEjTTHTu5SLppder1c77vDwsKGxJnAhsGU6LhEREeWXqy406elnekQLgXg8jlgsZrjTLhaLGVoK6NlsNthsNkNwcjqd2iORSCAcDsNms8FqvXA5xcyWeDA0ERER5berOjTpXUmjyfSaJX0n8WzrmrjFChERUX7j3XNEREREWZg2M0166bNOYk868RAutnmw2WyG2Ww2LMMRERHR1euqD03pgUbUOOkLwcXPqqoaaptEHZO+UzgwUjhus9kgSRISiYS2d53+PfrNhImIiCj/5W1outwwIkKTqqraMcRmv9Fo1HAHnMVigcPhgMViMQQiu90OWZbhcrmQTCYRDAYhSdKoQnDgQk8n1jERERHlt7wKTelBKZvglOk96S0A9A0vMy3PieU4/fMWiwVWqxXJZFKbZdK/R988kyZHKBSCy+XK9TCIiOgqNeVDk355Lf2utfT3jfV5Mdsjwo0IOOIzIuyk1zpdrFP4xc451hhpYj322GNIJpNYuXIlFi9ezAB13oMPPgiXy4UlS5ZgxYoVuR5OTvAaENF4mFKhKVPQMJvNsFgshtv6rVZrxtCUKaToZ4msViscDgckSYLdbtfeY7VataJu0b1b319prO1VxGdEUTjbCuTesWPHcOzYMQDAihUr0NjYiMbGxhyPKrei0SiOHz+O9vZ2PPPMM1pwmD9/fq6HNmmi0Sj++te/TutrQERXbsqEJhE80rtvm81mSJJkeF38nN47Kf058bx4WCwWuN1uuFwu2Gw27b0Oh0NbatOHJmD0Up7+XCLMpc9c6b8PZ5ty589//jMOHToEh8OBW2+9FcuXL0dtbW2uh5VT0WgUr732Gg4dOgSv14ulS5fitttuQ1lZWa6HNuHE/46j0SgOHz48La8BEV2ZnIambGaLMgUUMTOUKTSlhy7gwvKbWJoTD/3yXPp5LzVTlKmp5UTNNH300UeGWivKLBKJGH4WATgSieCll17CgQMHUFxcjC9/+ctYvHhxLoZoEAqF8Omnn074eWKxmOFn8XdpaGhIuy41NTVYtWoVli9fPuHjuZTh4eFxvy7xeNzws7hLdmhoCAcPHpxy12BwcBBHjx6d1HPGYjH+Rx7RJUyZmSYa26OPPjoqENBo+rsX04kANTg4iN27d+N3v/sdqqqqAHgnaXSjffjhB9i27YMJP49+KTqduC7d3d3adSkvL0dBQcGEjyuTZDKJd955B++88864HleSpDFfEwFKfw283tz9vVBVFW+88QbeeOONST/3xf6uEFEehKb02aRMszrpr2X6/MW2PJnq/3XV0tKS6yHkhYcffhgdHR0ZX7NYLEgkErjxxhuxZMkSNDY2oqWlBR/3Zt5zcDI0NCzC3XdvnPDz/OQnP0FXV1fG19Kvyy233IJ/+7d/m/AxjcVsNqOpqQnf+MY3xvW42VyDxYsX45ZbbkFjYyP+9V//dVzP/1lYrVasWbMGd911V87GQESZ5Sw0ZSr4Tl9e0y/Hiboh0VhyrBqiSy3PWa1W7Xji8+LY+mNms58cTW3iH8Oamho0NzejsbFxStWt2O32SZnR0PcYA0b+UVZVVbsuK1asmFJ3GkqSNO7XZaxrMHPmTKxduxaNjY1T6hoQ0dQ0aaFJH0AyhR673Q6Hw2GYHjabzbDZbCgqKoLNZoPFYoEkSSgoKBjVF0lfq5Tp3OJ4sixrDSvF87Iso6qqCl6v1zCNL5pb2u32UR3BRfhKJBKGOiv9OcUWKzR5xHX3eDxYunQpVqxYMe2Lv4HR12XNmjVTKkBOBnENiouLsXLlSqxYsWLaXQMiujKTEprSl8VsNtuokOFwOFBQUACHw6E9J0JOaWmp1nFblmUUFxdrwUv7IroZpEznF7+K7U/0n7Xb7SgpKUFhYaGhI7i4Uy/9uPp+T2I2LD3E6fekY3CaHE6nE8uXL2ebgTRerxezZ8+e1rfYl5aWYvbs2bjtttsYoonosk16aBJLbOmhyWazabNN+s85HA643W7Isqz1WfJ4PLDb7aNCk5iNutg4xPv0M102mw1Op3PUVij6dgL6c6UvBYpjXawj+Ge9O48+u82bN+d6CFPS/fffn+sh5Bz/bhDReBhdAEREREREozA0EREREWVhwpfn0pe4zGaztpWJfjnL7XbD4/GgsLBQe07UNBUXF0OSJNhsNsiyrNUepS/PpdcV6ccgfs20jKffXiV9eS5T/ZVYXrTZbEgkErDZbNr7BLH8JsaUaTmOS3RERET5Y0JCU3rhtwg8ImyUl5fD5XIZgovH40FFRQWKi4u150RoKi8v1wKN3W6H2+0eFWT0504n3idCUKa74ZxOJ5xO56iaqEzbs4g78FwuF5LJJFwuF1wuF9xut/aeZDKJWCwGSZKgqqphrIlEAolEgqGJiIgoj4x7aNJvZyJ+73Q6tf3d7HY7ampq4PV6De0FSktLMWvWLFRWVhqO5XA4UFZWBkmStLvURBG4CDJio92xgoi+YNtut2vH0s9A2e12w+yV2KRXVVWta7IQjUZRUFCAoqIiJJNJhEIhFBUVoaioSHtPIpFANBqF3+9HIpHQug4Do7d0yLQhMBEREU0trGkiIiIiygJDExEREVEWJqUQXPx6qf3fMu0nl04sZY21nJX+/Hh15r7Y8tnFvk+234uIiIimtgkrBNfXNIm7y0Q3bv1DkCRJqysSzGazVvCtDxrJZHLUOUXtUfpr4u49ff2TeF7/nkzfQcgU0vTNLMV+ePoarWQyiVQqNequOkFffyXeS0RERFPXuIcmUagt7paz2WyorKxESUkJZFmGJEm4/vrrUVpaClmWtc8VFRWhvLx81EadInSJgKKqKoLBoCEcpVIpxONxxONxQ9G2ftsU/d50Ylz6c6Rv4guMhJlkMglVVUedz263o7CwUCtCj8VihjvvEokEIpEILBYL/H6/ofg7HA4jEAggEokAgDZ2USzOAEVERDT1TMjdc/oNbe12OwoKCuD1erWtSsrLy1FRUWEITW63W9v/TU8EF+BCmIhGo4aZmlQqhVgshlgsNio0SZKkjclmsyGVSmlbuejfp7/jTxxT9FdKJpOG46ZSKW0fPNFyoKioCNFoVHuPCE2Dg4MwmUyIxWLaa2azGfF43BDE9N8zfQsWIiIiyr0JCU36TWxFcJJlWXuIvkb60CQClX6JSwSWeDyuLZGJAJM++yNmavS39otwlEgkYDabtWWwTPVHmYhzpi/76Zf4xDnS980ToU7Mrun7NEWjUUODTTHDpa//IiIioqllQmqa9N2/RaAQ/ZFEo0vxEESASJ/REf2ORFiKRqOIRqNakNK/L71Pk/i9fhYpvbZJEOFMT8wWhcNhQxiLxWKIRCJQFEWb5Uomk4ZgJGajJEmCw+EwzGyJppdi9kmcW5wjU/E4ERER5daE1TTJsgybzQan04nS0lJUV1fD7XZDkiRUVFSgtLTUUAhuMpm0RpFCKpWCoig4d+6ctiQXi8UwPDxsmP0RtUvp26OI3+sbWoqibP0SmDiuCGdCPB5Hb28vhoaGDIFKVVUtvIlxilklIZlMwmq1oqamBsXFxYYwODg4CIfDAb/fDwDw+/0YHBw0nDe9voqIiIhya9xDk5hdEnuz2Ww2OBwOuN1uFBQUQJIkbcsSfWhSVVUriBaSySQURcHw8DAURYGqqojFYgiFQlBV1bBM5nA4Rs3QiNklfQF4pq1XxJYnkUjEEG5isRj8fr8W2vTvFzND+hml9KVFk8kEt9sNu90+qn5JURTtuVgsBrvdnjHQERER0dQwYTVN+uU5UYSt39hWPIT0Ym/xXCKRQDweRywWMwSr9KW49GCiP5Z+PGMRW6boxxGPx7UZpfQib/3WKKIXVPrynP4uvfSx6lsUpG82nL6USERERLnHjuBEREREWWBoIiKivKScaMXO76zDsuuq4HWYYHJ4UVW/DOvva8GRAd0bfXuxzmHCooc7cjbWS+l4eBFMBeuxN5jrkdDFTGhHcPFIX5obq8hZLMUJoneRWObS10vpl+JMJhOcTidcLpehrshsNmvPieWvRCKBUChkOH88HteKsdPvkuvp6UFfXx8URTGMS9/ewG63a3VaeulLfoKiKKOWF4mI6DM40YINy+9Gq7UZG7+9Hfde64WsDqHzyH7s+s+70fxyB9pe3YEmd64HSpfFtxfrr2tB81t/wqbaXA/mgglrbpne4FK0G9AHmPStSsRdbPrnRGgSNUsmkwlWq3VUnyURWvShyWQyGe6cE3VK4XDYEFii0SjOnj2Lvr4+LbSJVgInTpxAb2/vqNCkLwQXvafcbuP/OsX5079rKBQa1d6AiIiy1/6LXdg/0IQd7X/C5ut1L3x9IzY0rEfDt3dh+3Nb8MK3Kid+MComYSfXCTbVvkP7YbQrQPN4HGscv9u4L8/p95zTzwyJXk0iNKXPRul7LekLrUVoEsdwOp3wer0oKSlBaWkpSktLUVJSguLi4lEPr9er3b0mZrhUVUUoFEIgENAePp8PAwMDOHPmDHp6erRHV1cXTp8+ja6uLsPj1KlT2uP06dPae7q7uw0P0a5geHgYoVBIe4iZJr30ruQsAiciGtuZ3jOAuw71taNfq7yrBe2dZ9ICkwzZqqD9mbux6jovHA4HqhrWYduBXsNnlY/2Y9vXlmFOmWPkPfWrsOHRNmjvUjvwyE0OeP9hP448vh7zvQ4seqhdfBqdzz+CDcvnwFvggKNsDhbdsQV7P1QM5/C9vhMbmubA63DAW7cMGx5tw5ksvnPbd6rguG4LWl/fhbuXj3zeUTUf6+7bj05V/04fjvzsbqxaMLJs6fDOwaL/uQV7P7owDuW5DXA4lmHna/txb1MVHN712K9keQ3QgUeaRq5Bx3NbsKq+auR9N23Aztd9UD7ci3v/x3x4C0a+393PdMBwBdRetD06Mj6HwwHvzEVY951d2pJqx0+WwdG8C53BNtxbZ4Kj6RGIhVXlw73YcseikbEVeDFn+QZs+33nheNf5M+n9+Aj2NA8H1UFjpGl3IZ1uPfJI/Blce0F1jQREVHeqV8wH7KvFTsfbUOvmvai1YPKGZ60JxX4Dm7Bpuc8uPOne7DvF9vRrLbhkX/YjP3iX81gG7bcvh47O+qw6d/34YU/7sH2NUDbD9djw886zx975KH8dRe2P+/Fxv/Ygx1fqwMA9D63Eau+tgMd9Zux549taNu9Fc2+Pdiwej1aTpw/R+9ebPzqFrSqzdi+vw2tv9iC+W9tw5bfZhGbrA4oA/ux5XttqH/oBXR0HkXbQw3ofHID1j9wRAsOnT9bj7X3vQCs3o6WP/4J+/5jI+r+ugsbbt+CtvM1U7IMyPCh9aEdOLN6O/bs3oIGa5bXADJkK6C8tQPbDtRh+/Pt6Hz1CTT79mLbPeux/r42NDzwAjo6DmPH8l60fPfeC98fPrTd34x1Dx1G5Td34YWX27Dvx2uBA1uw9qs70aEC9fe04IUfNEGWG7C59V28+6tNqAeAj1uwfvUG7PE1Y+vuNrT9sQWb6zuw685VuPf3vov/+Xy8Exvu2I720g3Y+dsXcLh1D7avVrDvu3dg46+MwfmifwRZv5OIiGgCHD16FCaTCaWlpSgrK8vqM3Xf2oHtz6/FlgdWoe7nDWhe3Yzm5c1oXt2Mhhlyxs909Dfg8Fs70CQDwFosw2G0fvMI2tqBO1YCONEJpX4tNv9LCzavPn+MlfXofXU+tj/fit5/2YRKERjejqD5g6ex+drzB1fb8cRDezG08mkc/vlGjMxxNaHpJgc66zdg538cwcafNqHz1y1oHajH5uefxqbGkY82NVVhqGEZ2nEJVgDBIdR/twWbV46Ewsp7dmHbwVZs+PUeHH6oCc1WHzr6PVh213Y88dhGjMS5ZjRbj6Lqzn3Yf+QJNK8GYHUASgeOzngBnQ+thXbFsroGI5TeOqx/bBOaPACwEfd+dSf2Pv4uPA/sw8Yvjoxv43fuwM5ft+Bwu4JNtTLwcQseebITDQ+8iz3frx850NImLKv0Yf7aHdh5YBOevr0e82c6ADhQV99wfjZRQetPt6HVeif27d+BO85n4qaVDcCJ+djy0xZs/upm1I/x56P8+jAOqw3Y/uOtuPNa8dllmH9dC96dcakLb/wjGFfpxc36PeP0v6a/N1MvJdElPL3Lt1i+0u/VJnolpRdd688jmlhGo1FDwXc0GtU2/BU1VaL+SRR865fTRIG6eC69b5Oeqqravnf65/SF5KK7uf66sEiciKYiEXBOnjyp7eCwYsUKQ9jZvXs3Tp48aSgzuO2229DY2Kj9/PDDD6Ojw3g32/r167F+/frsBuJuwObWDjQ/twstz72A1ud3ofWZnQBk1H1xAzY9sBWbV9cZPlK3ev35wDTCM7MOXrRiSMw0fX4jnv7jRuN5rFWomylD6fThjApUin81r29Gc63ufSfa0PaxjEX/0AyPolxYLnI3Y+1NMlpfPYwONKCj/V0opevRfKPus3IT1q6sxM5fZfG9rcuwdqV+Fs2DhpvqIT//LtpPAM3XerD2oX1Ym/YxeWYdquDDkE8BRESyyli2uhmGiPkZroG8YNH5wDSissoD2VqFZTfpniytgseqwHf+vL5X23BYrcfmlXWGWmHc1Iwmzy60vdoO3N40+nur7Wh7tRdy0zo0ywoufLQKy1Y2AD9uw+GBzagvPf902p+PPLMOVWor9vy0Bc0PbUBDpQzAg6Z7NiPD2cY0IaFJhBd9uBCNKUUQ0ocE4MJWKPou4QAMXbKBC9u06IOUCE36LuFiLOJON3En2/DwMHw+n6EQW1EUnD17FgMDA6NCUyAQQCgUGtURXB96xNjS7+gTd+uJO/8E0TRTjCESiRj2nhN31jE4EdFUs337du33TqcTs2fPxuLFi0fNEM2fP9/wc/rdxXfddRfC4bD2c1lZWdazTBqrBw1f34onvr4VgILet9vwwsH92PvzPdiytg0d+9/F07df+Afc401bsrPCGBigoOO57dj+5H4c6TiDM0FlpIhYVYDPGz8ql1WhSv8vaO8Z9KoKOu+bA8d9GcZaewY+1YehAQUorYQ37WVvaVV231n2oKrU+JTX4wXUzgvhr7cNux7aiT0vv4uOXh+U899BUWU0GD7pQVVl+qxc9tcAsmfU9wBkyBe5Y/FM7xlAbccjTQ48kunr9Z4x1j8J6hmc6QKUjzbA+1ymDzagtxfA+Wsz6s/ni9uw56EObPjx3Vj0zL2oa2xG89o7cOddG9Bcm3lmMpMJCU36mRdVVaEoCiKRCKxWq6HAWx8KrFYrXC6X4X9Y4ljxeNwQSNI7e4tAJDbOFRKJBMLhMPx+v9ZJfHBwEGfPnjWEoGg0iv7+fpw9e9Zw95yqqhgcHMTw8HDGVghipklsGaO/c0+MU5ZlWK1Ww5jFZ8VYI5GIIZhl2nyYiGgq2Lt37yXf881vfvOS76mtrR2H0ejJqGxci42Na7Hxrmasv2kD9jy5D9tv34hs75/zPbcRzXfuh/er27Bj71rUV8kAFLR+dxm29Gc3huYfvYDtax2jX5ErUW8Fjo752YxRIYPRxzZQ2/HIV9dh24kGbH6oBTv7A5XfAAAJuUlEQVRvqoNHBvDBLqy7s+WSx7rya3ApMmBtwOa9u7B+ZoZXS+uRMcKcr1Xy3L4DrT9cluF1D+quHf30BR40/eAFfHpPB1qf34+2g21ofexutDy2C5v3t2HHyvQauMwmpKZJP9OUHqDSl6oEcaddehsCsfGtmHnJNAOTHtQEVVURiUQQCAS0pbfBwUH09/cbpgWj0SjOnTuHc+fOaZ8XxwwEAgiHwxmX5/SzX2LZTxCzX7FYbFSLhPTvIWadxDnSAyUREekEO9H2+1Z01m3QamcMZjRh2bUyWod6MQRkGZp8aH1uP3pnbMSe3VvRrP3L3YnW0ZUXo1VWodIKDDmq0LS0fow3KfB6ZKC9F2cA3ayPgjMnzgAY63P6Q5zBmQEYvtRQ7xko1qqRGaj39mHP20DzY3uw454Ly5NKp4LIJQ9+hdcgC1UzqgC0A1VNaFr6WT5Zh7pKQFE9qFvalHUQHqW0Hmu/tRVrv7UVOwbacO/KVdj16D5sWZlduB73u+cyLc+JWSDxEHvJ6R9i9kn/0B9LzMyI44mZI/GIRqPajJb+EQ6HEQqFEAwGtVv+w+Gw9rz4WVEUwz5zos5J1DPp65D0Y8kUDPWPTN9VjDn9eBcLhkREJHRg7w/vxb3/sh1tme4X/7gVrR8q8NQ3oC7Dy2OJBAF4PPDqphOU13ZhzxEFUC8ROWqb0Xytgo79+9GuDxhqJ/befy92HuwFIKO+oR7ywGEcfk/3nmAb9r+a5Y3vymG0HtS/txdtr3YAMxqwaAaA8/VUHsNyXy/2/OcL6FUxslR3EVd0DbLgWd6MZdZOtP62zTi31tuKR77zCPZ/bBjNhfFa69G8sg7Kkb3Yd0L/HgXtT27Blou2DlDQ/swW3P1wq/E9pcuwrF4Ghn1ZBMrzw8jyfVnThxpgZBZGX0ckSRKGhoZgsVgM9Uui67e+VkkEpmg0qoUK0QBTP1uVSqUwPDyMYDA4amPdQCCAgYEBbTZnaGgI586dQzQa1YKJqqqjZpREcBHhJv18+mAjmm6mE7NNiURi1Ov6UKQPTuJ4REQ0BvdabP3xnWj79k6su6kdG76+Fk11VXBgCJ0fHMa+X+9Fu3stnr5/bealnow8WNZUD/mhvdj+s2XYstyLM0f2YNdeBc1frUT780ew72A7qpaPsYxjbcC9D9yJvXdux4avAdvuaUIlenHkV9ux/ffApjU7AAD1f7sRzT++Gzvv2QDv/RtQL59B25O7cLSyDhjIfGjjMKvQ+e/rsUXZjLX1Mjr/+Ai2vww0PbQRTVYAn1+GptKdaP33bdg7cwPqIh1oe3IHDl+7Hs3yLrQf2IMjN60fo/j5Cq9BNmo3YOs9u7DuybuxTt6KzWvqIA+0Y+9Pt6NlYC32PXB+JKWVkNVW7Pv5XtQ11WHZV5vQfN9mrH3uXmz76gYoP9yIhlIFnQd34ZHH21D5wAaMPSoZVdZOvPDQRnT2b8PGNfWotCrofL0FOw8ADT9cm3W4HvfQpKqqFlysVitUVUVfX5/Wtdtut8PhcCAcDkOWL/x1ttlskGXZEKREXVEkEtFmdGKxGIaHhw1F36lUCj6fDz6fD5FIxDCW4eFhLSSJxpZ+v9/w+UQioc1SpYej9ECjf00Qd+6NdT3GalSpH79+uS/9+EREZFR31x4cvq4ZO/59L1p/tR17unxQZA8qa+ux7OtPYMd9m9D8GW4lB4D67+/BE6c34pGH1qMZHtSv3Ihtv9qGtQN1aH91O3Z9ZxuqDjwx5ucr/7YFf7LWYdtjLdj0te1Q4EHdTc3Y9sed2Lry/L93tRvR8ttebPphC7b/w36gsh5rv7sLLfI2LLpPQUQBcLGtX+Rl2PZkE9ruvxfrj3RC8TSg+fv78IS4fd9zB3b+Yit897dg4+pdkGuXYf13dmHPP9ehbaANG5/bgo2eKry7ZmKuwaV50PxYG16YuQ2P/GIb1v+sF3DXoWHlJuz79f/f3t2ENHaFYRx/riFfiGIxKS6CQh1NYQI6XbXddbqQdujGrly4KriobYeW2QhSsLhxaBWE1k0/VqWrLqfgZrroIgsRBFdd2AFL0kohSGiIJsrtxpOeJHeaQydzr8P8f5sLl5j3ko0P577nPauav3pHlnrrA917o6j1nWXd+2VZ37/zmsZuLOvHn1/Q6qef68v37+jR3ymNvfy63r3/UOsf3vrPqmOL3+ini3WtfvWFlr97pNOLEY3deEV3Pnug9Y8dXote8fw+/3c2x5aYc+YSiYQmJiaUzWaVTqeVTCaVz+eVzWbbQpOZ9m3fs489McHl7OxMp6enbas/vu+rUqmoUqm07cawQ1Oj0Wg1htdqtbbeJzOKoNlsdo1D6EdDdq/p3kHfPzIyorm5Oa2srGhmZuaJ6iPY9va2iocXunzxvd4f7rPYX9/q1Zsx3b37Uei1e9nY2NDQ0JAWFhZCr72zs6NMJqOlpaXQa9vW1taUy+U0Pz8feu2trS1NTU1pcXEx9Nq43h5+8pLe/OG2Hvz+td5mymIknlojuLkG9Th1NlJLautjsu897m/tMGP3FdkN253HsnT2InXWsV+59TNL+r7PsSgAADzjOEYFAADAQd9XmsxQR/vauQvO7KbrnLcUNHLAfNasEtm7z+xVIXsVyQjaum+as80hwZK6Dg6269vXJ/lNegl6TgAAcH30PTQlEgmlUimlUinFYrHWjKV6va7Ly0udn5+rVCqpWq0qHo//+yBX/U/2vaDdc81mU7VarevYETM+oHNyd6PRaAtwiUSi67gVE846Q1ZUW/+bzabS6XTbbwEAeL7d3vxN/mbUT/F863toyuVyGhwcVDqdbq0cmWNPzEpOpVJRtVptW02xg43NDjgmxAQ1Z5ueJXtkwcDAQGvHnt3/FLQCdZ1mI9XrdcXjcY2OjnZNGQcAANHoe2ja3d1thR9eMf0/Zu5TMpnU8PBw1I8DAAD0FELT+Ph4v78SAAAgcuyeAwAAcEBoAgAAcEBoAgAAcEBoAgAAcEBoAgAAcEBoAgAAcEBoAgAAcEBoAgAAcEBoAgAAcEBoAgAAcEBoAgAAcND3s+eAZ4l39qtif2yGX7f5pzzvZuh1XXiep8PDQ52cnIReu1wuK5PJhF63k+d52t/f1/Hxcei1S6WSpqenQ68LoDfP930/6ocAonBwcKCjo6PI6k9OTmp2djay+o+zt7cXSVgw8vm8CoVCZPUlqVgsqlwuR1a/UCgon89HVh9AMEITAACAA3qaAAAAHBCaAAAAHBCaAAAAHBCaAAAAHBCaAAAAHBCaAAAAHBCaAAAAHBCaAAAAHBCaAAAAHBCaAAAAHBCaAAAAHPwDC/pQCD4GqbgAAAAASUVORK5CYII=)"
      ]
    },
    {
      "cell_type": "code",
      "metadata": {
        "id": "gIberMxWisR5"
      },
      "source": [
        "import torch.nn as nn\n",
        "import torch.nn.functional as F\n",
        "\n",
        "class MatchingNetwork(nn.Module):\n",
        "    def __init__(self, mnist_in, usps_in):\n",
        "        super(MatchingNetwork, self).__init__()\n",
        "        self.layer1_mnist = nn.Linear(mnist_in, 128)\n",
        "        self.layer1_usps = nn.Linear(usps_in, 128)\n",
        "        \n",
        "        self.layer2 = nn.Linear(128, 64) # shared between the mnist and usps track\n",
        "        self.layer3 = nn.Linear(64, 32) # shared between the mnist and usps track\n",
        "    \n",
        "    def forward(self, x1, x2):\n",
        "        x1 = F.relu(self.layer1_mnist(x1))\n",
        "        x1 = F.relu(self.layer2(x1))\n",
        "        x1 = torch.tanh(self.layer3(x1))\n",
        "        \n",
        "        x2 = F.relu(self.layer1_usps(x2))\n",
        "        x2 = F.relu(self.layer2(x2))\n",
        "        x2 = torch.tanh(self.layer3(x2))\n",
        "        return F.cosine_similarity(x1,x2), x1, x2"
      ],
      "execution_count": null,
      "outputs": []
    },
    {
      "cell_type": "markdown",
      "metadata": {
        "id": "Cmdom1XQrWGT"
      },
      "source": [
        "In the NN above, we can see that instead of having a single output layer, we used the cosine similarity of the embeddings of the two inputs say $\\hat{x}_a$ and $\\hat{x}_b$. \r\n",
        "\r\n",
        "$sim(\\hat{x}_a, \\hat{x}_b) \\in [-1,1]$, which we can interpret as follows:\r\n",
        "*  $sim(\\hat{x}_a, \\hat{x}_b) = -1$: the embeddings go on opposite ways\r\n",
        "*  $sim(\\hat{x}_a, \\hat{x}_b) = 0$: the embeddings are orthogonal\r\n",
        "*  $sim(\\hat{x}_a, \\hat{x}_b) = 1$: the embeddings are pointed towards the same direction\r\n",
        "\r\n",
        "With that, a simplification to a binary task would be to set $0$ as the threshold."
      ]
    },
    {
      "cell_type": "markdown",
      "metadata": {
        "id": "BwH5-678isR5"
      },
      "source": [
        "Loss function and Optimizer"
      ]
    },
    {
      "cell_type": "code",
      "metadata": {
        "colab": {
          "base_uri": "https://localhost:8080/",
          "height": 35
        },
        "id": "8oX_FvwDisR5",
        "outputId": "0fbb30cd-6770-4f00-d59d-fb0af9f6dbeb"
      },
      "source": [
        "device = 'cuda' if torch.cuda.is_available() else 'cpu'\n",
        "device"
      ],
      "execution_count": null,
      "outputs": [
        {
          "output_type": "execute_result",
          "data": {
            "application/vnd.google.colaboratory.intrinsic+json": {
              "type": "string"
            },
            "text/plain": [
              "'cuda'"
            ]
          },
          "metadata": {
            "tags": []
          },
          "execution_count": 69
        }
      ]
    },
    {
      "cell_type": "code",
      "metadata": {
        "id": "izr9YCABisR6"
      },
      "source": [
        "model = MatchingNetwork(28*28, 16*16)\n",
        "model = model.to(device)\n",
        "cosemb = nn.CosineEmbeddingLoss(reduction='sum')\n",
        "optimizer = torch.optim.Adam(model.parameters(), lr=0.0005)"
      ],
      "execution_count": null,
      "outputs": []
    },
    {
      "cell_type": "code",
      "metadata": {
        "id": "bzoQbz90isR6"
      },
      "source": [
        "def loss_func(y_hat, y, model):\n",
        "    y2 = y + 1*(y-1) # convert 0's to -1's\n",
        "    loss = cosemb(y_hat[1], y_hat[2], y2.reshape(-1))\n",
        "    return loss"
      ],
      "execution_count": null,
      "outputs": []
    },
    {
      "cell_type": "markdown",
      "metadata": {
        "id": "JBSExx7Io3c7"
      },
      "source": [
        " Let us train model..."
      ]
    },
    {
      "cell_type": "code",
      "metadata": {
        "colab": {
          "base_uri": "https://localhost:8080/"
        },
        "id": "qOM1lwspisR6",
        "outputId": "5aad50e7-371e-480b-f339-ac026fac7310"
      },
      "source": [
        "m = train(model, train_mnist, train_usps, [mnist_val, usps_val], 50, loss_func, optimizer, device)\n"
      ],
      "execution_count": null,
      "outputs": [
        {
          "output_type": "stream",
          "text": [
            "0 14.315871238708496 10.259416580200195 0.6433333333333333\n",
            "1 8.138701438903809 10.070667266845703 0.6888888888888889\n",
            "2 5.051932334899902 10.032842636108398 0.6811111111111112\n",
            "3 9.107172012329102 9.879653930664062 0.73\n",
            "4 14.854974746704102 9.63479995727539 0.7644444444444445\n",
            "5 13.537477493286133 9.202104568481445 0.7744444444444445\n",
            "6 20.333782196044922 9.298843383789062 0.8244444444444444\n",
            "7 8.667510986328125 9.2809476852417 0.8455555555555555\n",
            "8 9.049253463745117 9.047496795654297 0.84\n",
            "9 15.405577659606934 9.123662948608398 0.8711111111111112\n",
            "10 14.92754077911377 9.064920425415039 0.8300000000000001\n",
            "11 10.071849822998047 9.042287826538086 0.8455555555555556\n",
            "12 8.121369361877441 9.071550369262695 0.8566666666666666\n",
            "13 10.817614555358887 9.026327133178711 0.8522222222222222\n",
            "14 14.069652557373047 9.034423828125 0.8477777777777777\n",
            "15 12.966928482055664 9.003342628479004 0.8522222222222222\n",
            "16 10.165519714355469 8.993566513061523 0.8666666666666666\n",
            "17 14.005773544311523 8.933019638061523 0.89\n",
            "18 11.727228164672852 8.872857093811035 0.8688888888888889\n",
            "19 10.18010139465332 8.656750679016113 0.9066666666666666\n",
            "20 11.809809684753418 8.735308647155762 0.8422222222222222\n",
            "21 11.020332336425781 8.281641006469727 0.8677777777777778\n",
            "22 17.12122917175293 8.803462982177734 0.8777777777777778\n",
            "23 15.014216423034668 7.775426864624023 0.8611111111111112\n",
            "24 7.792227745056152 7.180369853973389 0.9022222222222223\n",
            "25 9.761222839355469 7.459829330444336 0.85\n",
            "26 6.846843719482422 6.602787971496582 0.8611111111111112\n",
            "27 7.442249298095703 6.458471775054932 0.9\n",
            "28 4.489984512329102 6.445294380187988 0.9099999999999999\n",
            "29 4.2006731033325195 6.073647499084473 0.8755555555555556\n",
            "30 7.450136184692383 5.871966361999512 0.8955555555555555\n",
            "31 5.184900283813477 6.205447673797607 0.921111111111111\n",
            "32 7.442652702331543 6.140264511108398 0.8822222222222222\n",
            "33 3.7271976470947266 5.7067413330078125 0.9455555555555555\n",
            "34 6.068014144897461 5.6608147621154785 0.9344444444444444\n",
            "35 5.503155708312988 5.785849094390869 0.9266666666666667\n",
            "36 8.768476486206055 6.360447883605957 0.8922222222222222\n",
            "37 6.255035877227783 6.527270317077637 0.8388888888888889\n",
            "38 12.453466415405273 5.847455978393555 0.9622222222222222\n",
            "39 6.844836235046387 5.980155944824219 0.9377777777777778\n",
            "40 3.461559772491455 5.653248310089111 0.9033333333333333\n",
            "41 3.0068092346191406 5.651811599731445 0.9033333333333333\n",
            "42 7.655064582824707 5.391744613647461 0.9722222222222222\n",
            "43 5.176637649536133 4.986759185791016 0.9566666666666666\n",
            "44 9.894777297973633 5.368572235107422 0.9644444444444444\n",
            "45 7.201600074768066 5.647381782531738 0.96\n",
            "46 5.091154098510742 5.4238104820251465 0.9733333333333334\n",
            "47 1.5427532196044922 5.106172561645508 0.9688888888888889\n",
            "48 7.997952461242676 5.302219390869141 0.9555555555555555\n",
            "49 4.2126240730285645 5.079799652099609 0.9744444444444444\n"
          ],
          "name": "stdout"
        }
      ]
    },
    {
      "cell_type": "markdown",
      "metadata": {
        "id": "k1cu-uFJo900"
      },
      "source": [
        "Let's look at the results in the validation set"
      ]
    },
    {
      "cell_type": "code",
      "metadata": {
        "colab": {
          "base_uri": "https://localhost:8080/",
          "height": 343
        },
        "id": "qPY1-BI3isR6",
        "outputId": "84787d87-e294-4859-9486-b7b27f2d30d8"
      },
      "source": [
        "import pandas as pd\n",
        "\n",
        "pred = m(mnist_val.to(device), usps_val.to(device))\n",
        "pd.DataFrame(pred[0].detach().cpu().numpy().reshape(10,10))"
      ],
      "execution_count": null,
      "outputs": [
        {
          "output_type": "execute_result",
          "data": {
            "text/html": [
              "<div>\n",
              "<style scoped>\n",
              "    .dataframe tbody tr th:only-of-type {\n",
              "        vertical-align: middle;\n",
              "    }\n",
              "\n",
              "    .dataframe tbody tr th {\n",
              "        vertical-align: top;\n",
              "    }\n",
              "\n",
              "    .dataframe thead th {\n",
              "        text-align: right;\n",
              "    }\n",
              "</style>\n",
              "<table border=\"1\" class=\"dataframe\">\n",
              "  <thead>\n",
              "    <tr style=\"text-align: right;\">\n",
              "      <th></th>\n",
              "      <th>0</th>\n",
              "      <th>1</th>\n",
              "      <th>2</th>\n",
              "      <th>3</th>\n",
              "      <th>4</th>\n",
              "      <th>5</th>\n",
              "      <th>6</th>\n",
              "      <th>7</th>\n",
              "      <th>8</th>\n",
              "      <th>9</th>\n",
              "    </tr>\n",
              "  </thead>\n",
              "  <tbody>\n",
              "    <tr>\n",
              "      <th>0</th>\n",
              "      <td>0.992404</td>\n",
              "      <td>-0.052074</td>\n",
              "      <td>-0.061389</td>\n",
              "      <td>-0.137802</td>\n",
              "      <td>-0.262661</td>\n",
              "      <td>-0.086850</td>\n",
              "      <td>-0.126290</td>\n",
              "      <td>-0.079343</td>\n",
              "      <td>-0.172002</td>\n",
              "      <td>-0.107494</td>\n",
              "    </tr>\n",
              "    <tr>\n",
              "      <th>1</th>\n",
              "      <td>-0.077318</td>\n",
              "      <td>0.993236</td>\n",
              "      <td>-0.055800</td>\n",
              "      <td>-0.105124</td>\n",
              "      <td>-0.083920</td>\n",
              "      <td>-0.122126</td>\n",
              "      <td>-0.072448</td>\n",
              "      <td>-0.037348</td>\n",
              "      <td>-0.062547</td>\n",
              "      <td>-0.127805</td>\n",
              "    </tr>\n",
              "    <tr>\n",
              "      <th>2</th>\n",
              "      <td>-0.059575</td>\n",
              "      <td>-0.014434</td>\n",
              "      <td>0.995050</td>\n",
              "      <td>-0.193186</td>\n",
              "      <td>-0.067768</td>\n",
              "      <td>-0.114624</td>\n",
              "      <td>-0.267086</td>\n",
              "      <td>-0.097430</td>\n",
              "      <td>-0.049681</td>\n",
              "      <td>-0.041788</td>\n",
              "    </tr>\n",
              "    <tr>\n",
              "      <th>3</th>\n",
              "      <td>-0.284226</td>\n",
              "      <td>-0.105711</td>\n",
              "      <td>-0.111465</td>\n",
              "      <td>0.121864</td>\n",
              "      <td>-0.109375</td>\n",
              "      <td>0.017105</td>\n",
              "      <td>-0.135500</td>\n",
              "      <td>-0.540732</td>\n",
              "      <td>0.001275</td>\n",
              "      <td>-0.160951</td>\n",
              "    </tr>\n",
              "    <tr>\n",
              "      <th>4</th>\n",
              "      <td>-0.185546</td>\n",
              "      <td>-0.083273</td>\n",
              "      <td>-0.116611</td>\n",
              "      <td>-0.344760</td>\n",
              "      <td>0.152901</td>\n",
              "      <td>-0.156555</td>\n",
              "      <td>-0.135580</td>\n",
              "      <td>-0.137315</td>\n",
              "      <td>-0.054152</td>\n",
              "      <td>0.100970</td>\n",
              "    </tr>\n",
              "    <tr>\n",
              "      <th>5</th>\n",
              "      <td>-0.138686</td>\n",
              "      <td>-0.065112</td>\n",
              "      <td>-0.167462</td>\n",
              "      <td>-0.282257</td>\n",
              "      <td>0.091636</td>\n",
              "      <td>-0.036584</td>\n",
              "      <td>-0.048148</td>\n",
              "      <td>-0.303209</td>\n",
              "      <td>0.005818</td>\n",
              "      <td>0.013423</td>\n",
              "    </tr>\n",
              "    <tr>\n",
              "      <th>6</th>\n",
              "      <td>-0.252725</td>\n",
              "      <td>-0.139674</td>\n",
              "      <td>-0.224183</td>\n",
              "      <td>-0.094545</td>\n",
              "      <td>-0.177419</td>\n",
              "      <td>-0.223301</td>\n",
              "      <td>0.965028</td>\n",
              "      <td>-0.040673</td>\n",
              "      <td>-0.280674</td>\n",
              "      <td>-0.322894</td>\n",
              "    </tr>\n",
              "    <tr>\n",
              "      <th>7</th>\n",
              "      <td>-0.113785</td>\n",
              "      <td>-0.058945</td>\n",
              "      <td>-0.064315</td>\n",
              "      <td>-0.111650</td>\n",
              "      <td>-0.172690</td>\n",
              "      <td>-0.270635</td>\n",
              "      <td>-0.022848</td>\n",
              "      <td>0.997669</td>\n",
              "      <td>-0.250268</td>\n",
              "      <td>-0.134842</td>\n",
              "    </tr>\n",
              "    <tr>\n",
              "      <th>8</th>\n",
              "      <td>-0.076305</td>\n",
              "      <td>-0.062600</td>\n",
              "      <td>-0.022719</td>\n",
              "      <td>-0.226604</td>\n",
              "      <td>-0.031729</td>\n",
              "      <td>0.047344</td>\n",
              "      <td>-0.326216</td>\n",
              "      <td>-0.309228</td>\n",
              "      <td>0.030889</td>\n",
              "      <td>0.019744</td>\n",
              "    </tr>\n",
              "    <tr>\n",
              "      <th>9</th>\n",
              "      <td>-0.135096</td>\n",
              "      <td>-0.154124</td>\n",
              "      <td>-0.036017</td>\n",
              "      <td>-0.064693</td>\n",
              "      <td>-0.056581</td>\n",
              "      <td>-0.104770</td>\n",
              "      <td>-0.420824</td>\n",
              "      <td>-0.194712</td>\n",
              "      <td>-0.098875</td>\n",
              "      <td>0.005058</td>\n",
              "    </tr>\n",
              "  </tbody>\n",
              "</table>\n",
              "</div>"
            ],
            "text/plain": [
              "          0         1         2  ...         7         8         9\n",
              "0  0.992404 -0.052074 -0.061389  ... -0.079343 -0.172002 -0.107494\n",
              "1 -0.077318  0.993236 -0.055800  ... -0.037348 -0.062547 -0.127805\n",
              "2 -0.059575 -0.014434  0.995050  ... -0.097430 -0.049681 -0.041788\n",
              "3 -0.284226 -0.105711 -0.111465  ... -0.540732  0.001275 -0.160951\n",
              "4 -0.185546 -0.083273 -0.116611  ... -0.137315 -0.054152  0.100970\n",
              "5 -0.138686 -0.065112 -0.167462  ... -0.303209  0.005818  0.013423\n",
              "6 -0.252725 -0.139674 -0.224183  ... -0.040673 -0.280674 -0.322894\n",
              "7 -0.113785 -0.058945 -0.064315  ...  0.997669 -0.250268 -0.134842\n",
              "8 -0.076305 -0.062600 -0.022719  ... -0.309228  0.030889  0.019744\n",
              "9 -0.135096 -0.154124 -0.036017  ... -0.194712 -0.098875  0.005058\n",
              "\n",
              "[10 rows x 10 columns]"
            ]
          },
          "metadata": {
            "tags": []
          },
          "execution_count": 75
        }
      ]
    },
    {
      "cell_type": "code",
      "metadata": {
        "colab": {
          "base_uri": "https://localhost:8080/",
          "height": 343
        },
        "id": "wjJ4umqmisR6",
        "outputId": "5dd75b7d-c100-4eec-cc20-d674b81d38b8"
      },
      "source": [
        "pd.DataFrame(1*(pred[0].detach().cpu().numpy().reshape(10,10)>0))"
      ],
      "execution_count": null,
      "outputs": [
        {
          "output_type": "execute_result",
          "data": {
            "text/html": [
              "<div>\n",
              "<style scoped>\n",
              "    .dataframe tbody tr th:only-of-type {\n",
              "        vertical-align: middle;\n",
              "    }\n",
              "\n",
              "    .dataframe tbody tr th {\n",
              "        vertical-align: top;\n",
              "    }\n",
              "\n",
              "    .dataframe thead th {\n",
              "        text-align: right;\n",
              "    }\n",
              "</style>\n",
              "<table border=\"1\" class=\"dataframe\">\n",
              "  <thead>\n",
              "    <tr style=\"text-align: right;\">\n",
              "      <th></th>\n",
              "      <th>0</th>\n",
              "      <th>1</th>\n",
              "      <th>2</th>\n",
              "      <th>3</th>\n",
              "      <th>4</th>\n",
              "      <th>5</th>\n",
              "      <th>6</th>\n",
              "      <th>7</th>\n",
              "      <th>8</th>\n",
              "      <th>9</th>\n",
              "    </tr>\n",
              "  </thead>\n",
              "  <tbody>\n",
              "    <tr>\n",
              "      <th>0</th>\n",
              "      <td>1</td>\n",
              "      <td>0</td>\n",
              "      <td>0</td>\n",
              "      <td>0</td>\n",
              "      <td>0</td>\n",
              "      <td>0</td>\n",
              "      <td>0</td>\n",
              "      <td>0</td>\n",
              "      <td>0</td>\n",
              "      <td>0</td>\n",
              "    </tr>\n",
              "    <tr>\n",
              "      <th>1</th>\n",
              "      <td>0</td>\n",
              "      <td>1</td>\n",
              "      <td>0</td>\n",
              "      <td>0</td>\n",
              "      <td>0</td>\n",
              "      <td>0</td>\n",
              "      <td>0</td>\n",
              "      <td>0</td>\n",
              "      <td>0</td>\n",
              "      <td>0</td>\n",
              "    </tr>\n",
              "    <tr>\n",
              "      <th>2</th>\n",
              "      <td>0</td>\n",
              "      <td>0</td>\n",
              "      <td>1</td>\n",
              "      <td>0</td>\n",
              "      <td>0</td>\n",
              "      <td>0</td>\n",
              "      <td>0</td>\n",
              "      <td>0</td>\n",
              "      <td>0</td>\n",
              "      <td>0</td>\n",
              "    </tr>\n",
              "    <tr>\n",
              "      <th>3</th>\n",
              "      <td>0</td>\n",
              "      <td>0</td>\n",
              "      <td>0</td>\n",
              "      <td>1</td>\n",
              "      <td>0</td>\n",
              "      <td>1</td>\n",
              "      <td>0</td>\n",
              "      <td>0</td>\n",
              "      <td>1</td>\n",
              "      <td>0</td>\n",
              "    </tr>\n",
              "    <tr>\n",
              "      <th>4</th>\n",
              "      <td>0</td>\n",
              "      <td>0</td>\n",
              "      <td>0</td>\n",
              "      <td>0</td>\n",
              "      <td>1</td>\n",
              "      <td>0</td>\n",
              "      <td>0</td>\n",
              "      <td>0</td>\n",
              "      <td>0</td>\n",
              "      <td>1</td>\n",
              "    </tr>\n",
              "    <tr>\n",
              "      <th>5</th>\n",
              "      <td>0</td>\n",
              "      <td>0</td>\n",
              "      <td>0</td>\n",
              "      <td>0</td>\n",
              "      <td>1</td>\n",
              "      <td>0</td>\n",
              "      <td>0</td>\n",
              "      <td>0</td>\n",
              "      <td>1</td>\n",
              "      <td>1</td>\n",
              "    </tr>\n",
              "    <tr>\n",
              "      <th>6</th>\n",
              "      <td>0</td>\n",
              "      <td>0</td>\n",
              "      <td>0</td>\n",
              "      <td>0</td>\n",
              "      <td>0</td>\n",
              "      <td>0</td>\n",
              "      <td>1</td>\n",
              "      <td>0</td>\n",
              "      <td>0</td>\n",
              "      <td>0</td>\n",
              "    </tr>\n",
              "    <tr>\n",
              "      <th>7</th>\n",
              "      <td>0</td>\n",
              "      <td>0</td>\n",
              "      <td>0</td>\n",
              "      <td>0</td>\n",
              "      <td>0</td>\n",
              "      <td>0</td>\n",
              "      <td>0</td>\n",
              "      <td>1</td>\n",
              "      <td>0</td>\n",
              "      <td>0</td>\n",
              "    </tr>\n",
              "    <tr>\n",
              "      <th>8</th>\n",
              "      <td>0</td>\n",
              "      <td>0</td>\n",
              "      <td>0</td>\n",
              "      <td>0</td>\n",
              "      <td>0</td>\n",
              "      <td>1</td>\n",
              "      <td>0</td>\n",
              "      <td>0</td>\n",
              "      <td>1</td>\n",
              "      <td>1</td>\n",
              "    </tr>\n",
              "    <tr>\n",
              "      <th>9</th>\n",
              "      <td>0</td>\n",
              "      <td>0</td>\n",
              "      <td>0</td>\n",
              "      <td>0</td>\n",
              "      <td>0</td>\n",
              "      <td>0</td>\n",
              "      <td>0</td>\n",
              "      <td>0</td>\n",
              "      <td>0</td>\n",
              "      <td>1</td>\n",
              "    </tr>\n",
              "  </tbody>\n",
              "</table>\n",
              "</div>"
            ],
            "text/plain": [
              "   0  1  2  3  4  5  6  7  8  9\n",
              "0  1  0  0  0  0  0  0  0  0  0\n",
              "1  0  1  0  0  0  0  0  0  0  0\n",
              "2  0  0  1  0  0  0  0  0  0  0\n",
              "3  0  0  0  1  0  1  0  0  1  0\n",
              "4  0  0  0  0  1  0  0  0  0  1\n",
              "5  0  0  0  0  1  0  0  0  1  1\n",
              "6  0  0  0  0  0  0  1  0  0  0\n",
              "7  0  0  0  0  0  0  0  1  0  0\n",
              "8  0  0  0  0  0  1  0  0  1  1\n",
              "9  0  0  0  0  0  0  0  0  0  1"
            ]
          },
          "metadata": {
            "tags": []
          },
          "execution_count": 76
        }
      ]
    },
    {
      "cell_type": "code",
      "metadata": {
        "colab": {
          "base_uri": "https://localhost:8080/"
        },
        "id": "QOfzVWoyisR7",
        "outputId": "c77fb6f1-9487-4729-e205-d119e8aa7af3"
      },
      "source": [
        "vl = val_label + 1*(val_label-1)\n",
        "c = F.cosine_embedding_loss(pred[1], pred[2], torch.tensor(vl).view(-1).to(device), reduction='none')"
      ],
      "execution_count": null,
      "outputs": [
        {
          "output_type": "stream",
          "text": [
            "/usr/local/lib/python3.6/dist-packages/ipykernel_launcher.py:2: UserWarning: To copy construct from a tensor, it is recommended to use sourceTensor.clone().detach() or sourceTensor.clone().detach().requires_grad_(True), rather than torch.tensor(sourceTensor).\n",
            "  \n"
          ],
          "name": "stderr"
        }
      ]
    },
    {
      "cell_type": "code",
      "metadata": {
        "colab": {
          "base_uri": "https://localhost:8080/",
          "height": 343
        },
        "id": "ZURKQVqzisR7",
        "outputId": "65218c21-ae8e-4010-c342-897c86a83397"
      },
      "source": [
        "pd.DataFrame(c.detach().cpu().numpy().reshape(10,10))\n"
      ],
      "execution_count": null,
      "outputs": [
        {
          "output_type": "execute_result",
          "data": {
            "text/html": [
              "<div>\n",
              "<style scoped>\n",
              "    .dataframe tbody tr th:only-of-type {\n",
              "        vertical-align: middle;\n",
              "    }\n",
              "\n",
              "    .dataframe tbody tr th {\n",
              "        vertical-align: top;\n",
              "    }\n",
              "\n",
              "    .dataframe thead th {\n",
              "        text-align: right;\n",
              "    }\n",
              "</style>\n",
              "<table border=\"1\" class=\"dataframe\">\n",
              "  <thead>\n",
              "    <tr style=\"text-align: right;\">\n",
              "      <th></th>\n",
              "      <th>0</th>\n",
              "      <th>1</th>\n",
              "      <th>2</th>\n",
              "      <th>3</th>\n",
              "      <th>4</th>\n",
              "      <th>5</th>\n",
              "      <th>6</th>\n",
              "      <th>7</th>\n",
              "      <th>8</th>\n",
              "      <th>9</th>\n",
              "    </tr>\n",
              "  </thead>\n",
              "  <tbody>\n",
              "    <tr>\n",
              "      <th>0</th>\n",
              "      <td>0.007596</td>\n",
              "      <td>0.000000</td>\n",
              "      <td>0.00000</td>\n",
              "      <td>0.000000</td>\n",
              "      <td>0.000000</td>\n",
              "      <td>0.000000</td>\n",
              "      <td>0.000000</td>\n",
              "      <td>0.000000</td>\n",
              "      <td>0.000000</td>\n",
              "      <td>0.000000</td>\n",
              "    </tr>\n",
              "    <tr>\n",
              "      <th>1</th>\n",
              "      <td>0.000000</td>\n",
              "      <td>0.006764</td>\n",
              "      <td>0.00000</td>\n",
              "      <td>0.000000</td>\n",
              "      <td>0.000000</td>\n",
              "      <td>0.000000</td>\n",
              "      <td>0.000000</td>\n",
              "      <td>0.000000</td>\n",
              "      <td>0.000000</td>\n",
              "      <td>0.000000</td>\n",
              "    </tr>\n",
              "    <tr>\n",
              "      <th>2</th>\n",
              "      <td>0.000000</td>\n",
              "      <td>0.000000</td>\n",
              "      <td>0.00495</td>\n",
              "      <td>0.000000</td>\n",
              "      <td>0.000000</td>\n",
              "      <td>0.000000</td>\n",
              "      <td>0.000000</td>\n",
              "      <td>0.000000</td>\n",
              "      <td>0.000000</td>\n",
              "      <td>0.000000</td>\n",
              "    </tr>\n",
              "    <tr>\n",
              "      <th>3</th>\n",
              "      <td>0.000000</td>\n",
              "      <td>0.000000</td>\n",
              "      <td>0.00000</td>\n",
              "      <td>0.878136</td>\n",
              "      <td>0.000000</td>\n",
              "      <td>0.017105</td>\n",
              "      <td>0.000000</td>\n",
              "      <td>0.000000</td>\n",
              "      <td>0.001275</td>\n",
              "      <td>0.000000</td>\n",
              "    </tr>\n",
              "    <tr>\n",
              "      <th>4</th>\n",
              "      <td>0.000000</td>\n",
              "      <td>0.000000</td>\n",
              "      <td>0.00000</td>\n",
              "      <td>0.000000</td>\n",
              "      <td>0.847099</td>\n",
              "      <td>0.000000</td>\n",
              "      <td>0.000000</td>\n",
              "      <td>0.000000</td>\n",
              "      <td>0.000000</td>\n",
              "      <td>0.100970</td>\n",
              "    </tr>\n",
              "    <tr>\n",
              "      <th>5</th>\n",
              "      <td>0.000000</td>\n",
              "      <td>0.000000</td>\n",
              "      <td>0.00000</td>\n",
              "      <td>0.000000</td>\n",
              "      <td>0.091636</td>\n",
              "      <td>1.036584</td>\n",
              "      <td>0.000000</td>\n",
              "      <td>0.000000</td>\n",
              "      <td>0.005818</td>\n",
              "      <td>0.013423</td>\n",
              "    </tr>\n",
              "    <tr>\n",
              "      <th>6</th>\n",
              "      <td>0.000000</td>\n",
              "      <td>0.000000</td>\n",
              "      <td>0.00000</td>\n",
              "      <td>0.000000</td>\n",
              "      <td>0.000000</td>\n",
              "      <td>0.000000</td>\n",
              "      <td>0.034972</td>\n",
              "      <td>0.000000</td>\n",
              "      <td>0.000000</td>\n",
              "      <td>0.000000</td>\n",
              "    </tr>\n",
              "    <tr>\n",
              "      <th>7</th>\n",
              "      <td>0.000000</td>\n",
              "      <td>0.000000</td>\n",
              "      <td>0.00000</td>\n",
              "      <td>0.000000</td>\n",
              "      <td>0.000000</td>\n",
              "      <td>0.000000</td>\n",
              "      <td>0.000000</td>\n",
              "      <td>0.002331</td>\n",
              "      <td>0.000000</td>\n",
              "      <td>0.000000</td>\n",
              "    </tr>\n",
              "    <tr>\n",
              "      <th>8</th>\n",
              "      <td>0.000000</td>\n",
              "      <td>0.000000</td>\n",
              "      <td>0.00000</td>\n",
              "      <td>0.000000</td>\n",
              "      <td>0.000000</td>\n",
              "      <td>0.047344</td>\n",
              "      <td>0.000000</td>\n",
              "      <td>0.000000</td>\n",
              "      <td>0.969111</td>\n",
              "      <td>0.019744</td>\n",
              "    </tr>\n",
              "    <tr>\n",
              "      <th>9</th>\n",
              "      <td>0.000000</td>\n",
              "      <td>0.000000</td>\n",
              "      <td>0.00000</td>\n",
              "      <td>0.000000</td>\n",
              "      <td>0.000000</td>\n",
              "      <td>0.000000</td>\n",
              "      <td>0.000000</td>\n",
              "      <td>0.000000</td>\n",
              "      <td>0.000000</td>\n",
              "      <td>0.994942</td>\n",
              "    </tr>\n",
              "  </tbody>\n",
              "</table>\n",
              "</div>"
            ],
            "text/plain": [
              "          0         1        2  ...         7         8         9\n",
              "0  0.007596  0.000000  0.00000  ...  0.000000  0.000000  0.000000\n",
              "1  0.000000  0.006764  0.00000  ...  0.000000  0.000000  0.000000\n",
              "2  0.000000  0.000000  0.00495  ...  0.000000  0.000000  0.000000\n",
              "3  0.000000  0.000000  0.00000  ...  0.000000  0.001275  0.000000\n",
              "4  0.000000  0.000000  0.00000  ...  0.000000  0.000000  0.100970\n",
              "5  0.000000  0.000000  0.00000  ...  0.000000  0.005818  0.013423\n",
              "6  0.000000  0.000000  0.00000  ...  0.000000  0.000000  0.000000\n",
              "7  0.000000  0.000000  0.00000  ...  0.002331  0.000000  0.000000\n",
              "8  0.000000  0.000000  0.00000  ...  0.000000  0.969111  0.019744\n",
              "9  0.000000  0.000000  0.00000  ...  0.000000  0.000000  0.994942\n",
              "\n",
              "[10 rows x 10 columns]"
            ]
          },
          "metadata": {
            "tags": []
          },
          "execution_count": 78
        }
      ]
    },
    {
      "cell_type": "markdown",
      "metadata": {
        "id": "POAe3FVbvPnD"
      },
      "source": [
        "## More Regularization Examples"
      ]
    },
    {
      "cell_type": "markdown",
      "metadata": {
        "id": "QXYpT2pEisR9"
      },
      "source": [
        "### Built-in L2 regularization"
      ]
    },
    {
      "cell_type": "code",
      "metadata": {
        "colab": {
          "base_uri": "https://localhost:8080/"
        },
        "id": "SPyDFbjfisR9",
        "outputId": "91dda1ce-b6dd-48d6-8972-26ff7f80a258"
      },
      "source": [
        "model = MatchingNetwork(28*28, 16*16)\n",
        "model = model.to(device)\n",
        "\n",
        "optimizer = torch.optim.Adam(model.parameters(), lr=0.0005, weight_decay=1e-4) # The weight decay parameter is the L2 regularization\n",
        "m = train(model, train_mnist, train_usps, [mnist_val, usps_val], 50, loss_func, optimizer, device)"
      ],
      "execution_count": null,
      "outputs": [
        {
          "output_type": "stream",
          "text": [
            "0 12.453596115112305 10.388910293579102 0.5533333333333333\n",
            "1 20.190696716308594 10.163375854492188 0.6344444444444444\n",
            "2 16.18377685546875 10.178736686706543 0.6755555555555555\n",
            "3 11.194143295288086 10.052032470703125 0.7022222222222222\n",
            "4 14.869876861572266 10.017017364501953 0.7233333333333334\n",
            "5 13.03187370300293 9.909701347351074 0.7388888888888888\n",
            "6 13.976428031921387 9.526409149169922 0.7644444444444445\n",
            "7 8.331562042236328 9.295487403869629 0.7577777777777779\n",
            "8 11.368345260620117 9.240280151367188 0.7611111111111112\n",
            "9 15.401735305786133 9.138740539550781 0.7577777777777778\n",
            "10 14.234735488891602 9.148260116577148 0.768888888888889\n",
            "11 11.406234741210938 9.122650146484375 0.7755555555555556\n",
            "12 8.160472869873047 9.081839561462402 0.7788888888888889\n",
            "13 8.239273071289062 9.056353569030762 0.7677777777777778\n",
            "14 10.23554801940918 9.257354736328125 0.7633333333333333\n",
            "15 14.079469680786133 9.045587539672852 0.7755555555555556\n",
            "16 11.079357147216797 9.069368362426758 0.7888888888888889\n",
            "17 5.276776313781738 9.21307373046875 0.7877777777777778\n",
            "18 12.083551406860352 9.051437377929688 0.808888888888889\n",
            "19 14.282561302185059 9.11951732635498 0.78\n",
            "20 13.074186325073242 9.144554138183594 0.7655555555555555\n",
            "21 12.212213516235352 9.038732528686523 0.8033333333333333\n",
            "22 11.241209030151367 9.098100662231445 0.7988888888888889\n",
            "23 10.02418327331543 9.097356796264648 0.8022222222222222\n",
            "24 12.179428100585938 9.040401458740234 0.8300000000000001\n",
            "25 8.05854606628418 9.032783508300781 0.8\n",
            "26 11.031637191772461 9.023239135742188 0.8211111111111111\n",
            "27 16.193256378173828 9.015532493591309 0.8266666666666667\n",
            "28 16.29715919494629 9.04851245880127 0.8177777777777777\n",
            "29 10.026374816894531 9.059301376342773 0.8133333333333334\n",
            "30 14.095548629760742 9.071468353271484 0.8200000000000001\n",
            "31 11.16993522644043 9.12578010559082 0.8377777777777777\n",
            "32 6.02504825592041 9.03101921081543 0.8444444444444444\n",
            "33 10.950740814208984 9.056500434875488 0.85\n",
            "34 10.186379432678223 9.022747039794922 0.8477777777777777\n",
            "35 17.045486450195312 9.064949035644531 0.8533333333333334\n",
            "36 9.135525703430176 8.986698150634766 0.8711111111111112\n",
            "37 17.024105072021484 8.99243450164795 0.8722222222222222\n",
            "38 6.987793922424316 8.953826904296875 0.8722222222222221\n",
            "39 10.100360870361328 8.902250289916992 0.8688888888888888\n",
            "40 10.129694938659668 8.704751968383789 0.8799999999999999\n",
            "41 8.253774642944336 8.269174575805664 0.8944444444444445\n",
            "42 9.379441261291504 8.191582679748535 0.88\n",
            "43 6.546549320220947 8.267251968383789 0.8911111111111112\n",
            "44 5.450325012207031 7.2071075439453125 0.9055555555555556\n",
            "45 11.935868263244629 7.445477485656738 0.9133333333333333\n",
            "46 6.814576148986816 7.227748870849609 0.9066666666666667\n",
            "47 6.176664352416992 7.100192070007324 0.851111111111111\n",
            "48 9.068603515625 7.02992057800293 0.9\n",
            "49 7.296061992645264 6.797926902770996 0.8788888888888889\n"
          ],
          "name": "stdout"
        }
      ]
    },
    {
      "cell_type": "markdown",
      "metadata": {
        "id": "POte6rM4isR9"
      },
      "source": [
        "### Manual L1/L2 regularization"
      ]
    },
    {
      "cell_type": "code",
      "metadata": {
        "id": "9sn15tNDisR9"
      },
      "source": [
        "def loss_func_with_reg(y_hat, y, model, lambda_=1e-5):\n",
        "    y2 = y + 1*(y-1) # convert 0's to -1's\n",
        "    loss = cosemb(y_hat[1], y_hat[2], y2.reshape(-1))\n",
        "\n",
        "    l1_reg = 0\n",
        "    for param in model.parameters():\n",
        "        l1_reg += torch.norm(param, 1)\n",
        "\n",
        "    return loss + lambda_*l1_reg "
      ],
      "execution_count": null,
      "outputs": []
    },
    {
      "cell_type": "code",
      "metadata": {
        "colab": {
          "base_uri": "https://localhost:8080/"
        },
        "id": "0RRUhGyOisR9",
        "outputId": "a8d1b5ab-c5cd-4321-df96-73ee2106cf58"
      },
      "source": [
        "model = MatchingNetwork(28*28, 16*16)\n",
        "model = model.to(device)\n",
        "\n",
        "optimizer = torch.optim.Adam(model.parameters(), lr=0.0005)\n",
        "m = train(model, train_mnist, train_usps, [mnist_val, usps_val], 50, loss_func_with_reg, optimizer, device)"
      ],
      "execution_count": null,
      "outputs": [
        {
          "output_type": "stream",
          "text": [
            "0 15.646522521972656 10.29509162902832 0.6133333333333334\n",
            "1 14.244333267211914 10.12403392791748 0.6444444444444445\n",
            "2 11.149545669555664 10.132802963256836 0.6622222222222223\n",
            "3 8.054790496826172 10.089625358581543 0.7066666666666667\n",
            "4 9.082305908203125 10.108878135681152 0.7266666666666667\n",
            "5 15.772183418273926 9.912264823913574 0.7288888888888888\n",
            "6 11.102818489074707 9.537991523742676 0.7733333333333333\n",
            "7 14.292779922485352 9.624307632446289 0.76\n",
            "8 16.830787658691406 9.168502807617188 0.7777777777777777\n",
            "9 16.930891036987305 9.187972068786621 0.8044444444444445\n",
            "10 12.179166793823242 9.11472225189209 0.8166666666666667\n",
            "11 13.49004077911377 9.304604530334473 0.8344444444444444\n",
            "12 11.152312278747559 9.222794532775879 0.7999999999999999\n",
            "13 8.131051063537598 9.081831932067871 0.8344444444444444\n",
            "14 7.0693182945251465 9.069701194763184 0.8444444444444443\n",
            "15 9.101189613342285 9.062483787536621 0.861111111111111\n",
            "16 11.135367393493652 9.070769309997559 0.8433333333333333\n",
            "17 16.135334014892578 9.171570777893066 0.8233333333333333\n",
            "18 6.070511817932129 9.0916109085083 0.8677777777777778\n",
            "19 13.097835540771484 9.093118667602539 0.7988888888888889\n",
            "20 11.071425437927246 9.041433334350586 0.8488888888888889\n",
            "21 8.077085494995117 9.040891647338867 0.88\n",
            "22 14.302528381347656 9.03349781036377 0.87\n",
            "23 14.118184089660645 9.024754524230957 0.8655555555555555\n",
            "24 14.154255867004395 9.003647804260254 0.8933333333333333\n",
            "25 15.127412796020508 9.010290145874023 0.8811111111111111\n",
            "26 2.053581476211548 8.979516983032227 0.8988888888888888\n",
            "27 7.069236755371094 9.019600868225098 0.89\n",
            "28 6.641421794891357 8.999671936035156 0.8911111111111111\n",
            "29 11.739875793457031 8.964398384094238 0.8566666666666667\n",
            "30 13.351602554321289 8.935932159423828 0.9077777777777777\n",
            "31 11.687170028686523 7.762385845184326 0.8933333333333333\n",
            "32 6.952009677886963 8.633561134338379 0.8722222222222223\n",
            "33 11.279412269592285 7.862220764160156 0.8455555555555555\n",
            "34 8.943349838256836 7.264040946960449 0.9133333333333333\n",
            "35 11.529451370239258 7.886640548706055 0.8522222222222222\n",
            "36 3.1008875370025635 7.199358940124512 0.8622222222222222\n",
            "37 7.7842841148376465 6.860724449157715 0.9000000000000001\n",
            "38 9.013497352600098 7.241250038146973 0.8766666666666667\n",
            "39 8.13794231414795 7.452611923217773 0.8477777777777779\n",
            "40 7.4908552169799805 7.24021577835083 0.8388888888888889\n",
            "41 4.789482593536377 6.960410118103027 0.8488888888888889\n",
            "42 7.164633750915527 6.634670257568359 0.9\n",
            "43 8.115052223205566 6.369851112365723 0.89\n",
            "44 8.392749786376953 6.278736591339111 0.8899999999999999\n",
            "45 4.8650665283203125 6.230918884277344 0.8355555555555555\n",
            "46 3.2650349140167236 6.007030487060547 0.8733333333333333\n",
            "47 10.711127281188965 6.368678092956543 0.89\n",
            "48 9.184409141540527 5.902812957763672 0.9188888888888889\n",
            "49 5.353635787963867 5.699218273162842 0.8844444444444445\n"
          ],
          "name": "stdout"
        }
      ]
    },
    {
      "cell_type": "code",
      "metadata": {
        "colab": {
          "base_uri": "https://localhost:8080/",
          "height": 343
        },
        "id": "v8RjaMQf3N3Y",
        "outputId": "e689a4c1-7201-478a-8d29-76307930c619"
      },
      "source": [
        "pred = m(mnist_val.to(device), usps_val.to(device))\r\n",
        "pd.DataFrame(pred[0].detach().cpu().numpy().reshape(10,10))"
      ],
      "execution_count": null,
      "outputs": [
        {
          "output_type": "execute_result",
          "data": {
            "text/html": [
              "<div>\n",
              "<style scoped>\n",
              "    .dataframe tbody tr th:only-of-type {\n",
              "        vertical-align: middle;\n",
              "    }\n",
              "\n",
              "    .dataframe tbody tr th {\n",
              "        vertical-align: top;\n",
              "    }\n",
              "\n",
              "    .dataframe thead th {\n",
              "        text-align: right;\n",
              "    }\n",
              "</style>\n",
              "<table border=\"1\" class=\"dataframe\">\n",
              "  <thead>\n",
              "    <tr style=\"text-align: right;\">\n",
              "      <th></th>\n",
              "      <th>0</th>\n",
              "      <th>1</th>\n",
              "      <th>2</th>\n",
              "      <th>3</th>\n",
              "      <th>4</th>\n",
              "      <th>5</th>\n",
              "      <th>6</th>\n",
              "      <th>7</th>\n",
              "      <th>8</th>\n",
              "      <th>9</th>\n",
              "    </tr>\n",
              "  </thead>\n",
              "  <tbody>\n",
              "    <tr>\n",
              "      <th>0</th>\n",
              "      <td>0.989947</td>\n",
              "      <td>-0.049183</td>\n",
              "      <td>-0.153052</td>\n",
              "      <td>-0.186188</td>\n",
              "      <td>-0.207537</td>\n",
              "      <td>-0.090162</td>\n",
              "      <td>-0.208296</td>\n",
              "      <td>-0.031365</td>\n",
              "      <td>-0.178849</td>\n",
              "      <td>-0.205978</td>\n",
              "    </tr>\n",
              "    <tr>\n",
              "      <th>1</th>\n",
              "      <td>-0.068346</td>\n",
              "      <td>0.997421</td>\n",
              "      <td>-0.126178</td>\n",
              "      <td>-0.060194</td>\n",
              "      <td>-0.118169</td>\n",
              "      <td>-0.089915</td>\n",
              "      <td>-0.092416</td>\n",
              "      <td>-0.066035</td>\n",
              "      <td>-0.142615</td>\n",
              "      <td>-0.096124</td>\n",
              "    </tr>\n",
              "    <tr>\n",
              "      <th>2</th>\n",
              "      <td>-0.213225</td>\n",
              "      <td>-0.120800</td>\n",
              "      <td>0.976074</td>\n",
              "      <td>-0.084109</td>\n",
              "      <td>-0.232635</td>\n",
              "      <td>-0.188898</td>\n",
              "      <td>-0.365268</td>\n",
              "      <td>-0.176675</td>\n",
              "      <td>-0.146352</td>\n",
              "      <td>-0.235204</td>\n",
              "    </tr>\n",
              "    <tr>\n",
              "      <th>3</th>\n",
              "      <td>-0.139126</td>\n",
              "      <td>-0.041624</td>\n",
              "      <td>0.011922</td>\n",
              "      <td>0.051066</td>\n",
              "      <td>-0.057104</td>\n",
              "      <td>0.059739</td>\n",
              "      <td>-0.438444</td>\n",
              "      <td>-0.187439</td>\n",
              "      <td>-0.023829</td>\n",
              "      <td>-0.101610</td>\n",
              "    </tr>\n",
              "    <tr>\n",
              "      <th>4</th>\n",
              "      <td>-0.171185</td>\n",
              "      <td>-0.079356</td>\n",
              "      <td>-0.165721</td>\n",
              "      <td>-0.073909</td>\n",
              "      <td>0.023825</td>\n",
              "      <td>-0.070394</td>\n",
              "      <td>-0.146501</td>\n",
              "      <td>-0.110841</td>\n",
              "      <td>-0.019879</td>\n",
              "      <td>0.019066</td>\n",
              "    </tr>\n",
              "    <tr>\n",
              "      <th>5</th>\n",
              "      <td>-0.162332</td>\n",
              "      <td>-0.014754</td>\n",
              "      <td>-0.100509</td>\n",
              "      <td>-0.112269</td>\n",
              "      <td>0.015236</td>\n",
              "      <td>-0.145065</td>\n",
              "      <td>-0.033796</td>\n",
              "      <td>-0.198988</td>\n",
              "      <td>-0.039561</td>\n",
              "      <td>0.004374</td>\n",
              "    </tr>\n",
              "    <tr>\n",
              "      <th>6</th>\n",
              "      <td>-0.299239</td>\n",
              "      <td>-0.135594</td>\n",
              "      <td>-0.280582</td>\n",
              "      <td>-0.327122</td>\n",
              "      <td>-0.148562</td>\n",
              "      <td>-0.360683</td>\n",
              "      <td>0.910330</td>\n",
              "      <td>-0.121717</td>\n",
              "      <td>-0.233752</td>\n",
              "      <td>-0.158305</td>\n",
              "    </tr>\n",
              "    <tr>\n",
              "      <th>7</th>\n",
              "      <td>-0.055884</td>\n",
              "      <td>-0.067024</td>\n",
              "      <td>-0.081815</td>\n",
              "      <td>-0.172021</td>\n",
              "      <td>-0.130216</td>\n",
              "      <td>-0.163606</td>\n",
              "      <td>-0.071665</td>\n",
              "      <td>0.987951</td>\n",
              "      <td>-0.161464</td>\n",
              "      <td>-0.101390</td>\n",
              "    </tr>\n",
              "    <tr>\n",
              "      <th>8</th>\n",
              "      <td>-0.150139</td>\n",
              "      <td>-0.182190</td>\n",
              "      <td>0.233303</td>\n",
              "      <td>-0.165713</td>\n",
              "      <td>-0.112940</td>\n",
              "      <td>-0.175393</td>\n",
              "      <td>-0.197515</td>\n",
              "      <td>-0.237595</td>\n",
              "      <td>-0.111947</td>\n",
              "      <td>-0.105221</td>\n",
              "    </tr>\n",
              "    <tr>\n",
              "      <th>9</th>\n",
              "      <td>-0.135856</td>\n",
              "      <td>-0.080862</td>\n",
              "      <td>-0.187413</td>\n",
              "      <td>-0.050488</td>\n",
              "      <td>0.006128</td>\n",
              "      <td>-0.025851</td>\n",
              "      <td>-0.214948</td>\n",
              "      <td>-0.105521</td>\n",
              "      <td>-0.019952</td>\n",
              "      <td>0.003089</td>\n",
              "    </tr>\n",
              "  </tbody>\n",
              "</table>\n",
              "</div>"
            ],
            "text/plain": [
              "          0         1         2  ...         7         8         9\n",
              "0  0.989947 -0.049183 -0.153052  ... -0.031365 -0.178849 -0.205978\n",
              "1 -0.068346  0.997421 -0.126178  ... -0.066035 -0.142615 -0.096124\n",
              "2 -0.213225 -0.120800  0.976074  ... -0.176675 -0.146352 -0.235204\n",
              "3 -0.139126 -0.041624  0.011922  ... -0.187439 -0.023829 -0.101610\n",
              "4 -0.171185 -0.079356 -0.165721  ... -0.110841 -0.019879  0.019066\n",
              "5 -0.162332 -0.014754 -0.100509  ... -0.198988 -0.039561  0.004374\n",
              "6 -0.299239 -0.135594 -0.280582  ... -0.121717 -0.233752 -0.158305\n",
              "7 -0.055884 -0.067024 -0.081815  ...  0.987951 -0.161464 -0.101390\n",
              "8 -0.150139 -0.182190  0.233303  ... -0.237595 -0.111947 -0.105221\n",
              "9 -0.135856 -0.080862 -0.187413  ... -0.105521 -0.019952  0.003089\n",
              "\n",
              "[10 rows x 10 columns]"
            ]
          },
          "metadata": {
            "tags": []
          },
          "execution_count": 82
        }
      ]
    },
    {
      "cell_type": "markdown",
      "metadata": {
        "id": "auued8U_isR-"
      },
      "source": [
        "# Hmmmm... It seems like this is not an easy problem after all\n",
        "What else can we do?\n",
        "\n",
        "1. Data Augmentation?\n",
        "2. Label smoothing?\n",
        "3. Multi-task Learning?  \n",
        "4. CNN (\\*rolls eyes\\* obviously)\n"
      ]
    },
    {
      "cell_type": "markdown",
      "metadata": {
        "id": "JPd56e904By6"
      },
      "source": [
        "## (Pseudo) Data Augmentatation\r\n",
        "\r\n",
        "We expect that only 1/10 of our samples match. Instead of oversampling matching pairs (which will require more effort in practice), we can do sample weighting instead.\r\n",
        "\r\n",
        " This can be done by giving more weight to the minority samples in the loss function."
      ]
    },
    {
      "cell_type": "code",
      "metadata": {
        "id": "dzqFYTPWx117"
      },
      "source": [
        "cosemb = nn.CosineEmbeddingLoss(reduction='none')\r\n",
        "def loss_func_augmented(y_hat, y, model):\r\n",
        "    y2 = y + 1*(y-1) # convert 0's to -1's\r\n",
        "    loss = cosemb(y_hat[1], y_hat[2], y2.reshape(-1))*(1+y*10)\r\n",
        "    return loss.mean()"
      ],
      "execution_count": null,
      "outputs": []
    },
    {
      "cell_type": "code",
      "metadata": {
        "colab": {
          "base_uri": "https://localhost:8080/"
        },
        "id": "YwFeNHpPza35",
        "outputId": "bf93cd8d-559c-4bff-c4c9-65823678f220"
      },
      "source": [
        "model = MatchingNetwork(28*28, 16*16)\r\n",
        "model = model.to(device)\r\n",
        "\r\n",
        "optimizer = torch.optim.Adam(model.parameters(), lr=0.0005)\r\n",
        "m = train(model, train_mnist, train_usps, [mnist_val, usps_val], 50, loss_func_augmented, optimizer, device)"
      ],
      "execution_count": null,
      "outputs": [
        {
          "output_type": "stream",
          "text": [
            "0 36.73316955566406 20.623058319091797 0.5822222222222222\n",
            "1 36.49017333984375 20.22930335998535 0.5966666666666667\n",
            "2 20.856231689453125 20.32264518737793 0.7022222222222223\n",
            "3 16.081815719604492 20.12824821472168 0.6966666666666665\n",
            "4 10.925620079040527 19.933237075805664 0.7877777777777778\n",
            "5 33.2230224609375 19.446895599365234 0.8188888888888889\n",
            "6 24.708141326904297 18.678203582763672 0.8244444444444444\n",
            "7 19.65297508239746 18.385709762573242 0.8366666666666668\n",
            "8 23.610027313232422 18.302114486694336 0.8055555555555556\n",
            "9 22.88103675842285 18.316822052001953 0.8377777777777777\n",
            "10 24.338008880615234 18.166854858398438 0.8500000000000001\n",
            "11 26.32855796813965 18.283506393432617 0.841111111111111\n",
            "12 15.737180709838867 18.26552391052246 0.8444444444444444\n",
            "13 17.094905853271484 18.295654296875 0.8333333333333334\n",
            "14 13.405624389648438 18.197019577026367 0.8722222222222222\n",
            "15 28.23088264465332 18.32997703552246 0.88\n",
            "16 18.606176376342773 18.150632858276367 0.8788888888888888\n",
            "17 22.98101806640625 18.118358612060547 0.8811111111111112\n",
            "18 40.90968704223633 18.00342559814453 0.8811111111111112\n",
            "19 21.468795776367188 18.339582443237305 0.8577777777777778\n",
            "20 40.83576202392578 17.5313720703125 0.8644444444444445\n",
            "21 13.930671691894531 16.50472068786621 0.8566666666666667\n",
            "22 12.057929992675781 16.018421173095703 0.8844444444444444\n",
            "23 21.22024154663086 16.336410522460938 0.8566666666666667\n",
            "24 13.197835922241211 14.716715812683105 0.9033333333333333\n",
            "25 24.065265655517578 14.18226146697998 0.8977777777777778\n",
            "26 31.04526138305664 13.084024429321289 0.9033333333333333\n",
            "27 12.098678588867188 14.083724975585938 0.8022222222222222\n",
            "28 8.389954566955566 14.48985767364502 0.8644444444444443\n",
            "29 22.941755294799805 14.001094818115234 0.8733333333333333\n",
            "30 24.909297943115234 13.762714385986328 0.8477777777777777\n",
            "31 10.433355331420898 13.284218788146973 0.8477777777777777\n",
            "32 6.232362747192383 12.532485961914062 0.8422222222222222\n",
            "33 7.7793378829956055 13.521778106689453 0.8622222222222222\n",
            "34 5.187447547912598 14.15042495727539 0.8655555555555556\n",
            "35 5.090541362762451 13.77919864654541 0.8477777777777779\n",
            "36 9.881875991821289 13.563066482543945 0.8233333333333334\n",
            "37 28.757251739501953 12.16866683959961 0.9011111111111111\n",
            "38 9.976202011108398 12.33296012878418 0.79\n",
            "39 24.208904266357422 11.709120750427246 0.8233333333333335\n",
            "40 10.172761917114258 10.841383934020996 0.9088888888888889\n",
            "41 15.303145408630371 10.541387557983398 0.9000000000000001\n",
            "42 7.02847957611084 11.622774124145508 0.9688888888888889\n",
            "43 10.088661193847656 9.79173469543457 0.991111111111111\n",
            "44 4.299531936645508 8.058523178100586 0.9833333333333333\n",
            "45 13.122838020324707 7.486232757568359 0.9844444444444445\n",
            "46 4.8970947265625 10.658869743347168 0.9866666666666667\n",
            "47 5.3590826988220215 11.771120071411133 0.961111111111111\n",
            "48 9.82989501953125 7.330279350280762 0.9955555555555555\n",
            "49 6.843288421630859 12.634170532226562 0.9655555555555556\n"
          ],
          "name": "stdout"
        }
      ]
    },
    {
      "cell_type": "code",
      "metadata": {
        "colab": {
          "base_uri": "https://localhost:8080/",
          "height": 343
        },
        "id": "zIXxW5h8zmzm",
        "outputId": "38f03cc9-a529-4086-fb2c-b41181e7e420"
      },
      "source": [
        "pred = m(mnist_val.to(device), usps_val.to(device))\r\n",
        "pd.DataFrame(pred[0].detach().cpu().numpy().reshape(10,10))"
      ],
      "execution_count": null,
      "outputs": [
        {
          "output_type": "execute_result",
          "data": {
            "text/html": [
              "<div>\n",
              "<style scoped>\n",
              "    .dataframe tbody tr th:only-of-type {\n",
              "        vertical-align: middle;\n",
              "    }\n",
              "\n",
              "    .dataframe tbody tr th {\n",
              "        vertical-align: top;\n",
              "    }\n",
              "\n",
              "    .dataframe thead th {\n",
              "        text-align: right;\n",
              "    }\n",
              "</style>\n",
              "<table border=\"1\" class=\"dataframe\">\n",
              "  <thead>\n",
              "    <tr style=\"text-align: right;\">\n",
              "      <th></th>\n",
              "      <th>0</th>\n",
              "      <th>1</th>\n",
              "      <th>2</th>\n",
              "      <th>3</th>\n",
              "      <th>4</th>\n",
              "      <th>5</th>\n",
              "      <th>6</th>\n",
              "      <th>7</th>\n",
              "      <th>8</th>\n",
              "      <th>9</th>\n",
              "    </tr>\n",
              "  </thead>\n",
              "  <tbody>\n",
              "    <tr>\n",
              "      <th>0</th>\n",
              "      <td>0.997240</td>\n",
              "      <td>-0.049837</td>\n",
              "      <td>-0.089026</td>\n",
              "      <td>-0.071839</td>\n",
              "      <td>-0.120273</td>\n",
              "      <td>-0.112272</td>\n",
              "      <td>-0.082065</td>\n",
              "      <td>-0.047844</td>\n",
              "      <td>-0.232439</td>\n",
              "      <td>-0.138654</td>\n",
              "    </tr>\n",
              "    <tr>\n",
              "      <th>1</th>\n",
              "      <td>-0.048180</td>\n",
              "      <td>0.993926</td>\n",
              "      <td>-0.038973</td>\n",
              "      <td>-0.058961</td>\n",
              "      <td>-0.140521</td>\n",
              "      <td>-0.071697</td>\n",
              "      <td>-0.012873</td>\n",
              "      <td>-0.029798</td>\n",
              "      <td>-0.077014</td>\n",
              "      <td>-0.118858</td>\n",
              "    </tr>\n",
              "    <tr>\n",
              "      <th>2</th>\n",
              "      <td>-0.100233</td>\n",
              "      <td>-0.037410</td>\n",
              "      <td>0.991053</td>\n",
              "      <td>-0.131826</td>\n",
              "      <td>-0.183610</td>\n",
              "      <td>-0.095048</td>\n",
              "      <td>-0.128470</td>\n",
              "      <td>-0.058869</td>\n",
              "      <td>-0.176197</td>\n",
              "      <td>-0.159596</td>\n",
              "    </tr>\n",
              "    <tr>\n",
              "      <th>3</th>\n",
              "      <td>-0.156135</td>\n",
              "      <td>-0.125445</td>\n",
              "      <td>-0.201126</td>\n",
              "      <td>0.094517</td>\n",
              "      <td>-0.059730</td>\n",
              "      <td>0.424516</td>\n",
              "      <td>-0.120142</td>\n",
              "      <td>-0.201778</td>\n",
              "      <td>0.569927</td>\n",
              "      <td>-0.193919</td>\n",
              "    </tr>\n",
              "    <tr>\n",
              "      <th>4</th>\n",
              "      <td>-0.102334</td>\n",
              "      <td>-0.064268</td>\n",
              "      <td>-0.110106</td>\n",
              "      <td>-0.070428</td>\n",
              "      <td>0.873893</td>\n",
              "      <td>-0.254385</td>\n",
              "      <td>-0.078694</td>\n",
              "      <td>-0.052152</td>\n",
              "      <td>-0.121953</td>\n",
              "      <td>-0.161631</td>\n",
              "    </tr>\n",
              "    <tr>\n",
              "      <th>5</th>\n",
              "      <td>-0.171544</td>\n",
              "      <td>-0.311642</td>\n",
              "      <td>-0.346980</td>\n",
              "      <td>-0.013117</td>\n",
              "      <td>0.116677</td>\n",
              "      <td>0.031296</td>\n",
              "      <td>0.142600</td>\n",
              "      <td>-0.371981</td>\n",
              "      <td>-0.022683</td>\n",
              "      <td>0.437949</td>\n",
              "    </tr>\n",
              "    <tr>\n",
              "      <th>6</th>\n",
              "      <td>-0.169545</td>\n",
              "      <td>-0.057300</td>\n",
              "      <td>-0.279709</td>\n",
              "      <td>-0.012695</td>\n",
              "      <td>-0.063082</td>\n",
              "      <td>-0.084349</td>\n",
              "      <td>0.867446</td>\n",
              "      <td>-0.159769</td>\n",
              "      <td>0.196098</td>\n",
              "      <td>-0.209648</td>\n",
              "    </tr>\n",
              "    <tr>\n",
              "      <th>7</th>\n",
              "      <td>-0.048606</td>\n",
              "      <td>-0.067540</td>\n",
              "      <td>-0.060711</td>\n",
              "      <td>-0.065125</td>\n",
              "      <td>-0.157127</td>\n",
              "      <td>-0.173028</td>\n",
              "      <td>-0.004823</td>\n",
              "      <td>0.995570</td>\n",
              "      <td>-0.032235</td>\n",
              "      <td>-0.301082</td>\n",
              "    </tr>\n",
              "    <tr>\n",
              "      <th>8</th>\n",
              "      <td>-0.184759</td>\n",
              "      <td>-0.121055</td>\n",
              "      <td>0.877755</td>\n",
              "      <td>-0.165678</td>\n",
              "      <td>-0.150425</td>\n",
              "      <td>-0.165712</td>\n",
              "      <td>-0.217364</td>\n",
              "      <td>-0.153820</td>\n",
              "      <td>-0.015507</td>\n",
              "      <td>-0.054271</td>\n",
              "    </tr>\n",
              "    <tr>\n",
              "      <th>9</th>\n",
              "      <td>-0.152140</td>\n",
              "      <td>-0.162012</td>\n",
              "      <td>-0.158142</td>\n",
              "      <td>-0.076635</td>\n",
              "      <td>-0.206081</td>\n",
              "      <td>0.205502</td>\n",
              "      <td>-0.159021</td>\n",
              "      <td>-0.362648</td>\n",
              "      <td>-0.221857</td>\n",
              "      <td>0.824506</td>\n",
              "    </tr>\n",
              "  </tbody>\n",
              "</table>\n",
              "</div>"
            ],
            "text/plain": [
              "          0         1         2  ...         7         8         9\n",
              "0  0.997240 -0.049837 -0.089026  ... -0.047844 -0.232439 -0.138654\n",
              "1 -0.048180  0.993926 -0.038973  ... -0.029798 -0.077014 -0.118858\n",
              "2 -0.100233 -0.037410  0.991053  ... -0.058869 -0.176197 -0.159596\n",
              "3 -0.156135 -0.125445 -0.201126  ... -0.201778  0.569927 -0.193919\n",
              "4 -0.102334 -0.064268 -0.110106  ... -0.052152 -0.121953 -0.161631\n",
              "5 -0.171544 -0.311642 -0.346980  ... -0.371981 -0.022683  0.437949\n",
              "6 -0.169545 -0.057300 -0.279709  ... -0.159769  0.196098 -0.209648\n",
              "7 -0.048606 -0.067540 -0.060711  ...  0.995570 -0.032235 -0.301082\n",
              "8 -0.184759 -0.121055  0.877755  ... -0.153820 -0.015507 -0.054271\n",
              "9 -0.152140 -0.162012 -0.158142  ... -0.362648 -0.221857  0.824506\n",
              "\n",
              "[10 rows x 10 columns]"
            ]
          },
          "metadata": {
            "tags": []
          },
          "execution_count": 85
        }
      ]
    },
    {
      "cell_type": "code",
      "metadata": {
        "colab": {
          "base_uri": "https://localhost:8080/",
          "height": 343
        },
        "id": "elb5Aq4Cz46L",
        "outputId": "51d9cf6b-994a-4e2f-f57d-460c6f417d79"
      },
      "source": [
        "pd.DataFrame(1*(pred[0].detach().cpu().numpy().reshape(10,10)>0))"
      ],
      "execution_count": null,
      "outputs": [
        {
          "output_type": "execute_result",
          "data": {
            "text/html": [
              "<div>\n",
              "<style scoped>\n",
              "    .dataframe tbody tr th:only-of-type {\n",
              "        vertical-align: middle;\n",
              "    }\n",
              "\n",
              "    .dataframe tbody tr th {\n",
              "        vertical-align: top;\n",
              "    }\n",
              "\n",
              "    .dataframe thead th {\n",
              "        text-align: right;\n",
              "    }\n",
              "</style>\n",
              "<table border=\"1\" class=\"dataframe\">\n",
              "  <thead>\n",
              "    <tr style=\"text-align: right;\">\n",
              "      <th></th>\n",
              "      <th>0</th>\n",
              "      <th>1</th>\n",
              "      <th>2</th>\n",
              "      <th>3</th>\n",
              "      <th>4</th>\n",
              "      <th>5</th>\n",
              "      <th>6</th>\n",
              "      <th>7</th>\n",
              "      <th>8</th>\n",
              "      <th>9</th>\n",
              "    </tr>\n",
              "  </thead>\n",
              "  <tbody>\n",
              "    <tr>\n",
              "      <th>0</th>\n",
              "      <td>1</td>\n",
              "      <td>0</td>\n",
              "      <td>0</td>\n",
              "      <td>0</td>\n",
              "      <td>0</td>\n",
              "      <td>0</td>\n",
              "      <td>0</td>\n",
              "      <td>0</td>\n",
              "      <td>0</td>\n",
              "      <td>0</td>\n",
              "    </tr>\n",
              "    <tr>\n",
              "      <th>1</th>\n",
              "      <td>0</td>\n",
              "      <td>1</td>\n",
              "      <td>0</td>\n",
              "      <td>0</td>\n",
              "      <td>0</td>\n",
              "      <td>0</td>\n",
              "      <td>0</td>\n",
              "      <td>0</td>\n",
              "      <td>0</td>\n",
              "      <td>0</td>\n",
              "    </tr>\n",
              "    <tr>\n",
              "      <th>2</th>\n",
              "      <td>0</td>\n",
              "      <td>0</td>\n",
              "      <td>1</td>\n",
              "      <td>0</td>\n",
              "      <td>0</td>\n",
              "      <td>0</td>\n",
              "      <td>0</td>\n",
              "      <td>0</td>\n",
              "      <td>0</td>\n",
              "      <td>0</td>\n",
              "    </tr>\n",
              "    <tr>\n",
              "      <th>3</th>\n",
              "      <td>0</td>\n",
              "      <td>0</td>\n",
              "      <td>0</td>\n",
              "      <td>1</td>\n",
              "      <td>0</td>\n",
              "      <td>1</td>\n",
              "      <td>0</td>\n",
              "      <td>0</td>\n",
              "      <td>1</td>\n",
              "      <td>0</td>\n",
              "    </tr>\n",
              "    <tr>\n",
              "      <th>4</th>\n",
              "      <td>0</td>\n",
              "      <td>0</td>\n",
              "      <td>0</td>\n",
              "      <td>0</td>\n",
              "      <td>1</td>\n",
              "      <td>0</td>\n",
              "      <td>0</td>\n",
              "      <td>0</td>\n",
              "      <td>0</td>\n",
              "      <td>0</td>\n",
              "    </tr>\n",
              "    <tr>\n",
              "      <th>5</th>\n",
              "      <td>0</td>\n",
              "      <td>0</td>\n",
              "      <td>0</td>\n",
              "      <td>0</td>\n",
              "      <td>1</td>\n",
              "      <td>1</td>\n",
              "      <td>1</td>\n",
              "      <td>0</td>\n",
              "      <td>0</td>\n",
              "      <td>1</td>\n",
              "    </tr>\n",
              "    <tr>\n",
              "      <th>6</th>\n",
              "      <td>0</td>\n",
              "      <td>0</td>\n",
              "      <td>0</td>\n",
              "      <td>0</td>\n",
              "      <td>0</td>\n",
              "      <td>0</td>\n",
              "      <td>1</td>\n",
              "      <td>0</td>\n",
              "      <td>1</td>\n",
              "      <td>0</td>\n",
              "    </tr>\n",
              "    <tr>\n",
              "      <th>7</th>\n",
              "      <td>0</td>\n",
              "      <td>0</td>\n",
              "      <td>0</td>\n",
              "      <td>0</td>\n",
              "      <td>0</td>\n",
              "      <td>0</td>\n",
              "      <td>0</td>\n",
              "      <td>1</td>\n",
              "      <td>0</td>\n",
              "      <td>0</td>\n",
              "    </tr>\n",
              "    <tr>\n",
              "      <th>8</th>\n",
              "      <td>0</td>\n",
              "      <td>0</td>\n",
              "      <td>1</td>\n",
              "      <td>0</td>\n",
              "      <td>0</td>\n",
              "      <td>0</td>\n",
              "      <td>0</td>\n",
              "      <td>0</td>\n",
              "      <td>0</td>\n",
              "      <td>0</td>\n",
              "    </tr>\n",
              "    <tr>\n",
              "      <th>9</th>\n",
              "      <td>0</td>\n",
              "      <td>0</td>\n",
              "      <td>0</td>\n",
              "      <td>0</td>\n",
              "      <td>0</td>\n",
              "      <td>1</td>\n",
              "      <td>0</td>\n",
              "      <td>0</td>\n",
              "      <td>0</td>\n",
              "      <td>1</td>\n",
              "    </tr>\n",
              "  </tbody>\n",
              "</table>\n",
              "</div>"
            ],
            "text/plain": [
              "   0  1  2  3  4  5  6  7  8  9\n",
              "0  1  0  0  0  0  0  0  0  0  0\n",
              "1  0  1  0  0  0  0  0  0  0  0\n",
              "2  0  0  1  0  0  0  0  0  0  0\n",
              "3  0  0  0  1  0  1  0  0  1  0\n",
              "4  0  0  0  0  1  0  0  0  0  0\n",
              "5  0  0  0  0  1  1  1  0  0  1\n",
              "6  0  0  0  0  0  0  1  0  1  0\n",
              "7  0  0  0  0  0  0  0  1  0  0\n",
              "8  0  0  1  0  0  0  0  0  0  0\n",
              "9  0  0  0  0  0  1  0  0  0  1"
            ]
          },
          "metadata": {
            "tags": []
          },
          "execution_count": 86
        }
      ]
    },
    {
      "cell_type": "code",
      "metadata": {
        "id": "TkqTk88zz-kn"
      },
      "source": [
        ""
      ],
      "execution_count": null,
      "outputs": []
    }
  ]
}