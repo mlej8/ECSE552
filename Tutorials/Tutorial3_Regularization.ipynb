{
  "nbformat": 4,
  "nbformat_minor": 0,
  "metadata": {
    "kernelspec": {
      "display_name": "Python 3",
      "language": "python",
      "name": "python3"
    },
    "language_info": {
      "codemirror_mode": {
        "name": "ipython",
        "version": 3
      },
      "file_extension": ".py",
      "mimetype": "text/x-python",
      "name": "python",
      "nbconvert_exporter": "python",
      "pygments_lexer": "ipython3",
      "version": "3.7.6"
    },
    "colab": {
      "name": "T3-Regularization.ipynb",
      "provenance": [],
      "include_colab_link": true
    },
    "widgets": {
      "application/vnd.jupyter.widget-state+json": {
        "88a073da48bc481f94ff271d1e213572": {
          "model_module": "@jupyter-widgets/controls",
          "model_name": "HBoxModel",
          "state": {
            "_view_name": "HBoxView",
            "_dom_classes": [],
            "_model_name": "HBoxModel",
            "_view_module": "@jupyter-widgets/controls",
            "_model_module_version": "1.5.0",
            "_view_count": null,
            "_view_module_version": "1.5.0",
            "box_style": "",
            "layout": "IPY_MODEL_43892dd2f5474b589f42c35f8428ae84",
            "_model_module": "@jupyter-widgets/controls",
            "children": [
              "IPY_MODEL_c3bb639a3d254a0281f7bda657943baf",
              "IPY_MODEL_115a6fb609e04b24b89296eb1c597dab"
            ]
          }
        },
        "43892dd2f5474b589f42c35f8428ae84": {
          "model_module": "@jupyter-widgets/base",
          "model_name": "LayoutModel",
          "state": {
            "_view_name": "LayoutView",
            "grid_template_rows": null,
            "right": null,
            "justify_content": null,
            "_view_module": "@jupyter-widgets/base",
            "overflow": null,
            "_model_module_version": "1.2.0",
            "_view_count": null,
            "flex_flow": null,
            "width": null,
            "min_width": null,
            "border": null,
            "align_items": null,
            "bottom": null,
            "_model_module": "@jupyter-widgets/base",
            "top": null,
            "grid_column": null,
            "overflow_y": null,
            "overflow_x": null,
            "grid_auto_flow": null,
            "grid_area": null,
            "grid_template_columns": null,
            "flex": null,
            "_model_name": "LayoutModel",
            "justify_items": null,
            "grid_row": null,
            "max_height": null,
            "align_content": null,
            "visibility": null,
            "align_self": null,
            "height": null,
            "min_height": null,
            "padding": null,
            "grid_auto_rows": null,
            "grid_gap": null,
            "max_width": null,
            "order": null,
            "_view_module_version": "1.2.0",
            "grid_template_areas": null,
            "object_position": null,
            "object_fit": null,
            "grid_auto_columns": null,
            "margin": null,
            "display": null,
            "left": null
          }
        },
        "c3bb639a3d254a0281f7bda657943baf": {
          "model_module": "@jupyter-widgets/controls",
          "model_name": "FloatProgressModel",
          "state": {
            "_view_name": "ProgressView",
            "style": "IPY_MODEL_02b49ade02904774a802fc3948d4dc3b",
            "_dom_classes": [],
            "description": "",
            "_model_name": "FloatProgressModel",
            "bar_style": "success",
            "max": 1,
            "_view_module": "@jupyter-widgets/controls",
            "_model_module_version": "1.5.0",
            "value": 1,
            "_view_count": null,
            "_view_module_version": "1.5.0",
            "orientation": "horizontal",
            "min": 0,
            "description_tooltip": null,
            "_model_module": "@jupyter-widgets/controls",
            "layout": "IPY_MODEL_a21c762c508d46adabb87c6ad96c239f"
          }
        },
        "115a6fb609e04b24b89296eb1c597dab": {
          "model_module": "@jupyter-widgets/controls",
          "model_name": "HTMLModel",
          "state": {
            "_view_name": "HTMLView",
            "style": "IPY_MODEL_41c3527a85964fceba4a58d8590b1e49",
            "_dom_classes": [],
            "description": "",
            "_model_name": "HTMLModel",
            "placeholder": "​",
            "_view_module": "@jupyter-widgets/controls",
            "_model_module_version": "1.5.0",
            "value": " 6586368/? [00:04&lt;00:00, 1534122.44it/s]",
            "_view_count": null,
            "_view_module_version": "1.5.0",
            "description_tooltip": null,
            "_model_module": "@jupyter-widgets/controls",
            "layout": "IPY_MODEL_b89cd78d1f544b279f0891818f32aa96"
          }
        },
        "02b49ade02904774a802fc3948d4dc3b": {
          "model_module": "@jupyter-widgets/controls",
          "model_name": "ProgressStyleModel",
          "state": {
            "_view_name": "StyleView",
            "_model_name": "ProgressStyleModel",
            "description_width": "initial",
            "_view_module": "@jupyter-widgets/base",
            "_model_module_version": "1.5.0",
            "_view_count": null,
            "_view_module_version": "1.2.0",
            "bar_color": null,
            "_model_module": "@jupyter-widgets/controls"
          }
        },
        "a21c762c508d46adabb87c6ad96c239f": {
          "model_module": "@jupyter-widgets/base",
          "model_name": "LayoutModel",
          "state": {
            "_view_name": "LayoutView",
            "grid_template_rows": null,
            "right": null,
            "justify_content": null,
            "_view_module": "@jupyter-widgets/base",
            "overflow": null,
            "_model_module_version": "1.2.0",
            "_view_count": null,
            "flex_flow": null,
            "width": null,
            "min_width": null,
            "border": null,
            "align_items": null,
            "bottom": null,
            "_model_module": "@jupyter-widgets/base",
            "top": null,
            "grid_column": null,
            "overflow_y": null,
            "overflow_x": null,
            "grid_auto_flow": null,
            "grid_area": null,
            "grid_template_columns": null,
            "flex": null,
            "_model_name": "LayoutModel",
            "justify_items": null,
            "grid_row": null,
            "max_height": null,
            "align_content": null,
            "visibility": null,
            "align_self": null,
            "height": null,
            "min_height": null,
            "padding": null,
            "grid_auto_rows": null,
            "grid_gap": null,
            "max_width": null,
            "order": null,
            "_view_module_version": "1.2.0",
            "grid_template_areas": null,
            "object_position": null,
            "object_fit": null,
            "grid_auto_columns": null,
            "margin": null,
            "display": null,
            "left": null
          }
        },
        "41c3527a85964fceba4a58d8590b1e49": {
          "model_module": "@jupyter-widgets/controls",
          "model_name": "DescriptionStyleModel",
          "state": {
            "_view_name": "StyleView",
            "_model_name": "DescriptionStyleModel",
            "description_width": "",
            "_view_module": "@jupyter-widgets/base",
            "_model_module_version": "1.5.0",
            "_view_count": null,
            "_view_module_version": "1.2.0",
            "_model_module": "@jupyter-widgets/controls"
          }
        },
        "b89cd78d1f544b279f0891818f32aa96": {
          "model_module": "@jupyter-widgets/base",
          "model_name": "LayoutModel",
          "state": {
            "_view_name": "LayoutView",
            "grid_template_rows": null,
            "right": null,
            "justify_content": null,
            "_view_module": "@jupyter-widgets/base",
            "overflow": null,
            "_model_module_version": "1.2.0",
            "_view_count": null,
            "flex_flow": null,
            "width": null,
            "min_width": null,
            "border": null,
            "align_items": null,
            "bottom": null,
            "_model_module": "@jupyter-widgets/base",
            "top": null,
            "grid_column": null,
            "overflow_y": null,
            "overflow_x": null,
            "grid_auto_flow": null,
            "grid_area": null,
            "grid_template_columns": null,
            "flex": null,
            "_model_name": "LayoutModel",
            "justify_items": null,
            "grid_row": null,
            "max_height": null,
            "align_content": null,
            "visibility": null,
            "align_self": null,
            "height": null,
            "min_height": null,
            "padding": null,
            "grid_auto_rows": null,
            "grid_gap": null,
            "max_width": null,
            "order": null,
            "_view_module_version": "1.2.0",
            "grid_template_areas": null,
            "object_position": null,
            "object_fit": null,
            "grid_auto_columns": null,
            "margin": null,
            "display": null,
            "left": null
          }
        },
        "2b565bbea455402289444cdb040c373b": {
          "model_module": "@jupyter-widgets/controls",
          "model_name": "HBoxModel",
          "state": {
            "_view_name": "HBoxView",
            "_dom_classes": [],
            "_model_name": "HBoxModel",
            "_view_module": "@jupyter-widgets/controls",
            "_model_module_version": "1.5.0",
            "_view_count": null,
            "_view_module_version": "1.5.0",
            "box_style": "",
            "layout": "IPY_MODEL_e9f736f72e274a689bc2e948c84554db",
            "_model_module": "@jupyter-widgets/controls",
            "children": [
              "IPY_MODEL_617db01330934930a29ad8d09198e2e1",
              "IPY_MODEL_d699c8228f9f439e8bc556e1a6972beb"
            ]
          }
        },
        "e9f736f72e274a689bc2e948c84554db": {
          "model_module": "@jupyter-widgets/base",
          "model_name": "LayoutModel",
          "state": {
            "_view_name": "LayoutView",
            "grid_template_rows": null,
            "right": null,
            "justify_content": null,
            "_view_module": "@jupyter-widgets/base",
            "overflow": null,
            "_model_module_version": "1.2.0",
            "_view_count": null,
            "flex_flow": null,
            "width": null,
            "min_width": null,
            "border": null,
            "align_items": null,
            "bottom": null,
            "_model_module": "@jupyter-widgets/base",
            "top": null,
            "grid_column": null,
            "overflow_y": null,
            "overflow_x": null,
            "grid_auto_flow": null,
            "grid_area": null,
            "grid_template_columns": null,
            "flex": null,
            "_model_name": "LayoutModel",
            "justify_items": null,
            "grid_row": null,
            "max_height": null,
            "align_content": null,
            "visibility": null,
            "align_self": null,
            "height": null,
            "min_height": null,
            "padding": null,
            "grid_auto_rows": null,
            "grid_gap": null,
            "max_width": null,
            "order": null,
            "_view_module_version": "1.2.0",
            "grid_template_areas": null,
            "object_position": null,
            "object_fit": null,
            "grid_auto_columns": null,
            "margin": null,
            "display": null,
            "left": null
          }
        },
        "617db01330934930a29ad8d09198e2e1": {
          "model_module": "@jupyter-widgets/controls",
          "model_name": "FloatProgressModel",
          "state": {
            "_view_name": "ProgressView",
            "style": "IPY_MODEL_ea6d68f97ef64ff6ae1e3e719e9fb4a2",
            "_dom_classes": [],
            "description": "",
            "_model_name": "FloatProgressModel",
            "bar_style": "success",
            "max": 1,
            "_view_module": "@jupyter-widgets/controls",
            "_model_module_version": "1.5.0",
            "value": 1,
            "_view_count": null,
            "_view_module_version": "1.5.0",
            "orientation": "horizontal",
            "min": 0,
            "description_tooltip": null,
            "_model_module": "@jupyter-widgets/controls",
            "layout": "IPY_MODEL_586b095b9796448a8fab23a99af3c1bd"
          }
        },
        "d699c8228f9f439e8bc556e1a6972beb": {
          "model_module": "@jupyter-widgets/controls",
          "model_name": "HTMLModel",
          "state": {
            "_view_name": "HTMLView",
            "style": "IPY_MODEL_57833acde9ff4cdfbb07800e906324e1",
            "_dom_classes": [],
            "description": "",
            "_model_name": "HTMLModel",
            "placeholder": "​",
            "_view_module": "@jupyter-widgets/controls",
            "_model_module_version": "1.5.0",
            "value": " 1835008/? [00:02&lt;00:00, 638106.65it/s]",
            "_view_count": null,
            "_view_module_version": "1.5.0",
            "description_tooltip": null,
            "_model_module": "@jupyter-widgets/controls",
            "layout": "IPY_MODEL_519366095b87489884923523255085f7"
          }
        },
        "ea6d68f97ef64ff6ae1e3e719e9fb4a2": {
          "model_module": "@jupyter-widgets/controls",
          "model_name": "ProgressStyleModel",
          "state": {
            "_view_name": "StyleView",
            "_model_name": "ProgressStyleModel",
            "description_width": "initial",
            "_view_module": "@jupyter-widgets/base",
            "_model_module_version": "1.5.0",
            "_view_count": null,
            "_view_module_version": "1.2.0",
            "bar_color": null,
            "_model_module": "@jupyter-widgets/controls"
          }
        },
        "586b095b9796448a8fab23a99af3c1bd": {
          "model_module": "@jupyter-widgets/base",
          "model_name": "LayoutModel",
          "state": {
            "_view_name": "LayoutView",
            "grid_template_rows": null,
            "right": null,
            "justify_content": null,
            "_view_module": "@jupyter-widgets/base",
            "overflow": null,
            "_model_module_version": "1.2.0",
            "_view_count": null,
            "flex_flow": null,
            "width": null,
            "min_width": null,
            "border": null,
            "align_items": null,
            "bottom": null,
            "_model_module": "@jupyter-widgets/base",
            "top": null,
            "grid_column": null,
            "overflow_y": null,
            "overflow_x": null,
            "grid_auto_flow": null,
            "grid_area": null,
            "grid_template_columns": null,
            "flex": null,
            "_model_name": "LayoutModel",
            "justify_items": null,
            "grid_row": null,
            "max_height": null,
            "align_content": null,
            "visibility": null,
            "align_self": null,
            "height": null,
            "min_height": null,
            "padding": null,
            "grid_auto_rows": null,
            "grid_gap": null,
            "max_width": null,
            "order": null,
            "_view_module_version": "1.2.0",
            "grid_template_areas": null,
            "object_position": null,
            "object_fit": null,
            "grid_auto_columns": null,
            "margin": null,
            "display": null,
            "left": null
          }
        },
        "57833acde9ff4cdfbb07800e906324e1": {
          "model_module": "@jupyter-widgets/controls",
          "model_name": "DescriptionStyleModel",
          "state": {
            "_view_name": "StyleView",
            "_model_name": "DescriptionStyleModel",
            "description_width": "",
            "_view_module": "@jupyter-widgets/base",
            "_model_module_version": "1.5.0",
            "_view_count": null,
            "_view_module_version": "1.2.0",
            "_model_module": "@jupyter-widgets/controls"
          }
        },
        "519366095b87489884923523255085f7": {
          "model_module": "@jupyter-widgets/base",
          "model_name": "LayoutModel",
          "state": {
            "_view_name": "LayoutView",
            "grid_template_rows": null,
            "right": null,
            "justify_content": null,
            "_view_module": "@jupyter-widgets/base",
            "overflow": null,
            "_model_module_version": "1.2.0",
            "_view_count": null,
            "flex_flow": null,
            "width": null,
            "min_width": null,
            "border": null,
            "align_items": null,
            "bottom": null,
            "_model_module": "@jupyter-widgets/base",
            "top": null,
            "grid_column": null,
            "overflow_y": null,
            "overflow_x": null,
            "grid_auto_flow": null,
            "grid_area": null,
            "grid_template_columns": null,
            "flex": null,
            "_model_name": "LayoutModel",
            "justify_items": null,
            "grid_row": null,
            "max_height": null,
            "align_content": null,
            "visibility": null,
            "align_self": null,
            "height": null,
            "min_height": null,
            "padding": null,
            "grid_auto_rows": null,
            "grid_gap": null,
            "max_width": null,
            "order": null,
            "_view_module_version": "1.2.0",
            "grid_template_areas": null,
            "object_position": null,
            "object_fit": null,
            "grid_auto_columns": null,
            "margin": null,
            "display": null,
            "left": null
          }
        },
        "8fe7181aed014eb5a12a93a15570a2d9": {
          "model_module": "@jupyter-widgets/controls",
          "model_name": "HBoxModel",
          "state": {
            "_view_name": "HBoxView",
            "_dom_classes": [],
            "_model_name": "HBoxModel",
            "_view_module": "@jupyter-widgets/controls",
            "_model_module_version": "1.5.0",
            "_view_count": null,
            "_view_module_version": "1.5.0",
            "box_style": "",
            "layout": "IPY_MODEL_c8846e98d27a4c7a98a3ec975865c2e8",
            "_model_module": "@jupyter-widgets/controls",
            "children": [
              "IPY_MODEL_63356748de924467867b18a7cf7e0034",
              "IPY_MODEL_ae18b159810a4e0a851f92c1464446c0"
            ]
          }
        },
        "c8846e98d27a4c7a98a3ec975865c2e8": {
          "model_module": "@jupyter-widgets/base",
          "model_name": "LayoutModel",
          "state": {
            "_view_name": "LayoutView",
            "grid_template_rows": null,
            "right": null,
            "justify_content": null,
            "_view_module": "@jupyter-widgets/base",
            "overflow": null,
            "_model_module_version": "1.2.0",
            "_view_count": null,
            "flex_flow": null,
            "width": null,
            "min_width": null,
            "border": null,
            "align_items": null,
            "bottom": null,
            "_model_module": "@jupyter-widgets/base",
            "top": null,
            "grid_column": null,
            "overflow_y": null,
            "overflow_x": null,
            "grid_auto_flow": null,
            "grid_area": null,
            "grid_template_columns": null,
            "flex": null,
            "_model_name": "LayoutModel",
            "justify_items": null,
            "grid_row": null,
            "max_height": null,
            "align_content": null,
            "visibility": null,
            "align_self": null,
            "height": null,
            "min_height": null,
            "padding": null,
            "grid_auto_rows": null,
            "grid_gap": null,
            "max_width": null,
            "order": null,
            "_view_module_version": "1.2.0",
            "grid_template_areas": null,
            "object_position": null,
            "object_fit": null,
            "grid_auto_columns": null,
            "margin": null,
            "display": null,
            "left": null
          }
        },
        "63356748de924467867b18a7cf7e0034": {
          "model_module": "@jupyter-widgets/controls",
          "model_name": "FloatProgressModel",
          "state": {
            "_view_name": "ProgressView",
            "style": "IPY_MODEL_cce7d6399e2242a49cff34da289f4a36",
            "_dom_classes": [],
            "description": "",
            "_model_name": "FloatProgressModel",
            "bar_style": "success",
            "max": 1,
            "_view_module": "@jupyter-widgets/controls",
            "_model_module_version": "1.5.0",
            "value": 1,
            "_view_count": null,
            "_view_module_version": "1.5.0",
            "orientation": "horizontal",
            "min": 0,
            "description_tooltip": null,
            "_model_module": "@jupyter-widgets/controls",
            "layout": "IPY_MODEL_44c5f6df8dd540d59229512dd268c840"
          }
        },
        "ae18b159810a4e0a851f92c1464446c0": {
          "model_module": "@jupyter-widgets/controls",
          "model_name": "HTMLModel",
          "state": {
            "_view_name": "HTMLView",
            "style": "IPY_MODEL_41905ceb391a444599c4ef4198b15f8e",
            "_dom_classes": [],
            "description": "",
            "_model_name": "HTMLModel",
            "placeholder": "​",
            "_view_module": "@jupyter-widgets/controls",
            "_model_module_version": "1.5.0",
            "value": " 9920512/? [00:00&lt;00:00, 12132417.73it/s]",
            "_view_count": null,
            "_view_module_version": "1.5.0",
            "description_tooltip": null,
            "_model_module": "@jupyter-widgets/controls",
            "layout": "IPY_MODEL_8a81162f34944f829b6ec49f2bddc0d1"
          }
        },
        "cce7d6399e2242a49cff34da289f4a36": {
          "model_module": "@jupyter-widgets/controls",
          "model_name": "ProgressStyleModel",
          "state": {
            "_view_name": "StyleView",
            "_model_name": "ProgressStyleModel",
            "description_width": "initial",
            "_view_module": "@jupyter-widgets/base",
            "_model_module_version": "1.5.0",
            "_view_count": null,
            "_view_module_version": "1.2.0",
            "bar_color": null,
            "_model_module": "@jupyter-widgets/controls"
          }
        },
        "44c5f6df8dd540d59229512dd268c840": {
          "model_module": "@jupyter-widgets/base",
          "model_name": "LayoutModel",
          "state": {
            "_view_name": "LayoutView",
            "grid_template_rows": null,
            "right": null,
            "justify_content": null,
            "_view_module": "@jupyter-widgets/base",
            "overflow": null,
            "_model_module_version": "1.2.0",
            "_view_count": null,
            "flex_flow": null,
            "width": null,
            "min_width": null,
            "border": null,
            "align_items": null,
            "bottom": null,
            "_model_module": "@jupyter-widgets/base",
            "top": null,
            "grid_column": null,
            "overflow_y": null,
            "overflow_x": null,
            "grid_auto_flow": null,
            "grid_area": null,
            "grid_template_columns": null,
            "flex": null,
            "_model_name": "LayoutModel",
            "justify_items": null,
            "grid_row": null,
            "max_height": null,
            "align_content": null,
            "visibility": null,
            "align_self": null,
            "height": null,
            "min_height": null,
            "padding": null,
            "grid_auto_rows": null,
            "grid_gap": null,
            "max_width": null,
            "order": null,
            "_view_module_version": "1.2.0",
            "grid_template_areas": null,
            "object_position": null,
            "object_fit": null,
            "grid_auto_columns": null,
            "margin": null,
            "display": null,
            "left": null
          }
        },
        "41905ceb391a444599c4ef4198b15f8e": {
          "model_module": "@jupyter-widgets/controls",
          "model_name": "DescriptionStyleModel",
          "state": {
            "_view_name": "StyleView",
            "_model_name": "DescriptionStyleModel",
            "description_width": "",
            "_view_module": "@jupyter-widgets/base",
            "_model_module_version": "1.5.0",
            "_view_count": null,
            "_view_module_version": "1.2.0",
            "_model_module": "@jupyter-widgets/controls"
          }
        },
        "8a81162f34944f829b6ec49f2bddc0d1": {
          "model_module": "@jupyter-widgets/base",
          "model_name": "LayoutModel",
          "state": {
            "_view_name": "LayoutView",
            "grid_template_rows": null,
            "right": null,
            "justify_content": null,
            "_view_module": "@jupyter-widgets/base",
            "overflow": null,
            "_model_module_version": "1.2.0",
            "_view_count": null,
            "flex_flow": null,
            "width": null,
            "min_width": null,
            "border": null,
            "align_items": null,
            "bottom": null,
            "_model_module": "@jupyter-widgets/base",
            "top": null,
            "grid_column": null,
            "overflow_y": null,
            "overflow_x": null,
            "grid_auto_flow": null,
            "grid_area": null,
            "grid_template_columns": null,
            "flex": null,
            "_model_name": "LayoutModel",
            "justify_items": null,
            "grid_row": null,
            "max_height": null,
            "align_content": null,
            "visibility": null,
            "align_self": null,
            "height": null,
            "min_height": null,
            "padding": null,
            "grid_auto_rows": null,
            "grid_gap": null,
            "max_width": null,
            "order": null,
            "_view_module_version": "1.2.0",
            "grid_template_areas": null,
            "object_position": null,
            "object_fit": null,
            "grid_auto_columns": null,
            "margin": null,
            "display": null,
            "left": null
          }
        },
        "4b624718208249aca92282ccfbcc8fe5": {
          "model_module": "@jupyter-widgets/controls",
          "model_name": "HBoxModel",
          "state": {
            "_view_name": "HBoxView",
            "_dom_classes": [],
            "_model_name": "HBoxModel",
            "_view_module": "@jupyter-widgets/controls",
            "_model_module_version": "1.5.0",
            "_view_count": null,
            "_view_module_version": "1.5.0",
            "box_style": "",
            "layout": "IPY_MODEL_597a3cbed7a649a491fd55aa7ed0aaf5",
            "_model_module": "@jupyter-widgets/controls",
            "children": [
              "IPY_MODEL_25d13a971a264e92819753b3fbd1d6cf",
              "IPY_MODEL_b9b90c7ad4594886b25655112545c7c9"
            ]
          }
        },
        "597a3cbed7a649a491fd55aa7ed0aaf5": {
          "model_module": "@jupyter-widgets/base",
          "model_name": "LayoutModel",
          "state": {
            "_view_name": "LayoutView",
            "grid_template_rows": null,
            "right": null,
            "justify_content": null,
            "_view_module": "@jupyter-widgets/base",
            "overflow": null,
            "_model_module_version": "1.2.0",
            "_view_count": null,
            "flex_flow": null,
            "width": null,
            "min_width": null,
            "border": null,
            "align_items": null,
            "bottom": null,
            "_model_module": "@jupyter-widgets/base",
            "top": null,
            "grid_column": null,
            "overflow_y": null,
            "overflow_x": null,
            "grid_auto_flow": null,
            "grid_area": null,
            "grid_template_columns": null,
            "flex": null,
            "_model_name": "LayoutModel",
            "justify_items": null,
            "grid_row": null,
            "max_height": null,
            "align_content": null,
            "visibility": null,
            "align_self": null,
            "height": null,
            "min_height": null,
            "padding": null,
            "grid_auto_rows": null,
            "grid_gap": null,
            "max_width": null,
            "order": null,
            "_view_module_version": "1.2.0",
            "grid_template_areas": null,
            "object_position": null,
            "object_fit": null,
            "grid_auto_columns": null,
            "margin": null,
            "display": null,
            "left": null
          }
        },
        "25d13a971a264e92819753b3fbd1d6cf": {
          "model_module": "@jupyter-widgets/controls",
          "model_name": "FloatProgressModel",
          "state": {
            "_view_name": "ProgressView",
            "style": "IPY_MODEL_c3398a576a2f483fb6bded1a58e8ff90",
            "_dom_classes": [],
            "description": "",
            "_model_name": "FloatProgressModel",
            "bar_style": "success",
            "max": 1,
            "_view_module": "@jupyter-widgets/controls",
            "_model_module_version": "1.5.0",
            "value": 1,
            "_view_count": null,
            "_view_module_version": "1.5.0",
            "orientation": "horizontal",
            "min": 0,
            "description_tooltip": null,
            "_model_module": "@jupyter-widgets/controls",
            "layout": "IPY_MODEL_7e57694908c8496997241e726185a8c6"
          }
        },
        "b9b90c7ad4594886b25655112545c7c9": {
          "model_module": "@jupyter-widgets/controls",
          "model_name": "HTMLModel",
          "state": {
            "_view_name": "HTMLView",
            "style": "IPY_MODEL_a51f02c045ac4fe9a3552de5f430f02b",
            "_dom_classes": [],
            "description": "",
            "_model_name": "HTMLModel",
            "placeholder": "​",
            "_view_module": "@jupyter-widgets/controls",
            "_model_module_version": "1.5.0",
            "value": " 32768/? [00:00&lt;00:00, 217084.74it/s]",
            "_view_count": null,
            "_view_module_version": "1.5.0",
            "description_tooltip": null,
            "_model_module": "@jupyter-widgets/controls",
            "layout": "IPY_MODEL_ada7ce62a1604ca79b75da430f63c5cb"
          }
        },
        "c3398a576a2f483fb6bded1a58e8ff90": {
          "model_module": "@jupyter-widgets/controls",
          "model_name": "ProgressStyleModel",
          "state": {
            "_view_name": "StyleView",
            "_model_name": "ProgressStyleModel",
            "description_width": "initial",
            "_view_module": "@jupyter-widgets/base",
            "_model_module_version": "1.5.0",
            "_view_count": null,
            "_view_module_version": "1.2.0",
            "bar_color": null,
            "_model_module": "@jupyter-widgets/controls"
          }
        },
        "7e57694908c8496997241e726185a8c6": {
          "model_module": "@jupyter-widgets/base",
          "model_name": "LayoutModel",
          "state": {
            "_view_name": "LayoutView",
            "grid_template_rows": null,
            "right": null,
            "justify_content": null,
            "_view_module": "@jupyter-widgets/base",
            "overflow": null,
            "_model_module_version": "1.2.0",
            "_view_count": null,
            "flex_flow": null,
            "width": null,
            "min_width": null,
            "border": null,
            "align_items": null,
            "bottom": null,
            "_model_module": "@jupyter-widgets/base",
            "top": null,
            "grid_column": null,
            "overflow_y": null,
            "overflow_x": null,
            "grid_auto_flow": null,
            "grid_area": null,
            "grid_template_columns": null,
            "flex": null,
            "_model_name": "LayoutModel",
            "justify_items": null,
            "grid_row": null,
            "max_height": null,
            "align_content": null,
            "visibility": null,
            "align_self": null,
            "height": null,
            "min_height": null,
            "padding": null,
            "grid_auto_rows": null,
            "grid_gap": null,
            "max_width": null,
            "order": null,
            "_view_module_version": "1.2.0",
            "grid_template_areas": null,
            "object_position": null,
            "object_fit": null,
            "grid_auto_columns": null,
            "margin": null,
            "display": null,
            "left": null
          }
        },
        "a51f02c045ac4fe9a3552de5f430f02b": {
          "model_module": "@jupyter-widgets/controls",
          "model_name": "DescriptionStyleModel",
          "state": {
            "_view_name": "StyleView",
            "_model_name": "DescriptionStyleModel",
            "description_width": "",
            "_view_module": "@jupyter-widgets/base",
            "_model_module_version": "1.5.0",
            "_view_count": null,
            "_view_module_version": "1.2.0",
            "_model_module": "@jupyter-widgets/controls"
          }
        },
        "ada7ce62a1604ca79b75da430f63c5cb": {
          "model_module": "@jupyter-widgets/base",
          "model_name": "LayoutModel",
          "state": {
            "_view_name": "LayoutView",
            "grid_template_rows": null,
            "right": null,
            "justify_content": null,
            "_view_module": "@jupyter-widgets/base",
            "overflow": null,
            "_model_module_version": "1.2.0",
            "_view_count": null,
            "flex_flow": null,
            "width": null,
            "min_width": null,
            "border": null,
            "align_items": null,
            "bottom": null,
            "_model_module": "@jupyter-widgets/base",
            "top": null,
            "grid_column": null,
            "overflow_y": null,
            "overflow_x": null,
            "grid_auto_flow": null,
            "grid_area": null,
            "grid_template_columns": null,
            "flex": null,
            "_model_name": "LayoutModel",
            "justify_items": null,
            "grid_row": null,
            "max_height": null,
            "align_content": null,
            "visibility": null,
            "align_self": null,
            "height": null,
            "min_height": null,
            "padding": null,
            "grid_auto_rows": null,
            "grid_gap": null,
            "max_width": null,
            "order": null,
            "_view_module_version": "1.2.0",
            "grid_template_areas": null,
            "object_position": null,
            "object_fit": null,
            "grid_auto_columns": null,
            "margin": null,
            "display": null,
            "left": null
          }
        },
        "896595d114bd47dd82eefa1807b65493": {
          "model_module": "@jupyter-widgets/controls",
          "model_name": "HBoxModel",
          "state": {
            "_view_name": "HBoxView",
            "_dom_classes": [],
            "_model_name": "HBoxModel",
            "_view_module": "@jupyter-widgets/controls",
            "_model_module_version": "1.5.0",
            "_view_count": null,
            "_view_module_version": "1.5.0",
            "box_style": "",
            "layout": "IPY_MODEL_123bf0f78954430a8d03b65e80474345",
            "_model_module": "@jupyter-widgets/controls",
            "children": [
              "IPY_MODEL_c291a1cd975f49989e18b3d8724e5636",
              "IPY_MODEL_549b033b0fa342c3bce89a86cd8d5426"
            ]
          }
        },
        "123bf0f78954430a8d03b65e80474345": {
          "model_module": "@jupyter-widgets/base",
          "model_name": "LayoutModel",
          "state": {
            "_view_name": "LayoutView",
            "grid_template_rows": null,
            "right": null,
            "justify_content": null,
            "_view_module": "@jupyter-widgets/base",
            "overflow": null,
            "_model_module_version": "1.2.0",
            "_view_count": null,
            "flex_flow": null,
            "width": null,
            "min_width": null,
            "border": null,
            "align_items": null,
            "bottom": null,
            "_model_module": "@jupyter-widgets/base",
            "top": null,
            "grid_column": null,
            "overflow_y": null,
            "overflow_x": null,
            "grid_auto_flow": null,
            "grid_area": null,
            "grid_template_columns": null,
            "flex": null,
            "_model_name": "LayoutModel",
            "justify_items": null,
            "grid_row": null,
            "max_height": null,
            "align_content": null,
            "visibility": null,
            "align_self": null,
            "height": null,
            "min_height": null,
            "padding": null,
            "grid_auto_rows": null,
            "grid_gap": null,
            "max_width": null,
            "order": null,
            "_view_module_version": "1.2.0",
            "grid_template_areas": null,
            "object_position": null,
            "object_fit": null,
            "grid_auto_columns": null,
            "margin": null,
            "display": null,
            "left": null
          }
        },
        "c291a1cd975f49989e18b3d8724e5636": {
          "model_module": "@jupyter-widgets/controls",
          "model_name": "FloatProgressModel",
          "state": {
            "_view_name": "ProgressView",
            "style": "IPY_MODEL_395a75f80a6840b396eb72624e28e9fd",
            "_dom_classes": [],
            "description": "",
            "_model_name": "FloatProgressModel",
            "bar_style": "success",
            "max": 1,
            "_view_module": "@jupyter-widgets/controls",
            "_model_module_version": "1.5.0",
            "value": 1,
            "_view_count": null,
            "_view_module_version": "1.5.0",
            "orientation": "horizontal",
            "min": 0,
            "description_tooltip": null,
            "_model_module": "@jupyter-widgets/controls",
            "layout": "IPY_MODEL_3785e08f5fd4414f9d7161fd40fa0da3"
          }
        },
        "549b033b0fa342c3bce89a86cd8d5426": {
          "model_module": "@jupyter-widgets/controls",
          "model_name": "HTMLModel",
          "state": {
            "_view_name": "HTMLView",
            "style": "IPY_MODEL_d19393bda6a246108fc23a8a59b7b507",
            "_dom_classes": [],
            "description": "",
            "_model_name": "HTMLModel",
            "placeholder": "​",
            "_view_module": "@jupyter-widgets/controls",
            "_model_module_version": "1.5.0",
            "value": " 1654784/? [00:01&lt;00:00, 881369.00it/s]",
            "_view_count": null,
            "_view_module_version": "1.5.0",
            "description_tooltip": null,
            "_model_module": "@jupyter-widgets/controls",
            "layout": "IPY_MODEL_b25761f872544faa8d304f09f788f30a"
          }
        },
        "395a75f80a6840b396eb72624e28e9fd": {
          "model_module": "@jupyter-widgets/controls",
          "model_name": "ProgressStyleModel",
          "state": {
            "_view_name": "StyleView",
            "_model_name": "ProgressStyleModel",
            "description_width": "initial",
            "_view_module": "@jupyter-widgets/base",
            "_model_module_version": "1.5.0",
            "_view_count": null,
            "_view_module_version": "1.2.0",
            "bar_color": null,
            "_model_module": "@jupyter-widgets/controls"
          }
        },
        "3785e08f5fd4414f9d7161fd40fa0da3": {
          "model_module": "@jupyter-widgets/base",
          "model_name": "LayoutModel",
          "state": {
            "_view_name": "LayoutView",
            "grid_template_rows": null,
            "right": null,
            "justify_content": null,
            "_view_module": "@jupyter-widgets/base",
            "overflow": null,
            "_model_module_version": "1.2.0",
            "_view_count": null,
            "flex_flow": null,
            "width": null,
            "min_width": null,
            "border": null,
            "align_items": null,
            "bottom": null,
            "_model_module": "@jupyter-widgets/base",
            "top": null,
            "grid_column": null,
            "overflow_y": null,
            "overflow_x": null,
            "grid_auto_flow": null,
            "grid_area": null,
            "grid_template_columns": null,
            "flex": null,
            "_model_name": "LayoutModel",
            "justify_items": null,
            "grid_row": null,
            "max_height": null,
            "align_content": null,
            "visibility": null,
            "align_self": null,
            "height": null,
            "min_height": null,
            "padding": null,
            "grid_auto_rows": null,
            "grid_gap": null,
            "max_width": null,
            "order": null,
            "_view_module_version": "1.2.0",
            "grid_template_areas": null,
            "object_position": null,
            "object_fit": null,
            "grid_auto_columns": null,
            "margin": null,
            "display": null,
            "left": null
          }
        },
        "d19393bda6a246108fc23a8a59b7b507": {
          "model_module": "@jupyter-widgets/controls",
          "model_name": "DescriptionStyleModel",
          "state": {
            "_view_name": "StyleView",
            "_model_name": "DescriptionStyleModel",
            "description_width": "",
            "_view_module": "@jupyter-widgets/base",
            "_model_module_version": "1.5.0",
            "_view_count": null,
            "_view_module_version": "1.2.0",
            "_model_module": "@jupyter-widgets/controls"
          }
        },
        "b25761f872544faa8d304f09f788f30a": {
          "model_module": "@jupyter-widgets/base",
          "model_name": "LayoutModel",
          "state": {
            "_view_name": "LayoutView",
            "grid_template_rows": null,
            "right": null,
            "justify_content": null,
            "_view_module": "@jupyter-widgets/base",
            "overflow": null,
            "_model_module_version": "1.2.0",
            "_view_count": null,
            "flex_flow": null,
            "width": null,
            "min_width": null,
            "border": null,
            "align_items": null,
            "bottom": null,
            "_model_module": "@jupyter-widgets/base",
            "top": null,
            "grid_column": null,
            "overflow_y": null,
            "overflow_x": null,
            "grid_auto_flow": null,
            "grid_area": null,
            "grid_template_columns": null,
            "flex": null,
            "_model_name": "LayoutModel",
            "justify_items": null,
            "grid_row": null,
            "max_height": null,
            "align_content": null,
            "visibility": null,
            "align_self": null,
            "height": null,
            "min_height": null,
            "padding": null,
            "grid_auto_rows": null,
            "grid_gap": null,
            "max_width": null,
            "order": null,
            "_view_module_version": "1.2.0",
            "grid_template_areas": null,
            "object_position": null,
            "object_fit": null,
            "grid_auto_columns": null,
            "margin": null,
            "display": null,
            "left": null
          }
        },
        "b9f9e3087bb44347b4dd490fc64562a9": {
          "model_module": "@jupyter-widgets/controls",
          "model_name": "HBoxModel",
          "state": {
            "_view_name": "HBoxView",
            "_dom_classes": [],
            "_model_name": "HBoxModel",
            "_view_module": "@jupyter-widgets/controls",
            "_model_module_version": "1.5.0",
            "_view_count": null,
            "_view_module_version": "1.5.0",
            "box_style": "",
            "layout": "IPY_MODEL_859d070ebe664d44b00c9230807c6b75",
            "_model_module": "@jupyter-widgets/controls",
            "children": [
              "IPY_MODEL_9f64038d479149b2a9a23619c8e3a39b",
              "IPY_MODEL_ac45ad7c4a77408b9280a914eb9e3fbc"
            ]
          }
        },
        "859d070ebe664d44b00c9230807c6b75": {
          "model_module": "@jupyter-widgets/base",
          "model_name": "LayoutModel",
          "state": {
            "_view_name": "LayoutView",
            "grid_template_rows": null,
            "right": null,
            "justify_content": null,
            "_view_module": "@jupyter-widgets/base",
            "overflow": null,
            "_model_module_version": "1.2.0",
            "_view_count": null,
            "flex_flow": null,
            "width": null,
            "min_width": null,
            "border": null,
            "align_items": null,
            "bottom": null,
            "_model_module": "@jupyter-widgets/base",
            "top": null,
            "grid_column": null,
            "overflow_y": null,
            "overflow_x": null,
            "grid_auto_flow": null,
            "grid_area": null,
            "grid_template_columns": null,
            "flex": null,
            "_model_name": "LayoutModel",
            "justify_items": null,
            "grid_row": null,
            "max_height": null,
            "align_content": null,
            "visibility": null,
            "align_self": null,
            "height": null,
            "min_height": null,
            "padding": null,
            "grid_auto_rows": null,
            "grid_gap": null,
            "max_width": null,
            "order": null,
            "_view_module_version": "1.2.0",
            "grid_template_areas": null,
            "object_position": null,
            "object_fit": null,
            "grid_auto_columns": null,
            "margin": null,
            "display": null,
            "left": null
          }
        },
        "9f64038d479149b2a9a23619c8e3a39b": {
          "model_module": "@jupyter-widgets/controls",
          "model_name": "FloatProgressModel",
          "state": {
            "_view_name": "ProgressView",
            "style": "IPY_MODEL_89faf61cf5af49b681ea600e1f91176b",
            "_dom_classes": [],
            "description": "",
            "_model_name": "FloatProgressModel",
            "bar_style": "success",
            "max": 1,
            "_view_module": "@jupyter-widgets/controls",
            "_model_module_version": "1.5.0",
            "value": 1,
            "_view_count": null,
            "_view_module_version": "1.5.0",
            "orientation": "horizontal",
            "min": 0,
            "description_tooltip": null,
            "_model_module": "@jupyter-widgets/controls",
            "layout": "IPY_MODEL_9baaaa45393f4d6da2e9e5f3dd5b3f1b"
          }
        },
        "ac45ad7c4a77408b9280a914eb9e3fbc": {
          "model_module": "@jupyter-widgets/controls",
          "model_name": "HTMLModel",
          "state": {
            "_view_name": "HTMLView",
            "style": "IPY_MODEL_41202fae7a7448f28bc2a1c3a893bc81",
            "_dom_classes": [],
            "description": "",
            "_model_name": "HTMLModel",
            "placeholder": "​",
            "_view_module": "@jupyter-widgets/controls",
            "_model_module_version": "1.5.0",
            "value": " 8192/? [00:00&lt;00:00, 29599.85it/s]",
            "_view_count": null,
            "_view_module_version": "1.5.0",
            "description_tooltip": null,
            "_model_module": "@jupyter-widgets/controls",
            "layout": "IPY_MODEL_bd8646203f5d4a01b7d1559079c3cc33"
          }
        },
        "89faf61cf5af49b681ea600e1f91176b": {
          "model_module": "@jupyter-widgets/controls",
          "model_name": "ProgressStyleModel",
          "state": {
            "_view_name": "StyleView",
            "_model_name": "ProgressStyleModel",
            "description_width": "initial",
            "_view_module": "@jupyter-widgets/base",
            "_model_module_version": "1.5.0",
            "_view_count": null,
            "_view_module_version": "1.2.0",
            "bar_color": null,
            "_model_module": "@jupyter-widgets/controls"
          }
        },
        "9baaaa45393f4d6da2e9e5f3dd5b3f1b": {
          "model_module": "@jupyter-widgets/base",
          "model_name": "LayoutModel",
          "state": {
            "_view_name": "LayoutView",
            "grid_template_rows": null,
            "right": null,
            "justify_content": null,
            "_view_module": "@jupyter-widgets/base",
            "overflow": null,
            "_model_module_version": "1.2.0",
            "_view_count": null,
            "flex_flow": null,
            "width": null,
            "min_width": null,
            "border": null,
            "align_items": null,
            "bottom": null,
            "_model_module": "@jupyter-widgets/base",
            "top": null,
            "grid_column": null,
            "overflow_y": null,
            "overflow_x": null,
            "grid_auto_flow": null,
            "grid_area": null,
            "grid_template_columns": null,
            "flex": null,
            "_model_name": "LayoutModel",
            "justify_items": null,
            "grid_row": null,
            "max_height": null,
            "align_content": null,
            "visibility": null,
            "align_self": null,
            "height": null,
            "min_height": null,
            "padding": null,
            "grid_auto_rows": null,
            "grid_gap": null,
            "max_width": null,
            "order": null,
            "_view_module_version": "1.2.0",
            "grid_template_areas": null,
            "object_position": null,
            "object_fit": null,
            "grid_auto_columns": null,
            "margin": null,
            "display": null,
            "left": null
          }
        },
        "41202fae7a7448f28bc2a1c3a893bc81": {
          "model_module": "@jupyter-widgets/controls",
          "model_name": "DescriptionStyleModel",
          "state": {
            "_view_name": "StyleView",
            "_model_name": "DescriptionStyleModel",
            "description_width": "",
            "_view_module": "@jupyter-widgets/base",
            "_model_module_version": "1.5.0",
            "_view_count": null,
            "_view_module_version": "1.2.0",
            "_model_module": "@jupyter-widgets/controls"
          }
        },
        "bd8646203f5d4a01b7d1559079c3cc33": {
          "model_module": "@jupyter-widgets/base",
          "model_name": "LayoutModel",
          "state": {
            "_view_name": "LayoutView",
            "grid_template_rows": null,
            "right": null,
            "justify_content": null,
            "_view_module": "@jupyter-widgets/base",
            "overflow": null,
            "_model_module_version": "1.2.0",
            "_view_count": null,
            "flex_flow": null,
            "width": null,
            "min_width": null,
            "border": null,
            "align_items": null,
            "bottom": null,
            "_model_module": "@jupyter-widgets/base",
            "top": null,
            "grid_column": null,
            "overflow_y": null,
            "overflow_x": null,
            "grid_auto_flow": null,
            "grid_area": null,
            "grid_template_columns": null,
            "flex": null,
            "_model_name": "LayoutModel",
            "justify_items": null,
            "grid_row": null,
            "max_height": null,
            "align_content": null,
            "visibility": null,
            "align_self": null,
            "height": null,
            "min_height": null,
            "padding": null,
            "grid_auto_rows": null,
            "grid_gap": null,
            "max_width": null,
            "order": null,
            "_view_module_version": "1.2.0",
            "grid_template_areas": null,
            "object_position": null,
            "object_fit": null,
            "grid_auto_columns": null,
            "margin": null,
            "display": null,
            "left": null
          }
        }
      }
    },
    "accelerator": "GPU"
  },
  "cells": [
    {
      "cell_type": "markdown",
      "metadata": {
        "id": "view-in-github",
        "colab_type": "text"
      },
      "source": [
        "<a href=\"https://colab.research.google.com/github/mlej8/ECSE552/blob/main/Tutorials/Tutorial3_Regularization.ipynb\" target=\"_parent\"><img src=\"https://colab.research.google.com/assets/colab-badge.svg\" alt=\"Open In Colab\"/></a>"
      ]
    },
    {
      "cell_type": "markdown",
      "metadata": {
        "id": "qSPIs55WisRs"
      },
      "source": [
        "# Pattern Matching with Parameter Sharing and regularizations"
      ]
    },
    {
      "cell_type": "markdown",
      "metadata": {
        "id": "UPLxDlYDisRx"
      },
      "source": [
        "Goals:\n",
        "* Create a model that will look at two images and evaluate whether they are the same.\n",
        "* implement a Siamese neural network\n",
        "* implement different regularizations in the siamese network\n"
      ]
    },
    {
      "cell_type": "markdown",
      "metadata": {
        "id": "WNEPR7YFisRy"
      },
      "source": [
        "In particular we will try to identify which images match in the USPS and MNIST Dataset.\n",
        "Given sample $a$ from MNIST and sample $b$ from USPS, are they the same number?"
      ]
    },
    {
      "cell_type": "code",
      "metadata": {
        "id": "lAKgPXgLisRy"
      },
      "source": [
        "from torchvision import datasets\n",
        "import torchvision.transforms as transforms\n",
        "import torch\n",
        "import numpy as np"
      ],
      "execution_count": 1,
      "outputs": []
    },
    {
      "cell_type": "markdown",
      "metadata": {
        "id": "DaQ6JLMRisRz"
      },
      "source": [
        "## Load the USPS Dataset"
      ]
    },
    {
      "cell_type": "code",
      "metadata": {
        "colab": {
          "base_uri": "https://localhost:8080/",
          "height": 148,
          "referenced_widgets": [
            "88a073da48bc481f94ff271d1e213572",
            "43892dd2f5474b589f42c35f8428ae84",
            "c3bb639a3d254a0281f7bda657943baf",
            "115a6fb609e04b24b89296eb1c597dab",
            "02b49ade02904774a802fc3948d4dc3b",
            "a21c762c508d46adabb87c6ad96c239f",
            "41c3527a85964fceba4a58d8590b1e49",
            "b89cd78d1f544b279f0891818f32aa96",
            "2b565bbea455402289444cdb040c373b",
            "e9f736f72e274a689bc2e948c84554db",
            "617db01330934930a29ad8d09198e2e1",
            "d699c8228f9f439e8bc556e1a6972beb",
            "ea6d68f97ef64ff6ae1e3e719e9fb4a2",
            "586b095b9796448a8fab23a99af3c1bd",
            "57833acde9ff4cdfbb07800e906324e1",
            "519366095b87489884923523255085f7"
          ]
        },
        "id": "dtUY-tGcisRz",
        "outputId": "9d1f3b89-52a0-4dc4-8f80-75e5a8663030"
      },
      "source": [
        "transform = transforms.Compose(\n",
        "    [transforms.ToTensor()])\n",
        "usps_trainset = datasets.USPS(root='./data', train=True, download=True, transform=transform)\n",
        "usps_testset = datasets.USPS(root='./data', train=False, download=True, transform=transform)"
      ],
      "execution_count": 2,
      "outputs": [
        {
          "output_type": "stream",
          "text": [
            "Downloading https://www.csie.ntu.edu.tw/~cjlin/libsvmtools/datasets/multiclass/usps.bz2 to ./data/usps.bz2\n"
          ],
          "name": "stdout"
        },
        {
          "output_type": "display_data",
          "data": {
            "application/vnd.jupyter.widget-view+json": {
              "model_id": "88a073da48bc481f94ff271d1e213572",
              "version_minor": 0,
              "version_major": 2
            },
            "text/plain": [
              "HBox(children=(FloatProgress(value=1.0, bar_style='info', max=1.0), HTML(value='')))"
            ]
          },
          "metadata": {
            "tags": []
          }
        },
        {
          "output_type": "stream",
          "text": [
            "\n",
            "Downloading https://www.csie.ntu.edu.tw/~cjlin/libsvmtools/datasets/multiclass/usps.t.bz2 to ./data/usps.t.bz2\n"
          ],
          "name": "stdout"
        },
        {
          "output_type": "display_data",
          "data": {
            "application/vnd.jupyter.widget-view+json": {
              "model_id": "2b565bbea455402289444cdb040c373b",
              "version_minor": 0,
              "version_major": 2
            },
            "text/plain": [
              "HBox(children=(FloatProgress(value=1.0, bar_style='info', max=1.0), HTML(value='')))"
            ]
          },
          "metadata": {
            "tags": []
          }
        },
        {
          "output_type": "stream",
          "text": [
            "\n"
          ],
          "name": "stdout"
        }
      ]
    },
    {
      "cell_type": "code",
      "metadata": {
        "colab": {
          "base_uri": "https://localhost:8080/"
        },
        "id": "gNa_jSunisRz",
        "outputId": "923f6d2a-471a-4217-8964-e8e41051690b"
      },
      "source": [
        "usps_trainset[0][0].shape"
      ],
      "execution_count": 3,
      "outputs": [
        {
          "output_type": "execute_result",
          "data": {
            "text/plain": [
              "torch.Size([1, 16, 16])"
            ]
          },
          "metadata": {
            "tags": []
          },
          "execution_count": 3
        }
      ]
    },
    {
      "cell_type": "code",
      "metadata": {
        "colab": {
          "base_uri": "https://localhost:8080/",
          "height": 284
        },
        "id": "Uz2OOlKhisR0",
        "outputId": "85344924-03d5-4a92-bdab-f80b7832ea7a"
      },
      "source": [
        "import matplotlib.pyplot as plt\n",
        "fig = plt.figure()\n",
        "for i in range(6):\n",
        "  plt.subplot(2,3,i+1)\n",
        "  plt.tight_layout()\n",
        "  plt.imshow(usps_trainset[i][0].reshape(16,16), cmap='gray', interpolation='none')\n",
        "  plt.title(\"y = {}\".format(usps_trainset[i][1]))\n",
        "  plt.xticks([])\n",
        "  plt.yticks([])"
      ],
      "execution_count": 4,
      "outputs": [
        {
          "output_type": "display_data",
          "data": {
            "image/png": "[encoded data removed]",
            "text/plain": [
              "<Figure size 432x288 with 6 Axes>"
            ]
          },
          "metadata": {
            "tags": []
          }
        }
      ]
    },
    {
      "cell_type": "markdown",
      "metadata": {
        "id": "trLRLkioisR0"
      },
      "source": [
        "## Load the MNIST Dataset"
      ]
    },
    {
      "cell_type": "code",
      "metadata": {
        "colab": {
          "base_uri": "https://localhost:8080/",
          "height": 400,
          "referenced_widgets": [
            "8fe7181aed014eb5a12a93a15570a2d9",
            "c8846e98d27a4c7a98a3ec975865c2e8",
            "63356748de924467867b18a7cf7e0034",
            "ae18b159810a4e0a851f92c1464446c0",
            "cce7d6399e2242a49cff34da289f4a36",
            "44c5f6df8dd540d59229512dd268c840",
            "41905ceb391a444599c4ef4198b15f8e",
            "8a81162f34944f829b6ec49f2bddc0d1",
            "4b624718208249aca92282ccfbcc8fe5",
            "597a3cbed7a649a491fd55aa7ed0aaf5",
            "25d13a971a264e92819753b3fbd1d6cf",
            "b9b90c7ad4594886b25655112545c7c9",
            "c3398a576a2f483fb6bded1a58e8ff90",
            "7e57694908c8496997241e726185a8c6",
            "a51f02c045ac4fe9a3552de5f430f02b",
            "ada7ce62a1604ca79b75da430f63c5cb",
            "896595d114bd47dd82eefa1807b65493",
            "123bf0f78954430a8d03b65e80474345",
            "c291a1cd975f49989e18b3d8724e5636",
            "549b033b0fa342c3bce89a86cd8d5426",
            "395a75f80a6840b396eb72624e28e9fd",
            "3785e08f5fd4414f9d7161fd40fa0da3",
            "d19393bda6a246108fc23a8a59b7b507",
            "b25761f872544faa8d304f09f788f30a",
            "b9f9e3087bb44347b4dd490fc64562a9",
            "859d070ebe664d44b00c9230807c6b75",
            "9f64038d479149b2a9a23619c8e3a39b",
            "ac45ad7c4a77408b9280a914eb9e3fbc",
            "89faf61cf5af49b681ea600e1f91176b",
            "9baaaa45393f4d6da2e9e5f3dd5b3f1b",
            "41202fae7a7448f28bc2a1c3a893bc81",
            "bd8646203f5d4a01b7d1559079c3cc33"
          ]
        },
        "id": "uKwIy7KQisR1",
        "outputId": "471da803-0963-48c1-8fbd-7fde90b4fb13"
      },
      "source": [
        "mnist_trainset = datasets.MNIST(root='./data', train=True, download=True, transform=transform)\n",
        "mnist_testset = datasets.MNIST(root='./data', train=False, download=True, transform=transform)"
      ],
      "execution_count": 5,
      "outputs": [
        {
          "output_type": "stream",
          "text": [
            "Downloading http://yann.lecun.com/exdb/mnist/train-images-idx3-ubyte.gz to ./data/MNIST/raw/train-images-idx3-ubyte.gz\n"
          ],
          "name": "stdout"
        },
        {
          "output_type": "display_data",
          "data": {
            "application/vnd.jupyter.widget-view+json": {
              "model_id": "8fe7181aed014eb5a12a93a15570a2d9",
              "version_minor": 0,
              "version_major": 2
            },
            "text/plain": [
              "HBox(children=(FloatProgress(value=1.0, bar_style='info', max=1.0), HTML(value='')))"
            ]
          },
          "metadata": {
            "tags": []
          }
        },
        {
          "output_type": "stream",
          "text": [
            "Extracting ./data/MNIST/raw/train-images-idx3-ubyte.gz to ./data/MNIST/raw\n",
            "Downloading http://yann.lecun.com/exdb/mnist/train-labels-idx1-ubyte.gz to ./data/MNIST/raw/train-labels-idx1-ubyte.gz\n"
          ],
          "name": "stdout"
        },
        {
          "output_type": "display_data",
          "data": {
            "application/vnd.jupyter.widget-view+json": {
              "model_id": "4b624718208249aca92282ccfbcc8fe5",
              "version_minor": 0,
              "version_major": 2
            },
            "text/plain": [
              "HBox(children=(FloatProgress(value=1.0, bar_style='info', max=1.0), HTML(value='')))"
            ]
          },
          "metadata": {
            "tags": []
          }
        },
        {
          "output_type": "stream",
          "text": [
            "Extracting ./data/MNIST/raw/train-labels-idx1-ubyte.gz to ./data/MNIST/raw\n",
            "Downloading http://yann.lecun.com/exdb/mnist/t10k-images-idx3-ubyte.gz to ./data/MNIST/raw/t10k-images-idx3-ubyte.gz\n",
            "\n",
            "\n"
          ],
          "name": "stdout"
        },
        {
          "output_type": "display_data",
          "data": {
            "application/vnd.jupyter.widget-view+json": {
              "model_id": "896595d114bd47dd82eefa1807b65493",
              "version_minor": 0,
              "version_major": 2
            },
            "text/plain": [
              "HBox(children=(FloatProgress(value=1.0, bar_style='info', max=1.0), HTML(value='')))"
            ]
          },
          "metadata": {
            "tags": []
          }
        },
        {
          "output_type": "stream",
          "text": [
            "Extracting ./data/MNIST/raw/t10k-images-idx3-ubyte.gz to ./data/MNIST/raw\n",
            "Downloading http://yann.lecun.com/exdb/mnist/t10k-labels-idx1-ubyte.gz to ./data/MNIST/raw/t10k-labels-idx1-ubyte.gz\n"
          ],
          "name": "stdout"
        },
        {
          "output_type": "display_data",
          "data": {
            "application/vnd.jupyter.widget-view+json": {
              "model_id": "b9f9e3087bb44347b4dd490fc64562a9",
              "version_minor": 0,
              "version_major": 2
            },
            "text/plain": [
              "HBox(children=(FloatProgress(value=1.0, bar_style='info', max=1.0), HTML(value='')))"
            ]
          },
          "metadata": {
            "tags": []
          }
        },
        {
          "output_type": "stream",
          "text": [
            "Extracting ./data/MNIST/raw/t10k-labels-idx1-ubyte.gz to ./data/MNIST/raw\n",
            "Processing...\n",
            "Done!\n"
          ],
          "name": "stdout"
        },
        {
          "output_type": "stream",
          "text": [
            "/usr/local/lib/python3.6/dist-packages/torchvision/datasets/mnist.py:480: UserWarning: The given NumPy array is not writeable, and PyTorch does not support non-writeable tensors. This means you can write to the underlying (supposedly non-writeable) NumPy array using the tensor. You may want to copy the array to protect its data or make it writeable before converting it to a tensor. This type of warning will be suppressed for the rest of this program. (Triggered internally at  /pytorch/torch/csrc/utils/tensor_numpy.cpp:141.)\n",
            "  return torch.from_numpy(parsed.astype(m[2], copy=False)).view(*s)\n"
          ],
          "name": "stderr"
        }
      ]
    },
    {
      "cell_type": "code",
      "metadata": {
        "colab": {
          "base_uri": "https://localhost:8080/"
        },
        "id": "oKifgwBiisR1",
        "outputId": "56920c9d-e604-4106-a847-37d435eb3b11"
      },
      "source": [
        "mnist_trainset[0][0].shape"
      ],
      "execution_count": 6,
      "outputs": [
        {
          "output_type": "execute_result",
          "data": {
            "text/plain": [
              "torch.Size([1, 28, 28])"
            ]
          },
          "metadata": {
            "tags": []
          },
          "execution_count": 6
        }
      ]
    },
    {
      "cell_type": "code",
      "metadata": {
        "colab": {
          "base_uri": "https://localhost:8080/",
          "height": 301
        },
        "id": "eP839o7misR1",
        "outputId": "226ffb7a-e223-4f06-b930-4217eaf3c1e3"
      },
      "source": [
        "fig = plt.figure()\n",
        "for i in range(6):\n",
        "  plt.subplot(2,3,i+1)\n",
        "  plt.tight_layout()\n",
        "  plt.imshow(mnist_trainset[i][0].reshape(28,28), cmap='gray', interpolation='none')\n",
        "  plt.title(\"y = {}\".format(mnist_trainset[i][1]))\n",
        "  plt.xticks([])\n",
        "  plt.yticks([])"
      ],
      "execution_count": 7,
      "outputs": [
        {
          "output_type": "stream",
          "text": [
            "\n"
          ],
          "name": "stdout"
        },
        {
          "output_type": "display_data",
          "data": {
            "image/png": "[encoded data removed]",
            "text/plain": [
              "<Figure size 432x288 with 6 Axes>"
            ]
          },
          "metadata": {
            "tags": []
          }
        }
      ]
    },
    {
      "cell_type": "markdown",
      "metadata": {
        "id": "AgTZodW2isR1"
      },
      "source": [
        "## Create the Dataloaders"
      ]
    },
    {
      "cell_type": "code",
      "metadata": {
        "id": "7i7AVIxAisR2"
      },
      "source": [
        "train_mnist = torch.utils.data.DataLoader(mnist_trainset, batch_size=128, shuffle=True, drop_last=True)\n",
        "train_usps = torch.utils.data.DataLoader(usps_trainset, batch_size=128, shuffle=True, drop_last=True) # drop last to match batch size from both datasets"
      ],
      "execution_count": 8,
      "outputs": []
    },
    {
      "cell_type": "markdown",
      "metadata": {
        "id": "tOnMiZK9isR2"
      },
      "source": [
        "To get a picture of what is happening, we are going to create a dummy validation set."
      ]
    },
    {
      "cell_type": "code",
      "metadata": {
        "colab": {
          "base_uri": "https://localhost:8080/",
          "height": 152
        },
        "id": "rYWOnfMDisR2",
        "outputId": "3dad2477-97a5-429d-9248-3e58a1bdbee8"
      },
      "source": [
        "def get_dummy_val(dataset, size):\n",
        "    dummy_val = torch.Tensor(10, size, size)\n",
        "    idx = np.ones(10, dtype=int)*-1\n",
        "    count = 0\n",
        "    for i, x in enumerate(dataset):\n",
        "        if idx[x[1]] != -1:\n",
        "            continue\n",
        "        else:\n",
        "            idx[x[1]] = i\n",
        "            dummy_val[x[1]] = x[0]\n",
        "            count += 1\n",
        "        if count == 10:\n",
        "            break\n",
        "    return dummy_val\n",
        "\n",
        "mnist_val = get_dummy_val(mnist_testset, 28)\n",
        "usps_val = get_dummy_val(usps_testset, 16)\n",
        "\n",
        "# display first ten samples of combination\n",
        "fig, axes = plt.subplots(2, 10, figsize=(9,2))\n",
        "for i in range(10):\n",
        "    ax = axes[0][i%10]\n",
        "    ax.imshow(mnist_val[i].reshape(28,28), cmap='gray', interpolation='none')\n",
        "    ax.set_title(\"y = {}\".format(i))\n",
        "    ax.set_xticks([])\n",
        "    ax.set_yticks([])\n",
        "    \n",
        "    ax = axes[1][i%10]\n",
        "    ax.imshow(usps_val[i].reshape(16,16), cmap='gray', interpolation='none')\n",
        "    ax.set_xticks([])\n",
        "    ax.set_yticks([])"
      ],
      "execution_count": 9,
      "outputs": [
        {
          "output_type": "display_data",
          "data": {
            "image/png": "[encoded data removed]",
            "text/plain": [
              "<Figure size 648x144 with 20 Axes>"
            ]
          },
          "metadata": {
            "tags": []
          }
        }
      ]
    },
    {
      "cell_type": "code",
      "metadata": {
        "id": "8HAwAZiOisR2"
      },
      "source": [
        "mnist_val = mnist_val.view(10,-1).unsqueeze(1) #(10, 1, 28*28)\n",
        "usps_val = usps_val.view(10,-1).unsqueeze(0) #(1, 10, 16*16)\n",
        "\n",
        "mnist_val = mnist_val.repeat(1,10,1) #(10,10,28*28)\n",
        "usps_val = usps_val.repeat(10,1,1)   #(10,10,16*16)\n",
        "\n",
        "val = torch.cat([mnist_val, usps_val],-1).reshape(100,-1)\n",
        "mnist_val = val[:,:28*28]\n",
        "usps_val = val[:,28*28:]"
      ],
      "execution_count": 10,
      "outputs": []
    },
    {
      "cell_type": "code",
      "metadata": {
        "colab": {
          "base_uri": "https://localhost:8080/"
        },
        "id": "9tfBPVZuisR3",
        "outputId": "4bc21b4a-9f74-48eb-e8a4-e0e60bcd4ece"
      },
      "source": [
        "print(val.shape)"
      ],
      "execution_count": 11,
      "outputs": [
        {
          "output_type": "stream",
          "text": [
            "torch.Size([100, 1040])\n"
          ],
          "name": "stdout"
        }
      ]
    },
    {
      "cell_type": "code",
      "metadata": {
        "colab": {
          "base_uri": "https://localhost:8080/",
          "height": 153
        },
        "id": "kg5mjffXisR3",
        "outputId": "4d63f0bf-c26a-428d-dfae-68e053368572"
      },
      "source": [
        "fig, axes = plt.subplots(2, 20, figsize=(18, 2))\n",
        "for i in range(20):\n",
        "    ax = axes[0][i]\n",
        "    ax.imshow(mnist_val[i].reshape(28,28), cmap='gray', interpolation='none')\n",
        "    ax.set_xticks([])\n",
        "    ax.set_yticks([])\n",
        "    \n",
        "    ax = axes[1][i]\n",
        "    ax.imshow(usps_val[i].reshape(16,16), cmap='gray', interpolation='none')\n",
        "    ax.set_xticks([])\n",
        "    ax.set_yticks([])\n",
        "# plt.tight_layout()"
      ],
      "execution_count": 12,
      "outputs": [
        {
          "output_type": "stream",
          "text": [
            "\n"
          ],
          "name": "stdout"
        },
        {
          "output_type": "display_data",
          "data": {
            "image/png": "[encoded data removed]",
            "text/plain": [
              "<Figure size 1296x144 with 40 Axes>"
            ]
          },
          "metadata": {
            "tags": []
          }
        }
      ]
    },
    {
      "cell_type": "code",
      "metadata": {
        "id": "HaB4E4e7isR3"
      },
      "source": [
        "val_label = torch.eye(10).reshape(-1)\n",
        "np_val_label = np.eye(10, dtype=int).reshape(-1) # just so we do not keep on changing the datatype of this"
      ],
      "execution_count": 13,
      "outputs": []
    },
    {
      "cell_type": "markdown",
      "metadata": {
        "id": "Y9KqvrB2isR3"
      },
      "source": [
        "## Training Loop\n",
        "\n",
        "Let's create the training loop beforehand because we will experiment with different regularizations. Since the dataset is imbalaced (about 1/10 of the samples match in each batch if we sample independently from both datasets), we are going to use the AUC as the validation metric."
      ]
    },
    {
      "cell_type": "code",
      "metadata": {
        "id": "wa8OXfk0isR4"
      },
      "source": [
        "import sklearn.metrics as metrics\n",
        "\n",
        "def train(model, data1, data2, val_data, num_epoch, loss_func, optimizer, device):\n",
        "    for i in range(num_epoch):\n",
        "        model.train()\n",
        "        data = zip(data1, data2)\n",
        "        for (x1, y1), (x2, y2) in data:        \n",
        "            # move the data to gpu\n",
        "            x1, x2 = x1.to(device), x2.to(device) \n",
        "            y = ((y1 == y2)*1.0).view(-1,1).to(device) # 1 if they match, 0 otherwise\n",
        "    \n",
        "            # reset the gradients\n",
        "            optimizer.zero_grad() \n",
        "            # x1.shape = (batch, 1, 28,28)\n",
        "            y_hat = model(x1.view(-1, 28*28), x2.view(-1, 16*16))\n",
        "            batch_loss = loss_func(y_hat, y, model)\n",
        "            batch_loss.backward() # autodiff\n",
        "            optimizer.step() # weight update\n",
        "        \n",
        "        model.eval()\n",
        "        with torch.no_grad():\n",
        "            pred = model(val_data[0].to(device), val_data[1].to(device))\n",
        "            val_loss = loss_func(pred, val_label.to(device), model)\n",
        "            pred = pred[0].detach().cpu().numpy() \n",
        "\n",
        "            fpr, tpr, thresholds = metrics.roc_curve(np_val_label,pred.reshape(-1))\n",
        "            auc = metrics.auc(fpr, tpr)\n",
        "            \n",
        "        print(i, batch_loss.item(), val_loss.item(), auc)\n",
        "    return model"
      ],
      "execution_count": 14,
      "outputs": []
    },
    {
      "cell_type": "markdown",
      "metadata": {
        "id": "QKNIA2zcisR4"
      },
      "source": [
        "# Create our matching neural networks\n",
        "\n",
        "One way of pattern matching is to simply create 2 parallel neural networks and then concatene the representation learned at some point. You can then formulate this as a binary classification problem like the example below:"
      ]
    },
    {
      "cell_type": "markdown",
      "metadata": {
        "id": "qSqWGrqCfxJj"
      },
      "source": [
        "![Screenshot from 2021-02-03 15-04-09.png](data:image/png;base64,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)"
      ]
    },
    {
      "cell_type": "code",
      "metadata": {
        "id": "jHZyVfSMisR4"
      },
      "source": [
        "import torch.nn as nn\n",
        "import torch.nn.functional as F\n",
        "\n",
        "class MatchingNetworkV1(nn.Module):\n",
        "    def __init__(self, mnist_in, usps_in):\n",
        "        super(MatchingNetworkV1, self).__init__()\n",
        "        self.layer1_mnist = nn.Linear(mnist_in, 64)\n",
        "        self.layer1_usps = nn.Linear(usps_in, 64)\n",
        "        \n",
        "        self.layer2_mnist = nn.Linear(64, 32)\n",
        "        self.layer2_usps = nn.Linear(64, 32)\n",
        "        \n",
        "        self.layer3_mnist = nn.Linear(32, 16)\n",
        "        self.layer3_usps = nn.Linear(32, 16)\n",
        "        \n",
        "        self.out = nn.Linear(32,1)\n",
        "    \n",
        "    def forward(self, x1, x2):\n",
        "        x1 = F.relu(self.layer1_mnist(x1))\n",
        "        x1 = F.relu(self.layer2_mnist(x1))\n",
        "        x1 = F.relu(self.layer3_mnis(x1))\n",
        "        \n",
        "        x2 = F.relu(self.layer1_usps(x2))\n",
        "        x2 = F.relu(self.layer2_usps(x2))\n",
        "        x2 = F.relu(self.layer3_usps(x2))\n",
        "        return self.out(torch.cat([x1,x2], -1))"
      ],
      "execution_count": 15,
      "outputs": []
    },
    {
      "cell_type": "markdown",
      "metadata": {
        "id": "ntJ1dWNOisR5"
      },
      "source": [
        "The one above is a viable option but it is prone to overfitting due to overparametrization. Furthermore, **it does not take advantage of the fact that higher-level representations of the features may have similar patterns** and thus we can share the parameters like the example below."
      ]
    },
    {
      "cell_type": "markdown",
      "metadata": {
        "id": "hUrBM9bVgyX2"
      },
      "source": [
        "![Screenshot from 2021-02-03 15-08-48.png](data:image/png;base64,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)"
      ]
    },
    {
      "cell_type": "code",
      "metadata": {
        "id": "gIberMxWisR5"
      },
      "source": [
        "import torch.nn as nn\n",
        "import torch.nn.functional as F\n",
        "\n",
        "class MatchingNetwork(nn.Module):\n",
        "    def __init__(self, mnist_in, usps_in):\n",
        "        super(MatchingNetwork, self).__init__()\n",
        "        self.layer1_mnist = nn.Linear(mnist_in, 128)\n",
        "        self.layer1_usps = nn.Linear(usps_in, 128)\n",
        "        \n",
        "        self.layer2 = nn.Linear(128, 64) # shared between the mnist and usps track\n",
        "        self.layer3 = nn.Linear(64, 32) # shared between the mnist and usps track\n",
        "    \n",
        "    def forward(self, x1, x2):\n",
        "        x1 = F.relu(self.layer1_mnist(x1))\n",
        "        x1 = F.relu(self.layer2(x1))\n",
        "        x1 = torch.tanh(self.layer3(x1))\n",
        "        \n",
        "        x2 = F.relu(self.layer1_usps(x2))\n",
        "        x2 = F.relu(self.layer2(x2))\n",
        "        x2 = torch.tanh(self.layer3(x2))\n",
        "        return F.cosine_similarity(x1,x2), x1, x2 # return cosine similarity and embedding of image1 and image2"
      ],
      "execution_count": 16,
      "outputs": []
    },
    {
      "cell_type": "markdown",
      "metadata": {
        "id": "gn9ZNWrcUzHL"
      },
      "source": [
        "Notice we don't have an open layer in the above network as it is not necessary, because we are interested in whether the samples $x_1$ and $x_2$ are similar and we don't need a predictor for this. We can simply look at their similarity using the cosine similarity of the vector embeddings of the two samples are similar or not. "
      ]
    },
    {
      "cell_type": "markdown",
      "metadata": {
        "id": "Cmdom1XQrWGT"
      },
      "source": [
        "In the NN above, we can see that instead of having a single output layer, we used the cosine similarity of the embeddings of the two inputs say $\\hat{x}_a$ and $\\hat{x}_b$. \r\n",
        "\r\n",
        "$sim(\\hat{x}_a, \\hat{x}_b) \\in [-1,1]$, which we can interpret as follows:\r\n",
        "*  $sim(\\hat{x}_a, \\hat{x}_b) = -1$: the embeddings go on opposite ways\r\n",
        "*  $sim(\\hat{x}_a, \\hat{x}_b) = 0$: the embeddings are orthogonal\r\n",
        "*  $sim(\\hat{x}_a, \\hat{x}_b) = 1$: the embeddings are pointed towards the same direction\r\n",
        "\r\n",
        "With that, a simplification to a binary task would be to set $0$ as the threshold. Note that the cosine similarity doesn't care about the magnitude of the embeddings, it only cares that the enbeddings are pointing to the same direction. If the cosine similarity is greater than 0, then it is the same digit, otherwise they are different digits. "
      ]
    },
    {
      "cell_type": "markdown",
      "metadata": {
        "id": "BwH5-678isR5"
      },
      "source": [
        "Loss function and Optimizer"
      ]
    },
    {
      "cell_type": "code",
      "metadata": {
        "colab": {
          "base_uri": "https://localhost:8080/",
          "height": 35
        },
        "id": "8oX_FvwDisR5",
        "outputId": "2ece4e61-06ad-487f-a441-c33b275af84d"
      },
      "source": [
        "device = 'cuda' if torch.cuda.is_available() else 'cpu'\n",
        "device"
      ],
      "execution_count": 17,
      "outputs": [
        {
          "output_type": "execute_result",
          "data": {
            "application/vnd.google.colaboratory.intrinsic+json": {
              "type": "string"
            },
            "text/plain": [
              "'cuda'"
            ]
          },
          "metadata": {
            "tags": []
          },
          "execution_count": 17
        }
      ]
    },
    {
      "cell_type": "code",
      "metadata": {
        "id": "izr9YCABisR6"
      },
      "source": [
        "model = MatchingNetwork(28*28, 16*16)\n",
        "model = model.to(device)\n",
        "cosemb = nn.CosineEmbeddingLoss(reduction='sum')\n",
        "optimizer = torch.optim.Adam(model.parameters(), lr=0.0005)"
      ],
      "execution_count": 18,
      "outputs": []
    },
    {
      "cell_type": "code",
      "metadata": {
        "id": "bzoQbz90isR6"
      },
      "source": [
        "def loss_func(y_hat, y, model):\n",
        "    y2 = y + 1*(y-1) # convert 0's to -1's\n",
        "    loss = cosemb(y_hat[1], y_hat[2], y2.reshape(-1))\n",
        "    return loss"
      ],
      "execution_count": 19,
      "outputs": []
    },
    {
      "cell_type": "markdown",
      "metadata": {
        "id": "JBSExx7Io3c7"
      },
      "source": [
        " Let us train model..."
      ]
    },
    {
      "cell_type": "code",
      "metadata": {
        "colab": {
          "base_uri": "https://localhost:8080/"
        },
        "id": "qOM1lwspisR6",
        "outputId": "c01a3002-0163-44ab-cc0d-da65170a37c0"
      },
      "source": [
        "m = train(model, train_mnist, train_usps, [mnist_val, usps_val], 50, loss_func, optimizer, device)\n"
      ],
      "execution_count": 20,
      "outputs": [
        {
          "output_type": "stream",
          "text": [
            "0 14.58441162109375 10.36087417602539 0.5577777777777777\n",
            "1 14.312637329101562 10.241277694702148 0.6488888888888888\n",
            "2 11.101593017578125 10.083703994750977 0.7233333333333334\n",
            "3 12.074882507324219 10.057180404663086 0.7622222222222222\n",
            "4 12.103838920593262 10.07959270477295 0.7677777777777778\n",
            "5 10.170928955078125 10.091943740844727 0.77\n",
            "6 10.246536254882812 9.959794998168945 0.7611111111111111\n",
            "7 15.56801986694336 9.930837631225586 0.7844444444444445\n",
            "8 9.960027694702148 9.38200569152832 0.8044444444444445\n",
            "9 16.26450538635254 9.195347785949707 0.8244444444444444\n",
            "10 16.493667602539062 9.061634063720703 0.8355555555555556\n",
            "11 13.19207763671875 9.10322093963623 0.7866666666666666\n",
            "12 9.074769973754883 9.041851997375488 0.8211111111111111\n",
            "13 8.123575210571289 9.039430618286133 0.81\n",
            "14 7.179258823394775 9.10268783569336 0.8044444444444444\n",
            "15 13.86237621307373 9.085731506347656 0.8\n",
            "16 16.023555755615234 9.08997917175293 0.8022222222222223\n",
            "17 3.1420600414276123 9.002881050109863 0.8233333333333333\n",
            "18 10.779542922973633 8.958155632019043 0.8499999999999999\n",
            "19 12.219322204589844 9.01530933380127 0.8466666666666667\n",
            "20 14.136966705322266 8.928397178649902 0.8711111111111111\n",
            "21 7.152429580688477 8.809196472167969 0.8366666666666667\n",
            "22 17.12179183959961 8.661521911621094 0.8511111111111112\n",
            "23 11.522701263427734 8.345951080322266 0.8422222222222222\n",
            "24 6.0666680335998535 8.117295265197754 0.908888888888889\n",
            "25 7.584211826324463 8.138007164001465 0.8966666666666667\n",
            "26 4.021095275878906 8.053991317749023 0.918888888888889\n",
            "27 8.99765396118164 8.08256721496582 0.9022222222222223\n",
            "28 10.67841911315918 7.99413537979126 0.9222222222222222\n",
            "29 10.277229309082031 7.916658878326416 0.9299999999999999\n",
            "30 8.16714096069336 7.90529727935791 0.9022222222222221\n",
            "31 10.979153633117676 7.601046562194824 0.8577777777777778\n",
            "32 12.387330055236816 7.860926628112793 0.8266666666666667\n",
            "33 8.263086318969727 7.886201858520508 0.8811111111111111\n",
            "34 8.375789642333984 7.480536937713623 0.7999999999999999\n",
            "35 5.144189834594727 6.902154922485352 0.8911111111111111\n",
            "36 6.971789360046387 6.315959453582764 0.8966666666666667\n",
            "37 6.272789001464844 7.247871398925781 0.8833333333333333\n",
            "38 6.022404670715332 6.711272239685059 0.8911111111111111\n",
            "39 4.583798408508301 6.332385540008545 0.8811111111111112\n",
            "40 7.598958492279053 6.322081565856934 0.9177777777777777\n",
            "41 5.231352806091309 6.012778282165527 0.9155555555555556\n",
            "42 9.388962745666504 6.412344932556152 0.8666666666666667\n",
            "43 3.5230531692504883 5.696980953216553 0.9188888888888889\n",
            "44 9.014204025268555 5.5009965896606445 0.9522222222222223\n",
            "45 8.934368133544922 5.913029670715332 0.9077777777777777\n",
            "46 6.435545444488525 5.688066482543945 0.94\n",
            "47 6.618546962738037 5.47202730178833 0.9177777777777778\n",
            "48 10.048860549926758 5.442622184753418 0.9366666666666665\n",
            "49 6.303004264831543 5.231812953948975 0.9644444444444444\n"
          ],
          "name": "stdout"
        }
      ]
    },
    {
      "cell_type": "markdown",
      "metadata": {
        "id": "k1cu-uFJo900"
      },
      "source": [
        "Let's look at the results in the validation set"
      ]
    },
    {
      "cell_type": "code",
      "metadata": {
        "colab": {
          "base_uri": "https://localhost:8080/",
          "height": 343
        },
        "id": "qPY1-BI3isR6",
        "outputId": "41f19463-1885-4ac8-d811-c542b7871d95"
      },
      "source": [
        "import pandas as pd\n",
        "\n",
        "pred = m(mnist_val.to(device), usps_val.to(device))\n",
        "pd.DataFrame(pred[0].detach().cpu().numpy().reshape(10,10))"
      ],
      "execution_count": 21,
      "outputs": [
        {
          "output_type": "execute_result",
          "data": {
            "text/html": [
              "<div>\n",
              "<style scoped>\n",
              "    .dataframe tbody tr th:only-of-type {\n",
              "        vertical-align: middle;\n",
              "    }\n",
              "\n",
              "    .dataframe tbody tr th {\n",
              "        vertical-align: top;\n",
              "    }\n",
              "\n",
              "    .dataframe thead th {\n",
              "        text-align: right;\n",
              "    }\n",
              "</style>\n",
              "<table border=\"1\" class=\"dataframe\">\n",
              "  <thead>\n",
              "    <tr style=\"text-align: right;\">\n",
              "      <th></th>\n",
              "      <th>0</th>\n",
              "      <th>1</th>\n",
              "      <th>2</th>\n",
              "      <th>3</th>\n",
              "      <th>4</th>\n",
              "      <th>5</th>\n",
              "      <th>6</th>\n",
              "      <th>7</th>\n",
              "      <th>8</th>\n",
              "      <th>9</th>\n",
              "    </tr>\n",
              "  </thead>\n",
              "  <tbody>\n",
              "    <tr>\n",
              "      <th>0</th>\n",
              "      <td>0.983103</td>\n",
              "      <td>-0.069811</td>\n",
              "      <td>-0.156832</td>\n",
              "      <td>-0.209692</td>\n",
              "      <td>-0.279656</td>\n",
              "      <td>-0.144487</td>\n",
              "      <td>-0.347104</td>\n",
              "      <td>-0.146836</td>\n",
              "      <td>-0.198113</td>\n",
              "      <td>-0.223498</td>\n",
              "    </tr>\n",
              "    <tr>\n",
              "      <th>1</th>\n",
              "      <td>-0.041208</td>\n",
              "      <td>0.998191</td>\n",
              "      <td>-0.117941</td>\n",
              "      <td>-0.201437</td>\n",
              "      <td>-0.101106</td>\n",
              "      <td>-0.273316</td>\n",
              "      <td>-0.163532</td>\n",
              "      <td>-0.092669</td>\n",
              "      <td>-0.078627</td>\n",
              "      <td>-0.099861</td>\n",
              "    </tr>\n",
              "    <tr>\n",
              "      <th>2</th>\n",
              "      <td>-0.119486</td>\n",
              "      <td>-0.091869</td>\n",
              "      <td>0.993452</td>\n",
              "      <td>-0.128950</td>\n",
              "      <td>-0.134774</td>\n",
              "      <td>-0.154155</td>\n",
              "      <td>-0.269697</td>\n",
              "      <td>-0.138420</td>\n",
              "      <td>-0.240420</td>\n",
              "      <td>-0.183433</td>\n",
              "    </tr>\n",
              "    <tr>\n",
              "      <th>3</th>\n",
              "      <td>-0.260931</td>\n",
              "      <td>-0.094922</td>\n",
              "      <td>-0.163511</td>\n",
              "      <td>0.004366</td>\n",
              "      <td>-0.057109</td>\n",
              "      <td>-0.010423</td>\n",
              "      <td>-0.142225</td>\n",
              "      <td>-0.336532</td>\n",
              "      <td>-0.010646</td>\n",
              "      <td>-0.074665</td>\n",
              "    </tr>\n",
              "    <tr>\n",
              "      <th>4</th>\n",
              "      <td>-0.269870</td>\n",
              "      <td>-0.062977</td>\n",
              "      <td>-0.198874</td>\n",
              "      <td>-0.049469</td>\n",
              "      <td>0.032791</td>\n",
              "      <td>-0.064744</td>\n",
              "      <td>-0.117889</td>\n",
              "      <td>-0.123613</td>\n",
              "      <td>-0.032735</td>\n",
              "      <td>0.025270</td>\n",
              "    </tr>\n",
              "    <tr>\n",
              "      <th>5</th>\n",
              "      <td>-0.289726</td>\n",
              "      <td>-0.041481</td>\n",
              "      <td>-0.176119</td>\n",
              "      <td>-0.032732</td>\n",
              "      <td>0.042943</td>\n",
              "      <td>-0.058290</td>\n",
              "      <td>-0.068885</td>\n",
              "      <td>-0.224885</td>\n",
              "      <td>-0.004443</td>\n",
              "      <td>0.031362</td>\n",
              "    </tr>\n",
              "    <tr>\n",
              "      <th>6</th>\n",
              "      <td>-0.393644</td>\n",
              "      <td>-0.150674</td>\n",
              "      <td>-0.357665</td>\n",
              "      <td>-0.070947</td>\n",
              "      <td>-0.111838</td>\n",
              "      <td>-0.089247</td>\n",
              "      <td>0.914676</td>\n",
              "      <td>-0.143166</td>\n",
              "      <td>-0.044207</td>\n",
              "      <td>-0.136300</td>\n",
              "    </tr>\n",
              "    <tr>\n",
              "      <th>7</th>\n",
              "      <td>-0.060546</td>\n",
              "      <td>-0.083630</td>\n",
              "      <td>-0.095888</td>\n",
              "      <td>-0.184680</td>\n",
              "      <td>-0.159237</td>\n",
              "      <td>-0.140465</td>\n",
              "      <td>-0.050518</td>\n",
              "      <td>0.997058</td>\n",
              "      <td>-0.232733</td>\n",
              "      <td>-0.130350</td>\n",
              "    </tr>\n",
              "    <tr>\n",
              "      <th>8</th>\n",
              "      <td>-0.257777</td>\n",
              "      <td>-0.017523</td>\n",
              "      <td>-0.107211</td>\n",
              "      <td>-0.033048</td>\n",
              "      <td>-0.030881</td>\n",
              "      <td>-0.073892</td>\n",
              "      <td>-0.074601</td>\n",
              "      <td>-0.457192</td>\n",
              "      <td>0.002786</td>\n",
              "      <td>-0.056311</td>\n",
              "    </tr>\n",
              "    <tr>\n",
              "      <th>9</th>\n",
              "      <td>-0.175633</td>\n",
              "      <td>-0.132726</td>\n",
              "      <td>-0.238841</td>\n",
              "      <td>-0.031761</td>\n",
              "      <td>-0.001353</td>\n",
              "      <td>-0.027853</td>\n",
              "      <td>-0.159028</td>\n",
              "      <td>-0.155443</td>\n",
              "      <td>-0.037051</td>\n",
              "      <td>-0.000372</td>\n",
              "    </tr>\n",
              "  </tbody>\n",
              "</table>\n",
              "</div>"
            ],
            "text/plain": [
              "          0         1         2  ...         7         8         9\n",
              "0  0.983103 -0.069811 -0.156832  ... -0.146836 -0.198113 -0.223498\n",
              "1 -0.041208  0.998191 -0.117941  ... -0.092669 -0.078627 -0.099861\n",
              "2 -0.119486 -0.091869  0.993452  ... -0.138420 -0.240420 -0.183433\n",
              "3 -0.260931 -0.094922 -0.163511  ... -0.336532 -0.010646 -0.074665\n",
              "4 -0.269870 -0.062977 -0.198874  ... -0.123613 -0.032735  0.025270\n",
              "5 -0.289726 -0.041481 -0.176119  ... -0.224885 -0.004443  0.031362\n",
              "6 -0.393644 -0.150674 -0.357665  ... -0.143166 -0.044207 -0.136300\n",
              "7 -0.060546 -0.083630 -0.095888  ...  0.997058 -0.232733 -0.130350\n",
              "8 -0.257777 -0.017523 -0.107211  ... -0.457192  0.002786 -0.056311\n",
              "9 -0.175633 -0.132726 -0.238841  ... -0.155443 -0.037051 -0.000372\n",
              "\n",
              "[10 rows x 10 columns]"
            ]
          },
          "metadata": {
            "tags": []
          },
          "execution_count": 21
        }
      ]
    },
    {
      "cell_type": "code",
      "metadata": {
        "colab": {
          "base_uri": "https://localhost:8080/",
          "height": 343
        },
        "id": "wjJ4umqmisR6",
        "outputId": "5dd75b7d-c100-4eec-cc20-d674b81d38b8"
      },
      "source": [
        "pd.DataFrame(1*(pred[0].detach().cpu().numpy().reshape(10,10)>0))"
      ],
      "execution_count": null,
      "outputs": [
        {
          "output_type": "execute_result",
          "data": {
            "text/html": [
              "<div>\n",
              "<style scoped>\n",
              "    .dataframe tbody tr th:only-of-type {\n",
              "        vertical-align: middle;\n",
              "    }\n",
              "\n",
              "    .dataframe tbody tr th {\n",
              "        vertical-align: top;\n",
              "    }\n",
              "\n",
              "    .dataframe thead th {\n",
              "        text-align: right;\n",
              "    }\n",
              "</style>\n",
              "<table border=\"1\" class=\"dataframe\">\n",
              "  <thead>\n",
              "    <tr style=\"text-align: right;\">\n",
              "      <th></th>\n",
              "      <th>0</th>\n",
              "      <th>1</th>\n",
              "      <th>2</th>\n",
              "      <th>3</th>\n",
              "      <th>4</th>\n",
              "      <th>5</th>\n",
              "      <th>6</th>\n",
              "      <th>7</th>\n",
              "      <th>8</th>\n",
              "      <th>9</th>\n",
              "    </tr>\n",
              "  </thead>\n",
              "  <tbody>\n",
              "    <tr>\n",
              "      <th>0</th>\n",
              "      <td>1</td>\n",
              "      <td>0</td>\n",
              "      <td>0</td>\n",
              "      <td>0</td>\n",
              "      <td>0</td>\n",
              "      <td>0</td>\n",
              "      <td>0</td>\n",
              "      <td>0</td>\n",
              "      <td>0</td>\n",
              "      <td>0</td>\n",
              "    </tr>\n",
              "    <tr>\n",
              "      <th>1</th>\n",
              "      <td>0</td>\n",
              "      <td>1</td>\n",
              "      <td>0</td>\n",
              "      <td>0</td>\n",
              "      <td>0</td>\n",
              "      <td>0</td>\n",
              "      <td>0</td>\n",
              "      <td>0</td>\n",
              "      <td>0</td>\n",
              "      <td>0</td>\n",
              "    </tr>\n",
              "    <tr>\n",
              "      <th>2</th>\n",
              "      <td>0</td>\n",
              "      <td>0</td>\n",
              "      <td>1</td>\n",
              "      <td>0</td>\n",
              "      <td>0</td>\n",
              "      <td>0</td>\n",
              "      <td>0</td>\n",
              "      <td>0</td>\n",
              "      <td>0</td>\n",
              "      <td>0</td>\n",
              "    </tr>\n",
              "    <tr>\n",
              "      <th>3</th>\n",
              "      <td>0</td>\n",
              "      <td>0</td>\n",
              "      <td>0</td>\n",
              "      <td>1</td>\n",
              "      <td>0</td>\n",
              "      <td>1</td>\n",
              "      <td>0</td>\n",
              "      <td>0</td>\n",
              "      <td>1</td>\n",
              "      <td>0</td>\n",
              "    </tr>\n",
              "    <tr>\n",
              "      <th>4</th>\n",
              "      <td>0</td>\n",
              "      <td>0</td>\n",
              "      <td>0</td>\n",
              "      <td>0</td>\n",
              "      <td>1</td>\n",
              "      <td>0</td>\n",
              "      <td>0</td>\n",
              "      <td>0</td>\n",
              "      <td>0</td>\n",
              "      <td>1</td>\n",
              "    </tr>\n",
              "    <tr>\n",
              "      <th>5</th>\n",
              "      <td>0</td>\n",
              "      <td>0</td>\n",
              "      <td>0</td>\n",
              "      <td>0</td>\n",
              "      <td>1</td>\n",
              "      <td>0</td>\n",
              "      <td>0</td>\n",
              "      <td>0</td>\n",
              "      <td>1</td>\n",
              "      <td>1</td>\n",
              "    </tr>\n",
              "    <tr>\n",
              "      <th>6</th>\n",
              "      <td>0</td>\n",
              "      <td>0</td>\n",
              "      <td>0</td>\n",
              "      <td>0</td>\n",
              "      <td>0</td>\n",
              "      <td>0</td>\n",
              "      <td>1</td>\n",
              "      <td>0</td>\n",
              "      <td>0</td>\n",
              "      <td>0</td>\n",
              "    </tr>\n",
              "    <tr>\n",
              "      <th>7</th>\n",
              "      <td>0</td>\n",
              "      <td>0</td>\n",
              "      <td>0</td>\n",
              "      <td>0</td>\n",
              "      <td>0</td>\n",
              "      <td>0</td>\n",
              "      <td>0</td>\n",
              "      <td>1</td>\n",
              "      <td>0</td>\n",
              "      <td>0</td>\n",
              "    </tr>\n",
              "    <tr>\n",
              "      <th>8</th>\n",
              "      <td>0</td>\n",
              "      <td>0</td>\n",
              "      <td>0</td>\n",
              "      <td>0</td>\n",
              "      <td>0</td>\n",
              "      <td>1</td>\n",
              "      <td>0</td>\n",
              "      <td>0</td>\n",
              "      <td>1</td>\n",
              "      <td>1</td>\n",
              "    </tr>\n",
              "    <tr>\n",
              "      <th>9</th>\n",
              "      <td>0</td>\n",
              "      <td>0</td>\n",
              "      <td>0</td>\n",
              "      <td>0</td>\n",
              "      <td>0</td>\n",
              "      <td>0</td>\n",
              "      <td>0</td>\n",
              "      <td>0</td>\n",
              "      <td>0</td>\n",
              "      <td>1</td>\n",
              "    </tr>\n",
              "  </tbody>\n",
              "</table>\n",
              "</div>"
            ],
            "text/plain": [
              "   0  1  2  3  4  5  6  7  8  9\n",
              "0  1  0  0  0  0  0  0  0  0  0\n",
              "1  0  1  0  0  0  0  0  0  0  0\n",
              "2  0  0  1  0  0  0  0  0  0  0\n",
              "3  0  0  0  1  0  1  0  0  1  0\n",
              "4  0  0  0  0  1  0  0  0  0  1\n",
              "5  0  0  0  0  1  0  0  0  1  1\n",
              "6  0  0  0  0  0  0  1  0  0  0\n",
              "7  0  0  0  0  0  0  0  1  0  0\n",
              "8  0  0  0  0  0  1  0  0  1  1\n",
              "9  0  0  0  0  0  0  0  0  0  1"
            ]
          },
          "metadata": {
            "tags": []
          },
          "execution_count": 76
        }
      ]
    },
    {
      "cell_type": "code",
      "metadata": {
        "colab": {
          "base_uri": "https://localhost:8080/"
        },
        "id": "QOfzVWoyisR7",
        "outputId": "bcc4508f-932c-422d-856b-4d43b9197897"
      },
      "source": [
        "vl = val_label + 1*(val_label-1)\n",
        "c = F.cosine_embedding_loss(pred[1], pred[2], torch.tensor(vl).view(-1).to(device), reduction='none')"
      ],
      "execution_count": 22,
      "outputs": [
        {
          "output_type": "stream",
          "text": [
            "/usr/local/lib/python3.6/dist-packages/ipykernel_launcher.py:2: UserWarning: To copy construct from a tensor, it is recommended to use sourceTensor.clone().detach() or sourceTensor.clone().detach().requires_grad_(True), rather than torch.tensor(sourceTensor).\n",
            "  \n"
          ],
          "name": "stderr"
        }
      ]
    },
    {
      "cell_type": "code",
      "metadata": {
        "colab": {
          "base_uri": "https://localhost:8080/",
          "height": 343
        },
        "id": "ZURKQVqzisR7",
        "outputId": "ff8b0791-c411-4b68-de06-de238eb70e3d"
      },
      "source": [
        "pd.DataFrame(c.detach().cpu().numpy().reshape(10,10))\n"
      ],
      "execution_count": 23,
      "outputs": [
        {
          "output_type": "execute_result",
          "data": {
            "text/html": [
              "<div>\n",
              "<style scoped>\n",
              "    .dataframe tbody tr th:only-of-type {\n",
              "        vertical-align: middle;\n",
              "    }\n",
              "\n",
              "    .dataframe tbody tr th {\n",
              "        vertical-align: top;\n",
              "    }\n",
              "\n",
              "    .dataframe thead th {\n",
              "        text-align: right;\n",
              "    }\n",
              "</style>\n",
              "<table border=\"1\" class=\"dataframe\">\n",
              "  <thead>\n",
              "    <tr style=\"text-align: right;\">\n",
              "      <th></th>\n",
              "      <th>0</th>\n",
              "      <th>1</th>\n",
              "      <th>2</th>\n",
              "      <th>3</th>\n",
              "      <th>4</th>\n",
              "      <th>5</th>\n",
              "      <th>6</th>\n",
              "      <th>7</th>\n",
              "      <th>8</th>\n",
              "      <th>9</th>\n",
              "    </tr>\n",
              "  </thead>\n",
              "  <tbody>\n",
              "    <tr>\n",
              "      <th>0</th>\n",
              "      <td>0.016897</td>\n",
              "      <td>0.000000</td>\n",
              "      <td>0.000000</td>\n",
              "      <td>0.000000</td>\n",
              "      <td>0.000000</td>\n",
              "      <td>0.00000</td>\n",
              "      <td>0.000000</td>\n",
              "      <td>0.000000</td>\n",
              "      <td>0.000000</td>\n",
              "      <td>0.000000</td>\n",
              "    </tr>\n",
              "    <tr>\n",
              "      <th>1</th>\n",
              "      <td>0.000000</td>\n",
              "      <td>0.001809</td>\n",
              "      <td>0.000000</td>\n",
              "      <td>0.000000</td>\n",
              "      <td>0.000000</td>\n",
              "      <td>0.00000</td>\n",
              "      <td>0.000000</td>\n",
              "      <td>0.000000</td>\n",
              "      <td>0.000000</td>\n",
              "      <td>0.000000</td>\n",
              "    </tr>\n",
              "    <tr>\n",
              "      <th>2</th>\n",
              "      <td>0.000000</td>\n",
              "      <td>0.000000</td>\n",
              "      <td>0.006548</td>\n",
              "      <td>0.000000</td>\n",
              "      <td>0.000000</td>\n",
              "      <td>0.00000</td>\n",
              "      <td>0.000000</td>\n",
              "      <td>0.000000</td>\n",
              "      <td>0.000000</td>\n",
              "      <td>0.000000</td>\n",
              "    </tr>\n",
              "    <tr>\n",
              "      <th>3</th>\n",
              "      <td>0.000000</td>\n",
              "      <td>0.000000</td>\n",
              "      <td>0.000000</td>\n",
              "      <td>0.995634</td>\n",
              "      <td>0.000000</td>\n",
              "      <td>0.00000</td>\n",
              "      <td>0.000000</td>\n",
              "      <td>0.000000</td>\n",
              "      <td>0.000000</td>\n",
              "      <td>0.000000</td>\n",
              "    </tr>\n",
              "    <tr>\n",
              "      <th>4</th>\n",
              "      <td>0.000000</td>\n",
              "      <td>0.000000</td>\n",
              "      <td>0.000000</td>\n",
              "      <td>0.000000</td>\n",
              "      <td>0.967209</td>\n",
              "      <td>0.00000</td>\n",
              "      <td>0.000000</td>\n",
              "      <td>0.000000</td>\n",
              "      <td>0.000000</td>\n",
              "      <td>0.025270</td>\n",
              "    </tr>\n",
              "    <tr>\n",
              "      <th>5</th>\n",
              "      <td>0.000000</td>\n",
              "      <td>0.000000</td>\n",
              "      <td>0.000000</td>\n",
              "      <td>0.000000</td>\n",
              "      <td>0.042943</td>\n",
              "      <td>1.05829</td>\n",
              "      <td>0.000000</td>\n",
              "      <td>0.000000</td>\n",
              "      <td>0.000000</td>\n",
              "      <td>0.031362</td>\n",
              "    </tr>\n",
              "    <tr>\n",
              "      <th>6</th>\n",
              "      <td>0.000000</td>\n",
              "      <td>0.000000</td>\n",
              "      <td>0.000000</td>\n",
              "      <td>0.000000</td>\n",
              "      <td>0.000000</td>\n",
              "      <td>0.00000</td>\n",
              "      <td>0.085324</td>\n",
              "      <td>0.000000</td>\n",
              "      <td>0.000000</td>\n",
              "      <td>0.000000</td>\n",
              "    </tr>\n",
              "    <tr>\n",
              "      <th>7</th>\n",
              "      <td>0.000000</td>\n",
              "      <td>0.000000</td>\n",
              "      <td>0.000000</td>\n",
              "      <td>0.000000</td>\n",
              "      <td>0.000000</td>\n",
              "      <td>0.00000</td>\n",
              "      <td>0.000000</td>\n",
              "      <td>0.002942</td>\n",
              "      <td>0.000000</td>\n",
              "      <td>0.000000</td>\n",
              "    </tr>\n",
              "    <tr>\n",
              "      <th>8</th>\n",
              "      <td>0.000000</td>\n",
              "      <td>0.000000</td>\n",
              "      <td>0.000000</td>\n",
              "      <td>0.000000</td>\n",
              "      <td>0.000000</td>\n",
              "      <td>0.00000</td>\n",
              "      <td>0.000000</td>\n",
              "      <td>0.000000</td>\n",
              "      <td>0.997214</td>\n",
              "      <td>0.000000</td>\n",
              "    </tr>\n",
              "    <tr>\n",
              "      <th>9</th>\n",
              "      <td>0.000000</td>\n",
              "      <td>0.000000</td>\n",
              "      <td>0.000000</td>\n",
              "      <td>0.000000</td>\n",
              "      <td>0.000000</td>\n",
              "      <td>0.00000</td>\n",
              "      <td>0.000000</td>\n",
              "      <td>0.000000</td>\n",
              "      <td>0.000000</td>\n",
              "      <td>1.000372</td>\n",
              "    </tr>\n",
              "  </tbody>\n",
              "</table>\n",
              "</div>"
            ],
            "text/plain": [
              "          0         1         2  ...         7         8         9\n",
              "0  0.016897  0.000000  0.000000  ...  0.000000  0.000000  0.000000\n",
              "1  0.000000  0.001809  0.000000  ...  0.000000  0.000000  0.000000\n",
              "2  0.000000  0.000000  0.006548  ...  0.000000  0.000000  0.000000\n",
              "3  0.000000  0.000000  0.000000  ...  0.000000  0.000000  0.000000\n",
              "4  0.000000  0.000000  0.000000  ...  0.000000  0.000000  0.025270\n",
              "5  0.000000  0.000000  0.000000  ...  0.000000  0.000000  0.031362\n",
              "6  0.000000  0.000000  0.000000  ...  0.000000  0.000000  0.000000\n",
              "7  0.000000  0.000000  0.000000  ...  0.002942  0.000000  0.000000\n",
              "8  0.000000  0.000000  0.000000  ...  0.000000  0.997214  0.000000\n",
              "9  0.000000  0.000000  0.000000  ...  0.000000  0.000000  1.000372\n",
              "\n",
              "[10 rows x 10 columns]"
            ]
          },
          "metadata": {
            "tags": []
          },
          "execution_count": 23
        }
      ]
    },
    {
      "cell_type": "markdown",
      "metadata": {
        "id": "POAe3FVbvPnD"
      },
      "source": [
        "## More Regularization Examples"
      ]
    },
    {
      "cell_type": "markdown",
      "metadata": {
        "id": "QXYpT2pEisR9"
      },
      "source": [
        "### Built-in L2 regularization"
      ]
    },
    {
      "cell_type": "code",
      "metadata": {
        "colab": {
          "base_uri": "https://localhost:8080/"
        },
        "id": "SPyDFbjfisR9",
        "outputId": "c84ef8bf-ce36-49c4-8b66-92e8fd065c82"
      },
      "source": [
        "model = MatchingNetwork(28*28, 16*16)\n",
        "model = model.to(device)\n",
        "\n",
        "optimizer = torch.optim.Adam(model.parameters(), lr=0.0005, weight_decay=1e-4) # The weight decay parameter is the L2 regularization\n",
        "m = train(model, train_mnist, train_usps, [mnist_val, usps_val], 50, loss_func, optimizer, device)"
      ],
      "execution_count": 24,
      "outputs": [
        {
          "output_type": "stream",
          "text": [
            "0 12.591830253601074 10.538933753967285 0.5911111111111111\n",
            "1 12.052472114562988 10.128011703491211 0.6377777777777778\n",
            "2 13.106101989746094 10.097835540771484 0.6677777777777778\n",
            "3 15.12053108215332 10.039948463439941 0.6944444444444444\n",
            "4 11.310114860534668 10.032524108886719 0.6922222222222222\n",
            "5 19.026533126831055 10.011336326599121 0.7011111111111111\n",
            "6 18.98965835571289 9.851827621459961 0.7055555555555555\n",
            "7 10.76736831665039 9.382217407226562 0.6966666666666667\n",
            "8 9.16348648071289 9.19870662689209 0.7200000000000001\n",
            "9 13.43178939819336 9.09868049621582 0.74\n",
            "10 7.183056831359863 9.184762001037598 0.7433333333333333\n",
            "11 12.695860862731934 9.143226623535156 0.7488888888888888\n",
            "12 13.881646156311035 9.09190559387207 0.7711111111111112\n",
            "13 8.06957721710205 9.040841102600098 0.8422222222222223\n",
            "14 10.2543363571167 9.070549964904785 0.768888888888889\n",
            "15 8.033468246459961 9.104321479797363 0.8188888888888889\n",
            "16 9.02485466003418 9.052366256713867 0.8277777777777777\n",
            "17 19.37505531311035 9.13495922088623 0.851111111111111\n",
            "18 15.47072982788086 9.095520973205566 0.8600000000000001\n",
            "19 5.028228759765625 9.077201843261719 0.8644444444444446\n",
            "20 12.278946876525879 9.045839309692383 0.8622222222222222\n",
            "21 15.059953689575195 9.027627944946289 0.8788888888888888\n",
            "22 10.183300971984863 9.075332641601562 0.8911111111111111\n",
            "23 14.065790176391602 9.01183795928955 0.8988888888888888\n",
            "24 10.055917739868164 9.019376754760742 0.8766666666666666\n",
            "25 17.062692642211914 9.036712646484375 0.8811111111111112\n",
            "26 9.981856346130371 9.042574882507324 0.8722222222222222\n",
            "27 13.02055549621582 9.06153678894043 0.9033333333333333\n",
            "28 11.054580688476562 9.005057334899902 0.8911111111111112\n",
            "29 6.006601810455322 9.014604568481445 0.8922222222222222\n",
            "30 9.064069747924805 9.00150203704834 0.8844444444444444\n",
            "31 9.862839698791504 9.134462356567383 0.8911111111111111\n",
            "32 13.945619583129883 8.982227325439453 0.8733333333333334\n",
            "33 13.799758911132812 9.042755126953125 0.8455555555555556\n",
            "34 7.728679656982422 9.206110954284668 0.8155555555555556\n",
            "35 7.138891220092773 8.606566429138184 0.8077777777777778\n",
            "36 9.95564079284668 8.180205345153809 0.8466666666666666\n",
            "37 9.727818489074707 7.293918609619141 0.8811111111111112\n",
            "38 14.339279174804688 7.048770904541016 0.8700000000000001\n",
            "39 6.123170852661133 6.895627021789551 0.851111111111111\n",
            "40 7.173142433166504 6.238801956176758 0.8766666666666667\n",
            "41 9.42378044128418 6.310347557067871 0.8444444444444444\n",
            "42 11.626045227050781 6.480335235595703 0.8844444444444445\n",
            "43 5.5344319343566895 6.479619026184082 0.8355555555555556\n",
            "44 4.316548824310303 6.154531478881836 0.8811111111111112\n",
            "45 5.76333475112915 5.647978782653809 0.9011111111111112\n",
            "46 12.146684646606445 5.9907660484313965 0.8777777777777778\n",
            "47 10.671219825744629 6.445174217224121 0.8644444444444445\n",
            "48 5.840916156768799 5.6678361892700195 0.9122222222222223\n",
            "49 2.9620296955108643 5.634805679321289 0.9433333333333334\n"
          ],
          "name": "stdout"
        }
      ]
    },
    {
      "cell_type": "markdown",
      "metadata": {
        "id": "POte6rM4isR9"
      },
      "source": [
        "### Manual L1/L2 regularization"
      ]
    },
    {
      "cell_type": "code",
      "metadata": {
        "id": "9sn15tNDisR9"
      },
      "source": [
        "def loss_func_with_reg(y_hat, y, model, lambda_=1e-5):\n",
        "    y2 = y + 1*(y-1) # convert 0's to -1's\n",
        "    loss = cosemb(y_hat[1], y_hat[2], y2.reshape(-1))\n",
        "\n",
        "    l1_reg = 0\n",
        "    for param in model.parameters():\n",
        "        l1_reg += torch.norm(param, 1)\n",
        "\n",
        "    return loss + lambda_*l1_reg "
      ],
      "execution_count": 25,
      "outputs": []
    },
    {
      "cell_type": "code",
      "metadata": {
        "colab": {
          "base_uri": "https://localhost:8080/"
        },
        "id": "0RRUhGyOisR9",
        "outputId": "86e84e89-e16a-46a1-e757-55c97367d132"
      },
      "source": [
        "model = MatchingNetwork(28*28, 16*16)\n",
        "model = model.to(device)\n",
        "\n",
        "optimizer = torch.optim.Adam(model.parameters(), lr=0.0005)\n",
        "m = train(model, train_mnist, train_usps, [mnist_val, usps_val], 50, loss_func_with_reg, optimizer, device)"
      ],
      "execution_count": 26,
      "outputs": [
        {
          "output_type": "stream",
          "text": [
            "0 17.631267547607422 10.32147216796875 0.6311111111111112\n",
            "1 16.41417694091797 10.223260879516602 0.7111111111111111\n",
            "2 15.185198783874512 10.08562183380127 0.7155555555555555\n",
            "3 17.232013702392578 10.142118453979492 0.7322222222222222\n",
            "4 11.307170867919922 10.193510055541992 0.8055555555555556\n",
            "5 13.22864055633545 10.043094635009766 0.7766666666666667\n",
            "6 7.169320106506348 10.233023643493652 0.79\n",
            "7 9.286914825439453 9.939332962036133 0.8022222222222223\n",
            "8 9.652833938598633 9.613845825195312 0.8111111111111111\n",
            "9 8.611138343811035 9.2266263961792 0.7755555555555556\n",
            "10 14.315803527832031 9.133842468261719 0.7955555555555556\n",
            "11 12.380925178527832 9.11693000793457 0.81\n",
            "12 14.409698486328125 9.212495803833008 0.8244444444444444\n",
            "13 10.073664665222168 9.077164649963379 0.8111111111111111\n",
            "14 8.413851737976074 9.16372299194336 0.8255555555555556\n",
            "15 18.102102279663086 9.24274730682373 0.8277777777777777\n",
            "16 17.16167449951172 9.074243545532227 0.8322222222222222\n",
            "17 16.077945709228516 9.070701599121094 0.8422222222222223\n",
            "18 4.099648475646973 9.09850788116455 0.8288888888888889\n",
            "19 14.07945728302002 9.056766510009766 0.8388888888888889\n",
            "20 9.081104278564453 9.087736129760742 0.8366666666666667\n",
            "21 17.26687240600586 9.145027160644531 0.8388888888888889\n",
            "22 10.196407318115234 9.092792510986328 0.8433333333333333\n",
            "23 10.091127395629883 9.057612419128418 0.8600000000000001\n",
            "24 12.034024238586426 9.092196464538574 0.8466666666666667\n",
            "25 9.827118873596191 9.055137634277344 0.8644444444444445\n",
            "26 9.089936256408691 9.060307502746582 0.8533333333333333\n",
            "27 14.502123832702637 9.065201759338379 0.8588888888888889\n",
            "28 12.05817985534668 9.08584976196289 0.8711111111111112\n",
            "29 8.839378356933594 9.083462715148926 0.8677777777777778\n",
            "30 11.1469144821167 9.077494621276855 0.8622222222222222\n",
            "31 9.990036010742188 9.073740005493164 0.8711111111111112\n",
            "32 11.945260047912598 9.187016487121582 0.8655555555555556\n",
            "33 15.088457107543945 9.074406623840332 0.8733333333333334\n",
            "34 7.995763301849365 9.110576629638672 0.8711111111111112\n",
            "35 14.309967041015625 9.040868759155273 0.8700000000000001\n",
            "36 13.327879905700684 9.088482856750488 0.8144444444444445\n",
            "37 6.264256000518799 8.27728271484375 0.8355555555555556\n",
            "38 10.432559967041016 8.08598804473877 0.8422222222222222\n",
            "39 10.86330795288086 8.21118450164795 0.8766666666666667\n",
            "40 7.421201229095459 7.080485820770264 0.8533333333333334\n",
            "41 6.196290493011475 6.992588043212891 0.8777777777777778\n",
            "42 10.88611888885498 6.5606513023376465 0.9288888888888889\n",
            "43 5.061313152313232 6.257360935211182 0.9166666666666667\n",
            "44 5.74898099899292 5.945209980010986 0.91\n",
            "45 4.089560508728027 5.959106922149658 0.9311111111111111\n",
            "46 2.5780022144317627 6.339044094085693 0.9144444444444444\n",
            "47 10.025703430175781 6.661995887756348 0.88\n",
            "48 9.420684814453125 6.469191074371338 0.9255555555555555\n",
            "49 4.26710844039917 6.026942729949951 0.9155555555555556\n"
          ],
          "name": "stdout"
        }
      ]
    },
    {
      "cell_type": "code",
      "metadata": {
        "colab": {
          "base_uri": "https://localhost:8080/",
          "height": 343
        },
        "id": "v8RjaMQf3N3Y",
        "outputId": "3cf2c8f2-3c9a-4e55-e390-49e3831001c4"
      },
      "source": [
        "pred = m(mnist_val.to(device), usps_val.to(device))\r\n",
        "pd.DataFrame(pred[0].detach().cpu().numpy().reshape(10,10))"
      ],
      "execution_count": 27,
      "outputs": [
        {
          "output_type": "execute_result",
          "data": {
            "text/html": [
              "<div>\n",
              "<style scoped>\n",
              "    .dataframe tbody tr th:only-of-type {\n",
              "        vertical-align: middle;\n",
              "    }\n",
              "\n",
              "    .dataframe tbody tr th {\n",
              "        vertical-align: top;\n",
              "    }\n",
              "\n",
              "    .dataframe thead th {\n",
              "        text-align: right;\n",
              "    }\n",
              "</style>\n",
              "<table border=\"1\" class=\"dataframe\">\n",
              "  <thead>\n",
              "    <tr style=\"text-align: right;\">\n",
              "      <th></th>\n",
              "      <th>0</th>\n",
              "      <th>1</th>\n",
              "      <th>2</th>\n",
              "      <th>3</th>\n",
              "      <th>4</th>\n",
              "      <th>5</th>\n",
              "      <th>6</th>\n",
              "      <th>7</th>\n",
              "      <th>8</th>\n",
              "      <th>9</th>\n",
              "    </tr>\n",
              "  </thead>\n",
              "  <tbody>\n",
              "    <tr>\n",
              "      <th>0</th>\n",
              "      <td>0.997422</td>\n",
              "      <td>-0.072022</td>\n",
              "      <td>-0.203516</td>\n",
              "      <td>-0.175424</td>\n",
              "      <td>-0.046197</td>\n",
              "      <td>-0.062797</td>\n",
              "      <td>-0.232761</td>\n",
              "      <td>-0.074758</td>\n",
              "      <td>-0.076035</td>\n",
              "      <td>-0.100130</td>\n",
              "    </tr>\n",
              "    <tr>\n",
              "      <th>1</th>\n",
              "      <td>-0.101338</td>\n",
              "      <td>0.995617</td>\n",
              "      <td>-0.049436</td>\n",
              "      <td>-0.068458</td>\n",
              "      <td>-0.247650</td>\n",
              "      <td>-0.095432</td>\n",
              "      <td>-0.116403</td>\n",
              "      <td>-0.043367</td>\n",
              "      <td>-0.148848</td>\n",
              "      <td>-0.192254</td>\n",
              "    </tr>\n",
              "    <tr>\n",
              "      <th>2</th>\n",
              "      <td>-0.119743</td>\n",
              "      <td>-0.062183</td>\n",
              "      <td>0.988492</td>\n",
              "      <td>-0.187121</td>\n",
              "      <td>-0.220020</td>\n",
              "      <td>-0.187135</td>\n",
              "      <td>-0.301506</td>\n",
              "      <td>-0.163408</td>\n",
              "      <td>-0.217028</td>\n",
              "      <td>-0.231158</td>\n",
              "    </tr>\n",
              "    <tr>\n",
              "      <th>3</th>\n",
              "      <td>-0.349723</td>\n",
              "      <td>-0.116376</td>\n",
              "      <td>-0.113367</td>\n",
              "      <td>0.051204</td>\n",
              "      <td>-0.061105</td>\n",
              "      <td>0.048160</td>\n",
              "      <td>-0.001429</td>\n",
              "      <td>-0.411986</td>\n",
              "      <td>0.044852</td>\n",
              "      <td>-0.069221</td>\n",
              "    </tr>\n",
              "    <tr>\n",
              "      <th>4</th>\n",
              "      <td>-0.157830</td>\n",
              "      <td>-0.131935</td>\n",
              "      <td>-0.241297</td>\n",
              "      <td>-0.167029</td>\n",
              "      <td>0.004739</td>\n",
              "      <td>-0.144416</td>\n",
              "      <td>-0.033660</td>\n",
              "      <td>-0.172651</td>\n",
              "      <td>-0.062898</td>\n",
              "      <td>-0.002931</td>\n",
              "    </tr>\n",
              "    <tr>\n",
              "      <th>5</th>\n",
              "      <td>-0.109068</td>\n",
              "      <td>-0.189485</td>\n",
              "      <td>-0.310275</td>\n",
              "      <td>-0.185506</td>\n",
              "      <td>0.028616</td>\n",
              "      <td>-0.146794</td>\n",
              "      <td>0.107043</td>\n",
              "      <td>-0.254104</td>\n",
              "      <td>-0.044810</td>\n",
              "      <td>0.012266</td>\n",
              "    </tr>\n",
              "    <tr>\n",
              "      <th>6</th>\n",
              "      <td>-0.156895</td>\n",
              "      <td>-0.176816</td>\n",
              "      <td>-0.334953</td>\n",
              "      <td>-0.208078</td>\n",
              "      <td>-0.137587</td>\n",
              "      <td>-0.155765</td>\n",
              "      <td>0.439014</td>\n",
              "      <td>-0.447226</td>\n",
              "      <td>-0.086158</td>\n",
              "      <td>-0.173191</td>\n",
              "    </tr>\n",
              "    <tr>\n",
              "      <th>7</th>\n",
              "      <td>-0.093665</td>\n",
              "      <td>-0.082998</td>\n",
              "      <td>-0.066507</td>\n",
              "      <td>-0.075268</td>\n",
              "      <td>-0.175829</td>\n",
              "      <td>-0.215503</td>\n",
              "      <td>-0.234782</td>\n",
              "      <td>0.990720</td>\n",
              "      <td>-0.268019</td>\n",
              "      <td>-0.121966</td>\n",
              "    </tr>\n",
              "    <tr>\n",
              "      <th>8</th>\n",
              "      <td>-0.126489</td>\n",
              "      <td>-0.184662</td>\n",
              "      <td>0.043360</td>\n",
              "      <td>-0.136696</td>\n",
              "      <td>-0.006842</td>\n",
              "      <td>-0.070368</td>\n",
              "      <td>-0.164184</td>\n",
              "      <td>-0.417914</td>\n",
              "      <td>-0.011128</td>\n",
              "      <td>-0.037178</td>\n",
              "    </tr>\n",
              "    <tr>\n",
              "      <th>9</th>\n",
              "      <td>-0.170548</td>\n",
              "      <td>-0.165393</td>\n",
              "      <td>-0.253094</td>\n",
              "      <td>-0.047265</td>\n",
              "      <td>-0.013729</td>\n",
              "      <td>-0.051004</td>\n",
              "      <td>-0.106920</td>\n",
              "      <td>-0.166052</td>\n",
              "      <td>-0.017116</td>\n",
              "      <td>-0.020770</td>\n",
              "    </tr>\n",
              "  </tbody>\n",
              "</table>\n",
              "</div>"
            ],
            "text/plain": [
              "          0         1         2  ...         7         8         9\n",
              "0  0.997422 -0.072022 -0.203516  ... -0.074758 -0.076035 -0.100130\n",
              "1 -0.101338  0.995617 -0.049436  ... -0.043367 -0.148848 -0.192254\n",
              "2 -0.119743 -0.062183  0.988492  ... -0.163408 -0.217028 -0.231158\n",
              "3 -0.349723 -0.116376 -0.113367  ... -0.411986  0.044852 -0.069221\n",
              "4 -0.157830 -0.131935 -0.241297  ... -0.172651 -0.062898 -0.002931\n",
              "5 -0.109068 -0.189485 -0.310275  ... -0.254104 -0.044810  0.012266\n",
              "6 -0.156895 -0.176816 -0.334953  ... -0.447226 -0.086158 -0.173191\n",
              "7 -0.093665 -0.082998 -0.066507  ...  0.990720 -0.268019 -0.121966\n",
              "8 -0.126489 -0.184662  0.043360  ... -0.417914 -0.011128 -0.037178\n",
              "9 -0.170548 -0.165393 -0.253094  ... -0.166052 -0.017116 -0.020770\n",
              "\n",
              "[10 rows x 10 columns]"
            ]
          },
          "metadata": {
            "tags": []
          },
          "execution_count": 27
        }
      ]
    },
    {
      "cell_type": "markdown",
      "metadata": {
        "id": "auued8U_isR-"
      },
      "source": [
        "# Hmmmm... It seems like this is not an easy problem after all\n",
        "What else can we do?\n",
        "\n",
        "1. Data Augmentation?\n",
        "2. Label smoothing?\n",
        "3. Multi-task Learning?  \n",
        "4. CNN (\\*rolls eyes\\* obviously)\n"
      ]
    },
    {
      "cell_type": "markdown",
      "metadata": {
        "id": "JPd56e904By6"
      },
      "source": [
        "## (Pseudo) Data Augmentatation\r\n",
        "\r\n",
        "We expect that only 1/10 of our samples match. Instead of oversampling matching pairs (which will require more effort in practice), we can do sample weighting instead.\r\n",
        "\r\n",
        " This can be done by giving more weight to the minority samples in the loss function."
      ]
    },
    {
      "cell_type": "code",
      "metadata": {
        "id": "dzqFYTPWx117"
      },
      "source": [
        "cosemb = nn.CosineEmbeddingLoss(reduction='none')\r\n",
        "def loss_func_augmented(y_hat, y, model):\r\n",
        "    y2 = y + 1*(y-1) # convert 0's to -1's\r\n",
        "    loss = cosemb(y_hat[1], y_hat[2], y2.reshape(-1))*(1+y*10)\r\n",
        "    return loss.mean()"
      ],
      "execution_count": 28,
      "outputs": []
    },
    {
      "cell_type": "code",
      "metadata": {
        "colab": {
          "base_uri": "https://localhost:8080/"
        },
        "id": "YwFeNHpPza35",
        "outputId": "dea38cc7-0d6e-4a44-a972-40b4f1002ac6"
      },
      "source": [
        "model = MatchingNetwork(28*28, 16*16)\r\n",
        "model = model.to(device)\r\n",
        "\r\n",
        "optimizer = torch.optim.Adam(model.parameters(), lr=0.0005)\r\n",
        "m = train(model, train_mnist, train_usps, [mnist_val, usps_val], 50, loss_func_augmented, optimizer, device)"
      ],
      "execution_count": 29,
      "outputs": [
        {
          "output_type": "stream",
          "text": [
            "0 0.2351340502500534 1.1241779327392578 0.5822222222222222\n",
            "1 0.20729610323905945 1.1092208623886108 0.6744444444444445\n",
            "2 0.3121315538883209 1.0998194217681885 0.7722222222222223\n",
            "3 0.2590060532093048 1.1130818128585815 0.7766666666666667\n",
            "4 0.20485875010490417 1.0986415147781372 0.7633333333333334\n",
            "5 0.15610715746879578 1.086981177330017 0.8055555555555556\n",
            "6 0.24191340804100037 1.0828008651733398 0.81\n",
            "7 0.18845684826374054 1.0306377410888672 0.7966666666666666\n",
            "8 0.20508620142936707 1.0031107664108276 0.7966666666666666\n",
            "9 0.16394741833209991 1.0214442014694214 0.7944444444444445\n",
            "10 0.13313671946525574 0.9942450523376465 0.8366666666666667\n",
            "11 0.18127399682998657 0.9853455424308777 0.8533333333333334\n",
            "12 0.18983052670955658 0.9863458871841431 0.8922222222222222\n",
            "13 0.21429237723350525 0.9859257340431213 0.8633333333333333\n",
            "14 0.21486708521842957 1.0011022090911865 0.8933333333333333\n",
            "15 0.18296605348587036 0.9988012313842773 0.8433333333333333\n",
            "16 0.26134130358695984 0.9845137000083923 0.8988888888888888\n",
            "17 0.19156548380851746 0.9822753667831421 0.9199999999999999\n",
            "18 0.26289793848991394 0.9971826076507568 0.89\n",
            "19 0.19778162240982056 0.9842734932899475 0.898888888888889\n",
            "20 0.1648300290107727 0.9845598936080933 0.8911111111111111\n",
            "21 0.154341459274292 0.9858480095863342 0.9044444444444445\n",
            "22 0.23000936210155487 0.9839649796485901 0.9044444444444445\n",
            "23 0.16120249032974243 0.9830483794212341 0.9088888888888889\n",
            "24 0.21855808794498444 0.9780117869377136 0.9033333333333333\n",
            "25 0.3398408889770508 0.9713152050971985 0.8944444444444445\n",
            "26 0.0690721720457077 0.9728419184684753 0.8899999999999999\n",
            "27 0.15962593257427216 0.9574854969978333 0.8644444444444443\n",
            "28 0.1442478746175766 0.91629958152771 0.8922222222222222\n",
            "29 0.43558478355407715 0.8688561916351318 0.9000000000000001\n",
            "30 0.2704256474971771 0.8599635362625122 0.8833333333333334\n",
            "31 0.15701992809772491 0.8433550596237183 0.86\n",
            "32 0.14287425577640533 0.7634891271591187 0.8411111111111111\n",
            "33 0.0922185629606247 0.7152202725410461 0.8622222222222222\n",
            "34 0.10663816332817078 0.7213254570960999 0.8466666666666667\n",
            "35 0.17065736651420593 0.6802425980567932 0.8633333333333333\n",
            "36 0.14355842769145966 0.66951984167099 0.87\n",
            "37 0.10182829201221466 0.6331818103790283 0.9455555555555555\n",
            "38 0.15571437776088715 0.6523194909095764 0.9\n",
            "39 0.10833869129419327 0.5313720703125 0.9088888888888889\n",
            "40 0.14597657322883606 0.5347214341163635 0.9133333333333333\n",
            "41 0.14035673439502716 0.5492896437644958 0.9522222222222223\n",
            "42 0.10173585265874863 0.5365957617759705 0.9511111111111111\n",
            "43 0.055480945855379105 0.5196706056594849 0.9755555555555556\n",
            "44 0.03276926651597023 0.5545597672462463 0.9388888888888889\n",
            "45 0.03507089614868164 0.6161095499992371 0.9477777777777777\n",
            "46 0.07153859734535217 0.5830642580986023 0.9355555555555555\n",
            "47 0.05897299200296402 0.5282028317451477 0.8944444444444445\n",
            "48 0.18249253928661346 0.5091114640235901 0.9688888888888889\n",
            "49 0.15296664834022522 0.5697210431098938 0.9366666666666668\n"
          ],
          "name": "stdout"
        }
      ]
    },
    {
      "cell_type": "code",
      "metadata": {
        "colab": {
          "base_uri": "https://localhost:8080/",
          "height": 343
        },
        "id": "zIXxW5h8zmzm",
        "outputId": "0f087aeb-1b32-4ff0-cea8-fee5ce19a374"
      },
      "source": [
        "pred = m(mnist_val.to(device), usps_val.to(device))\r\n",
        "pd.DataFrame(pred[0].detach().cpu().numpy().reshape(10,10))"
      ],
      "execution_count": 30,
      "outputs": [
        {
          "output_type": "execute_result",
          "data": {
            "text/html": [
              "<div>\n",
              "<style scoped>\n",
              "    .dataframe tbody tr th:only-of-type {\n",
              "        vertical-align: middle;\n",
              "    }\n",
              "\n",
              "    .dataframe tbody tr th {\n",
              "        vertical-align: top;\n",
              "    }\n",
              "\n",
              "    .dataframe thead th {\n",
              "        text-align: right;\n",
              "    }\n",
              "</style>\n",
              "<table border=\"1\" class=\"dataframe\">\n",
              "  <thead>\n",
              "    <tr style=\"text-align: right;\">\n",
              "      <th></th>\n",
              "      <th>0</th>\n",
              "      <th>1</th>\n",
              "      <th>2</th>\n",
              "      <th>3</th>\n",
              "      <th>4</th>\n",
              "      <th>5</th>\n",
              "      <th>6</th>\n",
              "      <th>7</th>\n",
              "      <th>8</th>\n",
              "      <th>9</th>\n",
              "    </tr>\n",
              "  </thead>\n",
              "  <tbody>\n",
              "    <tr>\n",
              "      <th>0</th>\n",
              "      <td>0.993339</td>\n",
              "      <td>-0.075127</td>\n",
              "      <td>-0.152804</td>\n",
              "      <td>-0.079400</td>\n",
              "      <td>-0.132211</td>\n",
              "      <td>0.079334</td>\n",
              "      <td>-0.206528</td>\n",
              "      <td>-0.021560</td>\n",
              "      <td>-0.085004</td>\n",
              "      <td>-0.134027</td>\n",
              "    </tr>\n",
              "    <tr>\n",
              "      <th>1</th>\n",
              "      <td>-0.108068</td>\n",
              "      <td>0.995757</td>\n",
              "      <td>-0.091670</td>\n",
              "      <td>-0.060367</td>\n",
              "      <td>-0.125824</td>\n",
              "      <td>-0.197352</td>\n",
              "      <td>-0.055510</td>\n",
              "      <td>-0.099673</td>\n",
              "      <td>-0.139931</td>\n",
              "      <td>-0.090076</td>\n",
              "    </tr>\n",
              "    <tr>\n",
              "      <th>2</th>\n",
              "      <td>-0.164459</td>\n",
              "      <td>-0.107684</td>\n",
              "      <td>0.988238</td>\n",
              "      <td>-0.253320</td>\n",
              "      <td>-0.199716</td>\n",
              "      <td>-0.409651</td>\n",
              "      <td>-0.337750</td>\n",
              "      <td>-0.185073</td>\n",
              "      <td>-0.295084</td>\n",
              "      <td>-0.202492</td>\n",
              "    </tr>\n",
              "    <tr>\n",
              "      <th>3</th>\n",
              "      <td>-0.112611</td>\n",
              "      <td>-0.159248</td>\n",
              "      <td>-0.331381</td>\n",
              "      <td>-0.034593</td>\n",
              "      <td>-0.020295</td>\n",
              "      <td>0.079295</td>\n",
              "      <td>-0.144825</td>\n",
              "      <td>-0.057373</td>\n",
              "      <td>0.029697</td>\n",
              "      <td>-0.035784</td>\n",
              "    </tr>\n",
              "    <tr>\n",
              "      <th>4</th>\n",
              "      <td>-0.241226</td>\n",
              "      <td>-0.087164</td>\n",
              "      <td>-0.109125</td>\n",
              "      <td>-0.180927</td>\n",
              "      <td>0.013681</td>\n",
              "      <td>-0.056776</td>\n",
              "      <td>-0.113464</td>\n",
              "      <td>-0.134933</td>\n",
              "      <td>0.001219</td>\n",
              "      <td>0.025718</td>\n",
              "    </tr>\n",
              "    <tr>\n",
              "      <th>5</th>\n",
              "      <td>-0.229071</td>\n",
              "      <td>-0.175468</td>\n",
              "      <td>-0.117069</td>\n",
              "      <td>-0.164345</td>\n",
              "      <td>0.005747</td>\n",
              "      <td>-0.028196</td>\n",
              "      <td>-0.060681</td>\n",
              "      <td>-0.183974</td>\n",
              "      <td>0.011918</td>\n",
              "      <td>0.001778</td>\n",
              "    </tr>\n",
              "    <tr>\n",
              "      <th>6</th>\n",
              "      <td>-0.191997</td>\n",
              "      <td>-0.172016</td>\n",
              "      <td>-0.418114</td>\n",
              "      <td>-0.110872</td>\n",
              "      <td>-0.073830</td>\n",
              "      <td>-0.026353</td>\n",
              "      <td>0.898937</td>\n",
              "      <td>-0.163977</td>\n",
              "      <td>-0.010821</td>\n",
              "      <td>-0.101701</td>\n",
              "    </tr>\n",
              "    <tr>\n",
              "      <th>7</th>\n",
              "      <td>-0.083598</td>\n",
              "      <td>-0.072940</td>\n",
              "      <td>-0.154822</td>\n",
              "      <td>-0.099390</td>\n",
              "      <td>-0.090259</td>\n",
              "      <td>-0.089938</td>\n",
              "      <td>-0.074921</td>\n",
              "      <td>0.996857</td>\n",
              "      <td>-0.104451</td>\n",
              "      <td>-0.085372</td>\n",
              "    </tr>\n",
              "    <tr>\n",
              "      <th>8</th>\n",
              "      <td>-0.169882</td>\n",
              "      <td>-0.241555</td>\n",
              "      <td>0.058462</td>\n",
              "      <td>-0.170088</td>\n",
              "      <td>-0.010469</td>\n",
              "      <td>-0.016085</td>\n",
              "      <td>-0.214153</td>\n",
              "      <td>-0.294743</td>\n",
              "      <td>-0.001824</td>\n",
              "      <td>-0.027214</td>\n",
              "    </tr>\n",
              "    <tr>\n",
              "      <th>9</th>\n",
              "      <td>-0.234097</td>\n",
              "      <td>-0.089827</td>\n",
              "      <td>-0.054923</td>\n",
              "      <td>-0.145420</td>\n",
              "      <td>0.016379</td>\n",
              "      <td>-0.041421</td>\n",
              "      <td>-0.222006</td>\n",
              "      <td>-0.169364</td>\n",
              "      <td>0.002715</td>\n",
              "      <td>0.026910</td>\n",
              "    </tr>\n",
              "  </tbody>\n",
              "</table>\n",
              "</div>"
            ],
            "text/plain": [
              "          0         1         2  ...         7         8         9\n",
              "0  0.993339 -0.075127 -0.152804  ... -0.021560 -0.085004 -0.134027\n",
              "1 -0.108068  0.995757 -0.091670  ... -0.099673 -0.139931 -0.090076\n",
              "2 -0.164459 -0.107684  0.988238  ... -0.185073 -0.295084 -0.202492\n",
              "3 -0.112611 -0.159248 -0.331381  ... -0.057373  0.029697 -0.035784\n",
              "4 -0.241226 -0.087164 -0.109125  ... -0.134933  0.001219  0.025718\n",
              "5 -0.229071 -0.175468 -0.117069  ... -0.183974  0.011918  0.001778\n",
              "6 -0.191997 -0.172016 -0.418114  ... -0.163977 -0.010821 -0.101701\n",
              "7 -0.083598 -0.072940 -0.154822  ...  0.996857 -0.104451 -0.085372\n",
              "8 -0.169882 -0.241555  0.058462  ... -0.294743 -0.001824 -0.027214\n",
              "9 -0.234097 -0.089827 -0.054923  ... -0.169364  0.002715  0.026910\n",
              "\n",
              "[10 rows x 10 columns]"
            ]
          },
          "metadata": {
            "tags": []
          },
          "execution_count": 30
        }
      ]
    },
    {
      "cell_type": "code",
      "metadata": {
        "colab": {
          "base_uri": "https://localhost:8080/",
          "height": 343
        },
        "id": "elb5Aq4Cz46L",
        "outputId": "31e16e81-6601-4932-99cb-dfc23cb3b5f3"
      },
      "source": [
        "pd.DataFrame(1*(pred[0].detach().cpu().numpy().reshape(10,10)>0))"
      ],
      "execution_count": 31,
      "outputs": [
        {
          "output_type": "execute_result",
          "data": {
            "text/html": [
              "<div>\n",
              "<style scoped>\n",
              "    .dataframe tbody tr th:only-of-type {\n",
              "        vertical-align: middle;\n",
              "    }\n",
              "\n",
              "    .dataframe tbody tr th {\n",
              "        vertical-align: top;\n",
              "    }\n",
              "\n",
              "    .dataframe thead th {\n",
              "        text-align: right;\n",
              "    }\n",
              "</style>\n",
              "<table border=\"1\" class=\"dataframe\">\n",
              "  <thead>\n",
              "    <tr style=\"text-align: right;\">\n",
              "      <th></th>\n",
              "      <th>0</th>\n",
              "      <th>1</th>\n",
              "      <th>2</th>\n",
              "      <th>3</th>\n",
              "      <th>4</th>\n",
              "      <th>5</th>\n",
              "      <th>6</th>\n",
              "      <th>7</th>\n",
              "      <th>8</th>\n",
              "      <th>9</th>\n",
              "    </tr>\n",
              "  </thead>\n",
              "  <tbody>\n",
              "    <tr>\n",
              "      <th>0</th>\n",
              "      <td>1</td>\n",
              "      <td>0</td>\n",
              "      <td>0</td>\n",
              "      <td>0</td>\n",
              "      <td>0</td>\n",
              "      <td>1</td>\n",
              "      <td>0</td>\n",
              "      <td>0</td>\n",
              "      <td>0</td>\n",
              "      <td>0</td>\n",
              "    </tr>\n",
              "    <tr>\n",
              "      <th>1</th>\n",
              "      <td>0</td>\n",
              "      <td>1</td>\n",
              "      <td>0</td>\n",
              "      <td>0</td>\n",
              "      <td>0</td>\n",
              "      <td>0</td>\n",
              "      <td>0</td>\n",
              "      <td>0</td>\n",
              "      <td>0</td>\n",
              "      <td>0</td>\n",
              "    </tr>\n",
              "    <tr>\n",
              "      <th>2</th>\n",
              "      <td>0</td>\n",
              "      <td>0</td>\n",
              "      <td>1</td>\n",
              "      <td>0</td>\n",
              "      <td>0</td>\n",
              "      <td>0</td>\n",
              "      <td>0</td>\n",
              "      <td>0</td>\n",
              "      <td>0</td>\n",
              "      <td>0</td>\n",
              "    </tr>\n",
              "    <tr>\n",
              "      <th>3</th>\n",
              "      <td>0</td>\n",
              "      <td>0</td>\n",
              "      <td>0</td>\n",
              "      <td>0</td>\n",
              "      <td>0</td>\n",
              "      <td>1</td>\n",
              "      <td>0</td>\n",
              "      <td>0</td>\n",
              "      <td>1</td>\n",
              "      <td>0</td>\n",
              "    </tr>\n",
              "    <tr>\n",
              "      <th>4</th>\n",
              "      <td>0</td>\n",
              "      <td>0</td>\n",
              "      <td>0</td>\n",
              "      <td>0</td>\n",
              "      <td>1</td>\n",
              "      <td>0</td>\n",
              "      <td>0</td>\n",
              "      <td>0</td>\n",
              "      <td>1</td>\n",
              "      <td>1</td>\n",
              "    </tr>\n",
              "    <tr>\n",
              "      <th>5</th>\n",
              "      <td>0</td>\n",
              "      <td>0</td>\n",
              "      <td>0</td>\n",
              "      <td>0</td>\n",
              "      <td>1</td>\n",
              "      <td>0</td>\n",
              "      <td>0</td>\n",
              "      <td>0</td>\n",
              "      <td>1</td>\n",
              "      <td>1</td>\n",
              "    </tr>\n",
              "    <tr>\n",
              "      <th>6</th>\n",
              "      <td>0</td>\n",
              "      <td>0</td>\n",
              "      <td>0</td>\n",
              "      <td>0</td>\n",
              "      <td>0</td>\n",
              "      <td>0</td>\n",
              "      <td>1</td>\n",
              "      <td>0</td>\n",
              "      <td>0</td>\n",
              "      <td>0</td>\n",
              "    </tr>\n",
              "    <tr>\n",
              "      <th>7</th>\n",
              "      <td>0</td>\n",
              "      <td>0</td>\n",
              "      <td>0</td>\n",
              "      <td>0</td>\n",
              "      <td>0</td>\n",
              "      <td>0</td>\n",
              "      <td>0</td>\n",
              "      <td>1</td>\n",
              "      <td>0</td>\n",
              "      <td>0</td>\n",
              "    </tr>\n",
              "    <tr>\n",
              "      <th>8</th>\n",
              "      <td>0</td>\n",
              "      <td>0</td>\n",
              "      <td>1</td>\n",
              "      <td>0</td>\n",
              "      <td>0</td>\n",
              "      <td>0</td>\n",
              "      <td>0</td>\n",
              "      <td>0</td>\n",
              "      <td>0</td>\n",
              "      <td>0</td>\n",
              "    </tr>\n",
              "    <tr>\n",
              "      <th>9</th>\n",
              "      <td>0</td>\n",
              "      <td>0</td>\n",
              "      <td>0</td>\n",
              "      <td>0</td>\n",
              "      <td>1</td>\n",
              "      <td>0</td>\n",
              "      <td>0</td>\n",
              "      <td>0</td>\n",
              "      <td>1</td>\n",
              "      <td>1</td>\n",
              "    </tr>\n",
              "  </tbody>\n",
              "</table>\n",
              "</div>"
            ],
            "text/plain": [
              "   0  1  2  3  4  5  6  7  8  9\n",
              "0  1  0  0  0  0  1  0  0  0  0\n",
              "1  0  1  0  0  0  0  0  0  0  0\n",
              "2  0  0  1  0  0  0  0  0  0  0\n",
              "3  0  0  0  0  0  1  0  0  1  0\n",
              "4  0  0  0  0  1  0  0  0  1  1\n",
              "5  0  0  0  0  1  0  0  0  1  1\n",
              "6  0  0  0  0  0  0  1  0  0  0\n",
              "7  0  0  0  0  0  0  0  1  0  0\n",
              "8  0  0  1  0  0  0  0  0  0  0\n",
              "9  0  0  0  0  1  0  0  0  1  1"
            ]
          },
          "metadata": {
            "tags": []
          },
          "execution_count": 31
        }
      ]
    }
  ]
}